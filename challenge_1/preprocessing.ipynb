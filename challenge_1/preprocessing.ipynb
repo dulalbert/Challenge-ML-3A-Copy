{
 "cells": [
  {
   "cell_type": "markdown",
   "source": [
    "# Data Preprocessing"
   ],
   "metadata": {
    "collapsed": false,
    "pycharm": {
     "name": "#%% md\n"
    }
   }
  },
  {
   "cell_type": "code",
   "execution_count": 2,
   "outputs": [],
   "source": [
    "import pandas as pd\n",
    "import seaborn as sns"
   ],
   "metadata": {
    "collapsed": false,
    "pycharm": {
     "name": "#%%\n"
    }
   }
  },
  {
   "cell_type": "code",
   "execution_count": 3,
   "outputs": [
    {
     "data": {
      "text/plain": "   id                name        date   manner_of_death       armed   age  \\\n0   3          Tim Elliot  2015-01-02              shot         gun  53.0   \n1   4    Lewis Lee Lembke  2015-01-02              shot         gun  47.0   \n2   5  John Paul Quintero  2015-01-03  shot and Tasered     unarmed  23.0   \n3   8     Matthew Hoffman  2015-01-04              shot  toy weapon  32.0   \n4   9   Michael Rodriguez  2015-01-04              shot    nail gun  39.0   \n\n  gender      race           city state  signs_of_mental_illness threat_level  \\\n0      M     Asian        Shelton    WA                     True       attack   \n1      M     White          Aloha    OR                    False       attack   \n2      M  Hispanic        Wichita    KS                    False        other   \n3      M     White  San Francisco    CA                     True       attack   \n4      M  Hispanic          Evans    CO                    False       attack   \n\n          flee  body_camera          arms_category  \n0  Not fleeing        False                   Guns  \n1  Not fleeing        False                   Guns  \n2  Not fleeing        False                Unarmed  \n3  Not fleeing        False  Other unusual objects  \n4  Not fleeing        False       Piercing objects  ",
      "text/html": "<div>\n<style scoped>\n    .dataframe tbody tr th:only-of-type {\n        vertical-align: middle;\n    }\n\n    .dataframe tbody tr th {\n        vertical-align: top;\n    }\n\n    .dataframe thead th {\n        text-align: right;\n    }\n</style>\n<table border=\"1\" class=\"dataframe\">\n  <thead>\n    <tr style=\"text-align: right;\">\n      <th></th>\n      <th>id</th>\n      <th>name</th>\n      <th>date</th>\n      <th>manner_of_death</th>\n      <th>armed</th>\n      <th>age</th>\n      <th>gender</th>\n      <th>race</th>\n      <th>city</th>\n      <th>state</th>\n      <th>signs_of_mental_illness</th>\n      <th>threat_level</th>\n      <th>flee</th>\n      <th>body_camera</th>\n      <th>arms_category</th>\n    </tr>\n  </thead>\n  <tbody>\n    <tr>\n      <th>0</th>\n      <td>3</td>\n      <td>Tim Elliot</td>\n      <td>2015-01-02</td>\n      <td>shot</td>\n      <td>gun</td>\n      <td>53.0</td>\n      <td>M</td>\n      <td>Asian</td>\n      <td>Shelton</td>\n      <td>WA</td>\n      <td>True</td>\n      <td>attack</td>\n      <td>Not fleeing</td>\n      <td>False</td>\n      <td>Guns</td>\n    </tr>\n    <tr>\n      <th>1</th>\n      <td>4</td>\n      <td>Lewis Lee Lembke</td>\n      <td>2015-01-02</td>\n      <td>shot</td>\n      <td>gun</td>\n      <td>47.0</td>\n      <td>M</td>\n      <td>White</td>\n      <td>Aloha</td>\n      <td>OR</td>\n      <td>False</td>\n      <td>attack</td>\n      <td>Not fleeing</td>\n      <td>False</td>\n      <td>Guns</td>\n    </tr>\n    <tr>\n      <th>2</th>\n      <td>5</td>\n      <td>John Paul Quintero</td>\n      <td>2015-01-03</td>\n      <td>shot and Tasered</td>\n      <td>unarmed</td>\n      <td>23.0</td>\n      <td>M</td>\n      <td>Hispanic</td>\n      <td>Wichita</td>\n      <td>KS</td>\n      <td>False</td>\n      <td>other</td>\n      <td>Not fleeing</td>\n      <td>False</td>\n      <td>Unarmed</td>\n    </tr>\n    <tr>\n      <th>3</th>\n      <td>8</td>\n      <td>Matthew Hoffman</td>\n      <td>2015-01-04</td>\n      <td>shot</td>\n      <td>toy weapon</td>\n      <td>32.0</td>\n      <td>M</td>\n      <td>White</td>\n      <td>San Francisco</td>\n      <td>CA</td>\n      <td>True</td>\n      <td>attack</td>\n      <td>Not fleeing</td>\n      <td>False</td>\n      <td>Other unusual objects</td>\n    </tr>\n    <tr>\n      <th>4</th>\n      <td>9</td>\n      <td>Michael Rodriguez</td>\n      <td>2015-01-04</td>\n      <td>shot</td>\n      <td>nail gun</td>\n      <td>39.0</td>\n      <td>M</td>\n      <td>Hispanic</td>\n      <td>Evans</td>\n      <td>CO</td>\n      <td>False</td>\n      <td>attack</td>\n      <td>Not fleeing</td>\n      <td>False</td>\n      <td>Piercing objects</td>\n    </tr>\n  </tbody>\n</table>\n</div>"
     },
     "execution_count": 3,
     "metadata": {},
     "output_type": "execute_result"
    }
   ],
   "source": [
    "data = pd.read_csv(\"dataset/shootings.csv\")\n",
    "data.head()"
   ],
   "metadata": {
    "collapsed": false,
    "pycharm": {
     "name": "#%%\n"
    }
   }
  },
  {
   "cell_type": "markdown",
   "source": [
    "## Age categories creation"
   ],
   "metadata": {
    "collapsed": false,
    "pycharm": {
     "name": "#%% md\n"
    }
   }
  },
  {
   "cell_type": "code",
   "execution_count": 35,
   "outputs": [
    {
     "name": "stdout",
     "output_type": "stream",
     "text": [
      "Index(['0-18', '19-25', '26-35', '36-50', '51-75', '76+'], dtype='object', name='age')\n"
     ]
    },
    {
     "data": {
      "text/plain": "[Text(0.5, 0, 'Age Category'), Text(0, 0.5, 'Number of individual')]"
     },
     "execution_count": 35,
     "metadata": {},
     "output_type": "execute_result"
    },
    {
     "data": {
      "text/plain": "<Figure size 640x480 with 1 Axes>",
      "image/png": "[encoded data removed]"
     },
     "metadata": {},
     "output_type": "display_data"
    }
   ],
   "source": [
    "ageGpeCuts = [18, 25, 35, 50, 75, 99]\n",
    "ageGpeName = [\"0-18\", \"19-25\", \"26-35\", \"36-50\", \"51-75\", \"76+\"]\n",
    "\n",
    "\n",
    "def grouper(row):\n",
    "    for i in range(len(ageGpeCuts) - 1):\n",
    "        if int(row[\"age\"]) <= ageGpeCuts[i]:\n",
    "            row[\"age\"] = ageGpeName[i]\n",
    "            return row\n",
    "    row[\"age\"] = ageGpeName[-1]\n",
    "    return row\n",
    "\n",
    "\n",
    "dataProcessing = data.apply(grouper, axis=1)\n",
    "# counting people in each group age\n",
    "count = dataProcessing.groupby(\"age\")[\"id\"].nunique()\n",
    "print(count.index)\n",
    "ax = sns.barplot(x=count.index, y=count.values)\n",
    "ax.set(xlabel='Age Category', ylabel='Number of individual')"
   ],
   "metadata": {
    "collapsed": false,
    "pycharm": {
     "name": "#%%\n"
    }
   }
  },
  {
   "cell_type": "markdown",
   "source": [
    "## Bool to String"
   ],
   "metadata": {
    "collapsed": false,
    "pycharm": {
     "name": "#%% md\n"
    }
   }
  },
  {
   "cell_type": "code",
   "execution_count": 4,
   "outputs": [
    {
     "data": {
      "text/plain": "   id                name        date   manner_of_death       armed    age  \\\n0   3          Tim Elliot  2015-01-02              shot         gun  51-75   \n1   4    Lewis Lee Lembke  2015-01-02              shot         gun  36-50   \n2   5  John Paul Quintero  2015-01-03  shot and Tasered     unarmed  19-25   \n3   8     Matthew Hoffman  2015-01-04              shot  toy weapon  26-35   \n4   9   Michael Rodriguez  2015-01-04              shot    nail gun  36-50   \n\n  gender      race           city state signs_of_mental_illness threat_level  \\\n0      M     Asian        Shelton    WA                     Yes       attack   \n1      M     White          Aloha    OR                      No       attack   \n2      M  Hispanic        Wichita    KS                      No        other   \n3      M     White  San Francisco    CA                     Yes       attack   \n4      M  Hispanic          Evans    CO                      No       attack   \n\n          flee body_camera          arms_category  \n0  Not fleeing          No                   Guns  \n1  Not fleeing          No                   Guns  \n2  Not fleeing          No                Unarmed  \n3  Not fleeing          No  Other unusual objects  \n4  Not fleeing          No       Piercing objects  ",
      "text/html": "<div>\n<style scoped>\n    .dataframe tbody tr th:only-of-type {\n        vertical-align: middle;\n    }\n\n    .dataframe tbody tr th {\n        vertical-align: top;\n    }\n\n    .dataframe thead th {\n        text-align: right;\n    }\n</style>\n<table border=\"1\" class=\"dataframe\">\n  <thead>\n    <tr style=\"text-align: right;\">\n      <th></th>\n      <th>id</th>\n      <th>name</th>\n      <th>date</th>\n      <th>manner_of_death</th>\n      <th>armed</th>\n      <th>age</th>\n      <th>gender</th>\n      <th>race</th>\n      <th>city</th>\n      <th>state</th>\n      <th>signs_of_mental_illness</th>\n      <th>threat_level</th>\n      <th>flee</th>\n      <th>body_camera</th>\n      <th>arms_category</th>\n    </tr>\n  </thead>\n  <tbody>\n    <tr>\n      <th>0</th>\n      <td>3</td>\n      <td>Tim Elliot</td>\n      <td>2015-01-02</td>\n      <td>shot</td>\n      <td>gun</td>\n      <td>51-75</td>\n      <td>M</td>\n      <td>Asian</td>\n      <td>Shelton</td>\n      <td>WA</td>\n      <td>Yes</td>\n      <td>attack</td>\n      <td>Not fleeing</td>\n      <td>No</td>\n      <td>Guns</td>\n    </tr>\n    <tr>\n      <th>1</th>\n      <td>4</td>\n      <td>Lewis Lee Lembke</td>\n      <td>2015-01-02</td>\n      <td>shot</td>\n      <td>gun</td>\n      <td>36-50</td>\n      <td>M</td>\n      <td>White</td>\n      <td>Aloha</td>\n      <td>OR</td>\n      <td>No</td>\n      <td>attack</td>\n      <td>Not fleeing</td>\n      <td>No</td>\n      <td>Guns</td>\n    </tr>\n    <tr>\n      <th>2</th>\n      <td>5</td>\n      <td>John Paul Quintero</td>\n      <td>2015-01-03</td>\n      <td>shot and Tasered</td>\n      <td>unarmed</td>\n      <td>19-25</td>\n      <td>M</td>\n      <td>Hispanic</td>\n      <td>Wichita</td>\n      <td>KS</td>\n      <td>No</td>\n      <td>other</td>\n      <td>Not fleeing</td>\n      <td>No</td>\n      <td>Unarmed</td>\n    </tr>\n    <tr>\n      <th>3</th>\n      <td>8</td>\n      <td>Matthew Hoffman</td>\n      <td>2015-01-04</td>\n      <td>shot</td>\n      <td>toy weapon</td>\n      <td>26-35</td>\n      <td>M</td>\n      <td>White</td>\n      <td>San Francisco</td>\n      <td>CA</td>\n      <td>Yes</td>\n      <td>attack</td>\n      <td>Not fleeing</td>\n      <td>No</td>\n      <td>Other unusual objects</td>\n    </tr>\n    <tr>\n      <th>4</th>\n      <td>9</td>\n      <td>Michael Rodriguez</td>\n      <td>2015-01-04</td>\n      <td>shot</td>\n      <td>nail gun</td>\n      <td>36-50</td>\n      <td>M</td>\n      <td>Hispanic</td>\n      <td>Evans</td>\n      <td>CO</td>\n      <td>No</td>\n      <td>attack</td>\n      <td>Not fleeing</td>\n      <td>No</td>\n      <td>Piercing objects</td>\n    </tr>\n  </tbody>\n</table>\n</div>"
     },
     "execution_count": 4,
     "metadata": {},
     "output_type": "execute_result"
    }
   ],
   "source": [
    "# changing bool of categories\n",
    "def boolToString(row):\n",
    "    for i in range(len(row)):\n",
    "        if type(row.iloc[i]) == type(True):\n",
    "            row.iloc[i] = \"Yes\" if row.iloc[i] else \"No\"\n",
    "    return row\n",
    "\n",
    "dataProcessing = dataProcessing.apply(boolToString, axis=1)\n",
    "dataProcessing.head()"
   ],
   "metadata": {
    "collapsed": false,
    "pycharm": {
     "name": "#%%\n"
    }
   }
  },
  {
   "cell_type": "markdown",
   "source": [
    "## State Grouping"
   ],
   "metadata": {
    "collapsed": false,
    "pycharm": {
     "name": "#%% md\n"
    }
   }
  },
  {
   "cell_type": "code",
   "execution_count": 5,
   "outputs": [
    {
     "name": "stdout",
     "output_type": "stream",
     "text": [
      "51\n",
      "51\n"
     ]
    },
    {
     "data": {
      "text/plain": "{'AK': 'Pacific',\n 'WA': 'Pacific',\n 'OR': 'Pacific',\n 'CA': 'Pacific',\n 'HI': 'Pacific',\n 'MT': 'Mountain',\n 'ID': 'Mountain',\n 'WY': 'Mountain',\n 'NV': 'Mountain',\n 'UT': 'Mountain',\n 'AZ': 'Mountain',\n 'NM': 'Mountain',\n 'CO': 'Mountain',\n 'ND': 'West North Central',\n 'MN': 'West North Central',\n 'SD': 'West North Central',\n 'IA': 'West North Central',\n 'NE': 'West North Central',\n 'MO': 'West North Central',\n 'KS': 'West North Central',\n 'WI': 'East North Central',\n 'MI': 'East North Central',\n 'IL': 'East North Central',\n 'IN': 'East North Central',\n 'OH': 'East North Central',\n 'OK': 'West South Central',\n 'AR': 'West South Central',\n 'TX': 'West South Central',\n 'LA': 'West South Central',\n 'KY': 'East South Central',\n 'TN': 'East South Central',\n 'MS': 'East South Central',\n 'AL': 'East South Central',\n 'NY': 'Middle Atlantic',\n 'PA': 'Middle Atlantic',\n 'NJ': 'Middle Atlantic',\n 'MD': 'South Atlantic',\n 'DE': 'South Atlantic',\n 'DC': 'South Atlantic',\n 'VA': 'South Atlantic',\n 'WV': 'South Atlantic',\n 'NC': 'South Atlantic',\n 'SC': 'South Atlantic',\n 'GA': 'South Atlantic',\n 'FL': 'South Atlantic',\n 'ME': 'New England',\n 'VT': 'New England',\n 'NH': 'New England',\n 'MA': 'New England',\n 'CT': 'New England',\n 'RI': 'New England'}"
     },
     "execution_count": 5,
     "metadata": {},
     "output_type": "execute_result"
    }
   ],
   "source": [
    "# grouping by region divisions based on https://en.wikipedia.org/wiki/List_of_regions_of_the_United_States\n",
    "# the structure is not optimized for assigning a region to a state code, but it's more readable this way\n",
    "regionNameToStateCode = {\n",
    "    \"Pacific\": [\"AK\", \"WA\", \"OR\", \"CA\", \"HI\"],\n",
    "    \"Mountain\" : [\"MT\", \"ID\", \"WY\", \"NV\", \"UT\", \"AZ\", \"NM\", \"CO\"],\n",
    "    \"West North Central\" : [\"ND\", \"MN\", \"SD\", \"IA\", \"NE\", \"MO\", \"KS\"],\n",
    "    \"East North Central\" : [\"WI\", \"MI\", \"IL\", \"IN\", \"OH\"],\n",
    "    \"West South Central\" : [\"OK\", \"AR\", \"TX\", \"LA\"],\n",
    "    \"East South Central\" : [\"KY\", \"TN\", \"MS\", \"AL\"],\n",
    "    \"Middle Atlantic\" : [\"NY\", \"PA\", \"NJ\"],\n",
    "    \"South Atlantic\" : [\"MD\", \"DE\", \"DC\", \"VA\", \"WV\", \"NC\", \"SC\", \"GA\", \"FL\"],\n",
    "    \"New England\" : [\"ME\", \"VT\", \"NH\", \"MA\", \"CT\", \"RI\"]\n",
    "}\n",
    "\n",
    "#processing state to region dict\n",
    "stateToRegion = {}\n",
    "for region,codes in regionNameToStateCode.items():\n",
    "       for code in codes:\n",
    "           stateToRegion[code] = region\n",
    "print(len(dataProcessing.groupby(\"state\")))\n",
    "print(len(stateToRegion))\n",
    "stateToRegion"
   ],
   "metadata": {
    "collapsed": false,
    "pycharm": {
     "name": "#%%\n"
    }
   }
  },
  {
   "cell_type": "code",
   "execution_count": 6,
   "outputs": [
    {
     "data": {
      "text/plain": "   id                name        date   manner_of_death       armed    age  \\\n0   3          Tim Elliot  2015-01-02              shot         gun  51-75   \n1   4    Lewis Lee Lembke  2015-01-02              shot         gun  36-50   \n2   5  John Paul Quintero  2015-01-03  shot and Tasered     unarmed  19-25   \n3   8     Matthew Hoffman  2015-01-04              shot  toy weapon  26-35   \n4   9   Michael Rodriguez  2015-01-04              shot    nail gun  36-50   \n\n  gender      race           city              region signs_of_mental_illness  \\\n0      M     Asian        Shelton             Pacific                     Yes   \n1      M     White          Aloha             Pacific                      No   \n2      M  Hispanic        Wichita  West North Central                      No   \n3      M     White  San Francisco             Pacific                     Yes   \n4      M  Hispanic          Evans            Mountain                      No   \n\n  threat_level         flee body_camera          arms_category  \n0       attack  Not fleeing          No                   Guns  \n1       attack  Not fleeing          No                   Guns  \n2        other  Not fleeing          No                Unarmed  \n3       attack  Not fleeing          No  Other unusual objects  \n4       attack  Not fleeing          No       Piercing objects  ",
      "text/html": "<div>\n<style scoped>\n    .dataframe tbody tr th:only-of-type {\n        vertical-align: middle;\n    }\n\n    .dataframe tbody tr th {\n        vertical-align: top;\n    }\n\n    .dataframe thead th {\n        text-align: right;\n    }\n</style>\n<table border=\"1\" class=\"dataframe\">\n  <thead>\n    <tr style=\"text-align: right;\">\n      <th></th>\n      <th>id</th>\n      <th>name</th>\n      <th>date</th>\n      <th>manner_of_death</th>\n      <th>armed</th>\n      <th>age</th>\n      <th>gender</th>\n      <th>race</th>\n      <th>city</th>\n      <th>region</th>\n      <th>signs_of_mental_illness</th>\n      <th>threat_level</th>\n      <th>flee</th>\n      <th>body_camera</th>\n      <th>arms_category</th>\n    </tr>\n  </thead>\n  <tbody>\n    <tr>\n      <th>0</th>\n      <td>3</td>\n      <td>Tim Elliot</td>\n      <td>2015-01-02</td>\n      <td>shot</td>\n      <td>gun</td>\n      <td>51-75</td>\n      <td>M</td>\n      <td>Asian</td>\n      <td>Shelton</td>\n      <td>Pacific</td>\n      <td>Yes</td>\n      <td>attack</td>\n      <td>Not fleeing</td>\n      <td>No</td>\n      <td>Guns</td>\n    </tr>\n    <tr>\n      <th>1</th>\n      <td>4</td>\n      <td>Lewis Lee Lembke</td>\n      <td>2015-01-02</td>\n      <td>shot</td>\n      <td>gun</td>\n      <td>36-50</td>\n      <td>M</td>\n      <td>White</td>\n      <td>Aloha</td>\n      <td>Pacific</td>\n      <td>No</td>\n      <td>attack</td>\n      <td>Not fleeing</td>\n      <td>No</td>\n      <td>Guns</td>\n    </tr>\n    <tr>\n      <th>2</th>\n      <td>5</td>\n      <td>John Paul Quintero</td>\n      <td>2015-01-03</td>\n      <td>shot and Tasered</td>\n      <td>unarmed</td>\n      <td>19-25</td>\n      <td>M</td>\n      <td>Hispanic</td>\n      <td>Wichita</td>\n      <td>West North Central</td>\n      <td>No</td>\n      <td>other</td>\n      <td>Not fleeing</td>\n      <td>No</td>\n      <td>Unarmed</td>\n    </tr>\n    <tr>\n      <th>3</th>\n      <td>8</td>\n      <td>Matthew Hoffman</td>\n      <td>2015-01-04</td>\n      <td>shot</td>\n      <td>toy weapon</td>\n      <td>26-35</td>\n      <td>M</td>\n      <td>White</td>\n      <td>San Francisco</td>\n      <td>Pacific</td>\n      <td>Yes</td>\n      <td>attack</td>\n      <td>Not fleeing</td>\n      <td>No</td>\n      <td>Other unusual objects</td>\n    </tr>\n    <tr>\n      <th>4</th>\n      <td>9</td>\n      <td>Michael Rodriguez</td>\n      <td>2015-01-04</td>\n      <td>shot</td>\n      <td>nail gun</td>\n      <td>36-50</td>\n      <td>M</td>\n      <td>Hispanic</td>\n      <td>Evans</td>\n      <td>Mountain</td>\n      <td>No</td>\n      <td>attack</td>\n      <td>Not fleeing</td>\n      <td>No</td>\n      <td>Piercing objects</td>\n    </tr>\n  </tbody>\n</table>\n</div>"
     },
     "execution_count": 6,
     "metadata": {},
     "output_type": "execute_result"
    }
   ],
   "source": [
    "def stateCodeToRegion(row):\n",
    "    row[\"state\"] = stateToRegion[row[\"state\"]]\n",
    "    return row\n",
    "\n",
    "dataProcessing = dataProcessing.apply(stateCodeToRegion, axis=1)\n",
    "dataProcessing = dataProcessing.rename(columns={'state': 'region'})\n",
    "dataProcessing.head()"
   ],
   "metadata": {
    "collapsed": false,
    "pycharm": {
     "name": "#%%\n"
    }
   }
  },
  {
   "cell_type": "markdown",
   "source": [
    "## Arms Category Grouping"
   ],
   "metadata": {
    "collapsed": false,
    "pycharm": {
     "name": "#%% md\n"
    }
   }
  },
  {
   "cell_type": "code",
   "execution_count": 37,
   "outputs": [
    {
     "data": {
      "text/plain": "arms_category\nBlunt instruments         122\nElectrical devices         24\nExplosives                  4\nGuns                     2764\nHand tools                  1\nMultiple                   54\nOther unusual objects     192\nPiercing objects           29\nSharp objects             818\nUnarmed                   348\nUnknown                   418\nVehicles                  121\nName: id, dtype: int64"
     },
     "execution_count": 37,
     "metadata": {},
     "output_type": "execute_result"
    }
   ],
   "source": [
    "armCategCount = dataProcessing.groupby(\"arms_category\")[\"id\"].nunique()\n",
    "armCategCount"
   ],
   "metadata": {
    "collapsed": false,
    "pycharm": {
     "name": "#%%\n"
    }
   }
  },
  {
   "cell_type": "code",
   "execution_count": 38,
   "outputs": [
    {
     "data": {
      "text/plain": "arms_category\nBlunt instruments         122\nGuns                     2764\nOther unusual objects     192\nOther weapon objects      112\nSharp objects             818\nUnarmed                   348\nUnknown                   418\nVehicles                  121\nName: id, dtype: int64"
     },
     "execution_count": 38,
     "metadata": {},
     "output_type": "execute_result"
    }
   ],
   "source": [
    "# putting everything less than 100 cases in other weapons\n",
    "def groupingArmsCateg(row):\n",
    "    if armCategCount[row[\"arms_category\"]] < 100:\n",
    "        row[\"arms_category\"] = \"Other weapon objects\"\n",
    "    return row\n",
    "\n",
    "dataProcessing = dataProcessing.apply(groupingArmsCateg, axis=1)\n",
    "dataProcessing.groupby(\"arms_category\")[\"id\"].nunique()"
   ],
   "metadata": {
    "collapsed": false,
    "pycharm": {
     "name": "#%%\n"
    }
   }
  },
  {
   "cell_type": "markdown",
   "source": [
    "## Dropping unusable columns"
   ],
   "metadata": {
    "collapsed": false,
    "pycharm": {
     "name": "#%% md\n"
    }
   }
  },
  {
   "cell_type": "code",
   "execution_count": 9,
   "outputs": [],
   "source": [
    "#removing columns not used for analysis (can change to test things out)\n",
    "dataProcessing = dataProcessing.drop(columns=[\n",
    "    \"id\",\n",
    "    \"name\",\n",
    "    \"date\",\n",
    "    #\"age\",\n",
    "    #\"race\",\n",
    "    #\"signs_of_mental_illness\",\n",
    "    #\"body_camera\",\n",
    "    \"armed\",\n",
    "    #\"arms_category\",\n",
    "    \"city\",\n",
    "    #\"region\",\n",
    "    #\"manner_of_death\",\n",
    "    #\"gender\",\n",
    "    #\"threat_level\",\n",
    "    #\"flee\"\n",
    "])"
   ],
   "metadata": {
    "collapsed": false,
    "pycharm": {
     "name": "#%%\n"
    }
   }
  },
  {
   "cell_type": "markdown",
   "source": [
    "## Saving modified dataset"
   ],
   "metadata": {
    "collapsed": false,
    "pycharm": {
     "name": "#%% md\n"
    }
   }
  },
  {
   "cell_type": "code",
   "execution_count": 10,
   "outputs": [
    {
     "data": {
      "text/plain": "    manner_of_death    age gender      race              region  \\\n0              shot  51-75      M     Asian             Pacific   \n1              shot  36-50      M     White             Pacific   \n2  shot and Tasered  19-25      M  Hispanic  West North Central   \n3              shot  26-35      M     White             Pacific   \n4              shot  36-50      M  Hispanic            Mountain   \n\n  signs_of_mental_illness threat_level         flee body_camera  \\\n0                     Yes       attack  Not fleeing          No   \n1                      No       attack  Not fleeing          No   \n2                      No        other  Not fleeing          No   \n3                     Yes       attack  Not fleeing          No   \n4                      No       attack  Not fleeing          No   \n\n           arms_category  \n0                   Guns  \n1                   Guns  \n2                Unarmed  \n3  Other unusual objects  \n4   Other weapon objects  ",
      "text/html": "<div>\n<style scoped>\n    .dataframe tbody tr th:only-of-type {\n        vertical-align: middle;\n    }\n\n    .dataframe tbody tr th {\n        vertical-align: top;\n    }\n\n    .dataframe thead th {\n        text-align: right;\n    }\n</style>\n<table border=\"1\" class=\"dataframe\">\n  <thead>\n    <tr style=\"text-align: right;\">\n      <th></th>\n      <th>manner_of_death</th>\n      <th>age</th>\n      <th>gender</th>\n      <th>race</th>\n      <th>region</th>\n      <th>signs_of_mental_illness</th>\n      <th>threat_level</th>\n      <th>flee</th>\n      <th>body_camera</th>\n      <th>arms_category</th>\n    </tr>\n  </thead>\n  <tbody>\n    <tr>\n      <th>0</th>\n      <td>shot</td>\n      <td>51-75</td>\n      <td>M</td>\n      <td>Asian</td>\n      <td>Pacific</td>\n      <td>Yes</td>\n      <td>attack</td>\n      <td>Not fleeing</td>\n      <td>No</td>\n      <td>Guns</td>\n    </tr>\n    <tr>\n      <th>1</th>\n      <td>shot</td>\n      <td>36-50</td>\n      <td>M</td>\n      <td>White</td>\n      <td>Pacific</td>\n      <td>No</td>\n      <td>attack</td>\n      <td>Not fleeing</td>\n      <td>No</td>\n      <td>Guns</td>\n    </tr>\n    <tr>\n      <th>2</th>\n      <td>shot and Tasered</td>\n      <td>19-25</td>\n      <td>M</td>\n      <td>Hispanic</td>\n      <td>West North Central</td>\n      <td>No</td>\n      <td>other</td>\n      <td>Not fleeing</td>\n      <td>No</td>\n      <td>Unarmed</td>\n    </tr>\n    <tr>\n      <th>3</th>\n      <td>shot</td>\n      <td>26-35</td>\n      <td>M</td>\n      <td>White</td>\n      <td>Pacific</td>\n      <td>Yes</td>\n      <td>attack</td>\n      <td>Not fleeing</td>\n      <td>No</td>\n      <td>Other unusual objects</td>\n    </tr>\n    <tr>\n      <th>4</th>\n      <td>shot</td>\n      <td>36-50</td>\n      <td>M</td>\n      <td>Hispanic</td>\n      <td>Mountain</td>\n      <td>No</td>\n      <td>attack</td>\n      <td>Not fleeing</td>\n      <td>No</td>\n      <td>Other weapon objects</td>\n    </tr>\n  </tbody>\n</table>\n</div>"
     },
     "execution_count": 10,
     "metadata": {},
     "output_type": "execute_result"
    }
   ],
   "source": [
    "dataProcessing.head()"
   ],
   "metadata": {
    "collapsed": false,
    "pycharm": {
     "name": "#%%\n"
    }
   }
  },
  {
   "cell_type": "code",
   "execution_count": 11,
   "outputs": [],
   "source": [
    "dataProcessing.to_csv(\"dataset/preprocessed-shootings.csv\", index=False)"
   ],
   "metadata": {
    "collapsed": false,
    "pycharm": {
     "name": "#%%\n"
    }
   }
  },
  {
   "cell_type": "markdown",
   "source": [],
   "metadata": {
    "collapsed": false,
    "pycharm": {
     "name": "#%% md\n"
    }
   }
  },
  {
   "cell_type": "code",
   "execution_count": 11,
   "outputs": [],
   "source": [],
   "metadata": {
    "collapsed": false,
    "pycharm": {
     "name": "#%%\n"
    }
   }
  }
 ],
 "metadata": {
  "kernelspec": {
   "display_name": "Python 3",
   "language": "python",
   "name": "python3"
  },
  "language_info": {
   "codemirror_mode": {
    "name": "ipython",
    "version": 2
   },
   "file_extension": ".py",
   "mimetype": "text/x-python",
   "name": "python",
   "nbconvert_exporter": "python",
   "pygments_lexer": "ipython2",
   "version": "2.7.6"
  }
 },
 "nbformat": 4,
 "nbformat_minor": 0
}