{
 "cells": [
  {
   "cell_type": "code",
   "execution_count": 2,
   "metadata": {
    "collapsed": true,
    "pycharm": {
     "name": "#%%\n"
    }
   },
   "outputs": [],
   "source": [
    "import os\n",
    "import time\n",
    "import numpy as np\n",
    "import pandas as pd\n",
    "from sklearn import preprocessing\n",
    "from sklearn.pipeline import Pipeline\n",
    "from sklearn.model_selection import train_test_split, cross_validate, GridSearchCV\n",
    "from sklearn import linear_model, svm, tree, ensemble, neighbors\n",
    "from sklearn.metrics import r2_score, mean_absolute_error, mean_squared_error\n",
    "import matplotlib.pyplot as plt\n",
    "import lightgbm as lgbm"
   ]
  },
  {
   "cell_type": "markdown",
   "metadata": {
    "collapsed": false,
    "pycharm": {
     "name": "#%% md\n"
    }
   },
   "source": [
    "## Plotting methods"
   ]
  },
  {
   "cell_type": "code",
   "execution_count": 3,
   "metadata": {
    "collapsed": false,
    "pycharm": {
     "name": "#%%\n"
    }
   },
   "outputs": [],
   "source": [
    "def plotCurve(y_test, y_pred, beginInd=0, endInd=500):\n",
    "    plt.figure(figsize=(15,5))\n",
    "    y_test_sorted, y_pred_sorted = zip(*sorted(zip(y_test.to_list(), y_pred.tolist())))\n",
    "    y_test_sorted, y_pred_sorted = y_test_sorted[beginInd:endInd], y_pred_sorted[beginInd:endInd]\n",
    "\n",
    "    plt.plot([i for i in range(len(y_test_sorted))], y_test_sorted, color = 'magenta', label=\"True\", linewidth = 3)\n",
    "    plt.scatter([i for i in range(len(y_test_sorted))], y_pred_sorted, color = 'green', label=\"Prediction\")\n",
    "    plt.legend()\n",
    "    plt.show()"
   ]
  },
  {
   "cell_type": "code",
   "execution_count": 4,
   "metadata": {
    "collapsed": false,
    "pycharm": {
     "name": "#%%\n"
    }
   },
   "outputs": [],
   "source": [
    "def plot_histo(y_test, y_pred, nbars=1000, width = 0.02):\n",
    "    maxValue=y_test.max()\n",
    "    minValue=y_test.min()\n",
    "    step = (maxValue-minValue)/nbars\n",
    "\n",
    "    y_test_count=[0 for _ in range(nbars)]\n",
    "    y_pred_count=[0 for _ in range(nbars)]\n",
    "    for i in range(len(y_test)):\n",
    "        ytestInd = int(y_test[i] // step)\n",
    "        ypredInd = int(y_pred[i] // step)\n",
    "        y_pred_count[ypredInd] += 1\n",
    "        y_test_count[ytestInd] += 1\n",
    "\n",
    "    xValues = [x*step+minValue for x in range(nbars)]\n",
    "    plt.bar(xValues, y_test_count, label=\"True\", width=width, color = 'magenta')\n",
    "    plt.bar(np.array(xValues) + width, y_pred_count, label=\"Prediction\", width=width, color = 'green')\n",
    "    plt.legend()"
   ]
  },
  {
   "cell_type": "code",
   "execution_count": 5,
   "metadata": {
    "collapsed": false,
    "pycharm": {
     "name": "#%%\n"
    }
   },
   "outputs": [],
   "source": [
    "def plotGridResults(logreg_cv, x_axis_prec=5):\n",
    "    nbrParam = len(logreg_cv.cv_results_[\"params\"])\n",
    "    nSplits = logreg_cv.n_splits_\n",
    "    scores = [[] for i in range(nbrParam)]\n",
    "    for i in range(nbrParam):\n",
    "        for j in range(nSplits):\n",
    "            scores[i].append(logreg_cv.cv_results_[\"split\"+str(j)+\"_test_score\"][i])\n",
    "\n",
    "    labels = []\n",
    "    for param in logreg_cv.cv_results_[\"params\"]:\n",
    "        for name, value in param.items():\n",
    "            if type(value) == str:\n",
    "                labels.append(value)\n",
    "            else:\n",
    "                labels.append(str(round(value,x_axis_prec)))\n",
    "\n",
    "    plt.boxplot(scores, labels=labels)"
   ]
  },
  {
   "cell_type": "markdown",
   "metadata": {
    "collapsed": false,
    "pycharm": {
     "name": "#%% md\n"
    }
   },
   "source": [
    "## Data loading"
   ]
  },
  {
   "cell_type": "code",
   "execution_count": 6,
   "metadata": {
    "collapsed": false,
    "pycharm": {
     "name": "#%%\n"
    }
   },
   "outputs": [],
   "source": [
    "fullData = pd.read_csv(\"../HGS/clean_dataset_v3.csv\", sep=\",\")"
   ]
  },
  {
   "cell_type": "code",
   "execution_count": 7,
   "metadata": {
    "collapsed": false,
    "pycharm": {
     "name": "#%%\n"
    }
   },
   "outputs": [],
   "source": [
    "fullData = fullData.drop(columns=[\"S7\", \"S13\"])"
   ]
  },
  {
   "cell_type": "code",
   "execution_count": 8,
   "metadata": {
    "collapsed": false,
    "pycharm": {
     "name": "#%%\n"
    }
   },
   "outputs": [],
   "source": [
    "def model_rapport(name, model, y_test, x_test, precision = 5):\n",
    "    y_pred = model.predict(x_test)\n",
    "    r2modelScore = round(r2_score(y_test, y_pred), precision)\n",
    "    print(name, \"--------------------------------------\")\n",
    "    print(\"R2:\", r2modelScore)\n",
    "    print(\"MSE:\", round(mean_squared_error(y_test, y_pred), precision))\n",
    "    print(\"RMSE:\", round(mean_squared_error(y_test, y_pred, squared=False), precision))\n",
    "    print(\"MAE:\", round(mean_absolute_error(y_test, y_pred), precision))\n",
    "    return r2modelScore"
   ]
  },
  {
   "cell_type": "markdown",
   "metadata": {
    "collapsed": false,
    "pycharm": {
     "name": "#%% md\n"
    }
   },
   "source": [
    "## Model tests methods"
   ]
  },
  {
   "cell_type": "code",
   "execution_count": 9,
   "metadata": {
    "collapsed": false,
    "pycharm": {
     "name": "#%%\n"
    }
   },
   "outputs": [],
   "source": [
    "def model_cv_rapport(model, x, y: np.array, cv=5, precision = 8):\n",
    "    #making sure data is standarized\n",
    "    pipe = Pipeline([\n",
    "        ('scale', preprocessing.StandardScaler()),\n",
    "        ('clf', model)\n",
    "    ])\n",
    "    score = cross_validate(pipe, x, y, cv=cv,\n",
    "                           scoring=[\"r2\", \"neg_mean_absolute_error\", \"neg_root_mean_squared_error\"],\n",
    "                           verbose=10,\n",
    "                           n_jobs=-1)\n",
    "    print(\"MAE: \", round(-score[\"test_neg_mean_absolute_error\"].mean(), precision))\n",
    "    print(\"RMSE: \", round(-score[\"test_neg_root_mean_squared_error\"].mean(), precision))\n",
    "    print(\"R2: \", round(score[\"test_r2\"].mean(), precision))"
   ]
  },
  {
   "cell_type": "code",
   "execution_count": 10,
   "metadata": {
    "collapsed": false,
    "pycharm": {
     "name": "#%%\n"
    }
   },
   "outputs": [],
   "source": [
    "\"\"\"\n",
    " grid={\"C\":np.logspace(-3,3,7),\n",
    "          \"kernel\":kernels,\n",
    "          \"epsilon\":np.logspace(-3,3,7),\n",
    "          \"gamma\": np.logspace(-3,3,7)}\n",
    "\"\"\"\n",
    "\n",
    "def grid_search(grid, model, x_train, y_train, cv=5, verbose=10):\n",
    "    #making sure data is standarized\n",
    "    pipe = Pipeline([\n",
    "        ('scale', preprocessing.StandardScaler()),\n",
    "        ('clf', model)\n",
    "    ])\n",
    "\n",
    "    #modifying grid params to match pipeline\n",
    "    newGrid = [{}]\n",
    "    for key, item in grid.items():\n",
    "        newGrid[0][\"clf__\"+key] = item\n",
    "\n",
    "    logreg_cv=GridSearchCV(pipe,param_grid=newGrid,cv=cv, verbose=verbose, scoring=\"r2\")\n",
    "    logreg_cv.fit(x_train,y_train)\n",
    "    print(\"tuned hyperparameters :(best parameters) \",logreg_cv.best_params_)\n",
    "    print(\"accuracy :\",logreg_cv.best_score_)\n",
    "    return logreg_cv"
   ]
  },
  {
   "cell_type": "markdown",
   "metadata": {
    "collapsed": false,
    "pycharm": {
     "name": "#%% md\n"
    }
   },
   "source": [
    "## Data sampling and Train-Test splitting"
   ]
  },
  {
   "cell_type": "code",
   "execution_count": 11,
   "metadata": {
    "collapsed": false,
    "pycharm": {
     "name": "#%%\n"
    }
   },
   "outputs": [
    {
     "data": {
      "text/html": [
       "<div>\n",
       "<style scoped>\n",
       "    .dataframe tbody tr th:only-of-type {\n",
       "        vertical-align: middle;\n",
       "    }\n",
       "\n",
       "    .dataframe tbody tr th {\n",
       "        vertical-align: top;\n",
       "    }\n",
       "\n",
       "    .dataframe thead th {\n",
       "        text-align: right;\n",
       "    }\n",
       "</style>\n",
       "<table border=\"1\" class=\"dataframe\">\n",
       "  <thead>\n",
       "    <tr style=\"text-align: right;\">\n",
       "      <th></th>\n",
       "      <th>cost</th>\n",
       "      <th>S1</th>\n",
       "      <th>S2</th>\n",
       "      <th>S3</th>\n",
       "      <th>S4</th>\n",
       "      <th>S5</th>\n",
       "      <th>S6</th>\n",
       "      <th>S8</th>\n",
       "      <th>S9</th>\n",
       "      <th>S10</th>\n",
       "      <th>S11</th>\n",
       "      <th>S12</th>\n",
       "      <th>S14</th>\n",
       "      <th>S15</th>\n",
       "      <th>S16</th>\n",
       "      <th>S17</th>\n",
       "      <th>S18</th>\n",
       "    </tr>\n",
       "  </thead>\n",
       "  <tbody>\n",
       "    <tr>\n",
       "      <th>12800051</th>\n",
       "      <td>14483</td>\n",
       "      <td>131.402</td>\n",
       "      <td>99.7370</td>\n",
       "      <td>0.0847</td>\n",
       "      <td>0.0643</td>\n",
       "      <td>559.667</td>\n",
       "      <td>299.700</td>\n",
       "      <td>448.750</td>\n",
       "      <td>0.3663</td>\n",
       "      <td>0.0872</td>\n",
       "      <td>805.167</td>\n",
       "      <td>0.3704</td>\n",
       "      <td>0.2457</td>\n",
       "      <td>637.502</td>\n",
       "      <td>345.401</td>\n",
       "      <td>2.2111</td>\n",
       "      <td>4.1302</td>\n",
       "    </tr>\n",
       "    <tr>\n",
       "      <th>5483954</th>\n",
       "      <td>10406</td>\n",
       "      <td>137.274</td>\n",
       "      <td>64.4632</td>\n",
       "      <td>0.1157</td>\n",
       "      <td>0.0859</td>\n",
       "      <td>454.500</td>\n",
       "      <td>100.664</td>\n",
       "      <td>293.000</td>\n",
       "      <td>0.2868</td>\n",
       "      <td>0.1268</td>\n",
       "      <td>525.600</td>\n",
       "      <td>0.2123</td>\n",
       "      <td>0.0329</td>\n",
       "      <td>249.455</td>\n",
       "      <td>352.032</td>\n",
       "      <td>1.8974</td>\n",
       "      <td>3.8180</td>\n",
       "    </tr>\n",
       "    <tr>\n",
       "      <th>10788912</th>\n",
       "      <td>20900</td>\n",
       "      <td>162.031</td>\n",
       "      <td>93.7861</td>\n",
       "      <td>0.0574</td>\n",
       "      <td>0.0474</td>\n",
       "      <td>973.900</td>\n",
       "      <td>281.018</td>\n",
       "      <td>759.600</td>\n",
       "      <td>0.3692</td>\n",
       "      <td>0.0821</td>\n",
       "      <td>1421.000</td>\n",
       "      <td>0.3636</td>\n",
       "      <td>0.2727</td>\n",
       "      <td>593.597</td>\n",
       "      <td>437.968</td>\n",
       "      <td>3.0000</td>\n",
       "      <td>4.7000</td>\n",
       "    </tr>\n",
       "    <tr>\n",
       "      <th>8346315</th>\n",
       "      <td>21353</td>\n",
       "      <td>230.727</td>\n",
       "      <td>149.5370</td>\n",
       "      <td>0.1096</td>\n",
       "      <td>0.0606</td>\n",
       "      <td>803.167</td>\n",
       "      <td>322.533</td>\n",
       "      <td>641.167</td>\n",
       "      <td>0.3607</td>\n",
       "      <td>0.1160</td>\n",
       "      <td>1117.000</td>\n",
       "      <td>0.3704</td>\n",
       "      <td>0.2457</td>\n",
       "      <td>724.450</td>\n",
       "      <td>496.813</td>\n",
       "      <td>2.2111</td>\n",
       "      <td>3.4688</td>\n",
       "    </tr>\n",
       "    <tr>\n",
       "      <th>134772</th>\n",
       "      <td>14324</td>\n",
       "      <td>266.923</td>\n",
       "      <td>133.4720</td>\n",
       "      <td>0.2667</td>\n",
       "      <td>0.2520</td>\n",
       "      <td>473.333</td>\n",
       "      <td>171.891</td>\n",
       "      <td>348.583</td>\n",
       "      <td>0.3057</td>\n",
       "      <td>0.1183</td>\n",
       "      <td>592.333</td>\n",
       "      <td>0.3704</td>\n",
       "      <td>0.2457</td>\n",
       "      <td>443.784</td>\n",
       "      <td>472.126</td>\n",
       "      <td>2.2111</td>\n",
       "      <td>2.9479</td>\n",
       "    </tr>\n",
       "  </tbody>\n",
       "</table>\n",
       "</div>"
      ],
      "text/plain": [
       "           cost       S1        S2      S3      S4       S5       S6       S8  \\\n",
       "12800051  14483  131.402   99.7370  0.0847  0.0643  559.667  299.700  448.750   \n",
       "5483954   10406  137.274   64.4632  0.1157  0.0859  454.500  100.664  293.000   \n",
       "10788912  20900  162.031   93.7861  0.0574  0.0474  973.900  281.018  759.600   \n",
       "8346315   21353  230.727  149.5370  0.1096  0.0606  803.167  322.533  641.167   \n",
       "134772    14324  266.923  133.4720  0.2667  0.2520  473.333  171.891  348.583   \n",
       "\n",
       "              S9     S10       S11     S12     S14      S15      S16     S17  \\\n",
       "12800051  0.3663  0.0872   805.167  0.3704  0.2457  637.502  345.401  2.2111   \n",
       "5483954   0.2868  0.1268   525.600  0.2123  0.0329  249.455  352.032  1.8974   \n",
       "10788912  0.3692  0.0821  1421.000  0.3636  0.2727  593.597  437.968  3.0000   \n",
       "8346315   0.3607  0.1160  1117.000  0.3704  0.2457  724.450  496.813  2.2111   \n",
       "134772    0.3057  0.1183   592.333  0.3704  0.2457  443.784  472.126  2.2111   \n",
       "\n",
       "             S18  \n",
       "12800051  4.1302  \n",
       "5483954   3.8180  \n",
       "10788912  4.7000  \n",
       "8346315   3.4688  \n",
       "134772    2.9479  "
      ]
     },
     "execution_count": 11,
     "metadata": {},
     "output_type": "execute_result"
    }
   ],
   "source": [
    "chunkData = fullData.sample(10000, random_state=123456)\n",
    "chunkData = chunkData.drop(columns=[\"instance_name\"])\n",
    "\n",
    "#I shouldn't standarize the whole set\n",
    "#chunkData = pd.DataFrame(preprocessing.StandardScaler().fit_transform(chunkData), columns=colNames)\n",
    "chunkData.head()"
   ]
  },
  {
   "cell_type": "code",
   "execution_count": 12,
   "metadata": {
    "collapsed": false,
    "pycharm": {
     "name": "#%%\n"
    }
   },
   "outputs": [
    {
     "ename": "ValueError",
     "evalue": "Expected 2D array, got 1D array instead:\narray=[22768. 22931. 20255. ... 20016. 24223. 10936.].\nReshape your data either using array.reshape(-1, 1) if your data has a single feature or array.reshape(1, -1) if it contains a single sample.",
     "output_type": "error",
     "traceback": [
      "\u001B[0;31m---------------------------------------------------------------------------\u001B[0m",
      "\u001B[0;31mValueError\u001B[0m                                Traceback (most recent call last)",
      "\u001B[0;32m/var/folders/g8/rlz57xbs0633vcsnb4yyvr8c0000gn/T/ipykernel_68991/2150579698.py\u001B[0m in \u001B[0;36m<module>\u001B[0;34m\u001B[0m\n\u001B[1;32m      9\u001B[0m \u001B[0;34m\u001B[0m\u001B[0m\n\u001B[1;32m     10\u001B[0m \u001B[0my_scaler\u001B[0m \u001B[0;34m=\u001B[0m \u001B[0mpreprocessing\u001B[0m\u001B[0;34m.\u001B[0m\u001B[0mStandardScaler\u001B[0m\u001B[0;34m(\u001B[0m\u001B[0;34m)\u001B[0m\u001B[0;34m\u001B[0m\u001B[0;34m\u001B[0m\u001B[0m\n\u001B[0;32m---> 11\u001B[0;31m \u001B[0my_train\u001B[0m \u001B[0;34m=\u001B[0m \u001B[0my_scaler\u001B[0m\u001B[0;34m.\u001B[0m\u001B[0mfit_transform\u001B[0m\u001B[0;34m(\u001B[0m\u001B[0my_train\u001B[0m\u001B[0;34m)\u001B[0m\u001B[0;34m\u001B[0m\u001B[0;34m\u001B[0m\u001B[0m\n\u001B[0m\u001B[1;32m     12\u001B[0m \u001B[0my_test\u001B[0m \u001B[0;34m=\u001B[0m \u001B[0my_scaler\u001B[0m\u001B[0;34m.\u001B[0m\u001B[0mtransform\u001B[0m\u001B[0;34m(\u001B[0m\u001B[0my_test\u001B[0m\u001B[0;34m)\u001B[0m\u001B[0;34m\u001B[0m\u001B[0;34m\u001B[0m\u001B[0m\n",
      "\u001B[0;32m~/opt/anaconda3/lib/python3.9/site-packages/sklearn/base.py\u001B[0m in \u001B[0;36mfit_transform\u001B[0;34m(self, X, y, **fit_params)\u001B[0m\n\u001B[1;32m    850\u001B[0m         \u001B[0;32mif\u001B[0m \u001B[0my\u001B[0m \u001B[0;32mis\u001B[0m \u001B[0;32mNone\u001B[0m\u001B[0;34m:\u001B[0m\u001B[0;34m\u001B[0m\u001B[0;34m\u001B[0m\u001B[0m\n\u001B[1;32m    851\u001B[0m             \u001B[0;31m# fit method of arity 1 (unsupervised transformation)\u001B[0m\u001B[0;34m\u001B[0m\u001B[0;34m\u001B[0m\u001B[0m\n\u001B[0;32m--> 852\u001B[0;31m             \u001B[0;32mreturn\u001B[0m \u001B[0mself\u001B[0m\u001B[0;34m.\u001B[0m\u001B[0mfit\u001B[0m\u001B[0;34m(\u001B[0m\u001B[0mX\u001B[0m\u001B[0;34m,\u001B[0m \u001B[0;34m**\u001B[0m\u001B[0mfit_params\u001B[0m\u001B[0;34m)\u001B[0m\u001B[0;34m.\u001B[0m\u001B[0mtransform\u001B[0m\u001B[0;34m(\u001B[0m\u001B[0mX\u001B[0m\u001B[0;34m)\u001B[0m\u001B[0;34m\u001B[0m\u001B[0;34m\u001B[0m\u001B[0m\n\u001B[0m\u001B[1;32m    853\u001B[0m         \u001B[0;32melse\u001B[0m\u001B[0;34m:\u001B[0m\u001B[0;34m\u001B[0m\u001B[0;34m\u001B[0m\u001B[0m\n\u001B[1;32m    854\u001B[0m             \u001B[0;31m# fit method of arity 2 (supervised transformation)\u001B[0m\u001B[0;34m\u001B[0m\u001B[0;34m\u001B[0m\u001B[0m\n",
      "\u001B[0;32m~/opt/anaconda3/lib/python3.9/site-packages/sklearn/preprocessing/_data.py\u001B[0m in \u001B[0;36mfit\u001B[0;34m(self, X, y, sample_weight)\u001B[0m\n\u001B[1;32m    804\u001B[0m         \u001B[0;31m# Reset internal state before fitting\u001B[0m\u001B[0;34m\u001B[0m\u001B[0;34m\u001B[0m\u001B[0m\n\u001B[1;32m    805\u001B[0m         \u001B[0mself\u001B[0m\u001B[0;34m.\u001B[0m\u001B[0m_reset\u001B[0m\u001B[0;34m(\u001B[0m\u001B[0;34m)\u001B[0m\u001B[0;34m\u001B[0m\u001B[0;34m\u001B[0m\u001B[0m\n\u001B[0;32m--> 806\u001B[0;31m         \u001B[0;32mreturn\u001B[0m \u001B[0mself\u001B[0m\u001B[0;34m.\u001B[0m\u001B[0mpartial_fit\u001B[0m\u001B[0;34m(\u001B[0m\u001B[0mX\u001B[0m\u001B[0;34m,\u001B[0m \u001B[0my\u001B[0m\u001B[0;34m,\u001B[0m \u001B[0msample_weight\u001B[0m\u001B[0;34m)\u001B[0m\u001B[0;34m\u001B[0m\u001B[0;34m\u001B[0m\u001B[0m\n\u001B[0m\u001B[1;32m    807\u001B[0m \u001B[0;34m\u001B[0m\u001B[0m\n\u001B[1;32m    808\u001B[0m     \u001B[0;32mdef\u001B[0m \u001B[0mpartial_fit\u001B[0m\u001B[0;34m(\u001B[0m\u001B[0mself\u001B[0m\u001B[0;34m,\u001B[0m \u001B[0mX\u001B[0m\u001B[0;34m,\u001B[0m \u001B[0my\u001B[0m\u001B[0;34m=\u001B[0m\u001B[0;32mNone\u001B[0m\u001B[0;34m,\u001B[0m \u001B[0msample_weight\u001B[0m\u001B[0;34m=\u001B[0m\u001B[0;32mNone\u001B[0m\u001B[0;34m)\u001B[0m\u001B[0;34m:\u001B[0m\u001B[0;34m\u001B[0m\u001B[0;34m\u001B[0m\u001B[0m\n",
      "\u001B[0;32m~/opt/anaconda3/lib/python3.9/site-packages/sklearn/preprocessing/_data.py\u001B[0m in \u001B[0;36mpartial_fit\u001B[0;34m(self, X, y, sample_weight)\u001B[0m\n\u001B[1;32m    839\u001B[0m         \"\"\"\n\u001B[1;32m    840\u001B[0m         \u001B[0mfirst_call\u001B[0m \u001B[0;34m=\u001B[0m \u001B[0;32mnot\u001B[0m \u001B[0mhasattr\u001B[0m\u001B[0;34m(\u001B[0m\u001B[0mself\u001B[0m\u001B[0;34m,\u001B[0m \u001B[0;34m\"n_samples_seen_\"\u001B[0m\u001B[0;34m)\u001B[0m\u001B[0;34m\u001B[0m\u001B[0;34m\u001B[0m\u001B[0m\n\u001B[0;32m--> 841\u001B[0;31m         X = self._validate_data(\n\u001B[0m\u001B[1;32m    842\u001B[0m             \u001B[0mX\u001B[0m\u001B[0;34m,\u001B[0m\u001B[0;34m\u001B[0m\u001B[0;34m\u001B[0m\u001B[0m\n\u001B[1;32m    843\u001B[0m             \u001B[0maccept_sparse\u001B[0m\u001B[0;34m=\u001B[0m\u001B[0;34m(\u001B[0m\u001B[0;34m\"csr\"\u001B[0m\u001B[0;34m,\u001B[0m \u001B[0;34m\"csc\"\u001B[0m\u001B[0;34m)\u001B[0m\u001B[0;34m,\u001B[0m\u001B[0;34m\u001B[0m\u001B[0;34m\u001B[0m\u001B[0m\n",
      "\u001B[0;32m~/opt/anaconda3/lib/python3.9/site-packages/sklearn/base.py\u001B[0m in \u001B[0;36m_validate_data\u001B[0;34m(self, X, y, reset, validate_separately, **check_params)\u001B[0m\n\u001B[1;32m    564\u001B[0m             \u001B[0;32mraise\u001B[0m \u001B[0mValueError\u001B[0m\u001B[0;34m(\u001B[0m\u001B[0;34m\"Validation should be done on X, y or both.\"\u001B[0m\u001B[0;34m)\u001B[0m\u001B[0;34m\u001B[0m\u001B[0;34m\u001B[0m\u001B[0m\n\u001B[1;32m    565\u001B[0m         \u001B[0;32melif\u001B[0m \u001B[0;32mnot\u001B[0m \u001B[0mno_val_X\u001B[0m \u001B[0;32mand\u001B[0m \u001B[0mno_val_y\u001B[0m\u001B[0;34m:\u001B[0m\u001B[0;34m\u001B[0m\u001B[0;34m\u001B[0m\u001B[0m\n\u001B[0;32m--> 566\u001B[0;31m             \u001B[0mX\u001B[0m \u001B[0;34m=\u001B[0m \u001B[0mcheck_array\u001B[0m\u001B[0;34m(\u001B[0m\u001B[0mX\u001B[0m\u001B[0;34m,\u001B[0m \u001B[0;34m**\u001B[0m\u001B[0mcheck_params\u001B[0m\u001B[0;34m)\u001B[0m\u001B[0;34m\u001B[0m\u001B[0;34m\u001B[0m\u001B[0m\n\u001B[0m\u001B[1;32m    567\u001B[0m             \u001B[0mout\u001B[0m \u001B[0;34m=\u001B[0m \u001B[0mX\u001B[0m\u001B[0;34m\u001B[0m\u001B[0;34m\u001B[0m\u001B[0m\n\u001B[1;32m    568\u001B[0m         \u001B[0;32melif\u001B[0m \u001B[0mno_val_X\u001B[0m \u001B[0;32mand\u001B[0m \u001B[0;32mnot\u001B[0m \u001B[0mno_val_y\u001B[0m\u001B[0;34m:\u001B[0m\u001B[0;34m\u001B[0m\u001B[0;34m\u001B[0m\u001B[0m\n",
      "\u001B[0;32m~/opt/anaconda3/lib/python3.9/site-packages/sklearn/utils/validation.py\u001B[0m in \u001B[0;36mcheck_array\u001B[0;34m(array, accept_sparse, accept_large_sparse, dtype, order, copy, force_all_finite, ensure_2d, allow_nd, ensure_min_samples, ensure_min_features, estimator)\u001B[0m\n\u001B[1;32m    767\u001B[0m             \u001B[0;31m# If input is 1D raise error\u001B[0m\u001B[0;34m\u001B[0m\u001B[0;34m\u001B[0m\u001B[0m\n\u001B[1;32m    768\u001B[0m             \u001B[0;32mif\u001B[0m \u001B[0marray\u001B[0m\u001B[0;34m.\u001B[0m\u001B[0mndim\u001B[0m \u001B[0;34m==\u001B[0m \u001B[0;36m1\u001B[0m\u001B[0;34m:\u001B[0m\u001B[0;34m\u001B[0m\u001B[0;34m\u001B[0m\u001B[0m\n\u001B[0;32m--> 769\u001B[0;31m                 raise ValueError(\n\u001B[0m\u001B[1;32m    770\u001B[0m                     \u001B[0;34m\"Expected 2D array, got 1D array instead:\\narray={}.\\n\"\u001B[0m\u001B[0;34m\u001B[0m\u001B[0;34m\u001B[0m\u001B[0m\n\u001B[1;32m    771\u001B[0m                     \u001B[0;34m\"Reshape your data either using array.reshape(-1, 1) if \"\u001B[0m\u001B[0;34m\u001B[0m\u001B[0;34m\u001B[0m\u001B[0m\n",
      "\u001B[0;31mValueError\u001B[0m: Expected 2D array, got 1D array instead:\narray=[22768. 22931. 20255. ... 20016. 24223. 10936.].\nReshape your data either using array.reshape(-1, 1) if your data has a single feature or array.reshape(1, -1) if it contains a single sample."
     ]
    }
   ],
   "source": [
    "y = chunkData.cost\n",
    "x = chunkData.drop(columns=[\"cost\"])\n",
    "\n",
    "x_train,x_test,y_train,y_test=train_test_split(x,y,test_size=0.2)\n",
    "#normalizing data, only according to train data mean and variance\n",
    "scaler = preprocessing.StandardScaler()\n",
    "x_train = scaler.fit_transform(x_train)\n",
    "x_test = scaler.transform(x_test)\n",
    "\n",
    "y_scaler = preprocessing.StandardScaler()\n",
    "y_train = y_scaler.fit_transform(y_train)\n",
    "y_test = y_scaler.transform(y_test)"
   ]
  },
  {
   "cell_type": "markdown",
   "metadata": {
    "collapsed": false,
    "pycharm": {
     "name": "#%% md\n"
    }
   },
   "source": [
    "## Linear regression"
   ]
  },
  {
   "cell_type": "code",
   "execution_count": null,
   "metadata": {
    "collapsed": false,
    "pycharm": {
     "name": "#%%\n"
    }
   },
   "outputs": [],
   "source": [
    "#Setting models\n",
    "models = {\n",
    "    \"Linear\": linear_model.LinearRegression(),\n",
    "    \"ElasticNet\": linear_model.ElasticNet(alpha=0.7, l1_ratio=0.5, max_iter=1000, tol=1e-4),\n",
    "    \"Ridge\": linear_model.Ridge(alpha=0.5, max_iter=1000, tol=1e-4)\n",
    "}"
   ]
  },
  {
   "cell_type": "code",
   "execution_count": null,
   "metadata": {
    "collapsed": false,
    "pycharm": {
     "name": "#%%\n"
    }
   },
   "outputs": [],
   "source": [
    "#Training model\n",
    "for _, model in models.items():\n",
    "    model.fit(x_train, y_train)"
   ]
  },
  {
   "cell_type": "code",
   "execution_count": null,
   "metadata": {
    "collapsed": false,
    "pycharm": {
     "name": "#%%\n"
    }
   },
   "outputs": [
    {
     "name": "stdout",
     "output_type": "stream",
     "text": [
      "Linear --------------------------------------\n",
      "r2_score: 0.9377995496\n",
      "mean squared error: 0.0621367255\n",
      "root mean squared error: 0.2492723922\n",
      "mean absolute error: 0.198005403\n",
      "ElasticNet --------------------------------------\n",
      "r2_score: 0.626129432\n",
      "mean squared error: 0.3734875348\n",
      "root mean squared error: 0.6111362653\n",
      "mean absolute error: 0.5127721353\n",
      "Ridge --------------------------------------\n",
      "r2_score: 0.9377971366\n",
      "mean squared error: 0.0621391361\n",
      "root mean squared error: 0.2492772274\n",
      "mean absolute error: 0.1980158723\n"
     ]
    }
   ],
   "source": [
    "#stats\n",
    "for name, model in models.items():\n",
    "    model_rapport(name, model, y_test=y_test, x_test=x_test, precision=10)"
   ]
  },
  {
   "cell_type": "markdown",
   "metadata": {
    "collapsed": false,
    "pycharm": {
     "name": "#%% md\n"
    }
   },
   "source": [
    "Looks like Ridge is the best model with basic parameters"
   ]
  },
  {
   "cell_type": "markdown",
   "metadata": {
    "collapsed": false,
    "pycharm": {
     "name": "#%% md\n"
    }
   },
   "source": [
    "### Hyperparameters - Linear Regression"
   ]
  },
  {
   "cell_type": "markdown",
   "metadata": {
    "collapsed": false,
    "pycharm": {
     "name": "#%% md\n"
    }
   },
   "source": [
    "#### Alpha parameter"
   ]
  },
  {
   "cell_type": "code",
   "execution_count": null,
   "metadata": {
    "collapsed": false,
    "pycharm": {
     "name": "#%%\n"
    }
   },
   "outputs": [
    {
     "name": "stdout",
     "output_type": "stream",
     "text": [
      "Fitting 5 folds for each of 9 candidates, totalling 45 fits\n",
      "tuned hyperparameters :(best parameters)  {'alpha': 0.1}\n",
      "accuracy : 0.9851086791107416\n"
     ]
    },
    {
     "data": {
      "image/png": "[encoded data removed]",
      "text/plain": [
       "<Figure size 640x480 with 1 Axes>"
      ]
     },
     "metadata": {},
     "output_type": "display_data"
    }
   ],
   "source": [
    "alphaGrid = {\"alpha\": [i/10.0 for i in range(1, 10)]}\n",
    "results = grid_search(alphaGrid, linear_model.Ridge(), x, y)\n",
    "plotGridResults(results)"
   ]
  },
  {
   "cell_type": "markdown",
   "metadata": {
    "collapsed": false,
    "pycharm": {
     "name": "#%% md\n"
    }
   },
   "source": [
    "#### max_iter param"
   ]
  },
  {
   "cell_type": "code",
   "execution_count": null,
   "metadata": {
    "collapsed": false,
    "pycharm": {
     "name": "#%%\n"
    }
   },
   "outputs": [
    {
     "name": "stdout",
     "output_type": "stream",
     "text": [
      "Fitting 5 folds for each of 5 candidates, totalling 25 fits\n",
      "tuned hyperparameters :(best parameters)  {'max_iter': 10}\n",
      "accuracy : 0.985105696382903\n"
     ]
    },
    {
     "data": {
      "image/png": "[encoded data removed]",
      "text/plain": [
       "<Figure size 640x480 with 1 Axes>"
      ]
     },
     "metadata": {},
     "output_type": "display_data"
    }
   ],
   "source": [
    "iterGrid = {\"max_iter\": np.logspace(1, 5, 5, dtype=int)}\n",
    "results = grid_search(iterGrid, linear_model.Ridge(), x, y)\n",
    "plotGridResults(results)"
   ]
  },
  {
   "cell_type": "markdown",
   "metadata": {
    "collapsed": false,
    "pycharm": {
     "name": "#%% md\n"
    }
   },
   "source": [
    "Comments : alpha and max_iter have no impact on the models"
   ]
  },
  {
   "cell_type": "markdown",
   "metadata": {
    "collapsed": false,
    "pycharm": {
     "name": "#%% md\n"
    }
   },
   "source": [
    "### Best linear regression evaluation"
   ]
  },
  {
   "cell_type": "code",
   "execution_count": null,
   "metadata": {
    "collapsed": false,
    "pycharm": {
     "name": "#%%\n"
    }
   },
   "outputs": [],
   "source": [
    "model = linear_model.Ridge()\n",
    "model_cv_rapport(model, x, y)"
   ]
  },
  {
   "cell_type": "markdown",
   "metadata": {
    "collapsed": false,
    "pycharm": {
     "name": "#%% md\n"
    }
   },
   "source": [
    "## KNN Regression"
   ]
  },
  {
   "cell_type": "code",
   "execution_count": null,
   "metadata": {
    "collapsed": false,
    "pycharm": {
     "name": "#%%\n"
    }
   },
   "outputs": [],
   "source": [
    "model = neighbors.KNeighborsRegressor(\n",
    "    n_neighbors=10,\n",
    "    weights=\"uniform\",\n",
    "    p=2,\n",
    "    metric=\"minkowski\")"
   ]
  },
  {
   "cell_type": "code",
   "execution_count": null,
   "metadata": {
    "collapsed": false,
    "pycharm": {
     "name": "#%%\n"
    }
   },
   "outputs": [
    {
     "data": {
      "text/html": [
       "<style>#sk-container-id-2 {color: black;background-color: white;}#sk-container-id-2 pre{padding: 0;}#sk-container-id-2 div.sk-toggleable {background-color: white;}#sk-container-id-2 label.sk-toggleable__label {cursor: pointer;display: block;width: 100%;margin-bottom: 0;padding: 0.3em;box-sizing: border-box;text-align: center;}#sk-container-id-2 label.sk-toggleable__label-arrow:before {content: \"▸\";float: left;margin-right: 0.25em;color: #696969;}#sk-container-id-2 label.sk-toggleable__label-arrow:hover:before {color: black;}#sk-container-id-2 div.sk-estimator:hover label.sk-toggleable__label-arrow:before {color: black;}#sk-container-id-2 div.sk-toggleable__content {max-height: 0;max-width: 0;overflow: hidden;text-align: left;background-color: #f0f8ff;}#sk-container-id-2 div.sk-toggleable__content pre {margin: 0.2em;color: black;border-radius: 0.25em;background-color: #f0f8ff;}#sk-container-id-2 input.sk-toggleable__control:checked~div.sk-toggleable__content {max-height: 200px;max-width: 100%;overflow: auto;}#sk-container-id-2 input.sk-toggleable__control:checked~label.sk-toggleable__label-arrow:before {content: \"▾\";}#sk-container-id-2 div.sk-estimator input.sk-toggleable__control:checked~label.sk-toggleable__label {background-color: #d4ebff;}#sk-container-id-2 div.sk-label input.sk-toggleable__control:checked~label.sk-toggleable__label {background-color: #d4ebff;}#sk-container-id-2 input.sk-hidden--visually {border: 0;clip: rect(1px 1px 1px 1px);clip: rect(1px, 1px, 1px, 1px);height: 1px;margin: -1px;overflow: hidden;padding: 0;position: absolute;width: 1px;}#sk-container-id-2 div.sk-estimator {font-family: monospace;background-color: #f0f8ff;border: 1px dotted black;border-radius: 0.25em;box-sizing: border-box;margin-bottom: 0.5em;}#sk-container-id-2 div.sk-estimator:hover {background-color: #d4ebff;}#sk-container-id-2 div.sk-parallel-item::after {content: \"\";width: 100%;border-bottom: 1px solid gray;flex-grow: 1;}#sk-container-id-2 div.sk-label:hover label.sk-toggleable__label {background-color: #d4ebff;}#sk-container-id-2 div.sk-serial::before {content: \"\";position: absolute;border-left: 1px solid gray;box-sizing: border-box;top: 0;bottom: 0;left: 50%;z-index: 0;}#sk-container-id-2 div.sk-serial {display: flex;flex-direction: column;align-items: center;background-color: white;padding-right: 0.2em;padding-left: 0.2em;position: relative;}#sk-container-id-2 div.sk-item {position: relative;z-index: 1;}#sk-container-id-2 div.sk-parallel {display: flex;align-items: stretch;justify-content: center;background-color: white;position: relative;}#sk-container-id-2 div.sk-item::before, #sk-container-id-2 div.sk-parallel-item::before {content: \"\";position: absolute;border-left: 1px solid gray;box-sizing: border-box;top: 0;bottom: 0;left: 50%;z-index: -1;}#sk-container-id-2 div.sk-parallel-item {display: flex;flex-direction: column;z-index: 1;position: relative;background-color: white;}#sk-container-id-2 div.sk-parallel-item:first-child::after {align-self: flex-end;width: 50%;}#sk-container-id-2 div.sk-parallel-item:last-child::after {align-self: flex-start;width: 50%;}#sk-container-id-2 div.sk-parallel-item:only-child::after {width: 0;}#sk-container-id-2 div.sk-dashed-wrapped {border: 1px dashed gray;margin: 0 0.4em 0.5em 0.4em;box-sizing: border-box;padding-bottom: 0.4em;background-color: white;}#sk-container-id-2 div.sk-label label {font-family: monospace;font-weight: bold;display: inline-block;line-height: 1.2em;}#sk-container-id-2 div.sk-label-container {text-align: center;}#sk-container-id-2 div.sk-container {/* jupyter's `normalize.less` sets `[hidden] { display: none; }` but bootstrap.min.css set `[hidden] { display: none !important; }` so we also need the `!important` here to be able to override the default hidden behavior on the sphinx rendered scikit-learn.org. See: https://github.com/scikit-learn/scikit-learn/issues/21755 */display: inline-block !important;position: relative;}#sk-container-id-2 div.sk-text-repr-fallback {display: none;}</style><div id=\"sk-container-id-2\" class=\"sk-top-container\"><div class=\"sk-text-repr-fallback\"><pre>KNeighborsRegressor(n_neighbors=10)</pre><b>In a Jupyter environment, please rerun this cell to show the HTML representation or trust the notebook. <br />On GitHub, the HTML representation is unable to render, please try loading this page with nbviewer.org.</b></div><div class=\"sk-container\" hidden><div class=\"sk-item\"><div class=\"sk-estimator sk-toggleable\"><input class=\"sk-toggleable__control sk-hidden--visually\" id=\"sk-estimator-id-4\" type=\"checkbox\" checked><label for=\"sk-estimator-id-4\" class=\"sk-toggleable__label sk-toggleable__label-arrow\">KNeighborsRegressor</label><div class=\"sk-toggleable__content\"><pre>KNeighborsRegressor(n_neighbors=10)</pre></div></div></div></div></div>"
      ],
      "text/plain": [
       "KNeighborsRegressor(n_neighbors=10)"
      ]
     },
     "execution_count": 25,
     "metadata": {},
     "output_type": "execute_result"
    }
   ],
   "source": [
    "model.fit(x_train, y_train)"
   ]
  },
  {
   "cell_type": "code",
   "execution_count": null,
   "metadata": {
    "collapsed": false,
    "pycharm": {
     "name": "#%%\n"
    }
   },
   "outputs": [
    {
     "name": "stdout",
     "output_type": "stream",
     "text": [
      "KNN --------------------------------------\n",
      "r2_score: 0.99653\n",
      "mean squared error: 0.00344\n",
      "root mean squared error: 0.05862\n",
      "mean absolute error: 0.03154\n"
     ]
    },
    {
     "data": {
      "text/plain": [
       "0.99653"
      ]
     },
     "execution_count": 26,
     "metadata": {},
     "output_type": "execute_result"
    }
   ],
   "source": [
    "model_rapport(\"KNN\", model, y_test, x_test)"
   ]
  },
  {
   "cell_type": "markdown",
   "metadata": {
    "collapsed": false,
    "pycharm": {
     "name": "#%% md\n"
    }
   },
   "source": [
    "### Hyperparameters - KNN"
   ]
  },
  {
   "cell_type": "code",
   "execution_count": null,
   "metadata": {
    "collapsed": false,
    "pycharm": {
     "name": "#%%\n"
    }
   },
   "outputs": [
    {
     "name": "stdout",
     "output_type": "stream",
     "text": [
      "Fitting 5 folds for each of 126 candidates, totalling 630 fits\n",
      "[CV 1/5; 1/126] START clf__metric=cityblock, clf__n_neighbors=1, clf__weights=uniform\n",
      "[CV 1/5; 1/126] END clf__metric=cityblock, clf__n_neighbors=1, clf__weights=uniform;, score=0.999 total time=   0.2s\n",
      "[CV 2/5; 1/126] START clf__metric=cityblock, clf__n_neighbors=1, clf__weights=uniform\n",
      "[CV 2/5; 1/126] END clf__metric=cityblock, clf__n_neighbors=1, clf__weights=uniform;, score=0.998 total time=   0.0s\n",
      "[CV 3/5; 1/126] START clf__metric=cityblock, clf__n_neighbors=1, clf__weights=uniform\n",
      "[CV 3/5; 1/126] END clf__metric=cityblock, clf__n_neighbors=1, clf__weights=uniform;, score=0.998 total time=   0.0s\n",
      "[CV 4/5; 1/126] START clf__metric=cityblock, clf__n_neighbors=1, clf__weights=uniform\n",
      "[CV 4/5; 1/126] END clf__metric=cityblock, clf__n_neighbors=1, clf__weights=uniform;, score=0.998 total time=   0.0s\n",
      "[CV 5/5; 1/126] START clf__metric=cityblock, clf__n_neighbors=1, clf__weights=uniform\n",
      "[CV 5/5; 1/126] END clf__metric=cityblock, clf__n_neighbors=1, clf__weights=uniform;, score=0.998 total time=   0.0s\n",
      "[CV 1/5; 2/126] START clf__metric=cityblock, clf__n_neighbors=1, clf__weights=distance\n",
      "[CV 1/5; 2/126] END clf__metric=cityblock, clf__n_neighbors=1, clf__weights=distance;, score=0.999 total time=   0.0s\n",
      "[CV 2/5; 2/126] START clf__metric=cityblock, clf__n_neighbors=1, clf__weights=distance\n",
      "[CV 2/5; 2/126] END clf__metric=cityblock, clf__n_neighbors=1, clf__weights=distance;, score=0.998 total time=   0.0s\n",
      "[CV 3/5; 2/126] START clf__metric=cityblock, clf__n_neighbors=1, clf__weights=distance\n",
      "[CV 3/5; 2/126] END clf__metric=cityblock, clf__n_neighbors=1, clf__weights=distance;, score=0.998 total time=   0.0s\n",
      "[CV 4/5; 2/126] START clf__metric=cityblock, clf__n_neighbors=1, clf__weights=distance\n",
      "[CV 4/5; 2/126] END clf__metric=cityblock, clf__n_neighbors=1, clf__weights=distance;, score=0.998 total time=   0.0s\n",
      "[CV 5/5; 2/126] START clf__metric=cityblock, clf__n_neighbors=1, clf__weights=distance\n",
      "[CV 5/5; 2/126] END clf__metric=cityblock, clf__n_neighbors=1, clf__weights=distance;, score=0.998 total time=   0.0s\n",
      "[CV 1/5; 3/126] START clf__metric=cityblock, clf__n_neighbors=2, clf__weights=uniform\n",
      "[CV 1/5; 3/126] END clf__metric=cityblock, clf__n_neighbors=2, clf__weights=uniform;, score=0.999 total time=   0.0s\n",
      "[CV 2/5; 3/126] START clf__metric=cityblock, clf__n_neighbors=2, clf__weights=uniform\n",
      "[CV 2/5; 3/126] END clf__metric=cityblock, clf__n_neighbors=2, clf__weights=uniform;, score=0.999 total time=   0.0s\n",
      "[CV 3/5; 3/126] START clf__metric=cityblock, clf__n_neighbors=2, clf__weights=uniform\n",
      "[CV 3/5; 3/126] END clf__metric=cityblock, clf__n_neighbors=2, clf__weights=uniform;, score=0.999 total time=   0.0s\n",
      "[CV 4/5; 3/126] START clf__metric=cityblock, clf__n_neighbors=2, clf__weights=uniform\n",
      "[CV 4/5; 3/126] END clf__metric=cityblock, clf__n_neighbors=2, clf__weights=uniform;, score=0.999 total time=   0.0s\n",
      "[CV 5/5; 3/126] START clf__metric=cityblock, clf__n_neighbors=2, clf__weights=uniform\n",
      "[CV 5/5; 3/126] END clf__metric=cityblock, clf__n_neighbors=2, clf__weights=uniform;, score=0.999 total time=   0.0s\n",
      "[CV 1/5; 4/126] START clf__metric=cityblock, clf__n_neighbors=2, clf__weights=distance\n",
      "[CV 1/5; 4/126] END clf__metric=cityblock, clf__n_neighbors=2, clf__weights=distance;, score=0.999 total time=   0.0s\n",
      "[CV 2/5; 4/126] START clf__metric=cityblock, clf__n_neighbors=2, clf__weights=distance\n",
      "[CV 2/5; 4/126] END clf__metric=cityblock, clf__n_neighbors=2, clf__weights=distance;, score=0.999 total time=   0.0s\n",
      "[CV 3/5; 4/126] START clf__metric=cityblock, clf__n_neighbors=2, clf__weights=distance\n",
      "[CV 3/5; 4/126] END clf__metric=cityblock, clf__n_neighbors=2, clf__weights=distance;, score=0.999 total time=   0.0s\n",
      "[CV 4/5; 4/126] START clf__metric=cityblock, clf__n_neighbors=2, clf__weights=distance\n",
      "[CV 4/5; 4/126] END clf__metric=cityblock, clf__n_neighbors=2, clf__weights=distance;, score=0.999 total time=   0.0s\n",
      "[CV 5/5; 4/126] START clf__metric=cityblock, clf__n_neighbors=2, clf__weights=distance\n",
      "[CV 5/5; 4/126] END clf__metric=cityblock, clf__n_neighbors=2, clf__weights=distance;, score=0.999 total time=   0.0s\n",
      "[CV 1/5; 5/126] START clf__metric=cityblock, clf__n_neighbors=3, clf__weights=uniform\n",
      "[CV 1/5; 5/126] END clf__metric=cityblock, clf__n_neighbors=3, clf__weights=uniform;, score=0.999 total time=   0.0s\n",
      "[CV 2/5; 5/126] START clf__metric=cityblock, clf__n_neighbors=3, clf__weights=uniform\n",
      "[CV 2/5; 5/126] END clf__metric=cityblock, clf__n_neighbors=3, clf__weights=uniform;, score=0.999 total time=   0.0s\n",
      "[CV 3/5; 5/126] START clf__metric=cityblock, clf__n_neighbors=3, clf__weights=uniform\n",
      "[CV 3/5; 5/126] END clf__metric=cityblock, clf__n_neighbors=3, clf__weights=uniform;, score=0.999 total time=   0.0s\n",
      "[CV 4/5; 5/126] START clf__metric=cityblock, clf__n_neighbors=3, clf__weights=uniform\n",
      "[CV 4/5; 5/126] END clf__metric=cityblock, clf__n_neighbors=3, clf__weights=uniform;, score=0.999 total time=   0.0s\n",
      "[CV 5/5; 5/126] START clf__metric=cityblock, clf__n_neighbors=3, clf__weights=uniform\n",
      "[CV 5/5; 5/126] END clf__metric=cityblock, clf__n_neighbors=3, clf__weights=uniform;, score=0.999 total time=   0.0s\n",
      "[CV 1/5; 6/126] START clf__metric=cityblock, clf__n_neighbors=3, clf__weights=distance\n",
      "[CV 1/5; 6/126] END clf__metric=cityblock, clf__n_neighbors=3, clf__weights=distance;, score=0.999 total time=   0.0s\n",
      "[CV 2/5; 6/126] START clf__metric=cityblock, clf__n_neighbors=3, clf__weights=distance\n",
      "[CV 2/5; 6/126] END clf__metric=cityblock, clf__n_neighbors=3, clf__weights=distance;, score=0.999 total time=   0.0s\n",
      "[CV 3/5; 6/126] START clf__metric=cityblock, clf__n_neighbors=3, clf__weights=distance\n",
      "[CV 3/5; 6/126] END clf__metric=cityblock, clf__n_neighbors=3, clf__weights=distance;, score=0.999 total time=   0.0s\n",
      "[CV 4/5; 6/126] START clf__metric=cityblock, clf__n_neighbors=3, clf__weights=distance\n",
      "[CV 4/5; 6/126] END clf__metric=cityblock, clf__n_neighbors=3, clf__weights=distance;, score=0.999 total time=   0.0s\n",
      "[CV 5/5; 6/126] START clf__metric=cityblock, clf__n_neighbors=3, clf__weights=distance\n",
      "[CV 5/5; 6/126] END clf__metric=cityblock, clf__n_neighbors=3, clf__weights=distance;, score=0.999 total time=   0.0s\n",
      "[CV 1/5; 7/126] START clf__metric=cityblock, clf__n_neighbors=4, clf__weights=uniform\n",
      "[CV 1/5; 7/126] END clf__metric=cityblock, clf__n_neighbors=4, clf__weights=uniform;, score=0.999 total time=   0.1s\n",
      "[CV 2/5; 7/126] START clf__metric=cityblock, clf__n_neighbors=4, clf__weights=uniform\n",
      "[CV 2/5; 7/126] END clf__metric=cityblock, clf__n_neighbors=4, clf__weights=uniform;, score=0.999 total time=   0.0s\n",
      "[CV 3/5; 7/126] START clf__metric=cityblock, clf__n_neighbors=4, clf__weights=uniform\n",
      "[CV 3/5; 7/126] END clf__metric=cityblock, clf__n_neighbors=4, clf__weights=uniform;, score=0.999 total time=   0.0s\n",
      "[CV 4/5; 7/126] START clf__metric=cityblock, clf__n_neighbors=4, clf__weights=uniform\n",
      "[CV 4/5; 7/126] END clf__metric=cityblock, clf__n_neighbors=4, clf__weights=uniform;, score=0.999 total time=   0.0s\n",
      "[CV 5/5; 7/126] START clf__metric=cityblock, clf__n_neighbors=4, clf__weights=uniform\n",
      "[CV 5/5; 7/126] END clf__metric=cityblock, clf__n_neighbors=4, clf__weights=uniform;, score=0.999 total time=   0.0s\n",
      "[CV 1/5; 8/126] START clf__metric=cityblock, clf__n_neighbors=4, clf__weights=distance\n",
      "[CV 1/5; 8/126] END clf__metric=cityblock, clf__n_neighbors=4, clf__weights=distance;, score=0.999 total time=   0.0s\n",
      "[CV 2/5; 8/126] START clf__metric=cityblock, clf__n_neighbors=4, clf__weights=distance\n",
      "[CV 2/5; 8/126] END clf__metric=cityblock, clf__n_neighbors=4, clf__weights=distance;, score=0.999 total time=   0.0s\n",
      "[CV 3/5; 8/126] START clf__metric=cityblock, clf__n_neighbors=4, clf__weights=distance\n",
      "[CV 3/5; 8/126] END clf__metric=cityblock, clf__n_neighbors=4, clf__weights=distance;, score=0.999 total time=   0.0s\n",
      "[CV 4/5; 8/126] START clf__metric=cityblock, clf__n_neighbors=4, clf__weights=distance\n",
      "[CV 4/5; 8/126] END clf__metric=cityblock, clf__n_neighbors=4, clf__weights=distance;, score=0.999 total time=   0.0s\n",
      "[CV 5/5; 8/126] START clf__metric=cityblock, clf__n_neighbors=4, clf__weights=distance\n",
      "[CV 5/5; 8/126] END clf__metric=cityblock, clf__n_neighbors=4, clf__weights=distance;, score=0.999 total time=   0.1s\n",
      "[CV 1/5; 9/126] START clf__metric=cityblock, clf__n_neighbors=5, clf__weights=uniform\n",
      "[CV 1/5; 9/126] END clf__metric=cityblock, clf__n_neighbors=5, clf__weights=uniform;, score=0.999 total time=   0.0s\n",
      "[CV 2/5; 9/126] START clf__metric=cityblock, clf__n_neighbors=5, clf__weights=uniform\n",
      "[CV 2/5; 9/126] END clf__metric=cityblock, clf__n_neighbors=5, clf__weights=uniform;, score=0.999 total time=   0.0s\n",
      "[CV 3/5; 9/126] START clf__metric=cityblock, clf__n_neighbors=5, clf__weights=uniform\n",
      "[CV 3/5; 9/126] END clf__metric=cityblock, clf__n_neighbors=5, clf__weights=uniform;, score=0.999 total time=   0.1s\n",
      "[CV 4/5; 9/126] START clf__metric=cityblock, clf__n_neighbors=5, clf__weights=uniform\n",
      "[CV 4/5; 9/126] END clf__metric=cityblock, clf__n_neighbors=5, clf__weights=uniform;, score=0.999 total time=   0.1s\n",
      "[CV 5/5; 9/126] START clf__metric=cityblock, clf__n_neighbors=5, clf__weights=uniform\n",
      "[CV 5/5; 9/126] END clf__metric=cityblock, clf__n_neighbors=5, clf__weights=uniform;, score=0.999 total time=   0.1s\n",
      "[CV 1/5; 10/126] START clf__metric=cityblock, clf__n_neighbors=5, clf__weights=distance\n",
      "[CV 1/5; 10/126] END clf__metric=cityblock, clf__n_neighbors=5, clf__weights=distance;, score=0.999 total time=   0.0s\n",
      "[CV 2/5; 10/126] START clf__metric=cityblock, clf__n_neighbors=5, clf__weights=distance\n",
      "[CV 2/5; 10/126] END clf__metric=cityblock, clf__n_neighbors=5, clf__weights=distance;, score=0.999 total time=   0.1s\n",
      "[CV 3/5; 10/126] START clf__metric=cityblock, clf__n_neighbors=5, clf__weights=distance\n",
      "[CV 3/5; 10/126] END clf__metric=cityblock, clf__n_neighbors=5, clf__weights=distance;, score=0.999 total time=   0.0s\n",
      "[CV 4/5; 10/126] START clf__metric=cityblock, clf__n_neighbors=5, clf__weights=distance\n",
      "[CV 4/5; 10/126] END clf__metric=cityblock, clf__n_neighbors=5, clf__weights=distance;, score=0.999 total time=   0.0s\n",
      "[CV 5/5; 10/126] START clf__metric=cityblock, clf__n_neighbors=5, clf__weights=distance\n",
      "[CV 5/5; 10/126] END clf__metric=cityblock, clf__n_neighbors=5, clf__weights=distance;, score=0.999 total time=   0.0s\n",
      "[CV 1/5; 11/126] START clf__metric=cityblock, clf__n_neighbors=6, clf__weights=uniform\n",
      "[CV 1/5; 11/126] END clf__metric=cityblock, clf__n_neighbors=6, clf__weights=uniform;, score=0.999 total time=   0.0s\n",
      "[CV 2/5; 11/126] START clf__metric=cityblock, clf__n_neighbors=6, clf__weights=uniform\n",
      "[CV 2/5; 11/126] END clf__metric=cityblock, clf__n_neighbors=6, clf__weights=uniform;, score=0.998 total time=   0.1s\n",
      "[CV 3/5; 11/126] START clf__metric=cityblock, clf__n_neighbors=6, clf__weights=uniform\n",
      "[CV 3/5; 11/126] END clf__metric=cityblock, clf__n_neighbors=6, clf__weights=uniform;, score=0.999 total time=   0.0s\n",
      "[CV 4/5; 11/126] START clf__metric=cityblock, clf__n_neighbors=6, clf__weights=uniform\n",
      "[CV 4/5; 11/126] END clf__metric=cityblock, clf__n_neighbors=6, clf__weights=uniform;, score=0.999 total time=   0.0s\n",
      "[CV 5/5; 11/126] START clf__metric=cityblock, clf__n_neighbors=6, clf__weights=uniform\n",
      "[CV 5/5; 11/126] END clf__metric=cityblock, clf__n_neighbors=6, clf__weights=uniform;, score=0.999 total time=   0.0s\n",
      "[CV 1/5; 12/126] START clf__metric=cityblock, clf__n_neighbors=6, clf__weights=distance\n",
      "[CV 1/5; 12/126] END clf__metric=cityblock, clf__n_neighbors=6, clf__weights=distance;, score=0.999 total time=   0.1s\n",
      "[CV 2/5; 12/126] START clf__metric=cityblock, clf__n_neighbors=6, clf__weights=distance\n",
      "[CV 2/5; 12/126] END clf__metric=cityblock, clf__n_neighbors=6, clf__weights=distance;, score=0.999 total time=   0.0s\n",
      "[CV 3/5; 12/126] START clf__metric=cityblock, clf__n_neighbors=6, clf__weights=distance\n",
      "[CV 3/5; 12/126] END clf__metric=cityblock, clf__n_neighbors=6, clf__weights=distance;, score=0.999 total time=   0.0s\n",
      "[CV 4/5; 12/126] START clf__metric=cityblock, clf__n_neighbors=6, clf__weights=distance\n",
      "[CV 4/5; 12/126] END clf__metric=cityblock, clf__n_neighbors=6, clf__weights=distance;, score=0.999 total time=   0.0s\n",
      "[CV 5/5; 12/126] START clf__metric=cityblock, clf__n_neighbors=6, clf__weights=distance\n",
      "[CV 5/5; 12/126] END clf__metric=cityblock, clf__n_neighbors=6, clf__weights=distance;, score=0.999 total time=   0.0s\n",
      "[CV 1/5; 13/126] START clf__metric=cityblock, clf__n_neighbors=7, clf__weights=uniform\n",
      "[CV 1/5; 13/126] END clf__metric=cityblock, clf__n_neighbors=7, clf__weights=uniform;, score=0.999 total time=   0.0s\n",
      "[CV 2/5; 13/126] START clf__metric=cityblock, clf__n_neighbors=7, clf__weights=uniform\n",
      "[CV 2/5; 13/126] END clf__metric=cityblock, clf__n_neighbors=7, clf__weights=uniform;, score=0.998 total time=   0.0s\n",
      "[CV 3/5; 13/126] START clf__metric=cityblock, clf__n_neighbors=7, clf__weights=uniform\n",
      "[CV 3/5; 13/126] END clf__metric=cityblock, clf__n_neighbors=7, clf__weights=uniform;, score=0.999 total time=   0.0s\n",
      "[CV 4/5; 13/126] START clf__metric=cityblock, clf__n_neighbors=7, clf__weights=uniform\n",
      "[CV 4/5; 13/126] END clf__metric=cityblock, clf__n_neighbors=7, clf__weights=uniform;, score=0.999 total time=   0.0s\n",
      "[CV 5/5; 13/126] START clf__metric=cityblock, clf__n_neighbors=7, clf__weights=uniform\n",
      "[CV 5/5; 13/126] END clf__metric=cityblock, clf__n_neighbors=7, clf__weights=uniform;, score=0.999 total time=   0.0s\n",
      "[CV 1/5; 14/126] START clf__metric=cityblock, clf__n_neighbors=7, clf__weights=distance\n",
      "[CV 1/5; 14/126] END clf__metric=cityblock, clf__n_neighbors=7, clf__weights=distance;, score=0.999 total time=   0.1s\n",
      "[CV 2/5; 14/126] START clf__metric=cityblock, clf__n_neighbors=7, clf__weights=distance\n",
      "[CV 2/5; 14/126] END clf__metric=cityblock, clf__n_neighbors=7, clf__weights=distance;, score=0.999 total time=   0.0s\n",
      "[CV 3/5; 14/126] START clf__metric=cityblock, clf__n_neighbors=7, clf__weights=distance\n",
      "[CV 3/5; 14/126] END clf__metric=cityblock, clf__n_neighbors=7, clf__weights=distance;, score=0.999 total time=   0.1s\n",
      "[CV 4/5; 14/126] START clf__metric=cityblock, clf__n_neighbors=7, clf__weights=distance\n",
      "[CV 4/5; 14/126] END clf__metric=cityblock, clf__n_neighbors=7, clf__weights=distance;, score=0.999 total time=   0.0s\n",
      "[CV 5/5; 14/126] START clf__metric=cityblock, clf__n_neighbors=7, clf__weights=distance\n",
      "[CV 5/5; 14/126] END clf__metric=cityblock, clf__n_neighbors=7, clf__weights=distance;, score=0.999 total time=   0.0s\n",
      "[CV 1/5; 15/126] START clf__metric=cityblock, clf__n_neighbors=8, clf__weights=uniform\n",
      "[CV 1/5; 15/126] END clf__metric=cityblock, clf__n_neighbors=8, clf__weights=uniform;, score=0.999 total time=   0.1s\n",
      "[CV 2/5; 15/126] START clf__metric=cityblock, clf__n_neighbors=8, clf__weights=uniform\n",
      "[CV 2/5; 15/126] END clf__metric=cityblock, clf__n_neighbors=8, clf__weights=uniform;, score=0.998 total time=   0.1s\n",
      "[CV 3/5; 15/126] START clf__metric=cityblock, clf__n_neighbors=8, clf__weights=uniform\n",
      "[CV 3/5; 15/126] END clf__metric=cityblock, clf__n_neighbors=8, clf__weights=uniform;, score=0.998 total time=   0.0s\n",
      "[CV 4/5; 15/126] START clf__metric=cityblock, clf__n_neighbors=8, clf__weights=uniform\n",
      "[CV 4/5; 15/126] END clf__metric=cityblock, clf__n_neighbors=8, clf__weights=uniform;, score=0.998 total time=   0.1s\n",
      "[CV 5/5; 15/126] START clf__metric=cityblock, clf__n_neighbors=8, clf__weights=uniform\n",
      "[CV 5/5; 15/126] END clf__metric=cityblock, clf__n_neighbors=8, clf__weights=uniform;, score=0.998 total time=   0.0s\n",
      "[CV 1/5; 16/126] START clf__metric=cityblock, clf__n_neighbors=8, clf__weights=distance\n",
      "[CV 1/5; 16/126] END clf__metric=cityblock, clf__n_neighbors=8, clf__weights=distance;, score=0.999 total time=   0.0s\n",
      "[CV 2/5; 16/126] START clf__metric=cityblock, clf__n_neighbors=8, clf__weights=distance\n",
      "[CV 2/5; 16/126] END clf__metric=cityblock, clf__n_neighbors=8, clf__weights=distance;, score=0.998 total time=   0.0s\n",
      "[CV 3/5; 16/126] START clf__metric=cityblock, clf__n_neighbors=8, clf__weights=distance\n",
      "[CV 3/5; 16/126] END clf__metric=cityblock, clf__n_neighbors=8, clf__weights=distance;, score=0.999 total time=   0.1s\n",
      "[CV 4/5; 16/126] START clf__metric=cityblock, clf__n_neighbors=8, clf__weights=distance\n",
      "[CV 4/5; 16/126] END clf__metric=cityblock, clf__n_neighbors=8, clf__weights=distance;, score=0.999 total time=   0.0s\n",
      "[CV 5/5; 16/126] START clf__metric=cityblock, clf__n_neighbors=8, clf__weights=distance\n",
      "[CV 5/5; 16/126] END clf__metric=cityblock, clf__n_neighbors=8, clf__weights=distance;, score=0.999 total time=   0.0s\n",
      "[CV 1/5; 17/126] START clf__metric=cityblock, clf__n_neighbors=9, clf__weights=uniform\n",
      "[CV 1/5; 17/126] END clf__metric=cityblock, clf__n_neighbors=9, clf__weights=uniform;, score=0.999 total time=   0.0s\n",
      "[CV 2/5; 17/126] START clf__metric=cityblock, clf__n_neighbors=9, clf__weights=uniform\n",
      "[CV 2/5; 17/126] END clf__metric=cityblock, clf__n_neighbors=9, clf__weights=uniform;, score=0.998 total time=   0.1s\n",
      "[CV 3/5; 17/126] START clf__metric=cityblock, clf__n_neighbors=9, clf__weights=uniform\n",
      "[CV 3/5; 17/126] END clf__metric=cityblock, clf__n_neighbors=9, clf__weights=uniform;, score=0.998 total time=   0.0s\n",
      "[CV 4/5; 17/126] START clf__metric=cityblock, clf__n_neighbors=9, clf__weights=uniform\n",
      "[CV 4/5; 17/126] END clf__metric=cityblock, clf__n_neighbors=9, clf__weights=uniform;, score=0.998 total time=   0.0s\n",
      "[CV 5/5; 17/126] START clf__metric=cityblock, clf__n_neighbors=9, clf__weights=uniform\n",
      "[CV 5/5; 17/126] END clf__metric=cityblock, clf__n_neighbors=9, clf__weights=uniform;, score=0.998 total time=   0.0s\n",
      "[CV 1/5; 18/126] START clf__metric=cityblock, clf__n_neighbors=9, clf__weights=distance\n",
      "[CV 1/5; 18/126] END clf__metric=cityblock, clf__n_neighbors=9, clf__weights=distance;, score=0.999 total time=   0.0s\n",
      "[CV 2/5; 18/126] START clf__metric=cityblock, clf__n_neighbors=9, clf__weights=distance\n",
      "[CV 2/5; 18/126] END clf__metric=cityblock, clf__n_neighbors=9, clf__weights=distance;, score=0.998 total time=   0.0s\n",
      "[CV 3/5; 18/126] START clf__metric=cityblock, clf__n_neighbors=9, clf__weights=distance\n",
      "[CV 3/5; 18/126] END clf__metric=cityblock, clf__n_neighbors=9, clf__weights=distance;, score=0.999 total time=   0.0s\n",
      "[CV 4/5; 18/126] START clf__metric=cityblock, clf__n_neighbors=9, clf__weights=distance\n",
      "[CV 4/5; 18/126] END clf__metric=cityblock, clf__n_neighbors=9, clf__weights=distance;, score=0.999 total time=   0.0s\n",
      "[CV 5/5; 18/126] START clf__metric=cityblock, clf__n_neighbors=9, clf__weights=distance\n",
      "[CV 5/5; 18/126] END clf__metric=cityblock, clf__n_neighbors=9, clf__weights=distance;, score=0.999 total time=   0.0s\n",
      "[CV 1/5; 19/126] START clf__metric=cosine, clf__n_neighbors=1, clf__weights=uniform\n",
      "[CV 1/5; 19/126] END clf__metric=cosine, clf__n_neighbors=1, clf__weights=uniform;, score=0.997 total time=   0.1s\n",
      "[CV 2/5; 19/126] START clf__metric=cosine, clf__n_neighbors=1, clf__weights=uniform\n",
      "[CV 2/5; 19/126] END clf__metric=cosine, clf__n_neighbors=1, clf__weights=uniform;, score=0.996 total time=   0.5s\n",
      "[CV 3/5; 19/126] START clf__metric=cosine, clf__n_neighbors=1, clf__weights=uniform\n",
      "[CV 3/5; 19/126] END clf__metric=cosine, clf__n_neighbors=1, clf__weights=uniform;, score=0.997 total time=   0.1s\n",
      "[CV 4/5; 19/126] START clf__metric=cosine, clf__n_neighbors=1, clf__weights=uniform\n",
      "[CV 4/5; 19/126] END clf__metric=cosine, clf__n_neighbors=1, clf__weights=uniform;, score=0.997 total time=   0.1s\n",
      "[CV 5/5; 19/126] START clf__metric=cosine, clf__n_neighbors=1, clf__weights=uniform\n",
      "[CV 5/5; 19/126] END clf__metric=cosine, clf__n_neighbors=1, clf__weights=uniform;, score=0.996 total time=   0.1s\n",
      "[CV 1/5; 20/126] START clf__metric=cosine, clf__n_neighbors=1, clf__weights=distance\n",
      "[CV 1/5; 20/126] END clf__metric=cosine, clf__n_neighbors=1, clf__weights=distance;, score=0.997 total time=   0.2s\n",
      "[CV 2/5; 20/126] START clf__metric=cosine, clf__n_neighbors=1, clf__weights=distance\n",
      "[CV 2/5; 20/126] END clf__metric=cosine, clf__n_neighbors=1, clf__weights=distance;, score=0.996 total time=   0.1s\n",
      "[CV 3/5; 20/126] START clf__metric=cosine, clf__n_neighbors=1, clf__weights=distance\n",
      "[CV 3/5; 20/126] END clf__metric=cosine, clf__n_neighbors=1, clf__weights=distance;, score=0.997 total time=   0.1s\n",
      "[CV 4/5; 20/126] START clf__metric=cosine, clf__n_neighbors=1, clf__weights=distance\n",
      "[CV 4/5; 20/126] END clf__metric=cosine, clf__n_neighbors=1, clf__weights=distance;, score=0.997 total time=   0.2s\n",
      "[CV 5/5; 20/126] START clf__metric=cosine, clf__n_neighbors=1, clf__weights=distance\n",
      "[CV 5/5; 20/126] END clf__metric=cosine, clf__n_neighbors=1, clf__weights=distance;, score=0.996 total time=   0.1s\n",
      "[CV 1/5; 21/126] START clf__metric=cosine, clf__n_neighbors=2, clf__weights=uniform\n",
      "[CV 1/5; 21/126] END clf__metric=cosine, clf__n_neighbors=2, clf__weights=uniform;, score=0.997 total time=   0.1s\n",
      "[CV 2/5; 21/126] START clf__metric=cosine, clf__n_neighbors=2, clf__weights=uniform\n",
      "[CV 2/5; 21/126] END clf__metric=cosine, clf__n_neighbors=2, clf__weights=uniform;, score=0.997 total time=   0.2s\n",
      "[CV 3/5; 21/126] START clf__metric=cosine, clf__n_neighbors=2, clf__weights=uniform\n",
      "[CV 3/5; 21/126] END clf__metric=cosine, clf__n_neighbors=2, clf__weights=uniform;, score=0.997 total time=   0.1s\n",
      "[CV 4/5; 21/126] START clf__metric=cosine, clf__n_neighbors=2, clf__weights=uniform\n",
      "[CV 4/5; 21/126] END clf__metric=cosine, clf__n_neighbors=2, clf__weights=uniform;, score=0.997 total time=   0.2s\n",
      "[CV 5/5; 21/126] START clf__metric=cosine, clf__n_neighbors=2, clf__weights=uniform\n",
      "[CV 5/5; 21/126] END clf__metric=cosine, clf__n_neighbors=2, clf__weights=uniform;, score=0.997 total time=   0.1s\n",
      "[CV 1/5; 22/126] START clf__metric=cosine, clf__n_neighbors=2, clf__weights=distance\n",
      "[CV 1/5; 22/126] END clf__metric=cosine, clf__n_neighbors=2, clf__weights=distance;, score=0.998 total time=   0.1s\n",
      "[CV 2/5; 22/126] START clf__metric=cosine, clf__n_neighbors=2, clf__weights=distance\n",
      "[CV 2/5; 22/126] END clf__metric=cosine, clf__n_neighbors=2, clf__weights=distance;, score=0.997 total time=   0.1s\n",
      "[CV 3/5; 22/126] START clf__metric=cosine, clf__n_neighbors=2, clf__weights=distance\n",
      "[CV 3/5; 22/126] END clf__metric=cosine, clf__n_neighbors=2, clf__weights=distance;, score=0.997 total time=   0.1s\n",
      "[CV 4/5; 22/126] START clf__metric=cosine, clf__n_neighbors=2, clf__weights=distance\n",
      "[CV 4/5; 22/126] END clf__metric=cosine, clf__n_neighbors=2, clf__weights=distance;, score=0.997 total time=   0.1s\n",
      "[CV 5/5; 22/126] START clf__metric=cosine, clf__n_neighbors=2, clf__weights=distance\n",
      "[CV 5/5; 22/126] END clf__metric=cosine, clf__n_neighbors=2, clf__weights=distance;, score=0.997 total time=   0.1s\n",
      "[CV 1/5; 23/126] START clf__metric=cosine, clf__n_neighbors=3, clf__weights=uniform\n",
      "[CV 1/5; 23/126] END clf__metric=cosine, clf__n_neighbors=3, clf__weights=uniform;, score=0.997 total time=   0.2s\n",
      "[CV 2/5; 23/126] START clf__metric=cosine, clf__n_neighbors=3, clf__weights=uniform\n",
      "[CV 2/5; 23/126] END clf__metric=cosine, clf__n_neighbors=3, clf__weights=uniform;, score=0.997 total time=   0.1s\n",
      "[CV 3/5; 23/126] START clf__metric=cosine, clf__n_neighbors=3, clf__weights=uniform\n",
      "[CV 3/5; 23/126] END clf__metric=cosine, clf__n_neighbors=3, clf__weights=uniform;, score=0.997 total time=   0.2s\n",
      "[CV 4/5; 23/126] START clf__metric=cosine, clf__n_neighbors=3, clf__weights=uniform\n",
      "[CV 4/5; 23/126] END clf__metric=cosine, clf__n_neighbors=3, clf__weights=uniform;, score=0.997 total time=   0.2s\n",
      "[CV 5/5; 23/126] START clf__metric=cosine, clf__n_neighbors=3, clf__weights=uniform\n",
      "[CV 5/5; 23/126] END clf__metric=cosine, clf__n_neighbors=3, clf__weights=uniform;, score=0.997 total time=   0.1s\n",
      "[CV 1/5; 24/126] START clf__metric=cosine, clf__n_neighbors=3, clf__weights=distance\n",
      "[CV 1/5; 24/126] END clf__metric=cosine, clf__n_neighbors=3, clf__weights=distance;, score=0.998 total time=   0.1s\n",
      "[CV 2/5; 24/126] START clf__metric=cosine, clf__n_neighbors=3, clf__weights=distance\n",
      "[CV 2/5; 24/126] END clf__metric=cosine, clf__n_neighbors=3, clf__weights=distance;, score=0.997 total time=   0.1s\n",
      "[CV 3/5; 24/126] START clf__metric=cosine, clf__n_neighbors=3, clf__weights=distance\n",
      "[CV 3/5; 24/126] END clf__metric=cosine, clf__n_neighbors=3, clf__weights=distance;, score=0.998 total time=   0.1s\n",
      "[CV 4/5; 24/126] START clf__metric=cosine, clf__n_neighbors=3, clf__weights=distance\n",
      "[CV 4/5; 24/126] END clf__metric=cosine, clf__n_neighbors=3, clf__weights=distance;, score=0.997 total time=   0.2s\n",
      "[CV 5/5; 24/126] START clf__metric=cosine, clf__n_neighbors=3, clf__weights=distance\n",
      "[CV 5/5; 24/126] END clf__metric=cosine, clf__n_neighbors=3, clf__weights=distance;, score=0.997 total time=   0.2s\n",
      "[CV 1/5; 25/126] START clf__metric=cosine, clf__n_neighbors=4, clf__weights=uniform\n",
      "[CV 1/5; 25/126] END clf__metric=cosine, clf__n_neighbors=4, clf__weights=uniform;, score=0.997 total time=   0.4s\n",
      "[CV 2/5; 25/126] START clf__metric=cosine, clf__n_neighbors=4, clf__weights=uniform\n",
      "[CV 2/5; 25/126] END clf__metric=cosine, clf__n_neighbors=4, clf__weights=uniform;, score=0.996 total time=   0.5s\n",
      "[CV 3/5; 25/126] START clf__metric=cosine, clf__n_neighbors=4, clf__weights=uniform\n",
      "[CV 3/5; 25/126] END clf__metric=cosine, clf__n_neighbors=4, clf__weights=uniform;, score=0.997 total time=   0.4s\n",
      "[CV 4/5; 25/126] START clf__metric=cosine, clf__n_neighbors=4, clf__weights=uniform\n",
      "[CV 4/5; 25/126] END clf__metric=cosine, clf__n_neighbors=4, clf__weights=uniform;, score=0.997 total time=   0.3s\n",
      "[CV 5/5; 25/126] START clf__metric=cosine, clf__n_neighbors=4, clf__weights=uniform\n",
      "[CV 5/5; 25/126] END clf__metric=cosine, clf__n_neighbors=4, clf__weights=uniform;, score=0.996 total time=   0.4s\n",
      "[CV 1/5; 26/126] START clf__metric=cosine, clf__n_neighbors=4, clf__weights=distance\n",
      "[CV 1/5; 26/126] END clf__metric=cosine, clf__n_neighbors=4, clf__weights=distance;, score=0.997 total time=   0.3s\n",
      "[CV 2/5; 26/126] START clf__metric=cosine, clf__n_neighbors=4, clf__weights=distance\n",
      "[CV 2/5; 26/126] END clf__metric=cosine, clf__n_neighbors=4, clf__weights=distance;, score=0.997 total time=   0.2s\n",
      "[CV 3/5; 26/126] START clf__metric=cosine, clf__n_neighbors=4, clf__weights=distance\n",
      "[CV 3/5; 26/126] END clf__metric=cosine, clf__n_neighbors=4, clf__weights=distance;, score=0.998 total time=   0.3s\n",
      "[CV 4/5; 26/126] START clf__metric=cosine, clf__n_neighbors=4, clf__weights=distance\n",
      "[CV 4/5; 26/126] END clf__metric=cosine, clf__n_neighbors=4, clf__weights=distance;, score=0.997 total time=   0.3s\n",
      "[CV 5/5; 26/126] START clf__metric=cosine, clf__n_neighbors=4, clf__weights=distance\n",
      "[CV 5/5; 26/126] END clf__metric=cosine, clf__n_neighbors=4, clf__weights=distance;, score=0.997 total time=   0.3s\n",
      "[CV 1/5; 27/126] START clf__metric=cosine, clf__n_neighbors=5, clf__weights=uniform\n",
      "[CV 1/5; 27/126] END clf__metric=cosine, clf__n_neighbors=5, clf__weights=uniform;, score=0.997 total time=   0.4s\n",
      "[CV 2/5; 27/126] START clf__metric=cosine, clf__n_neighbors=5, clf__weights=uniform\n",
      "[CV 2/5; 27/126] END clf__metric=cosine, clf__n_neighbors=5, clf__weights=uniform;, score=0.996 total time=   0.3s\n",
      "[CV 3/5; 27/126] START clf__metric=cosine, clf__n_neighbors=5, clf__weights=uniform\n",
      "[CV 3/5; 27/126] END clf__metric=cosine, clf__n_neighbors=5, clf__weights=uniform;, score=0.997 total time=   0.3s\n",
      "[CV 4/5; 27/126] START clf__metric=cosine, clf__n_neighbors=5, clf__weights=uniform\n",
      "[CV 4/5; 27/126] END clf__metric=cosine, clf__n_neighbors=5, clf__weights=uniform;, score=0.997 total time=   0.3s\n",
      "[CV 5/5; 27/126] START clf__metric=cosine, clf__n_neighbors=5, clf__weights=uniform\n",
      "[CV 5/5; 27/126] END clf__metric=cosine, clf__n_neighbors=5, clf__weights=uniform;, score=0.996 total time=   0.3s\n",
      "[CV 1/5; 28/126] START clf__metric=cosine, clf__n_neighbors=5, clf__weights=distance\n",
      "[CV 1/5; 28/126] END clf__metric=cosine, clf__n_neighbors=5, clf__weights=distance;, score=0.998 total time=   0.3s\n",
      "[CV 2/5; 28/126] START clf__metric=cosine, clf__n_neighbors=5, clf__weights=distance\n",
      "[CV 2/5; 28/126] END clf__metric=cosine, clf__n_neighbors=5, clf__weights=distance;, score=0.997 total time=   0.3s\n",
      "[CV 3/5; 28/126] START clf__metric=cosine, clf__n_neighbors=5, clf__weights=distance\n",
      "[CV 3/5; 28/126] END clf__metric=cosine, clf__n_neighbors=5, clf__weights=distance;, score=0.998 total time=   0.3s\n",
      "[CV 4/5; 28/126] START clf__metric=cosine, clf__n_neighbors=5, clf__weights=distance\n",
      "[CV 4/5; 28/126] END clf__metric=cosine, clf__n_neighbors=5, clf__weights=distance;, score=0.997 total time=   0.4s\n",
      "[CV 5/5; 28/126] START clf__metric=cosine, clf__n_neighbors=5, clf__weights=distance\n",
      "[CV 5/5; 28/126] END clf__metric=cosine, clf__n_neighbors=5, clf__weights=distance;, score=0.997 total time=   0.3s\n",
      "[CV 1/5; 29/126] START clf__metric=cosine, clf__n_neighbors=6, clf__weights=uniform\n",
      "[CV 1/5; 29/126] END clf__metric=cosine, clf__n_neighbors=6, clf__weights=uniform;, score=0.997 total time=   0.3s\n",
      "[CV 2/5; 29/126] START clf__metric=cosine, clf__n_neighbors=6, clf__weights=uniform\n",
      "[CV 2/5; 29/126] END clf__metric=cosine, clf__n_neighbors=6, clf__weights=uniform;, score=0.996 total time=   0.3s\n",
      "[CV 3/5; 29/126] START clf__metric=cosine, clf__n_neighbors=6, clf__weights=uniform\n",
      "[CV 3/5; 29/126] END clf__metric=cosine, clf__n_neighbors=6, clf__weights=uniform;, score=0.997 total time=   0.3s\n",
      "[CV 4/5; 29/126] START clf__metric=cosine, clf__n_neighbors=6, clf__weights=uniform\n",
      "[CV 4/5; 29/126] END clf__metric=cosine, clf__n_neighbors=6, clf__weights=uniform;, score=0.997 total time=   0.3s\n",
      "[CV 5/5; 29/126] START clf__metric=cosine, clf__n_neighbors=6, clf__weights=uniform\n",
      "[CV 5/5; 29/126] END clf__metric=cosine, clf__n_neighbors=6, clf__weights=uniform;, score=0.996 total time=   0.3s\n",
      "[CV 1/5; 30/126] START clf__metric=cosine, clf__n_neighbors=6, clf__weights=distance\n",
      "[CV 1/5; 30/126] END clf__metric=cosine, clf__n_neighbors=6, clf__weights=distance;, score=0.997 total time=   0.3s\n",
      "[CV 2/5; 30/126] START clf__metric=cosine, clf__n_neighbors=6, clf__weights=distance\n",
      "[CV 2/5; 30/126] END clf__metric=cosine, clf__n_neighbors=6, clf__weights=distance;, score=0.997 total time=   0.3s\n",
      "[CV 3/5; 30/126] START clf__metric=cosine, clf__n_neighbors=6, clf__weights=distance\n",
      "[CV 3/5; 30/126] END clf__metric=cosine, clf__n_neighbors=6, clf__weights=distance;, score=0.997 total time=   0.3s\n",
      "[CV 4/5; 30/126] START clf__metric=cosine, clf__n_neighbors=6, clf__weights=distance\n",
      "[CV 4/5; 30/126] END clf__metric=cosine, clf__n_neighbors=6, clf__weights=distance;, score=0.997 total time=   0.3s\n",
      "[CV 5/5; 30/126] START clf__metric=cosine, clf__n_neighbors=6, clf__weights=distance\n",
      "[CV 5/5; 30/126] END clf__metric=cosine, clf__n_neighbors=6, clf__weights=distance;, score=0.997 total time=   0.3s\n",
      "[CV 1/5; 31/126] START clf__metric=cosine, clf__n_neighbors=7, clf__weights=uniform\n",
      "[CV 1/5; 31/126] END clf__metric=cosine, clf__n_neighbors=7, clf__weights=uniform;, score=0.996 total time=   0.3s\n",
      "[CV 2/5; 31/126] START clf__metric=cosine, clf__n_neighbors=7, clf__weights=uniform\n",
      "[CV 2/5; 31/126] END clf__metric=cosine, clf__n_neighbors=7, clf__weights=uniform;, score=0.996 total time=   0.4s\n",
      "[CV 3/5; 31/126] START clf__metric=cosine, clf__n_neighbors=7, clf__weights=uniform\n",
      "[CV 3/5; 31/126] END clf__metric=cosine, clf__n_neighbors=7, clf__weights=uniform;, score=0.997 total time=   0.4s\n",
      "[CV 4/5; 31/126] START clf__metric=cosine, clf__n_neighbors=7, clf__weights=uniform\n",
      "[CV 4/5; 31/126] END clf__metric=cosine, clf__n_neighbors=7, clf__weights=uniform;, score=0.996 total time=   0.4s\n",
      "[CV 5/5; 31/126] START clf__metric=cosine, clf__n_neighbors=7, clf__weights=uniform\n",
      "[CV 5/5; 31/126] END clf__metric=cosine, clf__n_neighbors=7, clf__weights=uniform;, score=0.995 total time=   0.6s\n",
      "[CV 1/5; 32/126] START clf__metric=cosine, clf__n_neighbors=7, clf__weights=distance\n",
      "[CV 1/5; 32/126] END clf__metric=cosine, clf__n_neighbors=7, clf__weights=distance;, score=0.997 total time=   0.5s\n",
      "[CV 2/5; 32/126] START clf__metric=cosine, clf__n_neighbors=7, clf__weights=distance\n",
      "[CV 2/5; 32/126] END clf__metric=cosine, clf__n_neighbors=7, clf__weights=distance;, score=0.997 total time=   0.5s\n",
      "[CV 3/5; 32/126] START clf__metric=cosine, clf__n_neighbors=7, clf__weights=distance\n",
      "[CV 3/5; 32/126] END clf__metric=cosine, clf__n_neighbors=7, clf__weights=distance;, score=0.997 total time=   0.3s\n",
      "[CV 4/5; 32/126] START clf__metric=cosine, clf__n_neighbors=7, clf__weights=distance\n",
      "[CV 4/5; 32/126] END clf__metric=cosine, clf__n_neighbors=7, clf__weights=distance;, score=0.997 total time=   0.4s\n",
      "[CV 5/5; 32/126] START clf__metric=cosine, clf__n_neighbors=7, clf__weights=distance\n",
      "[CV 5/5; 32/126] END clf__metric=cosine, clf__n_neighbors=7, clf__weights=distance;, score=0.996 total time=   0.3s\n",
      "[CV 1/5; 33/126] START clf__metric=cosine, clf__n_neighbors=8, clf__weights=uniform\n",
      "[CV 1/5; 33/126] END clf__metric=cosine, clf__n_neighbors=8, clf__weights=uniform;, score=0.996 total time=   0.3s\n",
      "[CV 2/5; 33/126] START clf__metric=cosine, clf__n_neighbors=8, clf__weights=uniform\n",
      "[CV 2/5; 33/126] END clf__metric=cosine, clf__n_neighbors=8, clf__weights=uniform;, score=0.995 total time=   0.3s\n",
      "[CV 3/5; 33/126] START clf__metric=cosine, clf__n_neighbors=8, clf__weights=uniform\n",
      "[CV 3/5; 33/126] END clf__metric=cosine, clf__n_neighbors=8, clf__weights=uniform;, score=0.996 total time=   0.2s\n",
      "[CV 4/5; 33/126] START clf__metric=cosine, clf__n_neighbors=8, clf__weights=uniform\n",
      "[CV 4/5; 33/126] END clf__metric=cosine, clf__n_neighbors=8, clf__weights=uniform;, score=0.996 total time=   0.2s\n",
      "[CV 5/5; 33/126] START clf__metric=cosine, clf__n_neighbors=8, clf__weights=uniform\n",
      "[CV 5/5; 33/126] END clf__metric=cosine, clf__n_neighbors=8, clf__weights=uniform;, score=0.995 total time=   0.3s\n",
      "[CV 1/5; 34/126] START clf__metric=cosine, clf__n_neighbors=8, clf__weights=distance\n",
      "[CV 1/5; 34/126] END clf__metric=cosine, clf__n_neighbors=8, clf__weights=distance;, score=0.997 total time=   0.3s\n",
      "[CV 2/5; 34/126] START clf__metric=cosine, clf__n_neighbors=8, clf__weights=distance\n",
      "[CV 2/5; 34/126] END clf__metric=cosine, clf__n_neighbors=8, clf__weights=distance;, score=0.996 total time=   0.2s\n",
      "[CV 3/5; 34/126] START clf__metric=cosine, clf__n_neighbors=8, clf__weights=distance\n",
      "[CV 3/5; 34/126] END clf__metric=cosine, clf__n_neighbors=8, clf__weights=distance;, score=0.997 total time=   0.3s\n",
      "[CV 4/5; 34/126] START clf__metric=cosine, clf__n_neighbors=8, clf__weights=distance\n",
      "[CV 4/5; 34/126] END clf__metric=cosine, clf__n_neighbors=8, clf__weights=distance;, score=0.997 total time=   0.2s\n",
      "[CV 5/5; 34/126] START clf__metric=cosine, clf__n_neighbors=8, clf__weights=distance\n",
      "[CV 5/5; 34/126] END clf__metric=cosine, clf__n_neighbors=8, clf__weights=distance;, score=0.996 total time=   0.3s\n",
      "[CV 1/5; 35/126] START clf__metric=cosine, clf__n_neighbors=9, clf__weights=uniform\n",
      "[CV 1/5; 35/126] END clf__metric=cosine, clf__n_neighbors=9, clf__weights=uniform;, score=0.996 total time=   0.3s\n",
      "[CV 2/5; 35/126] START clf__metric=cosine, clf__n_neighbors=9, clf__weights=uniform\n",
      "[CV 2/5; 35/126] END clf__metric=cosine, clf__n_neighbors=9, clf__weights=uniform;, score=0.995 total time=   0.3s\n",
      "[CV 3/5; 35/126] START clf__metric=cosine, clf__n_neighbors=9, clf__weights=uniform\n",
      "[CV 3/5; 35/126] END clf__metric=cosine, clf__n_neighbors=9, clf__weights=uniform;, score=0.996 total time=   0.3s\n",
      "[CV 4/5; 35/126] START clf__metric=cosine, clf__n_neighbors=9, clf__weights=uniform\n",
      "[CV 4/5; 35/126] END clf__metric=cosine, clf__n_neighbors=9, clf__weights=uniform;, score=0.996 total time=   0.3s\n",
      "[CV 5/5; 35/126] START clf__metric=cosine, clf__n_neighbors=9, clf__weights=uniform\n",
      "[CV 5/5; 35/126] END clf__metric=cosine, clf__n_neighbors=9, clf__weights=uniform;, score=0.995 total time=   0.3s\n",
      "[CV 1/5; 36/126] START clf__metric=cosine, clf__n_neighbors=9, clf__weights=distance\n",
      "[CV 1/5; 36/126] END clf__metric=cosine, clf__n_neighbors=9, clf__weights=distance;, score=0.997 total time=   0.3s\n",
      "[CV 2/5; 36/126] START clf__metric=cosine, clf__n_neighbors=9, clf__weights=distance\n",
      "[CV 2/5; 36/126] END clf__metric=cosine, clf__n_neighbors=9, clf__weights=distance;, score=0.996 total time=   0.3s\n",
      "[CV 3/5; 36/126] START clf__metric=cosine, clf__n_neighbors=9, clf__weights=distance\n",
      "[CV 3/5; 36/126] END clf__metric=cosine, clf__n_neighbors=9, clf__weights=distance;, score=0.997 total time=   0.2s\n",
      "[CV 4/5; 36/126] START clf__metric=cosine, clf__n_neighbors=9, clf__weights=distance\n",
      "[CV 4/5; 36/126] END clf__metric=cosine, clf__n_neighbors=9, clf__weights=distance;, score=0.997 total time=   0.3s\n",
      "[CV 5/5; 36/126] START clf__metric=cosine, clf__n_neighbors=9, clf__weights=distance\n",
      "[CV 5/5; 36/126] END clf__metric=cosine, clf__n_neighbors=9, clf__weights=distance;, score=0.996 total time=   0.3s\n",
      "[CV 1/5; 37/126] START clf__metric=euclidean, clf__n_neighbors=1, clf__weights=uniform\n",
      "[CV 1/5; 37/126] END clf__metric=euclidean, clf__n_neighbors=1, clf__weights=uniform;, score=0.998 total time=   0.0s\n",
      "[CV 2/5; 37/126] START clf__metric=euclidean, clf__n_neighbors=1, clf__weights=uniform\n",
      "[CV 2/5; 37/126] END clf__metric=euclidean, clf__n_neighbors=1, clf__weights=uniform;, score=0.997 total time=   0.0s\n",
      "[CV 3/5; 37/126] START clf__metric=euclidean, clf__n_neighbors=1, clf__weights=uniform\n",
      "[CV 3/5; 37/126] END clf__metric=euclidean, clf__n_neighbors=1, clf__weights=uniform;, score=0.997 total time=   0.0s\n",
      "[CV 4/5; 37/126] START clf__metric=euclidean, clf__n_neighbors=1, clf__weights=uniform\n",
      "[CV 4/5; 37/126] END clf__metric=euclidean, clf__n_neighbors=1, clf__weights=uniform;, score=0.997 total time=   0.0s\n",
      "[CV 5/5; 37/126] START clf__metric=euclidean, clf__n_neighbors=1, clf__weights=uniform\n",
      "[CV 5/5; 37/126] END clf__metric=euclidean, clf__n_neighbors=1, clf__weights=uniform;, score=0.997 total time=   0.0s\n",
      "[CV 1/5; 38/126] START clf__metric=euclidean, clf__n_neighbors=1, clf__weights=distance\n",
      "[CV 1/5; 38/126] END clf__metric=euclidean, clf__n_neighbors=1, clf__weights=distance;, score=0.998 total time=   0.0s\n",
      "[CV 2/5; 38/126] START clf__metric=euclidean, clf__n_neighbors=1, clf__weights=distance\n",
      "[CV 2/5; 38/126] END clf__metric=euclidean, clf__n_neighbors=1, clf__weights=distance;, score=0.997 total time=   0.0s\n",
      "[CV 3/5; 38/126] START clf__metric=euclidean, clf__n_neighbors=1, clf__weights=distance\n",
      "[CV 3/5; 38/126] END clf__metric=euclidean, clf__n_neighbors=1, clf__weights=distance;, score=0.997 total time=   0.0s\n",
      "[CV 4/5; 38/126] START clf__metric=euclidean, clf__n_neighbors=1, clf__weights=distance\n",
      "[CV 4/5; 38/126] END clf__metric=euclidean, clf__n_neighbors=1, clf__weights=distance;, score=0.997 total time=   0.0s\n",
      "[CV 5/5; 38/126] START clf__metric=euclidean, clf__n_neighbors=1, clf__weights=distance\n",
      "[CV 5/5; 38/126] END clf__metric=euclidean, clf__n_neighbors=1, clf__weights=distance;, score=0.997 total time=   0.0s\n",
      "[CV 1/5; 39/126] START clf__metric=euclidean, clf__n_neighbors=2, clf__weights=uniform\n",
      "[CV 1/5; 39/126] END clf__metric=euclidean, clf__n_neighbors=2, clf__weights=uniform;, score=0.998 total time=   0.0s\n",
      "[CV 2/5; 39/126] START clf__metric=euclidean, clf__n_neighbors=2, clf__weights=uniform\n",
      "[CV 2/5; 39/126] END clf__metric=euclidean, clf__n_neighbors=2, clf__weights=uniform;, score=0.998 total time=   0.0s\n",
      "[CV 3/5; 39/126] START clf__metric=euclidean, clf__n_neighbors=2, clf__weights=uniform\n",
      "[CV 3/5; 39/126] END clf__metric=euclidean, clf__n_neighbors=2, clf__weights=uniform;, score=0.998 total time=   0.0s\n",
      "[CV 4/5; 39/126] START clf__metric=euclidean, clf__n_neighbors=2, clf__weights=uniform\n",
      "[CV 4/5; 39/126] END clf__metric=euclidean, clf__n_neighbors=2, clf__weights=uniform;, score=0.997 total time=   0.0s\n",
      "[CV 5/5; 39/126] START clf__metric=euclidean, clf__n_neighbors=2, clf__weights=uniform\n",
      "[CV 5/5; 39/126] END clf__metric=euclidean, clf__n_neighbors=2, clf__weights=uniform;, score=0.998 total time=   0.0s\n",
      "[CV 1/5; 40/126] START clf__metric=euclidean, clf__n_neighbors=2, clf__weights=distance\n",
      "[CV 1/5; 40/126] END clf__metric=euclidean, clf__n_neighbors=2, clf__weights=distance;, score=0.998 total time=   0.0s\n",
      "[CV 2/5; 40/126] START clf__metric=euclidean, clf__n_neighbors=2, clf__weights=distance\n",
      "[CV 2/5; 40/126] END clf__metric=euclidean, clf__n_neighbors=2, clf__weights=distance;, score=0.998 total time=   0.0s\n",
      "[CV 3/5; 40/126] START clf__metric=euclidean, clf__n_neighbors=2, clf__weights=distance\n",
      "[CV 3/5; 40/126] END clf__metric=euclidean, clf__n_neighbors=2, clf__weights=distance;, score=0.998 total time=   0.0s\n",
      "[CV 4/5; 40/126] START clf__metric=euclidean, clf__n_neighbors=2, clf__weights=distance\n",
      "[CV 4/5; 40/126] END clf__metric=euclidean, clf__n_neighbors=2, clf__weights=distance;, score=0.998 total time=   0.0s\n",
      "[CV 5/5; 40/126] START clf__metric=euclidean, clf__n_neighbors=2, clf__weights=distance\n",
      "[CV 5/5; 40/126] END clf__metric=euclidean, clf__n_neighbors=2, clf__weights=distance;, score=0.998 total time=   0.0s\n",
      "[CV 1/5; 41/126] START clf__metric=euclidean, clf__n_neighbors=3, clf__weights=uniform\n",
      "[CV 1/5; 41/126] END clf__metric=euclidean, clf__n_neighbors=3, clf__weights=uniform;, score=0.998 total time=   0.0s\n",
      "[CV 2/5; 41/126] START clf__metric=euclidean, clf__n_neighbors=3, clf__weights=uniform\n",
      "[CV 2/5; 41/126] END clf__metric=euclidean, clf__n_neighbors=3, clf__weights=uniform;, score=0.997 total time=   0.0s\n",
      "[CV 3/5; 41/126] START clf__metric=euclidean, clf__n_neighbors=3, clf__weights=uniform\n",
      "[CV 3/5; 41/126] END clf__metric=euclidean, clf__n_neighbors=3, clf__weights=uniform;, score=0.998 total time=   0.0s\n",
      "[CV 4/5; 41/126] START clf__metric=euclidean, clf__n_neighbors=3, clf__weights=uniform\n",
      "[CV 4/5; 41/126] END clf__metric=euclidean, clf__n_neighbors=3, clf__weights=uniform;, score=0.997 total time=   0.0s\n",
      "[CV 5/5; 41/126] START clf__metric=euclidean, clf__n_neighbors=3, clf__weights=uniform\n",
      "[CV 5/5; 41/126] END clf__metric=euclidean, clf__n_neighbors=3, clf__weights=uniform;, score=0.998 total time=   0.0s\n",
      "[CV 1/5; 42/126] START clf__metric=euclidean, clf__n_neighbors=3, clf__weights=distance\n",
      "[CV 1/5; 42/126] END clf__metric=euclidean, clf__n_neighbors=3, clf__weights=distance;, score=0.998 total time=   0.0s\n",
      "[CV 2/5; 42/126] START clf__metric=euclidean, clf__n_neighbors=3, clf__weights=distance\n",
      "[CV 2/5; 42/126] END clf__metric=euclidean, clf__n_neighbors=3, clf__weights=distance;, score=0.998 total time=   0.0s\n",
      "[CV 3/5; 42/126] START clf__metric=euclidean, clf__n_neighbors=3, clf__weights=distance\n",
      "[CV 3/5; 42/126] END clf__metric=euclidean, clf__n_neighbors=3, clf__weights=distance;, score=0.998 total time=   0.0s\n",
      "[CV 4/5; 42/126] START clf__metric=euclidean, clf__n_neighbors=3, clf__weights=distance\n",
      "[CV 4/5; 42/126] END clf__metric=euclidean, clf__n_neighbors=3, clf__weights=distance;, score=0.998 total time=   0.0s\n",
      "[CV 5/5; 42/126] START clf__metric=euclidean, clf__n_neighbors=3, clf__weights=distance\n",
      "[CV 5/5; 42/126] END clf__metric=euclidean, clf__n_neighbors=3, clf__weights=distance;, score=0.998 total time=   0.0s\n",
      "[CV 1/5; 43/126] START clf__metric=euclidean, clf__n_neighbors=4, clf__weights=uniform\n",
      "[CV 1/5; 43/126] END clf__metric=euclidean, clf__n_neighbors=4, clf__weights=uniform;, score=0.998 total time=   0.0s\n",
      "[CV 2/5; 43/126] START clf__metric=euclidean, clf__n_neighbors=4, clf__weights=uniform\n",
      "[CV 2/5; 43/126] END clf__metric=euclidean, clf__n_neighbors=4, clf__weights=uniform;, score=0.997 total time=   0.0s\n",
      "[CV 3/5; 43/126] START clf__metric=euclidean, clf__n_neighbors=4, clf__weights=uniform\n",
      "[CV 3/5; 43/126] END clf__metric=euclidean, clf__n_neighbors=4, clf__weights=uniform;, score=0.998 total time=   0.0s\n",
      "[CV 4/5; 43/126] START clf__metric=euclidean, clf__n_neighbors=4, clf__weights=uniform\n",
      "[CV 4/5; 43/126] END clf__metric=euclidean, clf__n_neighbors=4, clf__weights=uniform;, score=0.997 total time=   0.0s\n",
      "[CV 5/5; 43/126] START clf__metric=euclidean, clf__n_neighbors=4, clf__weights=uniform\n",
      "[CV 5/5; 43/126] END clf__metric=euclidean, clf__n_neighbors=4, clf__weights=uniform;, score=0.997 total time=   0.0s\n",
      "[CV 1/5; 44/126] START clf__metric=euclidean, clf__n_neighbors=4, clf__weights=distance\n",
      "[CV 1/5; 44/126] END clf__metric=euclidean, clf__n_neighbors=4, clf__weights=distance;, score=0.998 total time=   0.0s\n",
      "[CV 2/5; 44/126] START clf__metric=euclidean, clf__n_neighbors=4, clf__weights=distance\n",
      "[CV 2/5; 44/126] END clf__metric=euclidean, clf__n_neighbors=4, clf__weights=distance;, score=0.997 total time=   0.0s\n",
      "[CV 3/5; 44/126] START clf__metric=euclidean, clf__n_neighbors=4, clf__weights=distance\n",
      "[CV 3/5; 44/126] END clf__metric=euclidean, clf__n_neighbors=4, clf__weights=distance;, score=0.998 total time=   0.0s\n",
      "[CV 4/5; 44/126] START clf__metric=euclidean, clf__n_neighbors=4, clf__weights=distance\n",
      "[CV 4/5; 44/126] END clf__metric=euclidean, clf__n_neighbors=4, clf__weights=distance;, score=0.997 total time=   0.0s\n",
      "[CV 5/5; 44/126] START clf__metric=euclidean, clf__n_neighbors=4, clf__weights=distance\n",
      "[CV 5/5; 44/126] END clf__metric=euclidean, clf__n_neighbors=4, clf__weights=distance;, score=0.998 total time=   0.0s\n",
      "[CV 1/5; 45/126] START clf__metric=euclidean, clf__n_neighbors=5, clf__weights=uniform\n",
      "[CV 1/5; 45/126] END clf__metric=euclidean, clf__n_neighbors=5, clf__weights=uniform;, score=0.998 total time=   0.0s\n",
      "[CV 2/5; 45/126] START clf__metric=euclidean, clf__n_neighbors=5, clf__weights=uniform\n",
      "[CV 2/5; 45/126] END clf__metric=euclidean, clf__n_neighbors=5, clf__weights=uniform;, score=0.997 total time=   0.0s\n",
      "[CV 3/5; 45/126] START clf__metric=euclidean, clf__n_neighbors=5, clf__weights=uniform\n",
      "[CV 3/5; 45/126] END clf__metric=euclidean, clf__n_neighbors=5, clf__weights=uniform;, score=0.998 total time=   0.0s\n",
      "[CV 4/5; 45/126] START clf__metric=euclidean, clf__n_neighbors=5, clf__weights=uniform\n",
      "[CV 4/5; 45/126] END clf__metric=euclidean, clf__n_neighbors=5, clf__weights=uniform;, score=0.997 total time=   0.0s\n",
      "[CV 5/5; 45/126] START clf__metric=euclidean, clf__n_neighbors=5, clf__weights=uniform\n",
      "[CV 5/5; 45/126] END clf__metric=euclidean, clf__n_neighbors=5, clf__weights=uniform;, score=0.997 total time=   0.0s\n",
      "[CV 1/5; 46/126] START clf__metric=euclidean, clf__n_neighbors=5, clf__weights=distance\n",
      "[CV 1/5; 46/126] END clf__metric=euclidean, clf__n_neighbors=5, clf__weights=distance;, score=0.998 total time=   0.0s\n",
      "[CV 2/5; 46/126] START clf__metric=euclidean, clf__n_neighbors=5, clf__weights=distance\n",
      "[CV 2/5; 46/126] END clf__metric=euclidean, clf__n_neighbors=5, clf__weights=distance;, score=0.997 total time=   0.0s\n",
      "[CV 3/5; 46/126] START clf__metric=euclidean, clf__n_neighbors=5, clf__weights=distance\n",
      "[CV 3/5; 46/126] END clf__metric=euclidean, clf__n_neighbors=5, clf__weights=distance;, score=0.998 total time=   0.0s\n",
      "[CV 4/5; 46/126] START clf__metric=euclidean, clf__n_neighbors=5, clf__weights=distance\n",
      "[CV 4/5; 46/126] END clf__metric=euclidean, clf__n_neighbors=5, clf__weights=distance;, score=0.997 total time=   0.0s\n",
      "[CV 5/5; 46/126] START clf__metric=euclidean, clf__n_neighbors=5, clf__weights=distance\n",
      "[CV 5/5; 46/126] END clf__metric=euclidean, clf__n_neighbors=5, clf__weights=distance;, score=0.997 total time=   0.0s\n",
      "[CV 1/5; 47/126] START clf__metric=euclidean, clf__n_neighbors=6, clf__weights=uniform\n",
      "[CV 1/5; 47/126] END clf__metric=euclidean, clf__n_neighbors=6, clf__weights=uniform;, score=0.997 total time=   0.0s\n",
      "[CV 2/5; 47/126] START clf__metric=euclidean, clf__n_neighbors=6, clf__weights=uniform\n",
      "[CV 2/5; 47/126] END clf__metric=euclidean, clf__n_neighbors=6, clf__weights=uniform;, score=0.997 total time=   0.0s\n",
      "[CV 3/5; 47/126] START clf__metric=euclidean, clf__n_neighbors=6, clf__weights=uniform\n",
      "[CV 3/5; 47/126] END clf__metric=euclidean, clf__n_neighbors=6, clf__weights=uniform;, score=0.998 total time=   0.0s\n",
      "[CV 4/5; 47/126] START clf__metric=euclidean, clf__n_neighbors=6, clf__weights=uniform\n",
      "[CV 4/5; 47/126] END clf__metric=euclidean, clf__n_neighbors=6, clf__weights=uniform;, score=0.997 total time=   0.0s\n",
      "[CV 5/5; 47/126] START clf__metric=euclidean, clf__n_neighbors=6, clf__weights=uniform\n",
      "[CV 5/5; 47/126] END clf__metric=euclidean, clf__n_neighbors=6, clf__weights=uniform;, score=0.997 total time=   0.0s\n",
      "[CV 1/5; 48/126] START clf__metric=euclidean, clf__n_neighbors=6, clf__weights=distance\n",
      "[CV 1/5; 48/126] END clf__metric=euclidean, clf__n_neighbors=6, clf__weights=distance;, score=0.998 total time=   0.0s\n",
      "[CV 2/5; 48/126] START clf__metric=euclidean, clf__n_neighbors=6, clf__weights=distance\n",
      "[CV 2/5; 48/126] END clf__metric=euclidean, clf__n_neighbors=6, clf__weights=distance;, score=0.997 total time=   0.0s\n",
      "[CV 3/5; 48/126] START clf__metric=euclidean, clf__n_neighbors=6, clf__weights=distance\n",
      "[CV 3/5; 48/126] END clf__metric=euclidean, clf__n_neighbors=6, clf__weights=distance;, score=0.998 total time=   0.0s\n",
      "[CV 4/5; 48/126] START clf__metric=euclidean, clf__n_neighbors=6, clf__weights=distance\n",
      "[CV 4/5; 48/126] END clf__metric=euclidean, clf__n_neighbors=6, clf__weights=distance;, score=0.997 total time=   0.0s\n",
      "[CV 5/5; 48/126] START clf__metric=euclidean, clf__n_neighbors=6, clf__weights=distance\n",
      "[CV 5/5; 48/126] END clf__metric=euclidean, clf__n_neighbors=6, clf__weights=distance;, score=0.997 total time=   0.0s\n",
      "[CV 1/5; 49/126] START clf__metric=euclidean, clf__n_neighbors=7, clf__weights=uniform\n",
      "[CV 1/5; 49/126] END clf__metric=euclidean, clf__n_neighbors=7, clf__weights=uniform;, score=0.997 total time=   0.0s\n",
      "[CV 2/5; 49/126] START clf__metric=euclidean, clf__n_neighbors=7, clf__weights=uniform\n",
      "[CV 2/5; 49/126] END clf__metric=euclidean, clf__n_neighbors=7, clf__weights=uniform;, score=0.997 total time=   0.0s\n",
      "[CV 3/5; 49/126] START clf__metric=euclidean, clf__n_neighbors=7, clf__weights=uniform\n",
      "[CV 3/5; 49/126] END clf__metric=euclidean, clf__n_neighbors=7, clf__weights=uniform;, score=0.997 total time=   0.0s\n",
      "[CV 4/5; 49/126] START clf__metric=euclidean, clf__n_neighbors=7, clf__weights=uniform\n",
      "[CV 4/5; 49/126] END clf__metric=euclidean, clf__n_neighbors=7, clf__weights=uniform;, score=0.997 total time=   0.0s\n",
      "[CV 5/5; 49/126] START clf__metric=euclidean, clf__n_neighbors=7, clf__weights=uniform\n",
      "[CV 5/5; 49/126] END clf__metric=euclidean, clf__n_neighbors=7, clf__weights=uniform;, score=0.997 total time=   0.0s\n",
      "[CV 1/5; 50/126] START clf__metric=euclidean, clf__n_neighbors=7, clf__weights=distance\n",
      "[CV 1/5; 50/126] END clf__metric=euclidean, clf__n_neighbors=7, clf__weights=distance;, score=0.998 total time=   0.0s\n",
      "[CV 2/5; 50/126] START clf__metric=euclidean, clf__n_neighbors=7, clf__weights=distance\n",
      "[CV 2/5; 50/126] END clf__metric=euclidean, clf__n_neighbors=7, clf__weights=distance;, score=0.997 total time=   0.0s\n",
      "[CV 3/5; 50/126] START clf__metric=euclidean, clf__n_neighbors=7, clf__weights=distance\n",
      "[CV 3/5; 50/126] END clf__metric=euclidean, clf__n_neighbors=7, clf__weights=distance;, score=0.998 total time=   0.0s\n",
      "[CV 4/5; 50/126] START clf__metric=euclidean, clf__n_neighbors=7, clf__weights=distance\n",
      "[CV 4/5; 50/126] END clf__metric=euclidean, clf__n_neighbors=7, clf__weights=distance;, score=0.997 total time=   0.0s\n",
      "[CV 5/5; 50/126] START clf__metric=euclidean, clf__n_neighbors=7, clf__weights=distance\n",
      "[CV 5/5; 50/126] END clf__metric=euclidean, clf__n_neighbors=7, clf__weights=distance;, score=0.997 total time=   0.0s\n",
      "[CV 1/5; 51/126] START clf__metric=euclidean, clf__n_neighbors=8, clf__weights=uniform\n",
      "[CV 1/5; 51/126] END clf__metric=euclidean, clf__n_neighbors=8, clf__weights=uniform;, score=0.997 total time=   0.0s\n",
      "[CV 2/5; 51/126] START clf__metric=euclidean, clf__n_neighbors=8, clf__weights=uniform\n",
      "[CV 2/5; 51/126] END clf__metric=euclidean, clf__n_neighbors=8, clf__weights=uniform;, score=0.997 total time=   0.0s\n",
      "[CV 3/5; 51/126] START clf__metric=euclidean, clf__n_neighbors=8, clf__weights=uniform\n",
      "[CV 3/5; 51/126] END clf__metric=euclidean, clf__n_neighbors=8, clf__weights=uniform;, score=0.997 total time=   0.0s\n",
      "[CV 4/5; 51/126] START clf__metric=euclidean, clf__n_neighbors=8, clf__weights=uniform\n",
      "[CV 4/5; 51/126] END clf__metric=euclidean, clf__n_neighbors=8, clf__weights=uniform;, score=0.997 total time=   0.0s\n",
      "[CV 5/5; 51/126] START clf__metric=euclidean, clf__n_neighbors=8, clf__weights=uniform\n",
      "[CV 5/5; 51/126] END clf__metric=euclidean, clf__n_neighbors=8, clf__weights=uniform;, score=0.997 total time=   0.0s\n",
      "[CV 1/5; 52/126] START clf__metric=euclidean, clf__n_neighbors=8, clf__weights=distance\n",
      "[CV 1/5; 52/126] END clf__metric=euclidean, clf__n_neighbors=8, clf__weights=distance;, score=0.997 total time=   0.0s\n",
      "[CV 2/5; 52/126] START clf__metric=euclidean, clf__n_neighbors=8, clf__weights=distance\n",
      "[CV 2/5; 52/126] END clf__metric=euclidean, clf__n_neighbors=8, clf__weights=distance;, score=0.997 total time=   0.0s\n",
      "[CV 3/5; 52/126] START clf__metric=euclidean, clf__n_neighbors=8, clf__weights=distance\n",
      "[CV 3/5; 52/126] END clf__metric=euclidean, clf__n_neighbors=8, clf__weights=distance;, score=0.998 total time=   0.0s\n",
      "[CV 4/5; 52/126] START clf__metric=euclidean, clf__n_neighbors=8, clf__weights=distance\n",
      "[CV 4/5; 52/126] END clf__metric=euclidean, clf__n_neighbors=8, clf__weights=distance;, score=0.997 total time=   0.0s\n",
      "[CV 5/5; 52/126] START clf__metric=euclidean, clf__n_neighbors=8, clf__weights=distance\n",
      "[CV 5/5; 52/126] END clf__metric=euclidean, clf__n_neighbors=8, clf__weights=distance;, score=0.997 total time=   0.0s\n",
      "[CV 1/5; 53/126] START clf__metric=euclidean, clf__n_neighbors=9, clf__weights=uniform\n",
      "[CV 1/5; 53/126] END clf__metric=euclidean, clf__n_neighbors=9, clf__weights=uniform;, score=0.997 total time=   0.0s\n",
      "[CV 2/5; 53/126] START clf__metric=euclidean, clf__n_neighbors=9, clf__weights=uniform\n",
      "[CV 2/5; 53/126] END clf__metric=euclidean, clf__n_neighbors=9, clf__weights=uniform;, score=0.997 total time=   0.0s\n",
      "[CV 3/5; 53/126] START clf__metric=euclidean, clf__n_neighbors=9, clf__weights=uniform\n",
      "[CV 3/5; 53/126] END clf__metric=euclidean, clf__n_neighbors=9, clf__weights=uniform;, score=0.997 total time=   0.0s\n",
      "[CV 4/5; 53/126] START clf__metric=euclidean, clf__n_neighbors=9, clf__weights=uniform\n",
      "[CV 4/5; 53/126] END clf__metric=euclidean, clf__n_neighbors=9, clf__weights=uniform;, score=0.996 total time=   0.0s\n",
      "[CV 5/5; 53/126] START clf__metric=euclidean, clf__n_neighbors=9, clf__weights=uniform\n",
      "[CV 5/5; 53/126] END clf__metric=euclidean, clf__n_neighbors=9, clf__weights=uniform;, score=0.996 total time=   0.0s\n",
      "[CV 1/5; 54/126] START clf__metric=euclidean, clf__n_neighbors=9, clf__weights=distance\n",
      "[CV 1/5; 54/126] END clf__metric=euclidean, clf__n_neighbors=9, clf__weights=distance;, score=0.997 total time=   0.0s\n",
      "[CV 2/5; 54/126] START clf__metric=euclidean, clf__n_neighbors=9, clf__weights=distance\n",
      "[CV 2/5; 54/126] END clf__metric=euclidean, clf__n_neighbors=9, clf__weights=distance;, score=0.997 total time=   0.0s\n",
      "[CV 3/5; 54/126] START clf__metric=euclidean, clf__n_neighbors=9, clf__weights=distance\n",
      "[CV 3/5; 54/126] END clf__metric=euclidean, clf__n_neighbors=9, clf__weights=distance;, score=0.997 total time=   0.0s\n",
      "[CV 4/5; 54/126] START clf__metric=euclidean, clf__n_neighbors=9, clf__weights=distance\n",
      "[CV 4/5; 54/126] END clf__metric=euclidean, clf__n_neighbors=9, clf__weights=distance;, score=0.997 total time=   0.0s\n",
      "[CV 5/5; 54/126] START clf__metric=euclidean, clf__n_neighbors=9, clf__weights=distance\n",
      "[CV 5/5; 54/126] END clf__metric=euclidean, clf__n_neighbors=9, clf__weights=distance;, score=0.997 total time=   0.0s\n",
      "[CV 1/5; 55/126] START clf__metric=l1, clf__n_neighbors=1, clf__weights=uniform.\n",
      "[CV 1/5; 55/126] END clf__metric=l1, clf__n_neighbors=1, clf__weights=uniform;, score=0.999 total time=   0.1s\n",
      "[CV 2/5; 55/126] START clf__metric=l1, clf__n_neighbors=1, clf__weights=uniform.\n",
      "[CV 2/5; 55/126] END clf__metric=l1, clf__n_neighbors=1, clf__weights=uniform;, score=0.998 total time=   0.1s\n",
      "[CV 3/5; 55/126] START clf__metric=l1, clf__n_neighbors=1, clf__weights=uniform.\n",
      "[CV 3/5; 55/126] END clf__metric=l1, clf__n_neighbors=1, clf__weights=uniform;, score=0.998 total time=   0.0s\n",
      "[CV 4/5; 55/126] START clf__metric=l1, clf__n_neighbors=1, clf__weights=uniform.\n",
      "[CV 4/5; 55/126] END clf__metric=l1, clf__n_neighbors=1, clf__weights=uniform;, score=0.998 total time=   0.1s\n",
      "[CV 5/5; 55/126] START clf__metric=l1, clf__n_neighbors=1, clf__weights=uniform.\n",
      "[CV 5/5; 55/126] END clf__metric=l1, clf__n_neighbors=1, clf__weights=uniform;, score=0.998 total time=   0.1s\n",
      "[CV 1/5; 56/126] START clf__metric=l1, clf__n_neighbors=1, clf__weights=distance\n",
      "[CV 1/5; 56/126] END clf__metric=l1, clf__n_neighbors=1, clf__weights=distance;, score=0.999 total time=   0.0s\n",
      "[CV 2/5; 56/126] START clf__metric=l1, clf__n_neighbors=1, clf__weights=distance\n",
      "[CV 2/5; 56/126] END clf__metric=l1, clf__n_neighbors=1, clf__weights=distance;, score=0.998 total time=   0.0s\n",
      "[CV 3/5; 56/126] START clf__metric=l1, clf__n_neighbors=1, clf__weights=distance\n",
      "[CV 3/5; 56/126] END clf__metric=l1, clf__n_neighbors=1, clf__weights=distance;, score=0.998 total time=   0.0s\n",
      "[CV 4/5; 56/126] START clf__metric=l1, clf__n_neighbors=1, clf__weights=distance\n",
      "[CV 4/5; 56/126] END clf__metric=l1, clf__n_neighbors=1, clf__weights=distance;, score=0.998 total time=   0.1s\n",
      "[CV 5/5; 56/126] START clf__metric=l1, clf__n_neighbors=1, clf__weights=distance\n",
      "[CV 5/5; 56/126] END clf__metric=l1, clf__n_neighbors=1, clf__weights=distance;, score=0.998 total time=   0.1s\n",
      "[CV 1/5; 57/126] START clf__metric=l1, clf__n_neighbors=2, clf__weights=uniform.\n",
      "[CV 1/5; 57/126] END clf__metric=l1, clf__n_neighbors=2, clf__weights=uniform;, score=0.999 total time=   0.0s\n",
      "[CV 2/5; 57/126] START clf__metric=l1, clf__n_neighbors=2, clf__weights=uniform.\n",
      "[CV 2/5; 57/126] END clf__metric=l1, clf__n_neighbors=2, clf__weights=uniform;, score=0.999 total time=   0.0s\n",
      "[CV 3/5; 57/126] START clf__metric=l1, clf__n_neighbors=2, clf__weights=uniform.\n",
      "[CV 3/5; 57/126] END clf__metric=l1, clf__n_neighbors=2, clf__weights=uniform;, score=0.999 total time=   0.0s\n",
      "[CV 4/5; 57/126] START clf__metric=l1, clf__n_neighbors=2, clf__weights=uniform.\n",
      "[CV 4/5; 57/126] END clf__metric=l1, clf__n_neighbors=2, clf__weights=uniform;, score=0.999 total time=   0.1s\n",
      "[CV 5/5; 57/126] START clf__metric=l1, clf__n_neighbors=2, clf__weights=uniform.\n",
      "[CV 5/5; 57/126] END clf__metric=l1, clf__n_neighbors=2, clf__weights=uniform;, score=0.999 total time=   0.0s\n",
      "[CV 1/5; 58/126] START clf__metric=l1, clf__n_neighbors=2, clf__weights=distance\n",
      "[CV 1/5; 58/126] END clf__metric=l1, clf__n_neighbors=2, clf__weights=distance;, score=0.999 total time=   0.0s\n",
      "[CV 2/5; 58/126] START clf__metric=l1, clf__n_neighbors=2, clf__weights=distance\n",
      "[CV 2/5; 58/126] END clf__metric=l1, clf__n_neighbors=2, clf__weights=distance;, score=0.999 total time=   0.0s\n",
      "[CV 3/5; 58/126] START clf__metric=l1, clf__n_neighbors=2, clf__weights=distance\n",
      "[CV 3/5; 58/126] END clf__metric=l1, clf__n_neighbors=2, clf__weights=distance;, score=0.999 total time=   0.0s\n",
      "[CV 4/5; 58/126] START clf__metric=l1, clf__n_neighbors=2, clf__weights=distance\n",
      "[CV 4/5; 58/126] END clf__metric=l1, clf__n_neighbors=2, clf__weights=distance;, score=0.999 total time=   0.0s\n",
      "[CV 5/5; 58/126] START clf__metric=l1, clf__n_neighbors=2, clf__weights=distance\n",
      "[CV 5/5; 58/126] END clf__metric=l1, clf__n_neighbors=2, clf__weights=distance;, score=0.999 total time=   0.1s\n",
      "[CV 1/5; 59/126] START clf__metric=l1, clf__n_neighbors=3, clf__weights=uniform.\n",
      "[CV 1/5; 59/126] END clf__metric=l1, clf__n_neighbors=3, clf__weights=uniform;, score=0.999 total time=   0.1s\n",
      "[CV 2/5; 59/126] START clf__metric=l1, clf__n_neighbors=3, clf__weights=uniform.\n",
      "[CV 2/5; 59/126] END clf__metric=l1, clf__n_neighbors=3, clf__weights=uniform;, score=0.999 total time=   0.0s\n",
      "[CV 3/5; 59/126] START clf__metric=l1, clf__n_neighbors=3, clf__weights=uniform.\n",
      "[CV 3/5; 59/126] END clf__metric=l1, clf__n_neighbors=3, clf__weights=uniform;, score=0.999 total time=   0.1s\n",
      "[CV 4/5; 59/126] START clf__metric=l1, clf__n_neighbors=3, clf__weights=uniform.\n",
      "[CV 4/5; 59/126] END clf__metric=l1, clf__n_neighbors=3, clf__weights=uniform;, score=0.999 total time=   0.1s\n",
      "[CV 5/5; 59/126] START clf__metric=l1, clf__n_neighbors=3, clf__weights=uniform.\n",
      "[CV 5/5; 59/126] END clf__metric=l1, clf__n_neighbors=3, clf__weights=uniform;, score=0.999 total time=   0.0s\n",
      "[CV 1/5; 60/126] START clf__metric=l1, clf__n_neighbors=3, clf__weights=distance\n",
      "[CV 1/5; 60/126] END clf__metric=l1, clf__n_neighbors=3, clf__weights=distance;, score=0.999 total time=   0.0s\n",
      "[CV 2/5; 60/126] START clf__metric=l1, clf__n_neighbors=3, clf__weights=distance\n",
      "[CV 2/5; 60/126] END clf__metric=l1, clf__n_neighbors=3, clf__weights=distance;, score=0.999 total time=   0.1s\n",
      "[CV 3/5; 60/126] START clf__metric=l1, clf__n_neighbors=3, clf__weights=distance\n",
      "[CV 3/5; 60/126] END clf__metric=l1, clf__n_neighbors=3, clf__weights=distance;, score=0.999 total time=   0.1s\n",
      "[CV 4/5; 60/126] START clf__metric=l1, clf__n_neighbors=3, clf__weights=distance\n",
      "[CV 4/5; 60/126] END clf__metric=l1, clf__n_neighbors=3, clf__weights=distance;, score=0.999 total time=   0.1s\n",
      "[CV 5/5; 60/126] START clf__metric=l1, clf__n_neighbors=3, clf__weights=distance\n",
      "[CV 5/5; 60/126] END clf__metric=l1, clf__n_neighbors=3, clf__weights=distance;, score=0.999 total time=   0.0s\n",
      "[CV 1/5; 61/126] START clf__metric=l1, clf__n_neighbors=4, clf__weights=uniform.\n",
      "[CV 1/5; 61/126] END clf__metric=l1, clf__n_neighbors=4, clf__weights=uniform;, score=0.999 total time=   0.1s\n",
      "[CV 2/5; 61/126] START clf__metric=l1, clf__n_neighbors=4, clf__weights=uniform.\n",
      "[CV 2/5; 61/126] END clf__metric=l1, clf__n_neighbors=4, clf__weights=uniform;, score=0.999 total time=   0.0s\n",
      "[CV 3/5; 61/126] START clf__metric=l1, clf__n_neighbors=4, clf__weights=uniform.\n",
      "[CV 3/5; 61/126] END clf__metric=l1, clf__n_neighbors=4, clf__weights=uniform;, score=0.999 total time=   0.1s\n",
      "[CV 4/5; 61/126] START clf__metric=l1, clf__n_neighbors=4, clf__weights=uniform.\n",
      "[CV 4/5; 61/126] END clf__metric=l1, clf__n_neighbors=4, clf__weights=uniform;, score=0.999 total time=   0.0s\n",
      "[CV 5/5; 61/126] START clf__metric=l1, clf__n_neighbors=4, clf__weights=uniform.\n",
      "[CV 5/5; 61/126] END clf__metric=l1, clf__n_neighbors=4, clf__weights=uniform;, score=0.999 total time=   0.0s\n",
      "[CV 1/5; 62/126] START clf__metric=l1, clf__n_neighbors=4, clf__weights=distance\n",
      "[CV 1/5; 62/126] END clf__metric=l1, clf__n_neighbors=4, clf__weights=distance;, score=0.999 total time=   0.0s\n",
      "[CV 2/5; 62/126] START clf__metric=l1, clf__n_neighbors=4, clf__weights=distance\n",
      "[CV 2/5; 62/126] END clf__metric=l1, clf__n_neighbors=4, clf__weights=distance;, score=0.999 total time=   0.0s\n",
      "[CV 3/5; 62/126] START clf__metric=l1, clf__n_neighbors=4, clf__weights=distance\n",
      "[CV 3/5; 62/126] END clf__metric=l1, clf__n_neighbors=4, clf__weights=distance;, score=0.999 total time=   0.0s\n",
      "[CV 4/5; 62/126] START clf__metric=l1, clf__n_neighbors=4, clf__weights=distance\n",
      "[CV 4/5; 62/126] END clf__metric=l1, clf__n_neighbors=4, clf__weights=distance;, score=0.999 total time=   0.0s\n",
      "[CV 5/5; 62/126] START clf__metric=l1, clf__n_neighbors=4, clf__weights=distance\n",
      "[CV 5/5; 62/126] END clf__metric=l1, clf__n_neighbors=4, clf__weights=distance;, score=0.999 total time=   0.0s\n",
      "[CV 1/5; 63/126] START clf__metric=l1, clf__n_neighbors=5, clf__weights=uniform.\n",
      "[CV 1/5; 63/126] END clf__metric=l1, clf__n_neighbors=5, clf__weights=uniform;, score=0.999 total time=   0.0s\n",
      "[CV 2/5; 63/126] START clf__metric=l1, clf__n_neighbors=5, clf__weights=uniform.\n",
      "[CV 2/5; 63/126] END clf__metric=l1, clf__n_neighbors=5, clf__weights=uniform;, score=0.999 total time=   0.0s\n",
      "[CV 3/5; 63/126] START clf__metric=l1, clf__n_neighbors=5, clf__weights=uniform.\n",
      "[CV 3/5; 63/126] END clf__metric=l1, clf__n_neighbors=5, clf__weights=uniform;, score=0.999 total time=   0.0s\n",
      "[CV 4/5; 63/126] START clf__metric=l1, clf__n_neighbors=5, clf__weights=uniform.\n",
      "[CV 4/5; 63/126] END clf__metric=l1, clf__n_neighbors=5, clf__weights=uniform;, score=0.999 total time=   0.0s\n",
      "[CV 5/5; 63/126] START clf__metric=l1, clf__n_neighbors=5, clf__weights=uniform.\n",
      "[CV 5/5; 63/126] END clf__metric=l1, clf__n_neighbors=5, clf__weights=uniform;, score=0.999 total time=   0.0s\n",
      "[CV 1/5; 64/126] START clf__metric=l1, clf__n_neighbors=5, clf__weights=distance\n",
      "[CV 1/5; 64/126] END clf__metric=l1, clf__n_neighbors=5, clf__weights=distance;, score=0.999 total time=   0.0s\n",
      "[CV 2/5; 64/126] START clf__metric=l1, clf__n_neighbors=5, clf__weights=distance\n",
      "[CV 2/5; 64/126] END clf__metric=l1, clf__n_neighbors=5, clf__weights=distance;, score=0.999 total time=   0.1s\n",
      "[CV 3/5; 64/126] START clf__metric=l1, clf__n_neighbors=5, clf__weights=distance\n",
      "[CV 3/5; 64/126] END clf__metric=l1, clf__n_neighbors=5, clf__weights=distance;, score=0.999 total time=   0.1s\n",
      "[CV 4/5; 64/126] START clf__metric=l1, clf__n_neighbors=5, clf__weights=distance\n",
      "[CV 4/5; 64/126] END clf__metric=l1, clf__n_neighbors=5, clf__weights=distance;, score=0.999 total time=   0.0s\n",
      "[CV 5/5; 64/126] START clf__metric=l1, clf__n_neighbors=5, clf__weights=distance\n",
      "[CV 5/5; 64/126] END clf__metric=l1, clf__n_neighbors=5, clf__weights=distance;, score=0.999 total time=   0.1s\n",
      "[CV 1/5; 65/126] START clf__metric=l1, clf__n_neighbors=6, clf__weights=uniform.\n",
      "[CV 1/5; 65/126] END clf__metric=l1, clf__n_neighbors=6, clf__weights=uniform;, score=0.999 total time=   0.0s\n",
      "[CV 2/5; 65/126] START clf__metric=l1, clf__n_neighbors=6, clf__weights=uniform.\n",
      "[CV 2/5; 65/126] END clf__metric=l1, clf__n_neighbors=6, clf__weights=uniform;, score=0.998 total time=   0.0s\n",
      "[CV 3/5; 65/126] START clf__metric=l1, clf__n_neighbors=6, clf__weights=uniform.\n",
      "[CV 3/5; 65/126] END clf__metric=l1, clf__n_neighbors=6, clf__weights=uniform;, score=0.999 total time=   0.0s\n",
      "[CV 4/5; 65/126] START clf__metric=l1, clf__n_neighbors=6, clf__weights=uniform.\n",
      "[CV 4/5; 65/126] END clf__metric=l1, clf__n_neighbors=6, clf__weights=uniform;, score=0.999 total time=   0.0s\n",
      "[CV 5/5; 65/126] START clf__metric=l1, clf__n_neighbors=6, clf__weights=uniform.\n",
      "[CV 5/5; 65/126] END clf__metric=l1, clf__n_neighbors=6, clf__weights=uniform;, score=0.999 total time=   0.0s\n",
      "[CV 1/5; 66/126] START clf__metric=l1, clf__n_neighbors=6, clf__weights=distance\n",
      "[CV 1/5; 66/126] END clf__metric=l1, clf__n_neighbors=6, clf__weights=distance;, score=0.999 total time=   0.0s\n",
      "[CV 2/5; 66/126] START clf__metric=l1, clf__n_neighbors=6, clf__weights=distance\n",
      "[CV 2/5; 66/126] END clf__metric=l1, clf__n_neighbors=6, clf__weights=distance;, score=0.999 total time=   0.0s\n",
      "[CV 3/5; 66/126] START clf__metric=l1, clf__n_neighbors=6, clf__weights=distance\n",
      "[CV 3/5; 66/126] END clf__metric=l1, clf__n_neighbors=6, clf__weights=distance;, score=0.999 total time=   0.0s\n",
      "[CV 4/5; 66/126] START clf__metric=l1, clf__n_neighbors=6, clf__weights=distance\n",
      "[CV 4/5; 66/126] END clf__metric=l1, clf__n_neighbors=6, clf__weights=distance;, score=0.999 total time=   0.0s\n",
      "[CV 5/5; 66/126] START clf__metric=l1, clf__n_neighbors=6, clf__weights=distance\n",
      "[CV 5/5; 66/126] END clf__metric=l1, clf__n_neighbors=6, clf__weights=distance;, score=0.999 total time=   0.0s\n",
      "[CV 1/5; 67/126] START clf__metric=l1, clf__n_neighbors=7, clf__weights=uniform.\n",
      "[CV 1/5; 67/126] END clf__metric=l1, clf__n_neighbors=7, clf__weights=uniform;, score=0.999 total time=   0.0s\n",
      "[CV 2/5; 67/126] START clf__metric=l1, clf__n_neighbors=7, clf__weights=uniform.\n",
      "[CV 2/5; 67/126] END clf__metric=l1, clf__n_neighbors=7, clf__weights=uniform;, score=0.998 total time=   0.0s\n",
      "[CV 3/5; 67/126] START clf__metric=l1, clf__n_neighbors=7, clf__weights=uniform.\n",
      "[CV 3/5; 67/126] END clf__metric=l1, clf__n_neighbors=7, clf__weights=uniform;, score=0.999 total time=   0.0s\n",
      "[CV 4/5; 67/126] START clf__metric=l1, clf__n_neighbors=7, clf__weights=uniform.\n",
      "[CV 4/5; 67/126] END clf__metric=l1, clf__n_neighbors=7, clf__weights=uniform;, score=0.999 total time=   0.0s\n",
      "[CV 5/5; 67/126] START clf__metric=l1, clf__n_neighbors=7, clf__weights=uniform.\n",
      "[CV 5/5; 67/126] END clf__metric=l1, clf__n_neighbors=7, clf__weights=uniform;, score=0.999 total time=   0.0s\n",
      "[CV 1/5; 68/126] START clf__metric=l1, clf__n_neighbors=7, clf__weights=distance\n",
      "[CV 1/5; 68/126] END clf__metric=l1, clf__n_neighbors=7, clf__weights=distance;, score=0.999 total time=   0.1s\n",
      "[CV 2/5; 68/126] START clf__metric=l1, clf__n_neighbors=7, clf__weights=distance\n",
      "[CV 2/5; 68/126] END clf__metric=l1, clf__n_neighbors=7, clf__weights=distance;, score=0.999 total time=   0.1s\n",
      "[CV 3/5; 68/126] START clf__metric=l1, clf__n_neighbors=7, clf__weights=distance\n",
      "[CV 3/5; 68/126] END clf__metric=l1, clf__n_neighbors=7, clf__weights=distance;, score=0.999 total time=   0.1s\n",
      "[CV 4/5; 68/126] START clf__metric=l1, clf__n_neighbors=7, clf__weights=distance\n",
      "[CV 4/5; 68/126] END clf__metric=l1, clf__n_neighbors=7, clf__weights=distance;, score=0.999 total time=   0.0s\n",
      "[CV 5/5; 68/126] START clf__metric=l1, clf__n_neighbors=7, clf__weights=distance\n",
      "[CV 5/5; 68/126] END clf__metric=l1, clf__n_neighbors=7, clf__weights=distance;, score=0.999 total time=   0.1s\n",
      "[CV 1/5; 69/126] START clf__metric=l1, clf__n_neighbors=8, clf__weights=uniform.\n",
      "[CV 1/5; 69/126] END clf__metric=l1, clf__n_neighbors=8, clf__weights=uniform;, score=0.999 total time=   0.1s\n",
      "[CV 2/5; 69/126] START clf__metric=l1, clf__n_neighbors=8, clf__weights=uniform.\n",
      "[CV 2/5; 69/126] END clf__metric=l1, clf__n_neighbors=8, clf__weights=uniform;, score=0.998 total time=   0.1s\n",
      "[CV 3/5; 69/126] START clf__metric=l1, clf__n_neighbors=8, clf__weights=uniform.\n",
      "[CV 3/5; 69/126] END clf__metric=l1, clf__n_neighbors=8, clf__weights=uniform;, score=0.998 total time=   0.1s\n",
      "[CV 4/5; 69/126] START clf__metric=l1, clf__n_neighbors=8, clf__weights=uniform.\n",
      "[CV 4/5; 69/126] END clf__metric=l1, clf__n_neighbors=8, clf__weights=uniform;, score=0.998 total time=   0.1s\n",
      "[CV 5/5; 69/126] START clf__metric=l1, clf__n_neighbors=8, clf__weights=uniform.\n",
      "[CV 5/5; 69/126] END clf__metric=l1, clf__n_neighbors=8, clf__weights=uniform;, score=0.998 total time=   0.0s\n",
      "[CV 1/5; 70/126] START clf__metric=l1, clf__n_neighbors=8, clf__weights=distance\n",
      "[CV 1/5; 70/126] END clf__metric=l1, clf__n_neighbors=8, clf__weights=distance;, score=0.999 total time=   0.1s\n",
      "[CV 2/5; 70/126] START clf__metric=l1, clf__n_neighbors=8, clf__weights=distance\n",
      "[CV 2/5; 70/126] END clf__metric=l1, clf__n_neighbors=8, clf__weights=distance;, score=0.998 total time=   0.1s\n",
      "[CV 3/5; 70/126] START clf__metric=l1, clf__n_neighbors=8, clf__weights=distance\n",
      "[CV 3/5; 70/126] END clf__metric=l1, clf__n_neighbors=8, clf__weights=distance;, score=0.999 total time=   0.0s\n",
      "[CV 4/5; 70/126] START clf__metric=l1, clf__n_neighbors=8, clf__weights=distance\n",
      "[CV 4/5; 70/126] END clf__metric=l1, clf__n_neighbors=8, clf__weights=distance;, score=0.999 total time=   0.1s\n",
      "[CV 5/5; 70/126] START clf__metric=l1, clf__n_neighbors=8, clf__weights=distance\n",
      "[CV 5/5; 70/126] END clf__metric=l1, clf__n_neighbors=8, clf__weights=distance;, score=0.999 total time=   0.2s\n",
      "[CV 1/5; 71/126] START clf__metric=l1, clf__n_neighbors=9, clf__weights=uniform.\n",
      "[CV 1/5; 71/126] END clf__metric=l1, clf__n_neighbors=9, clf__weights=uniform;, score=0.999 total time=   0.3s\n",
      "[CV 2/5; 71/126] START clf__metric=l1, clf__n_neighbors=9, clf__weights=uniform.\n",
      "[CV 2/5; 71/126] END clf__metric=l1, clf__n_neighbors=9, clf__weights=uniform;, score=0.998 total time=   0.1s\n",
      "[CV 3/5; 71/126] START clf__metric=l1, clf__n_neighbors=9, clf__weights=uniform.\n",
      "[CV 3/5; 71/126] END clf__metric=l1, clf__n_neighbors=9, clf__weights=uniform;, score=0.998 total time=   0.0s\n",
      "[CV 4/5; 71/126] START clf__metric=l1, clf__n_neighbors=9, clf__weights=uniform.\n",
      "[CV 4/5; 71/126] END clf__metric=l1, clf__n_neighbors=9, clf__weights=uniform;, score=0.998 total time=   0.0s\n",
      "[CV 5/5; 71/126] START clf__metric=l1, clf__n_neighbors=9, clf__weights=uniform.\n",
      "[CV 5/5; 71/126] END clf__metric=l1, clf__n_neighbors=9, clf__weights=uniform;, score=0.998 total time=   0.0s\n",
      "[CV 1/5; 72/126] START clf__metric=l1, clf__n_neighbors=9, clf__weights=distance\n",
      "[CV 1/5; 72/126] END clf__metric=l1, clf__n_neighbors=9, clf__weights=distance;, score=0.999 total time=   0.1s\n",
      "[CV 2/5; 72/126] START clf__metric=l1, clf__n_neighbors=9, clf__weights=distance\n",
      "[CV 2/5; 72/126] END clf__metric=l1, clf__n_neighbors=9, clf__weights=distance;, score=0.998 total time=   0.0s\n",
      "[CV 3/5; 72/126] START clf__metric=l1, clf__n_neighbors=9, clf__weights=distance\n",
      "[CV 3/5; 72/126] END clf__metric=l1, clf__n_neighbors=9, clf__weights=distance;, score=0.999 total time=   0.2s\n",
      "[CV 4/5; 72/126] START clf__metric=l1, clf__n_neighbors=9, clf__weights=distance\n",
      "[CV 4/5; 72/126] END clf__metric=l1, clf__n_neighbors=9, clf__weights=distance;, score=0.999 total time=   0.2s\n",
      "[CV 5/5; 72/126] START clf__metric=l1, clf__n_neighbors=9, clf__weights=distance\n",
      "[CV 5/5; 72/126] END clf__metric=l1, clf__n_neighbors=9, clf__weights=distance;, score=0.999 total time=   0.1s\n",
      "[CV 1/5; 73/126] START clf__metric=l2, clf__n_neighbors=1, clf__weights=uniform.\n",
      "[CV 1/5; 73/126] END clf__metric=l2, clf__n_neighbors=1, clf__weights=uniform;, score=0.998 total time=   0.0s\n",
      "[CV 2/5; 73/126] START clf__metric=l2, clf__n_neighbors=1, clf__weights=uniform.\n",
      "[CV 2/5; 73/126] END clf__metric=l2, clf__n_neighbors=1, clf__weights=uniform;, score=0.997 total time=   0.0s\n",
      "[CV 3/5; 73/126] START clf__metric=l2, clf__n_neighbors=1, clf__weights=uniform.\n",
      "[CV 3/5; 73/126] END clf__metric=l2, clf__n_neighbors=1, clf__weights=uniform;, score=0.997 total time=   0.0s\n",
      "[CV 4/5; 73/126] START clf__metric=l2, clf__n_neighbors=1, clf__weights=uniform.\n",
      "[CV 4/5; 73/126] END clf__metric=l2, clf__n_neighbors=1, clf__weights=uniform;, score=0.997 total time=   0.0s\n",
      "[CV 5/5; 73/126] START clf__metric=l2, clf__n_neighbors=1, clf__weights=uniform.\n",
      "[CV 5/5; 73/126] END clf__metric=l2, clf__n_neighbors=1, clf__weights=uniform;, score=0.997 total time=   0.0s\n",
      "[CV 1/5; 74/126] START clf__metric=l2, clf__n_neighbors=1, clf__weights=distance\n",
      "[CV 1/5; 74/126] END clf__metric=l2, clf__n_neighbors=1, clf__weights=distance;, score=0.998 total time=   0.0s\n",
      "[CV 2/5; 74/126] START clf__metric=l2, clf__n_neighbors=1, clf__weights=distance\n",
      "[CV 2/5; 74/126] END clf__metric=l2, clf__n_neighbors=1, clf__weights=distance;, score=0.997 total time=   0.0s\n",
      "[CV 3/5; 74/126] START clf__metric=l2, clf__n_neighbors=1, clf__weights=distance\n",
      "[CV 3/5; 74/126] END clf__metric=l2, clf__n_neighbors=1, clf__weights=distance;, score=0.997 total time=   0.0s\n",
      "[CV 4/5; 74/126] START clf__metric=l2, clf__n_neighbors=1, clf__weights=distance\n",
      "[CV 4/5; 74/126] END clf__metric=l2, clf__n_neighbors=1, clf__weights=distance;, score=0.997 total time=   0.0s\n",
      "[CV 5/5; 74/126] START clf__metric=l2, clf__n_neighbors=1, clf__weights=distance\n",
      "[CV 5/5; 74/126] END clf__metric=l2, clf__n_neighbors=1, clf__weights=distance;, score=0.997 total time=   0.0s\n",
      "[CV 1/5; 75/126] START clf__metric=l2, clf__n_neighbors=2, clf__weights=uniform.\n",
      "[CV 1/5; 75/126] END clf__metric=l2, clf__n_neighbors=2, clf__weights=uniform;, score=0.998 total time=   0.0s\n",
      "[CV 2/5; 75/126] START clf__metric=l2, clf__n_neighbors=2, clf__weights=uniform.\n",
      "[CV 2/5; 75/126] END clf__metric=l2, clf__n_neighbors=2, clf__weights=uniform;, score=0.998 total time=   0.0s\n",
      "[CV 3/5; 75/126] START clf__metric=l2, clf__n_neighbors=2, clf__weights=uniform.\n",
      "[CV 3/5; 75/126] END clf__metric=l2, clf__n_neighbors=2, clf__weights=uniform;, score=0.998 total time=   0.0s\n",
      "[CV 4/5; 75/126] START clf__metric=l2, clf__n_neighbors=2, clf__weights=uniform.\n",
      "[CV 4/5; 75/126] END clf__metric=l2, clf__n_neighbors=2, clf__weights=uniform;, score=0.997 total time=   0.0s\n",
      "[CV 5/5; 75/126] START clf__metric=l2, clf__n_neighbors=2, clf__weights=uniform.\n",
      "[CV 5/5; 75/126] END clf__metric=l2, clf__n_neighbors=2, clf__weights=uniform;, score=0.998 total time=   0.0s\n",
      "[CV 1/5; 76/126] START clf__metric=l2, clf__n_neighbors=2, clf__weights=distance\n",
      "[CV 1/5; 76/126] END clf__metric=l2, clf__n_neighbors=2, clf__weights=distance;, score=0.998 total time=   0.0s\n",
      "[CV 2/5; 76/126] START clf__metric=l2, clf__n_neighbors=2, clf__weights=distance\n",
      "[CV 2/5; 76/126] END clf__metric=l2, clf__n_neighbors=2, clf__weights=distance;, score=0.998 total time=   0.1s\n",
      "[CV 3/5; 76/126] START clf__metric=l2, clf__n_neighbors=2, clf__weights=distance\n",
      "[CV 3/5; 76/126] END clf__metric=l2, clf__n_neighbors=2, clf__weights=distance;, score=0.998 total time=   0.1s\n",
      "[CV 4/5; 76/126] START clf__metric=l2, clf__n_neighbors=2, clf__weights=distance\n",
      "[CV 4/5; 76/126] END clf__metric=l2, clf__n_neighbors=2, clf__weights=distance;, score=0.998 total time=   0.0s\n",
      "[CV 5/5; 76/126] START clf__metric=l2, clf__n_neighbors=2, clf__weights=distance\n",
      "[CV 5/5; 76/126] END clf__metric=l2, clf__n_neighbors=2, clf__weights=distance;, score=0.998 total time=   0.0s\n",
      "[CV 1/5; 77/126] START clf__metric=l2, clf__n_neighbors=3, clf__weights=uniform.\n",
      "[CV 1/5; 77/126] END clf__metric=l2, clf__n_neighbors=3, clf__weights=uniform;, score=0.998 total time=   0.1s\n",
      "[CV 2/5; 77/126] START clf__metric=l2, clf__n_neighbors=3, clf__weights=uniform.\n",
      "[CV 2/5; 77/126] END clf__metric=l2, clf__n_neighbors=3, clf__weights=uniform;, score=0.997 total time=   0.0s\n",
      "[CV 3/5; 77/126] START clf__metric=l2, clf__n_neighbors=3, clf__weights=uniform.\n",
      "[CV 3/5; 77/126] END clf__metric=l2, clf__n_neighbors=3, clf__weights=uniform;, score=0.998 total time=   0.0s\n",
      "[CV 4/5; 77/126] START clf__metric=l2, clf__n_neighbors=3, clf__weights=uniform.\n",
      "[CV 4/5; 77/126] END clf__metric=l2, clf__n_neighbors=3, clf__weights=uniform;, score=0.997 total time=   0.0s\n",
      "[CV 5/5; 77/126] START clf__metric=l2, clf__n_neighbors=3, clf__weights=uniform.\n",
      "[CV 5/5; 77/126] END clf__metric=l2, clf__n_neighbors=3, clf__weights=uniform;, score=0.998 total time=   0.1s\n",
      "[CV 1/5; 78/126] START clf__metric=l2, clf__n_neighbors=3, clf__weights=distance\n",
      "[CV 1/5; 78/126] END clf__metric=l2, clf__n_neighbors=3, clf__weights=distance;, score=0.998 total time=   0.1s\n",
      "[CV 2/5; 78/126] START clf__metric=l2, clf__n_neighbors=3, clf__weights=distance\n",
      "[CV 2/5; 78/126] END clf__metric=l2, clf__n_neighbors=3, clf__weights=distance;, score=0.998 total time=   0.0s\n",
      "[CV 3/5; 78/126] START clf__metric=l2, clf__n_neighbors=3, clf__weights=distance\n",
      "[CV 3/5; 78/126] END clf__metric=l2, clf__n_neighbors=3, clf__weights=distance;, score=0.998 total time=   0.0s\n",
      "[CV 4/5; 78/126] START clf__metric=l2, clf__n_neighbors=3, clf__weights=distance\n",
      "[CV 4/5; 78/126] END clf__metric=l2, clf__n_neighbors=3, clf__weights=distance;, score=0.998 total time=   0.0s\n",
      "[CV 5/5; 78/126] START clf__metric=l2, clf__n_neighbors=3, clf__weights=distance\n",
      "[CV 5/5; 78/126] END clf__metric=l2, clf__n_neighbors=3, clf__weights=distance;, score=0.998 total time=   0.1s\n",
      "[CV 1/5; 79/126] START clf__metric=l2, clf__n_neighbors=4, clf__weights=uniform.\n",
      "[CV 1/5; 79/126] END clf__metric=l2, clf__n_neighbors=4, clf__weights=uniform;, score=0.998 total time=   0.1s\n",
      "[CV 2/5; 79/126] START clf__metric=l2, clf__n_neighbors=4, clf__weights=uniform.\n",
      "[CV 2/5; 79/126] END clf__metric=l2, clf__n_neighbors=4, clf__weights=uniform;, score=0.997 total time=   0.0s\n",
      "[CV 3/5; 79/126] START clf__metric=l2, clf__n_neighbors=4, clf__weights=uniform.\n",
      "[CV 3/5; 79/126] END clf__metric=l2, clf__n_neighbors=4, clf__weights=uniform;, score=0.998 total time=   0.1s\n",
      "[CV 4/5; 79/126] START clf__metric=l2, clf__n_neighbors=4, clf__weights=uniform.\n",
      "[CV 4/5; 79/126] END clf__metric=l2, clf__n_neighbors=4, clf__weights=uniform;, score=0.997 total time=   0.0s\n",
      "[CV 5/5; 79/126] START clf__metric=l2, clf__n_neighbors=4, clf__weights=uniform.\n",
      "[CV 5/5; 79/126] END clf__metric=l2, clf__n_neighbors=4, clf__weights=uniform;, score=0.997 total time=   0.0s\n",
      "[CV 1/5; 80/126] START clf__metric=l2, clf__n_neighbors=4, clf__weights=distance\n",
      "[CV 1/5; 80/126] END clf__metric=l2, clf__n_neighbors=4, clf__weights=distance;, score=0.998 total time=   0.0s\n",
      "[CV 2/5; 80/126] START clf__metric=l2, clf__n_neighbors=4, clf__weights=distance\n",
      "[CV 2/5; 80/126] END clf__metric=l2, clf__n_neighbors=4, clf__weights=distance;, score=0.997 total time=   0.0s\n",
      "[CV 3/5; 80/126] START clf__metric=l2, clf__n_neighbors=4, clf__weights=distance\n",
      "[CV 3/5; 80/126] END clf__metric=l2, clf__n_neighbors=4, clf__weights=distance;, score=0.998 total time=   0.1s\n",
      "[CV 4/5; 80/126] START clf__metric=l2, clf__n_neighbors=4, clf__weights=distance\n",
      "[CV 4/5; 80/126] END clf__metric=l2, clf__n_neighbors=4, clf__weights=distance;, score=0.997 total time=   0.1s\n",
      "[CV 5/5; 80/126] START clf__metric=l2, clf__n_neighbors=4, clf__weights=distance\n",
      "[CV 5/5; 80/126] END clf__metric=l2, clf__n_neighbors=4, clf__weights=distance;, score=0.998 total time=   0.1s\n",
      "[CV 1/5; 81/126] START clf__metric=l2, clf__n_neighbors=5, clf__weights=uniform.\n",
      "[CV 1/5; 81/126] END clf__metric=l2, clf__n_neighbors=5, clf__weights=uniform;, score=0.998 total time=   0.1s\n",
      "[CV 2/5; 81/126] START clf__metric=l2, clf__n_neighbors=5, clf__weights=uniform.\n",
      "[CV 2/5; 81/126] END clf__metric=l2, clf__n_neighbors=5, clf__weights=uniform;, score=0.997 total time=   0.0s\n",
      "[CV 3/5; 81/126] START clf__metric=l2, clf__n_neighbors=5, clf__weights=uniform.\n",
      "[CV 3/5; 81/126] END clf__metric=l2, clf__n_neighbors=5, clf__weights=uniform;, score=0.998 total time=   0.0s\n",
      "[CV 4/5; 81/126] START clf__metric=l2, clf__n_neighbors=5, clf__weights=uniform.\n",
      "[CV 4/5; 81/126] END clf__metric=l2, clf__n_neighbors=5, clf__weights=uniform;, score=0.997 total time=   0.0s\n",
      "[CV 5/5; 81/126] START clf__metric=l2, clf__n_neighbors=5, clf__weights=uniform.\n",
      "[CV 5/5; 81/126] END clf__metric=l2, clf__n_neighbors=5, clf__weights=uniform;, score=0.997 total time=   0.0s\n",
      "[CV 1/5; 82/126] START clf__metric=l2, clf__n_neighbors=5, clf__weights=distance\n",
      "[CV 1/5; 82/126] END clf__metric=l2, clf__n_neighbors=5, clf__weights=distance;, score=0.998 total time=   0.0s\n",
      "[CV 2/5; 82/126] START clf__metric=l2, clf__n_neighbors=5, clf__weights=distance\n",
      "[CV 2/5; 82/126] END clf__metric=l2, clf__n_neighbors=5, clf__weights=distance;, score=0.997 total time=   0.0s\n",
      "[CV 3/5; 82/126] START clf__metric=l2, clf__n_neighbors=5, clf__weights=distance\n",
      "[CV 3/5; 82/126] END clf__metric=l2, clf__n_neighbors=5, clf__weights=distance;, score=0.998 total time=   0.2s\n",
      "[CV 4/5; 82/126] START clf__metric=l2, clf__n_neighbors=5, clf__weights=distance\n",
      "[CV 4/5; 82/126] END clf__metric=l2, clf__n_neighbors=5, clf__weights=distance;, score=0.997 total time=   0.1s\n",
      "[CV 5/5; 82/126] START clf__metric=l2, clf__n_neighbors=5, clf__weights=distance\n",
      "[CV 5/5; 82/126] END clf__metric=l2, clf__n_neighbors=5, clf__weights=distance;, score=0.997 total time=   0.3s\n",
      "[CV 1/5; 83/126] START clf__metric=l2, clf__n_neighbors=6, clf__weights=uniform.\n",
      "[CV 1/5; 83/126] END clf__metric=l2, clf__n_neighbors=6, clf__weights=uniform;, score=0.997 total time=   0.0s\n",
      "[CV 2/5; 83/126] START clf__metric=l2, clf__n_neighbors=6, clf__weights=uniform.\n",
      "[CV 2/5; 83/126] END clf__metric=l2, clf__n_neighbors=6, clf__weights=uniform;, score=0.997 total time=   0.1s\n",
      "[CV 3/5; 83/126] START clf__metric=l2, clf__n_neighbors=6, clf__weights=uniform.\n",
      "[CV 3/5; 83/126] END clf__metric=l2, clf__n_neighbors=6, clf__weights=uniform;, score=0.998 total time=   0.0s\n",
      "[CV 4/5; 83/126] START clf__metric=l2, clf__n_neighbors=6, clf__weights=uniform.\n",
      "[CV 4/5; 83/126] END clf__metric=l2, clf__n_neighbors=6, clf__weights=uniform;, score=0.997 total time=   0.0s\n",
      "[CV 5/5; 83/126] START clf__metric=l2, clf__n_neighbors=6, clf__weights=uniform.\n",
      "[CV 5/5; 83/126] END clf__metric=l2, clf__n_neighbors=6, clf__weights=uniform;, score=0.997 total time=   0.1s\n",
      "[CV 1/5; 84/126] START clf__metric=l2, clf__n_neighbors=6, clf__weights=distance\n",
      "[CV 1/5; 84/126] END clf__metric=l2, clf__n_neighbors=6, clf__weights=distance;, score=0.998 total time=   0.1s\n",
      "[CV 2/5; 84/126] START clf__metric=l2, clf__n_neighbors=6, clf__weights=distance\n",
      "[CV 2/5; 84/126] END clf__metric=l2, clf__n_neighbors=6, clf__weights=distance;, score=0.997 total time=   0.0s\n",
      "[CV 3/5; 84/126] START clf__metric=l2, clf__n_neighbors=6, clf__weights=distance\n",
      "[CV 3/5; 84/126] END clf__metric=l2, clf__n_neighbors=6, clf__weights=distance;, score=0.998 total time=   0.2s\n",
      "[CV 4/5; 84/126] START clf__metric=l2, clf__n_neighbors=6, clf__weights=distance\n",
      "[CV 4/5; 84/126] END clf__metric=l2, clf__n_neighbors=6, clf__weights=distance;, score=0.997 total time=   0.1s\n",
      "[CV 5/5; 84/126] START clf__metric=l2, clf__n_neighbors=6, clf__weights=distance\n",
      "[CV 5/5; 84/126] END clf__metric=l2, clf__n_neighbors=6, clf__weights=distance;, score=0.997 total time=   0.1s\n",
      "[CV 1/5; 85/126] START clf__metric=l2, clf__n_neighbors=7, clf__weights=uniform.\n",
      "[CV 1/5; 85/126] END clf__metric=l2, clf__n_neighbors=7, clf__weights=uniform;, score=0.997 total time=   0.0s\n",
      "[CV 2/5; 85/126] START clf__metric=l2, clf__n_neighbors=7, clf__weights=uniform.\n",
      "[CV 2/5; 85/126] END clf__metric=l2, clf__n_neighbors=7, clf__weights=uniform;, score=0.997 total time=   0.1s\n",
      "[CV 3/5; 85/126] START clf__metric=l2, clf__n_neighbors=7, clf__weights=uniform.\n",
      "[CV 3/5; 85/126] END clf__metric=l2, clf__n_neighbors=7, clf__weights=uniform;, score=0.997 total time=   0.1s\n",
      "[CV 4/5; 85/126] START clf__metric=l2, clf__n_neighbors=7, clf__weights=uniform.\n",
      "[CV 4/5; 85/126] END clf__metric=l2, clf__n_neighbors=7, clf__weights=uniform;, score=0.997 total time=   0.0s\n",
      "[CV 5/5; 85/126] START clf__metric=l2, clf__n_neighbors=7, clf__weights=uniform.\n",
      "[CV 5/5; 85/126] END clf__metric=l2, clf__n_neighbors=7, clf__weights=uniform;, score=0.997 total time=   0.0s\n",
      "[CV 1/5; 86/126] START clf__metric=l2, clf__n_neighbors=7, clf__weights=distance\n",
      "[CV 1/5; 86/126] END clf__metric=l2, clf__n_neighbors=7, clf__weights=distance;, score=0.998 total time=   0.0s\n",
      "[CV 2/5; 86/126] START clf__metric=l2, clf__n_neighbors=7, clf__weights=distance\n",
      "[CV 2/5; 86/126] END clf__metric=l2, clf__n_neighbors=7, clf__weights=distance;, score=0.997 total time=   0.0s\n",
      "[CV 3/5; 86/126] START clf__metric=l2, clf__n_neighbors=7, clf__weights=distance\n",
      "[CV 3/5; 86/126] END clf__metric=l2, clf__n_neighbors=7, clf__weights=distance;, score=0.998 total time=   0.1s\n",
      "[CV 4/5; 86/126] START clf__metric=l2, clf__n_neighbors=7, clf__weights=distance\n",
      "[CV 4/5; 86/126] END clf__metric=l2, clf__n_neighbors=7, clf__weights=distance;, score=0.997 total time=   0.0s\n",
      "[CV 5/5; 86/126] START clf__metric=l2, clf__n_neighbors=7, clf__weights=distance\n",
      "[CV 5/5; 86/126] END clf__metric=l2, clf__n_neighbors=7, clf__weights=distance;, score=0.997 total time=   0.0s\n",
      "[CV 1/5; 87/126] START clf__metric=l2, clf__n_neighbors=8, clf__weights=uniform.\n",
      "[CV 1/5; 87/126] END clf__metric=l2, clf__n_neighbors=8, clf__weights=uniform;, score=0.997 total time=   0.0s\n",
      "[CV 2/5; 87/126] START clf__metric=l2, clf__n_neighbors=8, clf__weights=uniform.\n",
      "[CV 2/5; 87/126] END clf__metric=l2, clf__n_neighbors=8, clf__weights=uniform;, score=0.997 total time=   0.1s\n",
      "[CV 3/5; 87/126] START clf__metric=l2, clf__n_neighbors=8, clf__weights=uniform.\n",
      "[CV 3/5; 87/126] END clf__metric=l2, clf__n_neighbors=8, clf__weights=uniform;, score=0.997 total time=   0.1s\n",
      "[CV 4/5; 87/126] START clf__metric=l2, clf__n_neighbors=8, clf__weights=uniform.\n",
      "[CV 4/5; 87/126] END clf__metric=l2, clf__n_neighbors=8, clf__weights=uniform;, score=0.997 total time=   0.0s\n",
      "[CV 5/5; 87/126] START clf__metric=l2, clf__n_neighbors=8, clf__weights=uniform.\n",
      "[CV 5/5; 87/126] END clf__metric=l2, clf__n_neighbors=8, clf__weights=uniform;, score=0.997 total time=   0.0s\n",
      "[CV 1/5; 88/126] START clf__metric=l2, clf__n_neighbors=8, clf__weights=distance\n",
      "[CV 1/5; 88/126] END clf__metric=l2, clf__n_neighbors=8, clf__weights=distance;, score=0.997 total time=   0.0s\n",
      "[CV 2/5; 88/126] START clf__metric=l2, clf__n_neighbors=8, clf__weights=distance\n",
      "[CV 2/5; 88/126] END clf__metric=l2, clf__n_neighbors=8, clf__weights=distance;, score=0.997 total time=   0.0s\n",
      "[CV 3/5; 88/126] START clf__metric=l2, clf__n_neighbors=8, clf__weights=distance\n",
      "[CV 3/5; 88/126] END clf__metric=l2, clf__n_neighbors=8, clf__weights=distance;, score=0.998 total time=   0.0s\n",
      "[CV 4/5; 88/126] START clf__metric=l2, clf__n_neighbors=8, clf__weights=distance\n",
      "[CV 4/5; 88/126] END clf__metric=l2, clf__n_neighbors=8, clf__weights=distance;, score=0.997 total time=   0.0s\n",
      "[CV 5/5; 88/126] START clf__metric=l2, clf__n_neighbors=8, clf__weights=distance\n",
      "[CV 5/5; 88/126] END clf__metric=l2, clf__n_neighbors=8, clf__weights=distance;, score=0.997 total time=   0.0s\n",
      "[CV 1/5; 89/126] START clf__metric=l2, clf__n_neighbors=9, clf__weights=uniform.\n",
      "[CV 1/5; 89/126] END clf__metric=l2, clf__n_neighbors=9, clf__weights=uniform;, score=0.997 total time=   0.0s\n",
      "[CV 2/5; 89/126] START clf__metric=l2, clf__n_neighbors=9, clf__weights=uniform.\n",
      "[CV 2/5; 89/126] END clf__metric=l2, clf__n_neighbors=9, clf__weights=uniform;, score=0.997 total time=   0.0s\n",
      "[CV 3/5; 89/126] START clf__metric=l2, clf__n_neighbors=9, clf__weights=uniform.\n",
      "[CV 3/5; 89/126] END clf__metric=l2, clf__n_neighbors=9, clf__weights=uniform;, score=0.997 total time=   0.1s\n",
      "[CV 4/5; 89/126] START clf__metric=l2, clf__n_neighbors=9, clf__weights=uniform.\n",
      "[CV 4/5; 89/126] END clf__metric=l2, clf__n_neighbors=9, clf__weights=uniform;, score=0.996 total time=   0.0s\n",
      "[CV 5/5; 89/126] START clf__metric=l2, clf__n_neighbors=9, clf__weights=uniform.\n",
      "[CV 5/5; 89/126] END clf__metric=l2, clf__n_neighbors=9, clf__weights=uniform;, score=0.996 total time=   0.0s\n",
      "[CV 1/5; 90/126] START clf__metric=l2, clf__n_neighbors=9, clf__weights=distance\n",
      "[CV 1/5; 90/126] END clf__metric=l2, clf__n_neighbors=9, clf__weights=distance;, score=0.997 total time=   0.1s\n",
      "[CV 2/5; 90/126] START clf__metric=l2, clf__n_neighbors=9, clf__weights=distance\n",
      "[CV 2/5; 90/126] END clf__metric=l2, clf__n_neighbors=9, clf__weights=distance;, score=0.997 total time=   0.0s\n",
      "[CV 3/5; 90/126] START clf__metric=l2, clf__n_neighbors=9, clf__weights=distance\n",
      "[CV 3/5; 90/126] END clf__metric=l2, clf__n_neighbors=9, clf__weights=distance;, score=0.997 total time=   0.0s\n",
      "[CV 4/5; 90/126] START clf__metric=l2, clf__n_neighbors=9, clf__weights=distance\n",
      "[CV 4/5; 90/126] END clf__metric=l2, clf__n_neighbors=9, clf__weights=distance;, score=0.997 total time=   0.1s\n",
      "[CV 5/5; 90/126] START clf__metric=l2, clf__n_neighbors=9, clf__weights=distance\n",
      "[CV 5/5; 90/126] END clf__metric=l2, clf__n_neighbors=9, clf__weights=distance;, score=0.997 total time=   0.0s\n",
      "[CV 1/5; 91/126] START clf__metric=manhattan, clf__n_neighbors=1, clf__weights=uniform\n",
      "[CV 1/5; 91/126] END clf__metric=manhattan, clf__n_neighbors=1, clf__weights=uniform;, score=0.999 total time=   0.0s\n",
      "[CV 2/5; 91/126] START clf__metric=manhattan, clf__n_neighbors=1, clf__weights=uniform\n",
      "[CV 2/5; 91/126] END clf__metric=manhattan, clf__n_neighbors=1, clf__weights=uniform;, score=0.998 total time=   0.0s\n",
      "[CV 3/5; 91/126] START clf__metric=manhattan, clf__n_neighbors=1, clf__weights=uniform\n",
      "[CV 3/5; 91/126] END clf__metric=manhattan, clf__n_neighbors=1, clf__weights=uniform;, score=0.998 total time=   0.0s\n",
      "[CV 4/5; 91/126] START clf__metric=manhattan, clf__n_neighbors=1, clf__weights=uniform\n",
      "[CV 4/5; 91/126] END clf__metric=manhattan, clf__n_neighbors=1, clf__weights=uniform;, score=0.998 total time=   0.0s\n",
      "[CV 5/5; 91/126] START clf__metric=manhattan, clf__n_neighbors=1, clf__weights=uniform\n",
      "[CV 5/5; 91/126] END clf__metric=manhattan, clf__n_neighbors=1, clf__weights=uniform;, score=0.998 total time=   0.0s\n",
      "[CV 1/5; 92/126] START clf__metric=manhattan, clf__n_neighbors=1, clf__weights=distance\n",
      "[CV 1/5; 92/126] END clf__metric=manhattan, clf__n_neighbors=1, clf__weights=distance;, score=0.999 total time=   0.0s\n",
      "[CV 2/5; 92/126] START clf__metric=manhattan, clf__n_neighbors=1, clf__weights=distance\n",
      "[CV 2/5; 92/126] END clf__metric=manhattan, clf__n_neighbors=1, clf__weights=distance;, score=0.998 total time=   0.0s\n",
      "[CV 3/5; 92/126] START clf__metric=manhattan, clf__n_neighbors=1, clf__weights=distance\n",
      "[CV 3/5; 92/126] END clf__metric=manhattan, clf__n_neighbors=1, clf__weights=distance;, score=0.998 total time=   0.1s\n",
      "[CV 4/5; 92/126] START clf__metric=manhattan, clf__n_neighbors=1, clf__weights=distance\n",
      "[CV 4/5; 92/126] END clf__metric=manhattan, clf__n_neighbors=1, clf__weights=distance;, score=0.998 total time=   0.0s\n",
      "[CV 5/5; 92/126] START clf__metric=manhattan, clf__n_neighbors=1, clf__weights=distance\n",
      "[CV 5/5; 92/126] END clf__metric=manhattan, clf__n_neighbors=1, clf__weights=distance;, score=0.998 total time=   0.1s\n",
      "[CV 1/5; 93/126] START clf__metric=manhattan, clf__n_neighbors=2, clf__weights=uniform\n",
      "[CV 1/5; 93/126] END clf__metric=manhattan, clf__n_neighbors=2, clf__weights=uniform;, score=0.999 total time=   0.0s\n",
      "[CV 2/5; 93/126] START clf__metric=manhattan, clf__n_neighbors=2, clf__weights=uniform\n",
      "[CV 2/5; 93/126] END clf__metric=manhattan, clf__n_neighbors=2, clf__weights=uniform;, score=0.999 total time=   0.0s\n",
      "[CV 3/5; 93/126] START clf__metric=manhattan, clf__n_neighbors=2, clf__weights=uniform\n",
      "[CV 3/5; 93/126] END clf__metric=manhattan, clf__n_neighbors=2, clf__weights=uniform;, score=0.999 total time=   0.0s\n",
      "[CV 4/5; 93/126] START clf__metric=manhattan, clf__n_neighbors=2, clf__weights=uniform\n",
      "[CV 4/5; 93/126] END clf__metric=manhattan, clf__n_neighbors=2, clf__weights=uniform;, score=0.999 total time=   0.0s\n",
      "[CV 5/5; 93/126] START clf__metric=manhattan, clf__n_neighbors=2, clf__weights=uniform\n",
      "[CV 5/5; 93/126] END clf__metric=manhattan, clf__n_neighbors=2, clf__weights=uniform;, score=0.999 total time=   0.0s\n",
      "[CV 1/5; 94/126] START clf__metric=manhattan, clf__n_neighbors=2, clf__weights=distance\n",
      "[CV 1/5; 94/126] END clf__metric=manhattan, clf__n_neighbors=2, clf__weights=distance;, score=0.999 total time=   0.0s\n",
      "[CV 2/5; 94/126] START clf__metric=manhattan, clf__n_neighbors=2, clf__weights=distance\n",
      "[CV 2/5; 94/126] END clf__metric=manhattan, clf__n_neighbors=2, clf__weights=distance;, score=0.999 total time=   0.0s\n",
      "[CV 3/5; 94/126] START clf__metric=manhattan, clf__n_neighbors=2, clf__weights=distance\n",
      "[CV 3/5; 94/126] END clf__metric=manhattan, clf__n_neighbors=2, clf__weights=distance;, score=0.999 total time=   0.1s\n",
      "[CV 4/5; 94/126] START clf__metric=manhattan, clf__n_neighbors=2, clf__weights=distance\n",
      "[CV 4/5; 94/126] END clf__metric=manhattan, clf__n_neighbors=2, clf__weights=distance;, score=0.999 total time=   0.1s\n",
      "[CV 5/5; 94/126] START clf__metric=manhattan, clf__n_neighbors=2, clf__weights=distance\n",
      "[CV 5/5; 94/126] END clf__metric=manhattan, clf__n_neighbors=2, clf__weights=distance;, score=0.999 total time=   0.1s\n",
      "[CV 1/5; 95/126] START clf__metric=manhattan, clf__n_neighbors=3, clf__weights=uniform\n",
      "[CV 1/5; 95/126] END clf__metric=manhattan, clf__n_neighbors=3, clf__weights=uniform;, score=0.999 total time=   0.0s\n",
      "[CV 2/5; 95/126] START clf__metric=manhattan, clf__n_neighbors=3, clf__weights=uniform\n",
      "[CV 2/5; 95/126] END clf__metric=manhattan, clf__n_neighbors=3, clf__weights=uniform;, score=0.999 total time=   0.0s\n",
      "[CV 3/5; 95/126] START clf__metric=manhattan, clf__n_neighbors=3, clf__weights=uniform\n",
      "[CV 3/5; 95/126] END clf__metric=manhattan, clf__n_neighbors=3, clf__weights=uniform;, score=0.999 total time=   0.0s\n",
      "[CV 4/5; 95/126] START clf__metric=manhattan, clf__n_neighbors=3, clf__weights=uniform\n",
      "[CV 4/5; 95/126] END clf__metric=manhattan, clf__n_neighbors=3, clf__weights=uniform;, score=0.999 total time=   0.0s\n",
      "[CV 5/5; 95/126] START clf__metric=manhattan, clf__n_neighbors=3, clf__weights=uniform\n",
      "[CV 5/5; 95/126] END clf__metric=manhattan, clf__n_neighbors=3, clf__weights=uniform;, score=0.999 total time=   0.0s\n",
      "[CV 1/5; 96/126] START clf__metric=manhattan, clf__n_neighbors=3, clf__weights=distance\n",
      "[CV 1/5; 96/126] END clf__metric=manhattan, clf__n_neighbors=3, clf__weights=distance;, score=0.999 total time=   0.0s\n",
      "[CV 2/5; 96/126] START clf__metric=manhattan, clf__n_neighbors=3, clf__weights=distance\n",
      "[CV 2/5; 96/126] END clf__metric=manhattan, clf__n_neighbors=3, clf__weights=distance;, score=0.999 total time=   0.0s\n",
      "[CV 3/5; 96/126] START clf__metric=manhattan, clf__n_neighbors=3, clf__weights=distance\n",
      "[CV 3/5; 96/126] END clf__metric=manhattan, clf__n_neighbors=3, clf__weights=distance;, score=0.999 total time=   0.0s\n",
      "[CV 4/5; 96/126] START clf__metric=manhattan, clf__n_neighbors=3, clf__weights=distance\n",
      "[CV 4/5; 96/126] END clf__metric=manhattan, clf__n_neighbors=3, clf__weights=distance;, score=0.999 total time=   0.0s\n",
      "[CV 5/5; 96/126] START clf__metric=manhattan, clf__n_neighbors=3, clf__weights=distance\n",
      "[CV 5/5; 96/126] END clf__metric=manhattan, clf__n_neighbors=3, clf__weights=distance;, score=0.999 total time=   0.1s\n",
      "[CV 1/5; 97/126] START clf__metric=manhattan, clf__n_neighbors=4, clf__weights=uniform\n",
      "[CV 1/5; 97/126] END clf__metric=manhattan, clf__n_neighbors=4, clf__weights=uniform;, score=0.999 total time=   0.0s\n",
      "[CV 2/5; 97/126] START clf__metric=manhattan, clf__n_neighbors=4, clf__weights=uniform\n",
      "[CV 2/5; 97/126] END clf__metric=manhattan, clf__n_neighbors=4, clf__weights=uniform;, score=0.999 total time=   0.0s\n",
      "[CV 3/5; 97/126] START clf__metric=manhattan, clf__n_neighbors=4, clf__weights=uniform\n",
      "[CV 3/5; 97/126] END clf__metric=manhattan, clf__n_neighbors=4, clf__weights=uniform;, score=0.999 total time=   0.0s\n",
      "[CV 4/5; 97/126] START clf__metric=manhattan, clf__n_neighbors=4, clf__weights=uniform\n",
      "[CV 4/5; 97/126] END clf__metric=manhattan, clf__n_neighbors=4, clf__weights=uniform;, score=0.999 total time=   0.1s\n",
      "[CV 5/5; 97/126] START clf__metric=manhattan, clf__n_neighbors=4, clf__weights=uniform\n",
      "[CV 5/5; 97/126] END clf__metric=manhattan, clf__n_neighbors=4, clf__weights=uniform;, score=0.999 total time=   0.0s\n",
      "[CV 1/5; 98/126] START clf__metric=manhattan, clf__n_neighbors=4, clf__weights=distance\n",
      "[CV 1/5; 98/126] END clf__metric=manhattan, clf__n_neighbors=4, clf__weights=distance;, score=0.999 total time=   0.0s\n",
      "[CV 2/5; 98/126] START clf__metric=manhattan, clf__n_neighbors=4, clf__weights=distance\n",
      "[CV 2/5; 98/126] END clf__metric=manhattan, clf__n_neighbors=4, clf__weights=distance;, score=0.999 total time=   0.0s\n",
      "[CV 3/5; 98/126] START clf__metric=manhattan, clf__n_neighbors=4, clf__weights=distance\n",
      "[CV 3/5; 98/126] END clf__metric=manhattan, clf__n_neighbors=4, clf__weights=distance;, score=0.999 total time=   0.0s\n",
      "[CV 4/5; 98/126] START clf__metric=manhattan, clf__n_neighbors=4, clf__weights=distance\n",
      "[CV 4/5; 98/126] END clf__metric=manhattan, clf__n_neighbors=4, clf__weights=distance;, score=0.999 total time=   0.0s\n",
      "[CV 5/5; 98/126] START clf__metric=manhattan, clf__n_neighbors=4, clf__weights=distance\n",
      "[CV 5/5; 98/126] END clf__metric=manhattan, clf__n_neighbors=4, clf__weights=distance;, score=0.999 total time=   0.0s\n",
      "[CV 1/5; 99/126] START clf__metric=manhattan, clf__n_neighbors=5, clf__weights=uniform\n",
      "[CV 1/5; 99/126] END clf__metric=manhattan, clf__n_neighbors=5, clf__weights=uniform;, score=0.999 total time=   0.0s\n",
      "[CV 2/5; 99/126] START clf__metric=manhattan, clf__n_neighbors=5, clf__weights=uniform\n",
      "[CV 2/5; 99/126] END clf__metric=manhattan, clf__n_neighbors=5, clf__weights=uniform;, score=0.999 total time=   0.1s\n",
      "[CV 3/5; 99/126] START clf__metric=manhattan, clf__n_neighbors=5, clf__weights=uniform\n",
      "[CV 3/5; 99/126] END clf__metric=manhattan, clf__n_neighbors=5, clf__weights=uniform;, score=0.999 total time=   0.0s\n",
      "[CV 4/5; 99/126] START clf__metric=manhattan, clf__n_neighbors=5, clf__weights=uniform\n",
      "[CV 4/5; 99/126] END clf__metric=manhattan, clf__n_neighbors=5, clf__weights=uniform;, score=0.999 total time=   0.0s\n",
      "[CV 5/5; 99/126] START clf__metric=manhattan, clf__n_neighbors=5, clf__weights=uniform\n",
      "[CV 5/5; 99/126] END clf__metric=manhattan, clf__n_neighbors=5, clf__weights=uniform;, score=0.999 total time=   0.0s\n",
      "[CV 1/5; 100/126] START clf__metric=manhattan, clf__n_neighbors=5, clf__weights=distance\n",
      "[CV 1/5; 100/126] END clf__metric=manhattan, clf__n_neighbors=5, clf__weights=distance;, score=0.999 total time=   0.0s\n",
      "[CV 2/5; 100/126] START clf__metric=manhattan, clf__n_neighbors=5, clf__weights=distance\n",
      "[CV 2/5; 100/126] END clf__metric=manhattan, clf__n_neighbors=5, clf__weights=distance;, score=0.999 total time=   0.0s\n",
      "[CV 3/5; 100/126] START clf__metric=manhattan, clf__n_neighbors=5, clf__weights=distance\n",
      "[CV 3/5; 100/126] END clf__metric=manhattan, clf__n_neighbors=5, clf__weights=distance;, score=0.999 total time=   0.0s\n",
      "[CV 4/5; 100/126] START clf__metric=manhattan, clf__n_neighbors=5, clf__weights=distance\n",
      "[CV 4/5; 100/126] END clf__metric=manhattan, clf__n_neighbors=5, clf__weights=distance;, score=0.999 total time=   0.0s\n",
      "[CV 5/5; 100/126] START clf__metric=manhattan, clf__n_neighbors=5, clf__weights=distance\n",
      "[CV 5/5; 100/126] END clf__metric=manhattan, clf__n_neighbors=5, clf__weights=distance;, score=0.999 total time=   0.0s\n",
      "[CV 1/5; 101/126] START clf__metric=manhattan, clf__n_neighbors=6, clf__weights=uniform\n",
      "[CV 1/5; 101/126] END clf__metric=manhattan, clf__n_neighbors=6, clf__weights=uniform;, score=0.999 total time=   0.0s\n",
      "[CV 2/5; 101/126] START clf__metric=manhattan, clf__n_neighbors=6, clf__weights=uniform\n",
      "[CV 2/5; 101/126] END clf__metric=manhattan, clf__n_neighbors=6, clf__weights=uniform;, score=0.998 total time=   0.0s\n",
      "[CV 3/5; 101/126] START clf__metric=manhattan, clf__n_neighbors=6, clf__weights=uniform\n",
      "[CV 3/5; 101/126] END clf__metric=manhattan, clf__n_neighbors=6, clf__weights=uniform;, score=0.999 total time=   0.1s\n",
      "[CV 4/5; 101/126] START clf__metric=manhattan, clf__n_neighbors=6, clf__weights=uniform\n",
      "[CV 4/5; 101/126] END clf__metric=manhattan, clf__n_neighbors=6, clf__weights=uniform;, score=0.999 total time=   0.1s\n",
      "[CV 5/5; 101/126] START clf__metric=manhattan, clf__n_neighbors=6, clf__weights=uniform\n",
      "[CV 5/5; 101/126] END clf__metric=manhattan, clf__n_neighbors=6, clf__weights=uniform;, score=0.999 total time=   0.1s\n",
      "[CV 1/5; 102/126] START clf__metric=manhattan, clf__n_neighbors=6, clf__weights=distance\n",
      "[CV 1/5; 102/126] END clf__metric=manhattan, clf__n_neighbors=6, clf__weights=distance;, score=0.999 total time=   0.1s\n",
      "[CV 2/5; 102/126] START clf__metric=manhattan, clf__n_neighbors=6, clf__weights=distance\n",
      "[CV 2/5; 102/126] END clf__metric=manhattan, clf__n_neighbors=6, clf__weights=distance;, score=0.999 total time=   0.1s\n",
      "[CV 3/5; 102/126] START clf__metric=manhattan, clf__n_neighbors=6, clf__weights=distance\n",
      "[CV 3/5; 102/126] END clf__metric=manhattan, clf__n_neighbors=6, clf__weights=distance;, score=0.999 total time=   0.1s\n",
      "[CV 4/5; 102/126] START clf__metric=manhattan, clf__n_neighbors=6, clf__weights=distance\n",
      "[CV 4/5; 102/126] END clf__metric=manhattan, clf__n_neighbors=6, clf__weights=distance;, score=0.999 total time=   0.0s\n",
      "[CV 5/5; 102/126] START clf__metric=manhattan, clf__n_neighbors=6, clf__weights=distance\n",
      "[CV 5/5; 102/126] END clf__metric=manhattan, clf__n_neighbors=6, clf__weights=distance;, score=0.999 total time=   0.1s\n",
      "[CV 1/5; 103/126] START clf__metric=manhattan, clf__n_neighbors=7, clf__weights=uniform\n",
      "[CV 1/5; 103/126] END clf__metric=manhattan, clf__n_neighbors=7, clf__weights=uniform;, score=0.999 total time=   0.0s\n",
      "[CV 2/5; 103/126] START clf__metric=manhattan, clf__n_neighbors=7, clf__weights=uniform\n",
      "[CV 2/5; 103/126] END clf__metric=manhattan, clf__n_neighbors=7, clf__weights=uniform;, score=0.998 total time=   0.1s\n",
      "[CV 3/5; 103/126] START clf__metric=manhattan, clf__n_neighbors=7, clf__weights=uniform\n",
      "[CV 3/5; 103/126] END clf__metric=manhattan, clf__n_neighbors=7, clf__weights=uniform;, score=0.999 total time=   0.0s\n",
      "[CV 4/5; 103/126] START clf__metric=manhattan, clf__n_neighbors=7, clf__weights=uniform\n",
      "[CV 4/5; 103/126] END clf__metric=manhattan, clf__n_neighbors=7, clf__weights=uniform;, score=0.999 total time=   0.0s\n",
      "[CV 5/5; 103/126] START clf__metric=manhattan, clf__n_neighbors=7, clf__weights=uniform\n",
      "[CV 5/5; 103/126] END clf__metric=manhattan, clf__n_neighbors=7, clf__weights=uniform;, score=0.999 total time=   0.1s\n",
      "[CV 1/5; 104/126] START clf__metric=manhattan, clf__n_neighbors=7, clf__weights=distance\n",
      "[CV 1/5; 104/126] END clf__metric=manhattan, clf__n_neighbors=7, clf__weights=distance;, score=0.999 total time=   0.0s\n",
      "[CV 2/5; 104/126] START clf__metric=manhattan, clf__n_neighbors=7, clf__weights=distance\n",
      "[CV 2/5; 104/126] END clf__metric=manhattan, clf__n_neighbors=7, clf__weights=distance;, score=0.999 total time=   0.0s\n",
      "[CV 3/5; 104/126] START clf__metric=manhattan, clf__n_neighbors=7, clf__weights=distance\n",
      "[CV 3/5; 104/126] END clf__metric=manhattan, clf__n_neighbors=7, clf__weights=distance;, score=0.999 total time=   0.0s\n",
      "[CV 4/5; 104/126] START clf__metric=manhattan, clf__n_neighbors=7, clf__weights=distance\n",
      "[CV 4/5; 104/126] END clf__metric=manhattan, clf__n_neighbors=7, clf__weights=distance;, score=0.999 total time=   0.1s\n",
      "[CV 5/5; 104/126] START clf__metric=manhattan, clf__n_neighbors=7, clf__weights=distance\n",
      "[CV 5/5; 104/126] END clf__metric=manhattan, clf__n_neighbors=7, clf__weights=distance;, score=0.999 total time=   0.0s\n",
      "[CV 1/5; 105/126] START clf__metric=manhattan, clf__n_neighbors=8, clf__weights=uniform\n",
      "[CV 1/5; 105/126] END clf__metric=manhattan, clf__n_neighbors=8, clf__weights=uniform;, score=0.999 total time=   0.0s\n",
      "[CV 2/5; 105/126] START clf__metric=manhattan, clf__n_neighbors=8, clf__weights=uniform\n",
      "[CV 2/5; 105/126] END clf__metric=manhattan, clf__n_neighbors=8, clf__weights=uniform;, score=0.998 total time=   0.1s\n",
      "[CV 3/5; 105/126] START clf__metric=manhattan, clf__n_neighbors=8, clf__weights=uniform\n",
      "[CV 3/5; 105/126] END clf__metric=manhattan, clf__n_neighbors=8, clf__weights=uniform;, score=0.998 total time=   0.0s\n",
      "[CV 4/5; 105/126] START clf__metric=manhattan, clf__n_neighbors=8, clf__weights=uniform\n",
      "[CV 4/5; 105/126] END clf__metric=manhattan, clf__n_neighbors=8, clf__weights=uniform;, score=0.998 total time=   0.0s\n",
      "[CV 5/5; 105/126] START clf__metric=manhattan, clf__n_neighbors=8, clf__weights=uniform\n",
      "[CV 5/5; 105/126] END clf__metric=manhattan, clf__n_neighbors=8, clf__weights=uniform;, score=0.998 total time=   0.0s\n",
      "[CV 1/5; 106/126] START clf__metric=manhattan, clf__n_neighbors=8, clf__weights=distance\n",
      "[CV 1/5; 106/126] END clf__metric=manhattan, clf__n_neighbors=8, clf__weights=distance;, score=0.999 total time=   0.1s\n",
      "[CV 2/5; 106/126] START clf__metric=manhattan, clf__n_neighbors=8, clf__weights=distance\n",
      "[CV 2/5; 106/126] END clf__metric=manhattan, clf__n_neighbors=8, clf__weights=distance;, score=0.998 total time=   0.0s\n",
      "[CV 3/5; 106/126] START clf__metric=manhattan, clf__n_neighbors=8, clf__weights=distance\n",
      "[CV 3/5; 106/126] END clf__metric=manhattan, clf__n_neighbors=8, clf__weights=distance;, score=0.999 total time=   0.0s\n",
      "[CV 4/5; 106/126] START clf__metric=manhattan, clf__n_neighbors=8, clf__weights=distance\n",
      "[CV 4/5; 106/126] END clf__metric=manhattan, clf__n_neighbors=8, clf__weights=distance;, score=0.999 total time=   0.1s\n",
      "[CV 5/5; 106/126] START clf__metric=manhattan, clf__n_neighbors=8, clf__weights=distance\n",
      "[CV 5/5; 106/126] END clf__metric=manhattan, clf__n_neighbors=8, clf__weights=distance;, score=0.999 total time=   0.1s\n",
      "[CV 1/5; 107/126] START clf__metric=manhattan, clf__n_neighbors=9, clf__weights=uniform\n",
      "[CV 1/5; 107/126] END clf__metric=manhattan, clf__n_neighbors=9, clf__weights=uniform;, score=0.999 total time=   0.0s\n",
      "[CV 2/5; 107/126] START clf__metric=manhattan, clf__n_neighbors=9, clf__weights=uniform\n",
      "[CV 2/5; 107/126] END clf__metric=manhattan, clf__n_neighbors=9, clf__weights=uniform;, score=0.998 total time=   0.1s\n",
      "[CV 3/5; 107/126] START clf__metric=manhattan, clf__n_neighbors=9, clf__weights=uniform\n",
      "[CV 3/5; 107/126] END clf__metric=manhattan, clf__n_neighbors=9, clf__weights=uniform;, score=0.998 total time=   0.0s\n",
      "[CV 4/5; 107/126] START clf__metric=manhattan, clf__n_neighbors=9, clf__weights=uniform\n",
      "[CV 4/5; 107/126] END clf__metric=manhattan, clf__n_neighbors=9, clf__weights=uniform;, score=0.998 total time=   0.0s\n",
      "[CV 5/5; 107/126] START clf__metric=manhattan, clf__n_neighbors=9, clf__weights=uniform\n",
      "[CV 5/5; 107/126] END clf__metric=manhattan, clf__n_neighbors=9, clf__weights=uniform;, score=0.998 total time=   0.0s\n",
      "[CV 1/5; 108/126] START clf__metric=manhattan, clf__n_neighbors=9, clf__weights=distance\n",
      "[CV 1/5; 108/126] END clf__metric=manhattan, clf__n_neighbors=9, clf__weights=distance;, score=0.999 total time=   0.0s\n",
      "[CV 2/5; 108/126] START clf__metric=manhattan, clf__n_neighbors=9, clf__weights=distance\n",
      "[CV 2/5; 108/126] END clf__metric=manhattan, clf__n_neighbors=9, clf__weights=distance;, score=0.998 total time=   0.0s\n",
      "[CV 3/5; 108/126] START clf__metric=manhattan, clf__n_neighbors=9, clf__weights=distance\n",
      "[CV 3/5; 108/126] END clf__metric=manhattan, clf__n_neighbors=9, clf__weights=distance;, score=0.999 total time=   0.1s\n",
      "[CV 4/5; 108/126] START clf__metric=manhattan, clf__n_neighbors=9, clf__weights=distance\n",
      "[CV 4/5; 108/126] END clf__metric=manhattan, clf__n_neighbors=9, clf__weights=distance;, score=0.999 total time=   0.0s\n",
      "[CV 5/5; 108/126] START clf__metric=manhattan, clf__n_neighbors=9, clf__weights=distance\n",
      "[CV 5/5; 108/126] END clf__metric=manhattan, clf__n_neighbors=9, clf__weights=distance;, score=0.999 total time=   0.0s\n",
      "[CV 1/5; 109/126] START clf__metric=nan_euclidean, clf__n_neighbors=1, clf__weights=uniform\n",
      "[CV 1/5; 109/126] END clf__metric=nan_euclidean, clf__n_neighbors=1, clf__weights=uniform;, score=0.998 total time=   1.1s\n",
      "[CV 2/5; 109/126] START clf__metric=nan_euclidean, clf__n_neighbors=1, clf__weights=uniform\n",
      "[CV 2/5; 109/126] END clf__metric=nan_euclidean, clf__n_neighbors=1, clf__weights=uniform;, score=0.997 total time=   1.3s\n",
      "[CV 3/5; 109/126] START clf__metric=nan_euclidean, clf__n_neighbors=1, clf__weights=uniform\n",
      "[CV 3/5; 109/126] END clf__metric=nan_euclidean, clf__n_neighbors=1, clf__weights=uniform;, score=0.997 total time=   1.1s\n",
      "[CV 4/5; 109/126] START clf__metric=nan_euclidean, clf__n_neighbors=1, clf__weights=uniform\n",
      "[CV 4/5; 109/126] END clf__metric=nan_euclidean, clf__n_neighbors=1, clf__weights=uniform;, score=0.997 total time=   1.2s\n",
      "[CV 5/5; 109/126] START clf__metric=nan_euclidean, clf__n_neighbors=1, clf__weights=uniform\n",
      "[CV 5/5; 109/126] END clf__metric=nan_euclidean, clf__n_neighbors=1, clf__weights=uniform;, score=0.997 total time=   1.3s\n",
      "[CV 1/5; 110/126] START clf__metric=nan_euclidean, clf__n_neighbors=1, clf__weights=distance\n",
      "[CV 1/5; 110/126] END clf__metric=nan_euclidean, clf__n_neighbors=1, clf__weights=distance;, score=0.998 total time=   1.7s\n",
      "[CV 2/5; 110/126] START clf__metric=nan_euclidean, clf__n_neighbors=1, clf__weights=distance\n",
      "[CV 2/5; 110/126] END clf__metric=nan_euclidean, clf__n_neighbors=1, clf__weights=distance;, score=0.997 total time=   0.8s\n",
      "[CV 3/5; 110/126] START clf__metric=nan_euclidean, clf__n_neighbors=1, clf__weights=distance\n",
      "[CV 3/5; 110/126] END clf__metric=nan_euclidean, clf__n_neighbors=1, clf__weights=distance;, score=0.997 total time=   0.7s\n",
      "[CV 4/5; 110/126] START clf__metric=nan_euclidean, clf__n_neighbors=1, clf__weights=distance\n",
      "[CV 4/5; 110/126] END clf__metric=nan_euclidean, clf__n_neighbors=1, clf__weights=distance;, score=0.997 total time=   0.7s\n",
      "[CV 5/5; 110/126] START clf__metric=nan_euclidean, clf__n_neighbors=1, clf__weights=distance\n",
      "[CV 5/5; 110/126] END clf__metric=nan_euclidean, clf__n_neighbors=1, clf__weights=distance;, score=0.997 total time=   0.7s\n",
      "[CV 1/5; 111/126] START clf__metric=nan_euclidean, clf__n_neighbors=2, clf__weights=uniform\n",
      "[CV 1/5; 111/126] END clf__metric=nan_euclidean, clf__n_neighbors=2, clf__weights=uniform;, score=0.998 total time=   0.7s\n",
      "[CV 2/5; 111/126] START clf__metric=nan_euclidean, clf__n_neighbors=2, clf__weights=uniform\n",
      "[CV 2/5; 111/126] END clf__metric=nan_euclidean, clf__n_neighbors=2, clf__weights=uniform;, score=0.998 total time=   0.7s\n",
      "[CV 3/5; 111/126] START clf__metric=nan_euclidean, clf__n_neighbors=2, clf__weights=uniform\n",
      "[CV 3/5; 111/126] END clf__metric=nan_euclidean, clf__n_neighbors=2, clf__weights=uniform;, score=0.998 total time=   0.7s\n",
      "[CV 4/5; 111/126] START clf__metric=nan_euclidean, clf__n_neighbors=2, clf__weights=uniform\n",
      "[CV 4/5; 111/126] END clf__metric=nan_euclidean, clf__n_neighbors=2, clf__weights=uniform;, score=0.997 total time=   0.7s\n",
      "[CV 5/5; 111/126] START clf__metric=nan_euclidean, clf__n_neighbors=2, clf__weights=uniform\n",
      "[CV 5/5; 111/126] END clf__metric=nan_euclidean, clf__n_neighbors=2, clf__weights=uniform;, score=0.998 total time=   0.7s\n",
      "[CV 1/5; 112/126] START clf__metric=nan_euclidean, clf__n_neighbors=2, clf__weights=distance\n",
      "[CV 1/5; 112/126] END clf__metric=nan_euclidean, clf__n_neighbors=2, clf__weights=distance;, score=0.998 total time=   0.8s\n",
      "[CV 2/5; 112/126] START clf__metric=nan_euclidean, clf__n_neighbors=2, clf__weights=distance\n",
      "[CV 2/5; 112/126] END clf__metric=nan_euclidean, clf__n_neighbors=2, clf__weights=distance;, score=0.998 total time=   0.7s\n",
      "[CV 3/5; 112/126] START clf__metric=nan_euclidean, clf__n_neighbors=2, clf__weights=distance\n",
      "[CV 3/5; 112/126] END clf__metric=nan_euclidean, clf__n_neighbors=2, clf__weights=distance;, score=0.998 total time=   0.7s\n",
      "[CV 4/5; 112/126] START clf__metric=nan_euclidean, clf__n_neighbors=2, clf__weights=distance\n",
      "[CV 4/5; 112/126] END clf__metric=nan_euclidean, clf__n_neighbors=2, clf__weights=distance;, score=0.998 total time=   0.7s\n",
      "[CV 5/5; 112/126] START clf__metric=nan_euclidean, clf__n_neighbors=2, clf__weights=distance\n",
      "[CV 5/5; 112/126] END clf__metric=nan_euclidean, clf__n_neighbors=2, clf__weights=distance;, score=0.998 total time=   0.8s\n",
      "[CV 1/5; 113/126] START clf__metric=nan_euclidean, clf__n_neighbors=3, clf__weights=uniform\n",
      "[CV 1/5; 113/126] END clf__metric=nan_euclidean, clf__n_neighbors=3, clf__weights=uniform;, score=0.998 total time=   0.7s\n",
      "[CV 2/5; 113/126] START clf__metric=nan_euclidean, clf__n_neighbors=3, clf__weights=uniform\n",
      "[CV 2/5; 113/126] END clf__metric=nan_euclidean, clf__n_neighbors=3, clf__weights=uniform;, score=0.997 total time=   0.7s\n",
      "[CV 3/5; 113/126] START clf__metric=nan_euclidean, clf__n_neighbors=3, clf__weights=uniform\n",
      "[CV 3/5; 113/126] END clf__metric=nan_euclidean, clf__n_neighbors=3, clf__weights=uniform;, score=0.998 total time=   0.8s\n",
      "[CV 4/5; 113/126] START clf__metric=nan_euclidean, clf__n_neighbors=3, clf__weights=uniform\n",
      "[CV 4/5; 113/126] END clf__metric=nan_euclidean, clf__n_neighbors=3, clf__weights=uniform;, score=0.997 total time=   0.8s\n",
      "[CV 5/5; 113/126] START clf__metric=nan_euclidean, clf__n_neighbors=3, clf__weights=uniform\n",
      "[CV 5/5; 113/126] END clf__metric=nan_euclidean, clf__n_neighbors=3, clf__weights=uniform;, score=0.998 total time=   0.7s\n",
      "[CV 1/5; 114/126] START clf__metric=nan_euclidean, clf__n_neighbors=3, clf__weights=distance\n",
      "[CV 1/5; 114/126] END clf__metric=nan_euclidean, clf__n_neighbors=3, clf__weights=distance;, score=0.998 total time=   0.8s\n",
      "[CV 2/5; 114/126] START clf__metric=nan_euclidean, clf__n_neighbors=3, clf__weights=distance\n",
      "[CV 2/5; 114/126] END clf__metric=nan_euclidean, clf__n_neighbors=3, clf__weights=distance;, score=0.998 total time=   0.8s\n",
      "[CV 3/5; 114/126] START clf__metric=nan_euclidean, clf__n_neighbors=3, clf__weights=distance\n",
      "[CV 3/5; 114/126] END clf__metric=nan_euclidean, clf__n_neighbors=3, clf__weights=distance;, score=0.998 total time=   0.8s\n",
      "[CV 4/5; 114/126] START clf__metric=nan_euclidean, clf__n_neighbors=3, clf__weights=distance\n",
      "[CV 4/5; 114/126] END clf__metric=nan_euclidean, clf__n_neighbors=3, clf__weights=distance;, score=0.998 total time=   0.7s\n",
      "[CV 5/5; 114/126] START clf__metric=nan_euclidean, clf__n_neighbors=3, clf__weights=distance\n",
      "[CV 5/5; 114/126] END clf__metric=nan_euclidean, clf__n_neighbors=3, clf__weights=distance;, score=0.998 total time=   0.8s\n",
      "[CV 1/5; 115/126] START clf__metric=nan_euclidean, clf__n_neighbors=4, clf__weights=uniform\n",
      "[CV 1/5; 115/126] END clf__metric=nan_euclidean, clf__n_neighbors=4, clf__weights=uniform;, score=0.998 total time=   0.9s\n",
      "[CV 2/5; 115/126] START clf__metric=nan_euclidean, clf__n_neighbors=4, clf__weights=uniform\n",
      "[CV 2/5; 115/126] END clf__metric=nan_euclidean, clf__n_neighbors=4, clf__weights=uniform;, score=0.997 total time=   0.9s\n",
      "[CV 3/5; 115/126] START clf__metric=nan_euclidean, clf__n_neighbors=4, clf__weights=uniform\n",
      "[CV 3/5; 115/126] END clf__metric=nan_euclidean, clf__n_neighbors=4, clf__weights=uniform;, score=0.998 total time=   0.9s\n",
      "[CV 4/5; 115/126] START clf__metric=nan_euclidean, clf__n_neighbors=4, clf__weights=uniform\n",
      "[CV 4/5; 115/126] END clf__metric=nan_euclidean, clf__n_neighbors=4, clf__weights=uniform;, score=0.997 total time=   1.0s\n",
      "[CV 5/5; 115/126] START clf__metric=nan_euclidean, clf__n_neighbors=4, clf__weights=uniform\n",
      "[CV 5/5; 115/126] END clf__metric=nan_euclidean, clf__n_neighbors=4, clf__weights=uniform;, score=0.997 total time=   1.1s\n",
      "[CV 1/5; 116/126] START clf__metric=nan_euclidean, clf__n_neighbors=4, clf__weights=distance\n",
      "[CV 1/5; 116/126] END clf__metric=nan_euclidean, clf__n_neighbors=4, clf__weights=distance;, score=0.998 total time=   1.1s\n",
      "[CV 2/5; 116/126] START clf__metric=nan_euclidean, clf__n_neighbors=4, clf__weights=distance\n",
      "[CV 2/5; 116/126] END clf__metric=nan_euclidean, clf__n_neighbors=4, clf__weights=distance;, score=0.997 total time=   1.0s\n",
      "[CV 3/5; 116/126] START clf__metric=nan_euclidean, clf__n_neighbors=4, clf__weights=distance\n",
      "[CV 3/5; 116/126] END clf__metric=nan_euclidean, clf__n_neighbors=4, clf__weights=distance;, score=0.998 total time=   1.2s\n",
      "[CV 4/5; 116/126] START clf__metric=nan_euclidean, clf__n_neighbors=4, clf__weights=distance\n",
      "[CV 4/5; 116/126] END clf__metric=nan_euclidean, clf__n_neighbors=4, clf__weights=distance;, score=0.997 total time=   0.9s\n",
      "[CV 5/5; 116/126] START clf__metric=nan_euclidean, clf__n_neighbors=4, clf__weights=distance\n",
      "[CV 5/5; 116/126] END clf__metric=nan_euclidean, clf__n_neighbors=4, clf__weights=distance;, score=0.998 total time=   0.8s\n",
      "[CV 1/5; 117/126] START clf__metric=nan_euclidean, clf__n_neighbors=5, clf__weights=uniform\n",
      "[CV 1/5; 117/126] END clf__metric=nan_euclidean, clf__n_neighbors=5, clf__weights=uniform;, score=0.998 total time=   0.9s\n",
      "[CV 2/5; 117/126] START clf__metric=nan_euclidean, clf__n_neighbors=5, clf__weights=uniform\n",
      "[CV 2/5; 117/126] END clf__metric=nan_euclidean, clf__n_neighbors=5, clf__weights=uniform;, score=0.997 total time=   0.8s\n",
      "[CV 3/5; 117/126] START clf__metric=nan_euclidean, clf__n_neighbors=5, clf__weights=uniform\n",
      "[CV 3/5; 117/126] END clf__metric=nan_euclidean, clf__n_neighbors=5, clf__weights=uniform;, score=0.998 total time=   0.8s\n",
      "[CV 4/5; 117/126] START clf__metric=nan_euclidean, clf__n_neighbors=5, clf__weights=uniform\n",
      "[CV 4/5; 117/126] END clf__metric=nan_euclidean, clf__n_neighbors=5, clf__weights=uniform;, score=0.997 total time=   0.8s\n",
      "[CV 5/5; 117/126] START clf__metric=nan_euclidean, clf__n_neighbors=5, clf__weights=uniform\n",
      "[CV 5/5; 117/126] END clf__metric=nan_euclidean, clf__n_neighbors=5, clf__weights=uniform;, score=0.997 total time=   0.8s\n",
      "[CV 1/5; 118/126] START clf__metric=nan_euclidean, clf__n_neighbors=5, clf__weights=distance\n",
      "[CV 1/5; 118/126] END clf__metric=nan_euclidean, clf__n_neighbors=5, clf__weights=distance;, score=0.998 total time=   0.9s\n",
      "[CV 2/5; 118/126] START clf__metric=nan_euclidean, clf__n_neighbors=5, clf__weights=distance\n",
      "[CV 2/5; 118/126] END clf__metric=nan_euclidean, clf__n_neighbors=5, clf__weights=distance;, score=0.997 total time=   0.8s\n",
      "[CV 3/5; 118/126] START clf__metric=nan_euclidean, clf__n_neighbors=5, clf__weights=distance\n",
      "[CV 3/5; 118/126] END clf__metric=nan_euclidean, clf__n_neighbors=5, clf__weights=distance;, score=0.998 total time=   0.8s\n",
      "[CV 4/5; 118/126] START clf__metric=nan_euclidean, clf__n_neighbors=5, clf__weights=distance\n",
      "[CV 4/5; 118/126] END clf__metric=nan_euclidean, clf__n_neighbors=5, clf__weights=distance;, score=0.997 total time=   0.8s\n",
      "[CV 5/5; 118/126] START clf__metric=nan_euclidean, clf__n_neighbors=5, clf__weights=distance\n",
      "[CV 5/5; 118/126] END clf__metric=nan_euclidean, clf__n_neighbors=5, clf__weights=distance;, score=0.997 total time=   0.8s\n",
      "[CV 1/5; 119/126] START clf__metric=nan_euclidean, clf__n_neighbors=6, clf__weights=uniform\n",
      "[CV 1/5; 119/126] END clf__metric=nan_euclidean, clf__n_neighbors=6, clf__weights=uniform;, score=0.997 total time=   0.9s\n",
      "[CV 2/5; 119/126] START clf__metric=nan_euclidean, clf__n_neighbors=6, clf__weights=uniform\n",
      "[CV 2/5; 119/126] END clf__metric=nan_euclidean, clf__n_neighbors=6, clf__weights=uniform;, score=0.997 total time=   0.8s\n",
      "[CV 3/5; 119/126] START clf__metric=nan_euclidean, clf__n_neighbors=6, clf__weights=uniform\n",
      "[CV 3/5; 119/126] END clf__metric=nan_euclidean, clf__n_neighbors=6, clf__weights=uniform;, score=0.998 total time=   1.0s\n",
      "[CV 4/5; 119/126] START clf__metric=nan_euclidean, clf__n_neighbors=6, clf__weights=uniform\n",
      "[CV 4/5; 119/126] END clf__metric=nan_euclidean, clf__n_neighbors=6, clf__weights=uniform;, score=0.997 total time=   0.8s\n",
      "[CV 5/5; 119/126] START clf__metric=nan_euclidean, clf__n_neighbors=6, clf__weights=uniform\n",
      "[CV 5/5; 119/126] END clf__metric=nan_euclidean, clf__n_neighbors=6, clf__weights=uniform;, score=0.997 total time=   0.9s\n",
      "[CV 1/5; 120/126] START clf__metric=nan_euclidean, clf__n_neighbors=6, clf__weights=distance\n",
      "[CV 1/5; 120/126] END clf__metric=nan_euclidean, clf__n_neighbors=6, clf__weights=distance;, score=0.998 total time=   0.9s\n",
      "[CV 2/5; 120/126] START clf__metric=nan_euclidean, clf__n_neighbors=6, clf__weights=distance\n",
      "[CV 2/5; 120/126] END clf__metric=nan_euclidean, clf__n_neighbors=6, clf__weights=distance;, score=0.997 total time=   0.8s\n",
      "[CV 3/5; 120/126] START clf__metric=nan_euclidean, clf__n_neighbors=6, clf__weights=distance\n",
      "[CV 3/5; 120/126] END clf__metric=nan_euclidean, clf__n_neighbors=6, clf__weights=distance;, score=0.998 total time=   0.8s\n",
      "[CV 4/5; 120/126] START clf__metric=nan_euclidean, clf__n_neighbors=6, clf__weights=distance\n",
      "[CV 4/5; 120/126] END clf__metric=nan_euclidean, clf__n_neighbors=6, clf__weights=distance;, score=0.997 total time=   0.8s\n",
      "[CV 5/5; 120/126] START clf__metric=nan_euclidean, clf__n_neighbors=6, clf__weights=distance\n",
      "[CV 5/5; 120/126] END clf__metric=nan_euclidean, clf__n_neighbors=6, clf__weights=distance;, score=0.997 total time=   0.8s\n",
      "[CV 1/5; 121/126] START clf__metric=nan_euclidean, clf__n_neighbors=7, clf__weights=uniform\n",
      "[CV 1/5; 121/126] END clf__metric=nan_euclidean, clf__n_neighbors=7, clf__weights=uniform;, score=0.997 total time=   0.9s\n",
      "[CV 2/5; 121/126] START clf__metric=nan_euclidean, clf__n_neighbors=7, clf__weights=uniform\n",
      "[CV 2/5; 121/126] END clf__metric=nan_euclidean, clf__n_neighbors=7, clf__weights=uniform;, score=0.997 total time=   0.8s\n",
      "[CV 3/5; 121/126] START clf__metric=nan_euclidean, clf__n_neighbors=7, clf__weights=uniform\n",
      "[CV 3/5; 121/126] END clf__metric=nan_euclidean, clf__n_neighbors=7, clf__weights=uniform;, score=0.997 total time=   0.8s\n",
      "[CV 4/5; 121/126] START clf__metric=nan_euclidean, clf__n_neighbors=7, clf__weights=uniform\n",
      "[CV 4/5; 121/126] END clf__metric=nan_euclidean, clf__n_neighbors=7, clf__weights=uniform;, score=0.997 total time=   0.8s\n",
      "[CV 5/5; 121/126] START clf__metric=nan_euclidean, clf__n_neighbors=7, clf__weights=uniform\n",
      "[CV 5/5; 121/126] END clf__metric=nan_euclidean, clf__n_neighbors=7, clf__weights=uniform;, score=0.997 total time=   0.8s\n",
      "[CV 1/5; 122/126] START clf__metric=nan_euclidean, clf__n_neighbors=7, clf__weights=distance\n",
      "[CV 1/5; 122/126] END clf__metric=nan_euclidean, clf__n_neighbors=7, clf__weights=distance;, score=0.998 total time=   0.9s\n",
      "[CV 2/5; 122/126] START clf__metric=nan_euclidean, clf__n_neighbors=7, clf__weights=distance\n",
      "[CV 2/5; 122/126] END clf__metric=nan_euclidean, clf__n_neighbors=7, clf__weights=distance;, score=0.997 total time=   0.8s\n",
      "[CV 3/5; 122/126] START clf__metric=nan_euclidean, clf__n_neighbors=7, clf__weights=distance\n",
      "[CV 3/5; 122/126] END clf__metric=nan_euclidean, clf__n_neighbors=7, clf__weights=distance;, score=0.998 total time=   0.8s\n",
      "[CV 4/5; 122/126] START clf__metric=nan_euclidean, clf__n_neighbors=7, clf__weights=distance\n",
      "[CV 4/5; 122/126] END clf__metric=nan_euclidean, clf__n_neighbors=7, clf__weights=distance;, score=0.997 total time=   0.8s\n",
      "[CV 5/5; 122/126] START clf__metric=nan_euclidean, clf__n_neighbors=7, clf__weights=distance\n",
      "[CV 5/5; 122/126] END clf__metric=nan_euclidean, clf__n_neighbors=7, clf__weights=distance;, score=0.997 total time=   0.8s\n",
      "[CV 1/5; 123/126] START clf__metric=nan_euclidean, clf__n_neighbors=8, clf__weights=uniform\n",
      "[CV 1/5; 123/126] END clf__metric=nan_euclidean, clf__n_neighbors=8, clf__weights=uniform;, score=0.997 total time=   0.9s\n",
      "[CV 2/5; 123/126] START clf__metric=nan_euclidean, clf__n_neighbors=8, clf__weights=uniform\n",
      "[CV 2/5; 123/126] END clf__metric=nan_euclidean, clf__n_neighbors=8, clf__weights=uniform;, score=0.997 total time=   0.8s\n",
      "[CV 3/5; 123/126] START clf__metric=nan_euclidean, clf__n_neighbors=8, clf__weights=uniform\n",
      "[CV 3/5; 123/126] END clf__metric=nan_euclidean, clf__n_neighbors=8, clf__weights=uniform;, score=0.997 total time=   0.8s\n",
      "[CV 4/5; 123/126] START clf__metric=nan_euclidean, clf__n_neighbors=8, clf__weights=uniform\n",
      "[CV 4/5; 123/126] END clf__metric=nan_euclidean, clf__n_neighbors=8, clf__weights=uniform;, score=0.997 total time=   0.8s\n",
      "[CV 5/5; 123/126] START clf__metric=nan_euclidean, clf__n_neighbors=8, clf__weights=uniform\n",
      "[CV 5/5; 123/126] END clf__metric=nan_euclidean, clf__n_neighbors=8, clf__weights=uniform;, score=0.997 total time=   0.8s\n",
      "[CV 1/5; 124/126] START clf__metric=nan_euclidean, clf__n_neighbors=8, clf__weights=distance\n",
      "[CV 1/5; 124/126] END clf__metric=nan_euclidean, clf__n_neighbors=8, clf__weights=distance;, score=0.997 total time=   0.9s\n",
      "[CV 2/5; 124/126] START clf__metric=nan_euclidean, clf__n_neighbors=8, clf__weights=distance\n",
      "[CV 2/5; 124/126] END clf__metric=nan_euclidean, clf__n_neighbors=8, clf__weights=distance;, score=0.997 total time=   0.8s\n",
      "[CV 3/5; 124/126] START clf__metric=nan_euclidean, clf__n_neighbors=8, clf__weights=distance\n",
      "[CV 3/5; 124/126] END clf__metric=nan_euclidean, clf__n_neighbors=8, clf__weights=distance;, score=0.998 total time=   0.8s\n",
      "[CV 4/5; 124/126] START clf__metric=nan_euclidean, clf__n_neighbors=8, clf__weights=distance\n",
      "[CV 4/5; 124/126] END clf__metric=nan_euclidean, clf__n_neighbors=8, clf__weights=distance;, score=0.997 total time=   0.8s\n",
      "[CV 5/5; 124/126] START clf__metric=nan_euclidean, clf__n_neighbors=8, clf__weights=distance\n",
      "[CV 5/5; 124/126] END clf__metric=nan_euclidean, clf__n_neighbors=8, clf__weights=distance;, score=0.997 total time=   0.8s\n",
      "[CV 1/5; 125/126] START clf__metric=nan_euclidean, clf__n_neighbors=9, clf__weights=uniform\n",
      "[CV 1/5; 125/126] END clf__metric=nan_euclidean, clf__n_neighbors=9, clf__weights=uniform;, score=0.997 total time=   0.9s\n",
      "[CV 2/5; 125/126] START clf__metric=nan_euclidean, clf__n_neighbors=9, clf__weights=uniform\n",
      "[CV 2/5; 125/126] END clf__metric=nan_euclidean, clf__n_neighbors=9, clf__weights=uniform;, score=0.997 total time=   0.8s\n",
      "[CV 3/5; 125/126] START clf__metric=nan_euclidean, clf__n_neighbors=9, clf__weights=uniform\n",
      "[CV 3/5; 125/126] END clf__metric=nan_euclidean, clf__n_neighbors=9, clf__weights=uniform;, score=0.997 total time=   0.8s\n",
      "[CV 4/5; 125/126] START clf__metric=nan_euclidean, clf__n_neighbors=9, clf__weights=uniform\n",
      "[CV 4/5; 125/126] END clf__metric=nan_euclidean, clf__n_neighbors=9, clf__weights=uniform;, score=0.996 total time=   0.9s\n",
      "[CV 5/5; 125/126] START clf__metric=nan_euclidean, clf__n_neighbors=9, clf__weights=uniform\n",
      "[CV 5/5; 125/126] END clf__metric=nan_euclidean, clf__n_neighbors=9, clf__weights=uniform;, score=0.996 total time=   0.9s\n",
      "[CV 1/5; 126/126] START clf__metric=nan_euclidean, clf__n_neighbors=9, clf__weights=distance\n",
      "[CV 1/5; 126/126] END clf__metric=nan_euclidean, clf__n_neighbors=9, clf__weights=distance;, score=0.997 total time=   0.9s\n",
      "[CV 2/5; 126/126] START clf__metric=nan_euclidean, clf__n_neighbors=9, clf__weights=distance\n",
      "[CV 2/5; 126/126] END clf__metric=nan_euclidean, clf__n_neighbors=9, clf__weights=distance;, score=0.997 total time=   0.8s\n",
      "[CV 3/5; 126/126] START clf__metric=nan_euclidean, clf__n_neighbors=9, clf__weights=distance\n",
      "[CV 3/5; 126/126] END clf__metric=nan_euclidean, clf__n_neighbors=9, clf__weights=distance;, score=0.997 total time=   0.8s\n",
      "[CV 4/5; 126/126] START clf__metric=nan_euclidean, clf__n_neighbors=9, clf__weights=distance\n",
      "[CV 4/5; 126/126] END clf__metric=nan_euclidean, clf__n_neighbors=9, clf__weights=distance;, score=0.997 total time=   0.8s\n",
      "[CV 5/5; 126/126] START clf__metric=nan_euclidean, clf__n_neighbors=9, clf__weights=distance\n",
      "[CV 5/5; 126/126] END clf__metric=nan_euclidean, clf__n_neighbors=9, clf__weights=distance;, score=0.997 total time=   0.8s\n",
      "tuned hyperparameters :(best parameters)  {'clf__metric': 'cityblock', 'clf__n_neighbors': 4, 'clf__weights': 'distance'}\n",
      "accuracy : 0.9988419288046142\n"
     ]
    },
    {
     "data": {
      "text/html": [
       "<style>#sk-container-id-1 {color: black;background-color: white;}#sk-container-id-1 pre{padding: 0;}#sk-container-id-1 div.sk-toggleable {background-color: white;}#sk-container-id-1 label.sk-toggleable__label {cursor: pointer;display: block;width: 100%;margin-bottom: 0;padding: 0.3em;box-sizing: border-box;text-align: center;}#sk-container-id-1 label.sk-toggleable__label-arrow:before {content: \"▸\";float: left;margin-right: 0.25em;color: #696969;}#sk-container-id-1 label.sk-toggleable__label-arrow:hover:before {color: black;}#sk-container-id-1 div.sk-estimator:hover label.sk-toggleable__label-arrow:before {color: black;}#sk-container-id-1 div.sk-toggleable__content {max-height: 0;max-width: 0;overflow: hidden;text-align: left;background-color: #f0f8ff;}#sk-container-id-1 div.sk-toggleable__content pre {margin: 0.2em;color: black;border-radius: 0.25em;background-color: #f0f8ff;}#sk-container-id-1 input.sk-toggleable__control:checked~div.sk-toggleable__content {max-height: 200px;max-width: 100%;overflow: auto;}#sk-container-id-1 input.sk-toggleable__control:checked~label.sk-toggleable__label-arrow:before {content: \"▾\";}#sk-container-id-1 div.sk-estimator input.sk-toggleable__control:checked~label.sk-toggleable__label {background-color: #d4ebff;}#sk-container-id-1 div.sk-label input.sk-toggleable__control:checked~label.sk-toggleable__label {background-color: #d4ebff;}#sk-container-id-1 input.sk-hidden--visually {border: 0;clip: rect(1px 1px 1px 1px);clip: rect(1px, 1px, 1px, 1px);height: 1px;margin: -1px;overflow: hidden;padding: 0;position: absolute;width: 1px;}#sk-container-id-1 div.sk-estimator {font-family: monospace;background-color: #f0f8ff;border: 1px dotted black;border-radius: 0.25em;box-sizing: border-box;margin-bottom: 0.5em;}#sk-container-id-1 div.sk-estimator:hover {background-color: #d4ebff;}#sk-container-id-1 div.sk-parallel-item::after {content: \"\";width: 100%;border-bottom: 1px solid gray;flex-grow: 1;}#sk-container-id-1 div.sk-label:hover label.sk-toggleable__label {background-color: #d4ebff;}#sk-container-id-1 div.sk-serial::before {content: \"\";position: absolute;border-left: 1px solid gray;box-sizing: border-box;top: 0;bottom: 0;left: 50%;z-index: 0;}#sk-container-id-1 div.sk-serial {display: flex;flex-direction: column;align-items: center;background-color: white;padding-right: 0.2em;padding-left: 0.2em;position: relative;}#sk-container-id-1 div.sk-item {position: relative;z-index: 1;}#sk-container-id-1 div.sk-parallel {display: flex;align-items: stretch;justify-content: center;background-color: white;position: relative;}#sk-container-id-1 div.sk-item::before, #sk-container-id-1 div.sk-parallel-item::before {content: \"\";position: absolute;border-left: 1px solid gray;box-sizing: border-box;top: 0;bottom: 0;left: 50%;z-index: -1;}#sk-container-id-1 div.sk-parallel-item {display: flex;flex-direction: column;z-index: 1;position: relative;background-color: white;}#sk-container-id-1 div.sk-parallel-item:first-child::after {align-self: flex-end;width: 50%;}#sk-container-id-1 div.sk-parallel-item:last-child::after {align-self: flex-start;width: 50%;}#sk-container-id-1 div.sk-parallel-item:only-child::after {width: 0;}#sk-container-id-1 div.sk-dashed-wrapped {border: 1px dashed gray;margin: 0 0.4em 0.5em 0.4em;box-sizing: border-box;padding-bottom: 0.4em;background-color: white;}#sk-container-id-1 div.sk-label label {font-family: monospace;font-weight: bold;display: inline-block;line-height: 1.2em;}#sk-container-id-1 div.sk-label-container {text-align: center;}#sk-container-id-1 div.sk-container {/* jupyter's `normalize.less` sets `[hidden] { display: none; }` but bootstrap.min.css set `[hidden] { display: none !important; }` so we also need the `!important` here to be able to override the default hidden behavior on the sphinx rendered scikit-learn.org. See: https://github.com/scikit-learn/scikit-learn/issues/21755 */display: inline-block !important;position: relative;}#sk-container-id-1 div.sk-text-repr-fallback {display: none;}</style><div id=\"sk-container-id-1\" class=\"sk-top-container\"><div class=\"sk-text-repr-fallback\"><pre>GridSearchCV(cv=5,\n",
       "             estimator=Pipeline(steps=[(&#x27;scale&#x27;, StandardScaler()),\n",
       "                                       (&#x27;clf&#x27;, KNeighborsRegressor())]),\n",
       "             param_grid=[{&#x27;clf__metric&#x27;: [&#x27;cityblock&#x27;, &#x27;cosine&#x27;, &#x27;euclidean&#x27;,\n",
       "                                          &#x27;l1&#x27;, &#x27;l2&#x27;, &#x27;manhattan&#x27;,\n",
       "                                          &#x27;nan_euclidean&#x27;],\n",
       "                          &#x27;clf__n_neighbors&#x27;: [1, 2, 3, 4, 5, 6, 7, 8, 9],\n",
       "                          &#x27;clf__weights&#x27;: [&#x27;uniform&#x27;, &#x27;distance&#x27;]}],\n",
       "             scoring=&#x27;r2&#x27;, verbose=10)</pre><b>In a Jupyter environment, please rerun this cell to show the HTML representation or trust the notebook. <br />On GitHub, the HTML representation is unable to render, please try loading this page with nbviewer.org.</b></div><div class=\"sk-container\" hidden><div class=\"sk-item sk-dashed-wrapped\"><div class=\"sk-label-container\"><div class=\"sk-label sk-toggleable\"><input class=\"sk-toggleable__control sk-hidden--visually\" id=\"sk-estimator-id-1\" type=\"checkbox\" ><label for=\"sk-estimator-id-1\" class=\"sk-toggleable__label sk-toggleable__label-arrow\">GridSearchCV</label><div class=\"sk-toggleable__content\"><pre>GridSearchCV(cv=5,\n",
       "             estimator=Pipeline(steps=[(&#x27;scale&#x27;, StandardScaler()),\n",
       "                                       (&#x27;clf&#x27;, KNeighborsRegressor())]),\n",
       "             param_grid=[{&#x27;clf__metric&#x27;: [&#x27;cityblock&#x27;, &#x27;cosine&#x27;, &#x27;euclidean&#x27;,\n",
       "                                          &#x27;l1&#x27;, &#x27;l2&#x27;, &#x27;manhattan&#x27;,\n",
       "                                          &#x27;nan_euclidean&#x27;],\n",
       "                          &#x27;clf__n_neighbors&#x27;: [1, 2, 3, 4, 5, 6, 7, 8, 9],\n",
       "                          &#x27;clf__weights&#x27;: [&#x27;uniform&#x27;, &#x27;distance&#x27;]}],\n",
       "             scoring=&#x27;r2&#x27;, verbose=10)</pre></div></div></div><div class=\"sk-parallel\"><div class=\"sk-parallel-item\"><div class=\"sk-item\"><div class=\"sk-label-container\"><div class=\"sk-label sk-toggleable\"><input class=\"sk-toggleable__control sk-hidden--visually\" id=\"sk-estimator-id-2\" type=\"checkbox\" ><label for=\"sk-estimator-id-2\" class=\"sk-toggleable__label sk-toggleable__label-arrow\">estimator: Pipeline</label><div class=\"sk-toggleable__content\"><pre>Pipeline(steps=[(&#x27;scale&#x27;, StandardScaler()), (&#x27;clf&#x27;, KNeighborsRegressor())])</pre></div></div></div><div class=\"sk-serial\"><div class=\"sk-item\"><div class=\"sk-serial\"><div class=\"sk-item\"><div class=\"sk-estimator sk-toggleable\"><input class=\"sk-toggleable__control sk-hidden--visually\" id=\"sk-estimator-id-3\" type=\"checkbox\" ><label for=\"sk-estimator-id-3\" class=\"sk-toggleable__label sk-toggleable__label-arrow\">StandardScaler</label><div class=\"sk-toggleable__content\"><pre>StandardScaler()</pre></div></div></div><div class=\"sk-item\"><div class=\"sk-estimator sk-toggleable\"><input class=\"sk-toggleable__control sk-hidden--visually\" id=\"sk-estimator-id-4\" type=\"checkbox\" ><label for=\"sk-estimator-id-4\" class=\"sk-toggleable__label sk-toggleable__label-arrow\">KNeighborsRegressor</label><div class=\"sk-toggleable__content\"><pre>KNeighborsRegressor()</pre></div></div></div></div></div></div></div></div></div></div></div></div>"
      ],
      "text/plain": [
       "GridSearchCV(cv=5,\n",
       "             estimator=Pipeline(steps=[('scale', StandardScaler()),\n",
       "                                       ('clf', KNeighborsRegressor())]),\n",
       "             param_grid=[{'clf__metric': ['cityblock', 'cosine', 'euclidean',\n",
       "                                          'l1', 'l2', 'manhattan',\n",
       "                                          'nan_euclidean'],\n",
       "                          'clf__n_neighbors': [1, 2, 3, 4, 5, 6, 7, 8, 9],\n",
       "                          'clf__weights': ['uniform', 'distance']}],\n",
       "             scoring='r2', verbose=10)"
      ]
     },
     "execution_count": 29,
     "metadata": {},
     "output_type": "execute_result"
    }
   ],
   "source": [
    "model = neighbors.KNeighborsRegressor()\n",
    "grid = {\n",
    "    \"n_neighbors\": [i for i in range(1, 10)],\n",
    "    \"weights\": [\"uniform\", \"distance\"],\n",
    "    \"metric\" : [\"cityblock\",\"cosine\", \"euclidean\", \"l1\", \"l2\", \"manhattan\",\"nan_euclidean\"]\n",
    "}\n",
    "grid_search(grid, model, x, y, verbose=1)"
   ]
  },
  {
   "cell_type": "markdown",
   "metadata": {
    "collapsed": false,
    "pycharm": {
     "name": "#%% md\n"
    }
   },
   "source": [
    "### Best KNN eval"
   ]
  },
  {
   "cell_type": "code",
   "execution_count": null,
   "metadata": {
    "collapsed": false,
    "pycharm": {
     "name": "#%%\n"
    }
   },
   "outputs": [
    {
     "name": "stderr",
     "output_type": "stream",
     "text": [
      "[Parallel(n_jobs=-1)]: Using backend LokyBackend with 4 concurrent workers.\n",
      "[Parallel(n_jobs=-1)]: Done   2 out of   5 | elapsed:    0.6s remaining:    0.9s\n",
      "[Parallel(n_jobs=-1)]: Done   3 out of   5 | elapsed:    0.6s remaining:    0.4s\n"
     ]
    },
    {
     "name": "stdout",
     "output_type": "stream",
     "text": [
      "MAE:  103.01222702\n",
      "RMSE:  179.00908658\n",
      "R2:  0.99884193\n"
     ]
    },
    {
     "name": "stderr",
     "output_type": "stream",
     "text": [
      "[Parallel(n_jobs=-1)]: Done   5 out of   5 | elapsed:    1.1s remaining:    0.0s\n",
      "[Parallel(n_jobs=-1)]: Done   5 out of   5 | elapsed:    1.1s finished\n"
     ]
    }
   ],
   "source": [
    "model = neighbors.KNeighborsRegressor(\n",
    "    n_neighbors=4,\n",
    "    weights=\"distance\",\n",
    "    metric=\"cityblock\")\n",
    "model_cv_rapport(model, x, y)"
   ]
  },
  {
   "cell_type": "markdown",
   "metadata": {
    "collapsed": false,
    "pycharm": {
     "name": "#%% md\n"
    }
   },
   "source": [
    "## Support Vector Regression"
   ]
  },
  {
   "cell_type": "code",
   "execution_count": null,
   "metadata": {
    "collapsed": false,
    "pycharm": {
     "name": "#%%\n"
    }
   },
   "outputs": [
    {
     "data": {
      "text/html": [
       "<style>#sk-container-id-1 {color: black;background-color: white;}#sk-container-id-1 pre{padding: 0;}#sk-container-id-1 div.sk-toggleable {background-color: white;}#sk-container-id-1 label.sk-toggleable__label {cursor: pointer;display: block;width: 100%;margin-bottom: 0;padding: 0.3em;box-sizing: border-box;text-align: center;}#sk-container-id-1 label.sk-toggleable__label-arrow:before {content: \"▸\";float: left;margin-right: 0.25em;color: #696969;}#sk-container-id-1 label.sk-toggleable__label-arrow:hover:before {color: black;}#sk-container-id-1 div.sk-estimator:hover label.sk-toggleable__label-arrow:before {color: black;}#sk-container-id-1 div.sk-toggleable__content {max-height: 0;max-width: 0;overflow: hidden;text-align: left;background-color: #f0f8ff;}#sk-container-id-1 div.sk-toggleable__content pre {margin: 0.2em;color: black;border-radius: 0.25em;background-color: #f0f8ff;}#sk-container-id-1 input.sk-toggleable__control:checked~div.sk-toggleable__content {max-height: 200px;max-width: 100%;overflow: auto;}#sk-container-id-1 input.sk-toggleable__control:checked~label.sk-toggleable__label-arrow:before {content: \"▾\";}#sk-container-id-1 div.sk-estimator input.sk-toggleable__control:checked~label.sk-toggleable__label {background-color: #d4ebff;}#sk-container-id-1 div.sk-label input.sk-toggleable__control:checked~label.sk-toggleable__label {background-color: #d4ebff;}#sk-container-id-1 input.sk-hidden--visually {border: 0;clip: rect(1px 1px 1px 1px);clip: rect(1px, 1px, 1px, 1px);height: 1px;margin: -1px;overflow: hidden;padding: 0;position: absolute;width: 1px;}#sk-container-id-1 div.sk-estimator {font-family: monospace;background-color: #f0f8ff;border: 1px dotted black;border-radius: 0.25em;box-sizing: border-box;margin-bottom: 0.5em;}#sk-container-id-1 div.sk-estimator:hover {background-color: #d4ebff;}#sk-container-id-1 div.sk-parallel-item::after {content: \"\";width: 100%;border-bottom: 1px solid gray;flex-grow: 1;}#sk-container-id-1 div.sk-label:hover label.sk-toggleable__label {background-color: #d4ebff;}#sk-container-id-1 div.sk-serial::before {content: \"\";position: absolute;border-left: 1px solid gray;box-sizing: border-box;top: 0;bottom: 0;left: 50%;z-index: 0;}#sk-container-id-1 div.sk-serial {display: flex;flex-direction: column;align-items: center;background-color: white;padding-right: 0.2em;padding-left: 0.2em;position: relative;}#sk-container-id-1 div.sk-item {position: relative;z-index: 1;}#sk-container-id-1 div.sk-parallel {display: flex;align-items: stretch;justify-content: center;background-color: white;position: relative;}#sk-container-id-1 div.sk-item::before, #sk-container-id-1 div.sk-parallel-item::before {content: \"\";position: absolute;border-left: 1px solid gray;box-sizing: border-box;top: 0;bottom: 0;left: 50%;z-index: -1;}#sk-container-id-1 div.sk-parallel-item {display: flex;flex-direction: column;z-index: 1;position: relative;background-color: white;}#sk-container-id-1 div.sk-parallel-item:first-child::after {align-self: flex-end;width: 50%;}#sk-container-id-1 div.sk-parallel-item:last-child::after {align-self: flex-start;width: 50%;}#sk-container-id-1 div.sk-parallel-item:only-child::after {width: 0;}#sk-container-id-1 div.sk-dashed-wrapped {border: 1px dashed gray;margin: 0 0.4em 0.5em 0.4em;box-sizing: border-box;padding-bottom: 0.4em;background-color: white;}#sk-container-id-1 div.sk-label label {font-family: monospace;font-weight: bold;display: inline-block;line-height: 1.2em;}#sk-container-id-1 div.sk-label-container {text-align: center;}#sk-container-id-1 div.sk-container {/* jupyter's `normalize.less` sets `[hidden] { display: none; }` but bootstrap.min.css set `[hidden] { display: none !important; }` so we also need the `!important` here to be able to override the default hidden behavior on the sphinx rendered scikit-learn.org. See: https://github.com/scikit-learn/scikit-learn/issues/21755 */display: inline-block !important;position: relative;}#sk-container-id-1 div.sk-text-repr-fallback {display: none;}</style><div id=\"sk-container-id-1\" class=\"sk-top-container\"><div class=\"sk-text-repr-fallback\"><pre>SVR()</pre><b>In a Jupyter environment, please rerun this cell to show the HTML representation or trust the notebook. <br />On GitHub, the HTML representation is unable to render, please try loading this page with nbviewer.org.</b></div><div class=\"sk-container\" hidden><div class=\"sk-item\"><div class=\"sk-estimator sk-toggleable\"><input class=\"sk-toggleable__control sk-hidden--visually\" id=\"sk-estimator-id-1\" type=\"checkbox\" checked><label for=\"sk-estimator-id-1\" class=\"sk-toggleable__label sk-toggleable__label-arrow\">SVR</label><div class=\"sk-toggleable__content\"><pre>SVR()</pre></div></div></div></div></div>"
      ],
      "text/plain": [
       "SVR()"
      ]
     },
     "execution_count": 16,
     "metadata": {},
     "output_type": "execute_result"
    }
   ],
   "source": [
    "#Setting model\n",
    "model = svm.SVR(kernel=\"rbf\", gamma=\"scale\", epsilon=0.1, C=1.0)\n",
    "model.fit(x_train, y_train)"
   ]
  },
  {
   "cell_type": "code",
   "execution_count": null,
   "metadata": {
    "collapsed": false,
    "pycharm": {
     "name": "#%%\n"
    }
   },
   "outputs": [
    {
     "name": "stdout",
     "output_type": "stream",
     "text": [
      "SVR --------------------------------------\n",
      "r2_score: 0.99847\n",
      "mean squared error: 0.00154\n",
      "root mean squared error: 0.03921\n",
      "mean absolute error: 0.03206\n"
     ]
    },
    {
     "data": {
      "text/plain": [
       "0.99847"
      ]
     },
     "execution_count": 17,
     "metadata": {},
     "output_type": "execute_result"
    }
   ],
   "source": [
    "model_rapport(\"SVR\", model, y_test, x_test)"
   ]
  },
  {
   "cell_type": "markdown",
   "metadata": {
    "collapsed": false,
    "pycharm": {
     "name": "#%% md\n"
    }
   },
   "source": [
    "### Hyperparameters - SVR"
   ]
  },
  {
   "cell_type": "markdown",
   "metadata": {
    "collapsed": false,
    "pycharm": {
     "name": "#%% md\n"
    }
   },
   "source": [
    "#### kernel param"
   ]
  },
  {
   "cell_type": "code",
   "execution_count": null,
   "metadata": {
    "collapsed": false,
    "pycharm": {
     "name": "#%%\n"
    }
   },
   "outputs": [
    {
     "name": "stdout",
     "output_type": "stream",
     "text": [
      "Fitting 5 folds for each of 4 candidates, totalling 20 fits\n",
      "[CV 1/5; 1/4] START clf__kernel=linear..........................................\n",
      "[CV 1/5; 1/4] END ...........clf__kernel=linear;, score=0.930 total time=   2.7s\n",
      "[CV 2/5; 1/4] START clf__kernel=linear..........................................\n",
      "[CV 2/5; 1/4] END ...........clf__kernel=linear;, score=0.937 total time=   2.6s\n",
      "[CV 3/5; 1/4] START clf__kernel=linear..........................................\n",
      "[CV 3/5; 1/4] END ...........clf__kernel=linear;, score=0.929 total time=   2.6s\n",
      "[CV 4/5; 1/4] START clf__kernel=linear..........................................\n",
      "[CV 4/5; 1/4] END ...........clf__kernel=linear;, score=0.929 total time=   2.7s\n",
      "[CV 5/5; 1/4] START clf__kernel=linear..........................................\n",
      "[CV 5/5; 1/4] END ...........clf__kernel=linear;, score=0.929 total time=   2.7s\n",
      "[CV 1/5; 2/4] START clf__kernel=poly............................................\n",
      "[CV 1/5; 2/4] END .............clf__kernel=poly;, score=0.340 total time=   2.8s\n",
      "[CV 2/5; 2/4] START clf__kernel=poly............................................\n",
      "[CV 2/5; 2/4] END .............clf__kernel=poly;, score=0.320 total time=   2.7s\n",
      "[CV 3/5; 2/4] START clf__kernel=poly............................................\n",
      "[CV 3/5; 2/4] END .............clf__kernel=poly;, score=0.338 total time=   2.7s\n",
      "[CV 4/5; 2/4] START clf__kernel=poly............................................\n",
      "[CV 4/5; 2/4] END .............clf__kernel=poly;, score=0.316 total time=   2.8s\n",
      "[CV 5/5; 2/4] START clf__kernel=poly............................................\n",
      "[CV 5/5; 2/4] END .............clf__kernel=poly;, score=0.322 total time=   3.0s\n",
      "[CV 1/5; 3/4] START clf__kernel=rbf.............................................\n",
      "[CV 1/5; 3/4] END ..............clf__kernel=rbf;, score=0.117 total time=   4.8s\n",
      "[CV 2/5; 3/4] START clf__kernel=rbf.............................................\n",
      "[CV 2/5; 3/4] END ..............clf__kernel=rbf;, score=0.112 total time=   4.7s\n",
      "[CV 3/5; 3/4] START clf__kernel=rbf.............................................\n",
      "[CV 3/5; 3/4] END ..............clf__kernel=rbf;, score=0.131 total time=   4.7s\n",
      "[CV 4/5; 3/4] START clf__kernel=rbf.............................................\n",
      "[CV 4/5; 3/4] END ..............clf__kernel=rbf;, score=0.133 total time=   5.0s\n",
      "[CV 5/5; 3/4] START clf__kernel=rbf.............................................\n",
      "[CV 5/5; 3/4] END ..............clf__kernel=rbf;, score=0.128 total time=   5.0s\n",
      "[CV 1/5; 4/4] START clf__kernel=sigmoid.........................................\n",
      "[CV 1/5; 4/4] END ..........clf__kernel=sigmoid;, score=0.414 total time=   4.2s\n",
      "[CV 2/5; 4/4] START clf__kernel=sigmoid.........................................\n",
      "[CV 2/5; 4/4] END ..........clf__kernel=sigmoid;, score=0.416 total time=   4.0s\n",
      "[CV 3/5; 4/4] START clf__kernel=sigmoid.........................................\n",
      "[CV 3/5; 4/4] END ..........clf__kernel=sigmoid;, score=0.424 total time=   4.3s\n",
      "[CV 4/5; 4/4] START clf__kernel=sigmoid.........................................\n",
      "[CV 4/5; 4/4] END ..........clf__kernel=sigmoid;, score=0.421 total time=   4.1s\n",
      "[CV 5/5; 4/4] START clf__kernel=sigmoid.........................................\n",
      "[CV 5/5; 4/4] END ..........clf__kernel=sigmoid;, score=0.419 total time=   4.2s\n",
      "tuned hyperparameters :(best parameters)  {'clf__kernel': 'linear'}\n",
      "accuracy : 0.9310580408231915\n"
     ]
    }
   ],
   "source": [
    "#Testing kernel parameter\n",
    "grid={#\"C\":np.logspace(-3,3,7),\n",
    "      \"kernel\": [\"linear\", \"poly\", \"rbf\", \"sigmoid\"]}\n",
    "      #\"epsilon\":np.logspace(-3,3,7),\n",
    "      #\"gamma\": np.logspace(-3,3,7)}\n",
    "model=svm.SVR()\n",
    "results = grid_search(grid, model, x, y)"
   ]
  },
  {
   "cell_type": "code",
   "execution_count": null,
   "metadata": {
    "collapsed": false,
    "pycharm": {
     "name": "#%%\n"
    }
   },
   "outputs": [
    {
     "data": {
      "image/png": "[encoded data removed]",
      "text/plain": [
       "<Figure size 640x480 with 1 Axes>"
      ]
     },
     "metadata": {},
     "output_type": "display_data"
    }
   ],
   "source": [
    "plotGridResults(results)"
   ]
  },
  {
   "cell_type": "markdown",
   "metadata": {
    "collapsed": false,
    "pycharm": {
     "name": "#%% md\n"
    }
   },
   "source": [
    "#### C param"
   ]
  },
  {
   "cell_type": "code",
   "execution_count": null,
   "metadata": {
    "collapsed": false,
    "pycharm": {
     "name": "#%%\n"
    }
   },
   "outputs": [
    {
     "name": "stdout",
     "output_type": "stream",
     "text": [
      "Fitting 5 folds for each of 7 candidates, totalling 35 fits\n",
      "[CV 1/5; 1/7] START clf__C=0.1..................................................\n",
      "[CV 1/5; 1/7] END ...................clf__C=0.1;, score=0.720 total time=   4.0s\n",
      "[CV 2/5; 1/7] START clf__C=0.1..................................................\n",
      "[CV 2/5; 1/7] END ...................clf__C=0.1;, score=0.728 total time=   3.3s\n",
      "[CV 3/5; 1/7] START clf__C=0.1..................................................\n",
      "[CV 3/5; 1/7] END ...................clf__C=0.1;, score=0.724 total time=   3.3s\n",
      "[CV 4/5; 1/7] START clf__C=0.1..................................................\n",
      "[CV 4/5; 1/7] END ...................clf__C=0.1;, score=0.717 total time=   4.4s\n",
      "[CV 5/5; 1/7] START clf__C=0.1..................................................\n",
      "[CV 5/5; 1/7] END ...................clf__C=0.1;, score=0.717 total time=   3.8s\n",
      "[CV 1/5; 2/7] START clf__C=0.46415888336127786..................................\n",
      "[CV 1/5; 2/7] END ...clf__C=0.46415888336127786;, score=0.902 total time=   4.4s\n",
      "[CV 2/5; 2/7] START clf__C=0.46415888336127786..................................\n",
      "[CV 2/5; 2/7] END ...clf__C=0.46415888336127786;, score=0.910 total time=   3.4s\n",
      "[CV 3/5; 2/7] START clf__C=0.46415888336127786..................................\n",
      "[CV 3/5; 2/7] END ...clf__C=0.46415888336127786;, score=0.900 total time=   3.4s\n",
      "[CV 4/5; 2/7] START clf__C=0.46415888336127786..................................\n",
      "[CV 4/5; 2/7] END ...clf__C=0.46415888336127786;, score=0.900 total time=   3.9s\n",
      "[CV 5/5; 2/7] START clf__C=0.46415888336127786..................................\n",
      "[CV 5/5; 2/7] END ...clf__C=0.46415888336127786;, score=0.899 total time=   3.3s\n",
      "[CV 1/5; 3/7] START clf__C=2.1544346900318834...................................\n",
      "[CV 1/5; 3/7] END ....clf__C=2.1544346900318834;, score=0.953 total time=   3.5s\n",
      "[CV 2/5; 3/7] START clf__C=2.1544346900318834...................................\n",
      "[CV 2/5; 3/7] END ....clf__C=2.1544346900318834;, score=0.958 total time=   3.4s\n",
      "[CV 3/5; 3/7] START clf__C=2.1544346900318834...................................\n",
      "[CV 3/5; 3/7] END ....clf__C=2.1544346900318834;, score=0.951 total time=   3.5s\n",
      "[CV 4/5; 3/7] START clf__C=2.1544346900318834...................................\n",
      "[CV 4/5; 3/7] END ....clf__C=2.1544346900318834;, score=0.952 total time=   3.5s\n",
      "[CV 5/5; 3/7] START clf__C=2.1544346900318834...................................\n",
      "[CV 5/5; 3/7] END ....clf__C=2.1544346900318834;, score=0.952 total time=   3.4s\n",
      "[CV 1/5; 4/7] START clf__C=10.0.................................................\n",
      "[CV 1/5; 4/7] END ..................clf__C=10.0;, score=0.980 total time=   3.5s\n",
      "[CV 2/5; 4/7] START clf__C=10.0.................................................\n",
      "[CV 2/5; 4/7] END ..................clf__C=10.0;, score=0.981 total time=   3.5s\n",
      "[CV 3/5; 4/7] START clf__C=10.0.................................................\n",
      "[CV 3/5; 4/7] END ..................clf__C=10.0;, score=0.979 total time=   3.4s\n",
      "[CV 4/5; 4/7] START clf__C=10.0.................................................\n",
      "[CV 4/5; 4/7] END ..................clf__C=10.0;, score=0.980 total time=   3.6s\n",
      "[CV 5/5; 4/7] START clf__C=10.0.................................................\n",
      "[CV 5/5; 4/7] END ..................clf__C=10.0;, score=0.980 total time=   3.6s\n",
      "[CV 1/5; 5/7] START clf__C=46.41588833612777....................................\n",
      "[CV 1/5; 5/7] END .....clf__C=46.41588833612777;, score=0.984 total time=   4.4s\n",
      "[CV 2/5; 5/7] START clf__C=46.41588833612777....................................\n",
      "[CV 2/5; 5/7] END .....clf__C=46.41588833612777;, score=0.984 total time=   4.2s\n",
      "[CV 3/5; 5/7] START clf__C=46.41588833612777....................................\n",
      "[CV 3/5; 5/7] END .....clf__C=46.41588833612777;, score=0.983 total time=   5.0s\n",
      "[CV 4/5; 5/7] START clf__C=46.41588833612777....................................\n",
      "[CV 4/5; 5/7] END .....clf__C=46.41588833612777;, score=0.984 total time=   4.1s\n",
      "[CV 5/5; 5/7] START clf__C=46.41588833612777....................................\n",
      "[CV 5/5; 5/7] END .....clf__C=46.41588833612777;, score=0.983 total time=   4.2s\n",
      "[CV 1/5; 6/7] START clf__C=215.44346900318823...................................\n",
      "[CV 1/5; 6/7] END ....clf__C=215.44346900318823;, score=0.984 total time=   6.1s\n",
      "[CV 2/5; 6/7] START clf__C=215.44346900318823...................................\n",
      "[CV 2/5; 6/7] END ....clf__C=215.44346900318823;, score=0.985 total time=   5.8s\n",
      "[CV 3/5; 6/7] START clf__C=215.44346900318823...................................\n",
      "[CV 3/5; 6/7] END ....clf__C=215.44346900318823;, score=0.984 total time=   6.2s\n",
      "[CV 4/5; 6/7] START clf__C=215.44346900318823...................................\n",
      "[CV 4/5; 6/7] END ....clf__C=215.44346900318823;, score=0.985 total time=   6.4s\n",
      "[CV 5/5; 6/7] START clf__C=215.44346900318823...................................\n",
      "[CV 5/5; 6/7] END ....clf__C=215.44346900318823;, score=0.983 total time=   5.9s\n",
      "[CV 1/5; 7/7] START clf__C=1000.0...............................................\n",
      "[CV 1/5; 7/7] END ................clf__C=1000.0;, score=0.984 total time=  13.4s\n",
      "[CV 2/5; 7/7] START clf__C=1000.0...............................................\n",
      "[CV 2/5; 7/7] END ................clf__C=1000.0;, score=0.985 total time=  14.1s\n",
      "[CV 3/5; 7/7] START clf__C=1000.0...............................................\n",
      "[CV 3/5; 7/7] END ................clf__C=1000.0;, score=0.984 total time=  13.0s\n",
      "[CV 4/5; 7/7] START clf__C=1000.0...............................................\n",
      "[CV 4/5; 7/7] END ................clf__C=1000.0;, score=0.985 total time=  13.4s\n",
      "[CV 5/5; 7/7] START clf__C=1000.0...............................................\n",
      "[CV 5/5; 7/7] END ................clf__C=1000.0;, score=0.983 total time=  13.7s\n",
      "tuned hyperparameters :(best parameters)  {'clf__C': 1000.0}\n",
      "accuracy : 0.9841357331170915\n"
     ]
    },
    {
     "data": {
      "image/png": "[encoded data removed]",
      "text/plain": [
       "<Figure size 640x480 with 1 Axes>"
      ]
     },
     "metadata": {},
     "output_type": "display_data"
    }
   ],
   "source": [
    "#Testing C parameter\n",
    "grid={\"C\":np.logspace(-1,3,7)}\n",
    "      #\"kernel\": [\"rbf\"]\n",
    "      #\"epsilon\":np.logspace(-3,3,7),\n",
    "      #\"gamma\": np.logspace(-3,3,7)}\n",
    "model=svm.SVR(kernel=\"linear\")\n",
    "Cresults = grid_search(grid, model, x, y)\n",
    "plotGridResults(Cresults)"
   ]
  },
  {
   "cell_type": "markdown",
   "metadata": {
    "collapsed": false,
    "pycharm": {
     "name": "#%% md\n"
    }
   },
   "source": [
    "#### Epsilon param"
   ]
  },
  {
   "cell_type": "code",
   "execution_count": null,
   "metadata": {
    "collapsed": false,
    "pycharm": {
     "name": "#%%\n"
    }
   },
   "outputs": [
    {
     "name": "stdout",
     "output_type": "stream",
     "text": [
      "Fitting 5 folds for each of 7 candidates, totalling 35 fits\n",
      "[CV 1/5; 1/7] START clf__epsilon=0.001..........................................\n",
      "[CV 1/5; 1/7] END ...........clf__epsilon=0.001;, score=0.930 total time=   3.8s\n",
      "[CV 2/5; 1/7] START clf__epsilon=0.001..........................................\n",
      "[CV 2/5; 1/7] END ...........clf__epsilon=0.001;, score=0.937 total time=   2.7s\n",
      "[CV 3/5; 1/7] START clf__epsilon=0.001..........................................\n",
      "[CV 3/5; 1/7] END ...........clf__epsilon=0.001;, score=0.929 total time=   2.7s\n",
      "[CV 4/5; 1/7] START clf__epsilon=0.001..........................................\n",
      "[CV 4/5; 1/7] END ...........clf__epsilon=0.001;, score=0.929 total time=   5.3s\n",
      "[CV 5/5; 1/7] START clf__epsilon=0.001..........................................\n",
      "[CV 5/5; 1/7] END ...........clf__epsilon=0.001;, score=0.929 total time=   4.8s\n",
      "[CV 1/5; 2/7] START clf__epsilon=0.01...........................................\n",
      "[CV 1/5; 2/7] END ............clf__epsilon=0.01;, score=0.930 total time=   3.6s\n",
      "[CV 2/5; 2/7] START clf__epsilon=0.01...........................................\n",
      "[CV 2/5; 2/7] END ............clf__epsilon=0.01;, score=0.937 total time=   4.1s\n",
      "[CV 3/5; 2/7] START clf__epsilon=0.01...........................................\n",
      "[CV 3/5; 2/7] END ............clf__epsilon=0.01;, score=0.929 total time=   4.1s\n",
      "[CV 4/5; 2/7] START clf__epsilon=0.01...........................................\n",
      "[CV 4/5; 2/7] END ............clf__epsilon=0.01;, score=0.929 total time=   3.6s\n",
      "[CV 5/5; 2/7] START clf__epsilon=0.01...........................................\n",
      "[CV 5/5; 2/7] END ............clf__epsilon=0.01;, score=0.929 total time=   3.6s\n",
      "[CV 1/5; 3/7] START clf__epsilon=0.1............................................\n",
      "[CV 1/5; 3/7] END .............clf__epsilon=0.1;, score=0.930 total time=   3.4s\n",
      "[CV 2/5; 3/7] START clf__epsilon=0.1............................................\n",
      "[CV 2/5; 3/7] END .............clf__epsilon=0.1;, score=0.937 total time=   3.6s\n",
      "[CV 3/5; 3/7] START clf__epsilon=0.1............................................\n",
      "[CV 3/5; 3/7] END .............clf__epsilon=0.1;, score=0.929 total time=   3.5s\n",
      "[CV 4/5; 3/7] START clf__epsilon=0.1............................................\n",
      "[CV 4/5; 3/7] END .............clf__epsilon=0.1;, score=0.929 total time=   4.1s\n",
      "[CV 5/5; 3/7] START clf__epsilon=0.1............................................\n",
      "[CV 5/5; 3/7] END .............clf__epsilon=0.1;, score=0.929 total time=   3.7s\n",
      "[CV 1/5; 4/7] START clf__epsilon=1.0............................................\n",
      "[CV 1/5; 4/7] END .............clf__epsilon=1.0;, score=0.930 total time=   3.3s\n",
      "[CV 2/5; 4/7] START clf__epsilon=1.0............................................\n",
      "[CV 2/5; 4/7] END .............clf__epsilon=1.0;, score=0.937 total time=   3.4s\n",
      "[CV 3/5; 4/7] START clf__epsilon=1.0............................................\n",
      "[CV 3/5; 4/7] END .............clf__epsilon=1.0;, score=0.929 total time=   3.4s\n",
      "[CV 4/5; 4/7] START clf__epsilon=1.0............................................\n",
      "[CV 4/5; 4/7] END .............clf__epsilon=1.0;, score=0.930 total time=   3.5s\n",
      "[CV 5/5; 4/7] START clf__epsilon=1.0............................................\n",
      "[CV 5/5; 4/7] END .............clf__epsilon=1.0;, score=0.929 total time=   3.4s\n",
      "[CV 1/5; 5/7] START clf__epsilon=10.0...........................................\n",
      "[CV 1/5; 5/7] END ............clf__epsilon=10.0;, score=0.930 total time=   3.3s\n",
      "[CV 2/5; 5/7] START clf__epsilon=10.0...........................................\n",
      "[CV 2/5; 5/7] END ............clf__epsilon=10.0;, score=0.937 total time=   3.3s\n",
      "[CV 3/5; 5/7] START clf__epsilon=10.0...........................................\n",
      "[CV 3/5; 5/7] END ............clf__epsilon=10.0;, score=0.929 total time=   3.3s\n",
      "[CV 4/5; 5/7] START clf__epsilon=10.0...........................................\n",
      "[CV 4/5; 5/7] END ............clf__epsilon=10.0;, score=0.929 total time=   3.3s\n",
      "[CV 5/5; 5/7] START clf__epsilon=10.0...........................................\n",
      "[CV 5/5; 5/7] END ............clf__epsilon=10.0;, score=0.929 total time=   3.5s\n",
      "[CV 1/5; 6/7] START clf__epsilon=100.0..........................................\n",
      "[CV 1/5; 6/7] END ...........clf__epsilon=100.0;, score=0.930 total time=   3.1s\n",
      "[CV 2/5; 6/7] START clf__epsilon=100.0..........................................\n",
      "[CV 2/5; 6/7] END ...........clf__epsilon=100.0;, score=0.937 total time=   3.9s\n",
      "[CV 3/5; 6/7] START clf__epsilon=100.0..........................................\n",
      "[CV 3/5; 6/7] END ...........clf__epsilon=100.0;, score=0.929 total time=   3.4s\n",
      "[CV 4/5; 6/7] START clf__epsilon=100.0..........................................\n",
      "[CV 4/5; 6/7] END ...........clf__epsilon=100.0;, score=0.930 total time=   3.5s\n",
      "[CV 5/5; 6/7] START clf__epsilon=100.0..........................................\n",
      "[CV 5/5; 6/7] END ...........clf__epsilon=100.0;, score=0.929 total time=   5.9s\n",
      "[CV 1/5; 7/7] START clf__epsilon=1000.0.........................................\n",
      "[CV 1/5; 7/7] END ..........clf__epsilon=1000.0;, score=0.926 total time=   1.7s\n",
      "[CV 2/5; 7/7] START clf__epsilon=1000.0.........................................\n",
      "[CV 2/5; 7/7] END ..........clf__epsilon=1000.0;, score=0.932 total time=   1.7s\n",
      "[CV 3/5; 7/7] START clf__epsilon=1000.0.........................................\n",
      "[CV 3/5; 7/7] END ..........clf__epsilon=1000.0;, score=0.925 total time=   1.7s\n",
      "[CV 4/5; 7/7] START clf__epsilon=1000.0.........................................\n",
      "[CV 4/5; 7/7] END ..........clf__epsilon=1000.0;, score=0.925 total time=   1.6s\n",
      "[CV 5/5; 7/7] START clf__epsilon=1000.0.........................................\n",
      "[CV 5/5; 7/7] END ..........clf__epsilon=1000.0;, score=0.925 total time=   1.7s\n",
      "tuned hyperparameters :(best parameters)  {'clf__epsilon': 10.0}\n",
      "accuracy : 0.9310759090042602\n"
     ]
    },
    {
     "data": {
      "image/png": "[encoded data removed]",
      "text/plain": [
       "<Figure size 640x480 with 1 Axes>"
      ]
     },
     "metadata": {},
     "output_type": "display_data"
    }
   ],
   "source": [
    "#Testing eps parameter\n",
    "grid={#\"C\":np.logspace(-1,3,7)}\n",
    "      #\"kernel\": [\"rbf\"]\n",
    "      \"epsilon\":np.logspace(-3,3,7)}\n",
    "      #\"gamma\": np.logspace(-3,3,7)}\n",
    "model=svm.SVR(kernel=\"linear\")\n",
    "Epsresults = grid_search(grid, model, x, y)\n",
    "plotGridResults(Epsresults)"
   ]
  },
  {
   "cell_type": "markdown",
   "metadata": {
    "collapsed": false,
    "pycharm": {
     "name": "#%% md\n"
    }
   },
   "source": [
    "#### Best hyperparameters"
   ]
  },
  {
   "cell_type": "code",
   "execution_count": null,
   "metadata": {
    "collapsed": false,
    "pycharm": {
     "name": "#%%\n"
    }
   },
   "outputs": [
    {
     "name": "stdout",
     "output_type": "stream",
     "text": [
      "Best SVR --------------------------------------\n",
      "r2_score: 0.98507\n",
      "mean squared error: 424396.28249\n",
      "root mean squared error: 651.45705\n",
      "mean absolute error: 493.10488\n"
     ]
    },
    {
     "data": {
      "text/plain": [
       "0.98507"
      ]
     },
     "execution_count": 39,
     "metadata": {},
     "output_type": "execute_result"
    }
   ],
   "source": [
    "#Setting model\n",
    "model = svm.SVR(kernel=\"linear\", epsilon=10, C=1000)\n",
    "model.fit(x_train, y_train)\n",
    "model_rapport(\"Best SVR\", model, y_test, x_test)"
   ]
  },
  {
   "cell_type": "markdown",
   "metadata": {
    "collapsed": false,
    "pycharm": {
     "name": "#%% md\n"
    }
   },
   "source": [
    "After testing hyperparameters, the best seems to be kernel=rbf, espilon=0.001, gamma=0.01, C=10.\n",
    "r2 score = 0.99975"
   ]
  },
  {
   "cell_type": "markdown",
   "metadata": {
    "collapsed": false,
    "pycharm": {
     "name": "#%% md\n"
    }
   },
   "source": [
    "### Best SVR eval"
   ]
  },
  {
   "cell_type": "code",
   "execution_count": null,
   "metadata": {
    "collapsed": false,
    "pycharm": {
     "name": "#%%\n"
    }
   },
   "outputs": [
    {
     "name": "stderr",
     "output_type": "stream",
     "text": [
      "[Parallel(n_jobs=-1)]: Using backend LokyBackend with 4 concurrent workers.\n",
      "[Parallel(n_jobs=-1)]: Done   2 out of   5 | elapsed:   21.1s remaining:   31.6s\n",
      "[Parallel(n_jobs=-1)]: Done   3 out of   5 | elapsed:   21.5s remaining:   14.3s\n"
     ]
    },
    {
     "name": "stdout",
     "output_type": "stream",
     "text": [
      "MAE:  502.95113961\n",
      "RMSE:  662.89101269\n",
      "R2:  0.98414775\n"
     ]
    },
    {
     "name": "stderr",
     "output_type": "stream",
     "text": [
      "[Parallel(n_jobs=-1)]: Done   5 out of   5 | elapsed:   35.8s remaining:    0.0s\n",
      "[Parallel(n_jobs=-1)]: Done   5 out of   5 | elapsed:   35.8s finished\n"
     ]
    }
   ],
   "source": [
    "model = svm.SVR(kernel=\"linear\", epsilon=10, C=1000)\n",
    "model_cv_rapport(model, x, y)"
   ]
  },
  {
   "cell_type": "markdown",
   "metadata": {
    "collapsed": false,
    "pycharm": {
     "name": "#%% md\n"
    }
   },
   "source": [
    "## Decision tree regression"
   ]
  },
  {
   "cell_type": "code",
   "execution_count": null,
   "metadata": {
    "collapsed": false,
    "pycharm": {
     "name": "#%%\n"
    }
   },
   "outputs": [
    {
     "name": "stdout",
     "output_type": "stream",
     "text": [
      "Decision tree --------------------------------------\n",
      "r2_score: 0.99836\n",
      "mean squared error: 46746.8355\n",
      "root mean squared error: 216.21017\n",
      "mean absolute error: 112.4455\n"
     ]
    }
   ],
   "source": [
    "treeModel = tree.DecisionTreeRegressor(criterion=\"squared_error\", #\"absolute_error\", #\"friedman_mse\",\n",
    "                                   max_depth=None,\n",
    "                                   max_features=None,\n",
    "                                   min_samples_leaf=1,\n",
    "                                   min_samples_split=2)\n",
    "treeModel.fit(x_train, y_train)\n",
    "value = model_rapport(\"Decision tree\", treeModel, y_test=y_test, x_test=x_test)"
   ]
  },
  {
   "cell_type": "markdown",
   "metadata": {
    "collapsed": false,
    "pycharm": {
     "name": "#%% md\n"
    }
   },
   "source": [
    "### Hyperparameters - Decision Tree\n",
    "#### criterion param"
   ]
  },
  {
   "cell_type": "code",
   "execution_count": null,
   "metadata": {
    "collapsed": false,
    "pycharm": {
     "name": "#%%\n"
    }
   },
   "outputs": [
    {
     "name": "stdout",
     "output_type": "stream",
     "text": [
      "Fitting 5 folds for each of 3 candidates, totalling 15 fits\n",
      "[CV 1/5; 1/3] START clf__criterion=squared_error................................\n",
      "[CV 1/5; 1/3] END .clf__criterion=squared_error;, score=0.998 total time=   0.1s\n",
      "[CV 2/5; 1/3] START clf__criterion=squared_error................................\n",
      "[CV 2/5; 1/3] END .clf__criterion=squared_error;, score=0.998 total time=   0.0s\n",
      "[CV 3/5; 1/3] START clf__criterion=squared_error................................\n",
      "[CV 3/5; 1/3] END .clf__criterion=squared_error;, score=0.998 total time=   0.0s\n",
      "[CV 4/5; 1/3] START clf__criterion=squared_error................................\n",
      "[CV 4/5; 1/3] END .clf__criterion=squared_error;, score=0.998 total time=   0.0s\n",
      "[CV 5/5; 1/3] START clf__criterion=squared_error................................\n",
      "[CV 5/5; 1/3] END .clf__criterion=squared_error;, score=0.998 total time=   0.1s\n",
      "[CV 1/5; 2/3] START clf__criterion=absolute_error...............................\n",
      "[CV 1/5; 2/3] END clf__criterion=absolute_error;, score=0.999 total time=   5.0s\n",
      "[CV 2/5; 2/3] START clf__criterion=absolute_error...............................\n",
      "[CV 2/5; 2/3] END clf__criterion=absolute_error;, score=0.999 total time=   5.3s\n",
      "[CV 3/5; 2/3] START clf__criterion=absolute_error...............................\n",
      "[CV 3/5; 2/3] END clf__criterion=absolute_error;, score=0.998 total time=   6.1s\n",
      "[CV 4/5; 2/3] START clf__criterion=absolute_error...............................\n",
      "[CV 4/5; 2/3] END clf__criterion=absolute_error;, score=0.999 total time=   6.0s\n",
      "[CV 5/5; 2/3] START clf__criterion=absolute_error...............................\n",
      "[CV 5/5; 2/3] END clf__criterion=absolute_error;, score=0.998 total time=   6.1s\n",
      "[CV 1/5; 3/3] START clf__criterion=friedman_mse.................................\n",
      "[CV 1/5; 3/3] END ..clf__criterion=friedman_mse;, score=0.998 total time=   0.1s\n",
      "[CV 2/5; 3/3] START clf__criterion=friedman_mse.................................\n",
      "[CV 2/5; 3/3] END ..clf__criterion=friedman_mse;, score=0.998 total time=   0.1s\n",
      "[CV 3/5; 3/3] START clf__criterion=friedman_mse.................................\n",
      "[CV 3/5; 3/3] END ..clf__criterion=friedman_mse;, score=0.998 total time=   0.1s\n",
      "[CV 4/5; 3/3] START clf__criterion=friedman_mse.................................\n",
      "[CV 4/5; 3/3] END ..clf__criterion=friedman_mse;, score=0.999 total time=   0.1s\n",
      "[CV 5/5; 3/3] START clf__criterion=friedman_mse.................................\n",
      "[CV 5/5; 3/3] END ..clf__criterion=friedman_mse;, score=0.998 total time=   0.1s\n",
      "tuned hyperparameters :(best parameters)  {'clf__criterion': 'absolute_error'}\n",
      "accuracy : 0.9984166182563448\n"
     ]
    },
    {
     "data": {
      "image/png": "[encoded data removed]",
      "text/plain": [
       "<Figure size 640x480 with 1 Axes>"
      ]
     },
     "metadata": {},
     "output_type": "display_data"
    }
   ],
   "source": [
    "#Testing criterion parameter\n",
    "grid={\"criterion\": [\"squared_error\", \"absolute_error\", \"friedman_mse\"]}\n",
    "model=tree.DecisionTreeRegressor()\n",
    "Critresults = grid_search(grid, model, x, y)\n",
    "plotGridResults(Critresults)"
   ]
  },
  {
   "cell_type": "markdown",
   "metadata": {
    "collapsed": false,
    "pycharm": {
     "name": "#%% md\n"
    }
   },
   "source": [
    "#### max_depth param"
   ]
  },
  {
   "cell_type": "code",
   "execution_count": null,
   "metadata": {
    "collapsed": false,
    "pycharm": {
     "name": "#%%\n"
    }
   },
   "outputs": [
    {
     "name": "stdout",
     "output_type": "stream",
     "text": [
      "Fitting 5 folds for each of 16 candidates, totalling 80 fits\n",
      "[CV 1/5; 1/16] START clf__max_depth=1...........................................\n",
      "[CV 1/5; 1/16] END ............clf__max_depth=1;, score=0.827 total time=   0.0s\n",
      "[CV 2/5; 1/16] START clf__max_depth=1...........................................\n",
      "[CV 2/5; 1/16] END ............clf__max_depth=1;, score=0.829 total time=   0.0s\n",
      "[CV 3/5; 1/16] START clf__max_depth=1...........................................\n",
      "[CV 3/5; 1/16] END ............clf__max_depth=1;, score=0.840 total time=   0.0s\n",
      "[CV 4/5; 1/16] START clf__max_depth=1...........................................\n",
      "[CV 4/5; 1/16] END ............clf__max_depth=1;, score=0.845 total time=   0.0s\n",
      "[CV 5/5; 1/16] START clf__max_depth=1...........................................\n",
      "[CV 5/5; 1/16] END ............clf__max_depth=1;, score=0.841 total time=   0.0s\n",
      "[CV 1/5; 2/16] START clf__max_depth=2...........................................\n",
      "[CV 1/5; 2/16] END ............clf__max_depth=2;, score=0.906 total time=   0.0s\n",
      "[CV 2/5; 2/16] START clf__max_depth=2...........................................\n",
      "[CV 2/5; 2/16] END ............clf__max_depth=2;, score=0.910 total time=   0.0s\n",
      "[CV 3/5; 2/16] START clf__max_depth=2...........................................\n",
      "[CV 3/5; 2/16] END ............clf__max_depth=2;, score=0.910 total time=   0.0s\n",
      "[CV 4/5; 2/16] START clf__max_depth=2...........................................\n",
      "[CV 4/5; 2/16] END ............clf__max_depth=2;, score=0.914 total time=   0.0s\n",
      "[CV 5/5; 2/16] START clf__max_depth=2...........................................\n",
      "[CV 5/5; 2/16] END ............clf__max_depth=2;, score=0.915 total time=   0.0s\n",
      "[CV 1/5; 3/16] START clf__max_depth=3...........................................\n",
      "[CV 1/5; 3/16] END ............clf__max_depth=3;, score=0.941 total time=   0.0s\n",
      "[CV 2/5; 3/16] START clf__max_depth=3...........................................\n",
      "[CV 2/5; 3/16] END ............clf__max_depth=3;, score=0.944 total time=   0.0s\n",
      "[CV 3/5; 3/16] START clf__max_depth=3...........................................\n",
      "[CV 3/5; 3/16] END ............clf__max_depth=3;, score=0.943 total time=   0.0s\n",
      "[CV 4/5; 3/16] START clf__max_depth=3...........................................\n",
      "[CV 4/5; 3/16] END ............clf__max_depth=3;, score=0.947 total time=   0.0s\n",
      "[CV 5/5; 3/16] START clf__max_depth=3...........................................\n",
      "[CV 5/5; 3/16] END ............clf__max_depth=3;, score=0.946 total time=   0.0s\n",
      "[CV 1/5; 4/16] START clf__max_depth=4...........................................\n",
      "[CV 1/5; 4/16] END ............clf__max_depth=4;, score=0.971 total time=   0.0s\n",
      "[CV 2/5; 4/16] START clf__max_depth=4...........................................\n",
      "[CV 2/5; 4/16] END ............clf__max_depth=4;, score=0.973 total time=   0.0s\n",
      "[CV 3/5; 4/16] START clf__max_depth=4...........................................\n",
      "[CV 3/5; 4/16] END ............clf__max_depth=4;, score=0.972 total time=   0.0s\n",
      "[CV 4/5; 4/16] START clf__max_depth=4...........................................\n",
      "[CV 4/5; 4/16] END ............clf__max_depth=4;, score=0.971 total time=   0.0s\n",
      "[CV 5/5; 4/16] START clf__max_depth=4...........................................\n",
      "[CV 5/5; 4/16] END ............clf__max_depth=4;, score=0.971 total time=   0.0s\n",
      "[CV 1/5; 5/16] START clf__max_depth=5...........................................\n",
      "[CV 1/5; 5/16] END ............clf__max_depth=5;, score=0.983 total time=   0.0s\n",
      "[CV 2/5; 5/16] START clf__max_depth=5...........................................\n",
      "[CV 2/5; 5/16] END ............clf__max_depth=5;, score=0.984 total time=   0.0s\n",
      "[CV 3/5; 5/16] START clf__max_depth=5...........................................\n",
      "[CV 3/5; 5/16] END ............clf__max_depth=5;, score=0.983 total time=   0.0s\n",
      "[CV 4/5; 5/16] START clf__max_depth=5...........................................\n",
      "[CV 4/5; 5/16] END ............clf__max_depth=5;, score=0.983 total time=   0.0s\n",
      "[CV 5/5; 5/16] START clf__max_depth=5...........................................\n",
      "[CV 5/5; 5/16] END ............clf__max_depth=5;, score=0.982 total time=   0.0s\n",
      "[CV 1/5; 6/16] START clf__max_depth=6...........................................\n",
      "[CV 1/5; 6/16] END ............clf__max_depth=6;, score=0.993 total time=   0.0s\n",
      "[CV 2/5; 6/16] START clf__max_depth=6...........................................\n",
      "[CV 2/5; 6/16] END ............clf__max_depth=6;, score=0.993 total time=   0.0s\n",
      "[CV 3/5; 6/16] START clf__max_depth=6...........................................\n",
      "[CV 3/5; 6/16] END ............clf__max_depth=6;, score=0.991 total time=   0.0s\n",
      "[CV 4/5; 6/16] START clf__max_depth=6...........................................\n",
      "[CV 4/5; 6/16] END ............clf__max_depth=6;, score=0.992 total time=   0.0s\n",
      "[CV 5/5; 6/16] START clf__max_depth=6...........................................\n",
      "[CV 5/5; 6/16] END ............clf__max_depth=6;, score=0.993 total time=   0.0s\n",
      "[CV 1/5; 7/16] START clf__max_depth=7...........................................\n",
      "[CV 1/5; 7/16] END ............clf__max_depth=7;, score=0.996 total time=   0.0s\n",
      "[CV 2/5; 7/16] START clf__max_depth=7...........................................\n",
      "[CV 2/5; 7/16] END ............clf__max_depth=7;, score=0.995 total time=   0.0s\n",
      "[CV 3/5; 7/16] START clf__max_depth=7...........................................\n",
      "[CV 3/5; 7/16] END ............clf__max_depth=7;, score=0.994 total time=   0.0s\n",
      "[CV 4/5; 7/16] START clf__max_depth=7...........................................\n",
      "[CV 4/5; 7/16] END ............clf__max_depth=7;, score=0.995 total time=   0.0s\n",
      "[CV 5/5; 7/16] START clf__max_depth=7...........................................\n",
      "[CV 5/5; 7/16] END ............clf__max_depth=7;, score=0.996 total time=   0.0s\n",
      "[CV 1/5; 8/16] START clf__max_depth=8...........................................\n",
      "[CV 1/5; 8/16] END ............clf__max_depth=8;, score=0.997 total time=   0.0s\n",
      "[CV 2/5; 8/16] START clf__max_depth=8...........................................\n",
      "[CV 2/5; 8/16] END ............clf__max_depth=8;, score=0.996 total time=   0.0s\n",
      "[CV 3/5; 8/16] START clf__max_depth=8...........................................\n",
      "[CV 3/5; 8/16] END ............clf__max_depth=8;, score=0.996 total time=   0.0s\n",
      "[CV 4/5; 8/16] START clf__max_depth=8...........................................\n",
      "[CV 4/5; 8/16] END ............clf__max_depth=8;, score=0.997 total time=   0.0s\n",
      "[CV 5/5; 8/16] START clf__max_depth=8...........................................\n",
      "[CV 5/5; 8/16] END ............clf__max_depth=8;, score=0.997 total time=   0.0s\n",
      "[CV 1/5; 9/16] START clf__max_depth=9...........................................\n",
      "[CV 1/5; 9/16] END ............clf__max_depth=9;, score=0.997 total time=   0.0s\n",
      "[CV 2/5; 9/16] START clf__max_depth=9...........................................\n",
      "[CV 2/5; 9/16] END ............clf__max_depth=9;, score=0.997 total time=   0.0s\n",
      "[CV 3/5; 9/16] START clf__max_depth=9...........................................\n",
      "[CV 3/5; 9/16] END ............clf__max_depth=9;, score=0.997 total time=   0.0s\n",
      "[CV 4/5; 9/16] START clf__max_depth=9...........................................\n",
      "[CV 4/5; 9/16] END ............clf__max_depth=9;, score=0.998 total time=   0.0s\n",
      "[CV 5/5; 9/16] START clf__max_depth=9...........................................\n",
      "[CV 5/5; 9/16] END ............clf__max_depth=9;, score=0.998 total time=   0.0s\n",
      "[CV 1/5; 10/16] START clf__max_depth=10.........................................\n",
      "[CV 1/5; 10/16] END ..........clf__max_depth=10;, score=0.998 total time=   0.0s\n",
      "[CV 2/5; 10/16] START clf__max_depth=10.........................................\n",
      "[CV 2/5; 10/16] END ..........clf__max_depth=10;, score=0.998 total time=   0.0s\n",
      "[CV 3/5; 10/16] START clf__max_depth=10.........................................\n",
      "[CV 3/5; 10/16] END ..........clf__max_depth=10;, score=0.998 total time=   0.0s\n",
      "[CV 4/5; 10/16] START clf__max_depth=10.........................................\n",
      "[CV 4/5; 10/16] END ..........clf__max_depth=10;, score=0.998 total time=   0.0s\n",
      "[CV 5/5; 10/16] START clf__max_depth=10.........................................\n",
      "[CV 5/5; 10/16] END ..........clf__max_depth=10;, score=0.998 total time=   0.0s\n",
      "[CV 1/5; 11/16] START clf__max_depth=11.........................................\n",
      "[CV 1/5; 11/16] END ..........clf__max_depth=11;, score=0.999 total time=   0.0s\n",
      "[CV 2/5; 11/16] START clf__max_depth=11.........................................\n",
      "[CV 2/5; 11/16] END ..........clf__max_depth=11;, score=0.998 total time=   0.0s\n",
      "[CV 3/5; 11/16] START clf__max_depth=11.........................................\n",
      "[CV 3/5; 11/16] END ..........clf__max_depth=11;, score=0.998 total time=   0.0s\n",
      "[CV 4/5; 11/16] START clf__max_depth=11.........................................\n",
      "[CV 4/5; 11/16] END ..........clf__max_depth=11;, score=0.998 total time=   0.0s\n",
      "[CV 5/5; 11/16] START clf__max_depth=11.........................................\n",
      "[CV 5/5; 11/16] END ..........clf__max_depth=11;, score=0.998 total time=   0.0s\n",
      "[CV 1/5; 12/16] START clf__max_depth=12.........................................\n",
      "[CV 1/5; 12/16] END ..........clf__max_depth=12;, score=0.998 total time=   0.0s\n",
      "[CV 2/5; 12/16] START clf__max_depth=12.........................................\n",
      "[CV 2/5; 12/16] END ..........clf__max_depth=12;, score=0.998 total time=   0.1s\n",
      "[CV 3/5; 12/16] START clf__max_depth=12.........................................\n",
      "[CV 3/5; 12/16] END ..........clf__max_depth=12;, score=0.998 total time=   0.0s\n",
      "[CV 4/5; 12/16] START clf__max_depth=12.........................................\n",
      "[CV 4/5; 12/16] END ..........clf__max_depth=12;, score=0.999 total time=   0.0s\n",
      "[CV 5/5; 12/16] START clf__max_depth=12.........................................\n",
      "[CV 5/5; 12/16] END ..........clf__max_depth=12;, score=0.998 total time=   0.0s\n",
      "[CV 1/5; 13/16] START clf__max_depth=13.........................................\n",
      "[CV 1/5; 13/16] END ..........clf__max_depth=13;, score=0.998 total time=   0.0s\n",
      "[CV 2/5; 13/16] START clf__max_depth=13.........................................\n",
      "[CV 2/5; 13/16] END ..........clf__max_depth=13;, score=0.998 total time=   0.0s\n",
      "[CV 3/5; 13/16] START clf__max_depth=13.........................................\n",
      "[CV 3/5; 13/16] END ..........clf__max_depth=13;, score=0.998 total time=   0.0s\n",
      "[CV 4/5; 13/16] START clf__max_depth=13.........................................\n",
      "[CV 4/5; 13/16] END ..........clf__max_depth=13;, score=0.999 total time=   0.0s\n",
      "[CV 5/5; 13/16] START clf__max_depth=13.........................................\n",
      "[CV 5/5; 13/16] END ..........clf__max_depth=13;, score=0.998 total time=   0.0s\n",
      "[CV 1/5; 14/16] START clf__max_depth=14.........................................\n",
      "[CV 1/5; 14/16] END ..........clf__max_depth=14;, score=0.998 total time=   0.0s\n",
      "[CV 2/5; 14/16] START clf__max_depth=14.........................................\n",
      "[CV 2/5; 14/16] END ..........clf__max_depth=14;, score=0.998 total time=   0.0s\n",
      "[CV 3/5; 14/16] START clf__max_depth=14.........................................\n",
      "[CV 3/5; 14/16] END ..........clf__max_depth=14;, score=0.998 total time=   0.0s\n",
      "[CV 4/5; 14/16] START clf__max_depth=14.........................................\n",
      "[CV 4/5; 14/16] END ..........clf__max_depth=14;, score=0.999 total time=   0.0s\n",
      "[CV 5/5; 14/16] START clf__max_depth=14.........................................\n",
      "[CV 5/5; 14/16] END ..........clf__max_depth=14;, score=0.998 total time=   0.0s\n",
      "[CV 1/5; 15/16] START clf__max_depth=15.........................................\n",
      "[CV 1/5; 15/16] END ..........clf__max_depth=15;, score=0.998 total time=   0.0s\n",
      "[CV 2/5; 15/16] START clf__max_depth=15.........................................\n",
      "[CV 2/5; 15/16] END ..........clf__max_depth=15;, score=0.999 total time=   0.0s\n",
      "[CV 3/5; 15/16] START clf__max_depth=15.........................................\n",
      "[CV 3/5; 15/16] END ..........clf__max_depth=15;, score=0.998 total time=   0.0s\n",
      "[CV 4/5; 15/16] START clf__max_depth=15.........................................\n",
      "[CV 4/5; 15/16] END ..........clf__max_depth=15;, score=0.998 total time=   0.0s\n",
      "[CV 5/5; 15/16] START clf__max_depth=15.........................................\n",
      "[CV 5/5; 15/16] END ..........clf__max_depth=15;, score=0.998 total time=   0.0s\n",
      "[CV 1/5; 16/16] START clf__max_depth=16.........................................\n",
      "[CV 1/5; 16/16] END ..........clf__max_depth=16;, score=0.999 total time=   0.0s\n",
      "[CV 2/5; 16/16] START clf__max_depth=16.........................................\n",
      "[CV 2/5; 16/16] END ..........clf__max_depth=16;, score=0.998 total time=   0.0s\n",
      "[CV 3/5; 16/16] START clf__max_depth=16.........................................\n",
      "[CV 3/5; 16/16] END ..........clf__max_depth=16;, score=0.998 total time=   0.0s\n",
      "[CV 4/5; 16/16] START clf__max_depth=16.........................................\n",
      "[CV 4/5; 16/16] END ..........clf__max_depth=16;, score=0.998 total time=   0.0s\n",
      "[CV 5/5; 16/16] START clf__max_depth=16.........................................\n",
      "[CV 5/5; 16/16] END ..........clf__max_depth=16;, score=0.998 total time=   0.0s\n",
      "tuned hyperparameters :(best parameters)  {'clf__max_depth': 16}\n",
      "accuracy : 0.9983733778272308\n"
     ]
    },
    {
     "data": {
      "image/png": "[encoded data removed]",
      "text/plain": [
       "<Figure size 640x480 with 1 Axes>"
      ]
     },
     "metadata": {},
     "output_type": "display_data"
    }
   ],
   "source": [
    "grid={\"max_depth\":[i for i in range(1, 17)]}\n",
    "model=tree.DecisionTreeRegressor()\n",
    "results = grid_search(grid, model, x, y)\n",
    "plotGridResults(results)"
   ]
  },
  {
   "cell_type": "markdown",
   "metadata": {
    "collapsed": false,
    "pycharm": {
     "name": "#%% md\n"
    }
   },
   "source": [
    "#### max_features param"
   ]
  },
  {
   "cell_type": "code",
   "execution_count": null,
   "metadata": {
    "collapsed": false,
    "pycharm": {
     "name": "#%%\n"
    }
   },
   "outputs": [
    {
     "name": "stdout",
     "output_type": "stream",
     "text": [
      "Fitting 5 folds for each of 10 candidates, totalling 50 fits\n",
      "[CV 1/5; 1/10] START clf__max_features=0.1......................................\n",
      "[CV 1/5; 1/10] END .......clf__max_features=0.1;, score=0.983 total time=   0.0s\n",
      "[CV 2/5; 1/10] START clf__max_features=0.1......................................\n",
      "[CV 2/5; 1/10] END .......clf__max_features=0.1;, score=0.987 total time=   0.0s\n",
      "[CV 3/5; 1/10] START clf__max_features=0.1......................................\n",
      "[CV 3/5; 1/10] END .......clf__max_features=0.1;, score=0.991 total time=   0.0s\n",
      "[CV 4/5; 1/10] START clf__max_features=0.1......................................\n",
      "[CV 4/5; 1/10] END .......clf__max_features=0.1;, score=0.991 total time=   0.0s\n",
      "[CV 5/5; 1/10] START clf__max_features=0.1......................................\n",
      "[CV 5/5; 1/10] END .......clf__max_features=0.1;, score=0.981 total time=   0.0s\n",
      "[CV 1/5; 2/10] START clf__max_features=0.2......................................\n",
      "[CV 1/5; 2/10] END .......clf__max_features=0.2;, score=0.998 total time=   0.0s\n",
      "[CV 2/5; 2/10] START clf__max_features=0.2......................................\n",
      "[CV 2/5; 2/10] END .......clf__max_features=0.2;, score=0.995 total time=   0.0s\n",
      "[CV 3/5; 2/10] START clf__max_features=0.2......................................\n",
      "[CV 3/5; 2/10] END .......clf__max_features=0.2;, score=0.992 total time=   0.0s\n",
      "[CV 4/5; 2/10] START clf__max_features=0.2......................................\n",
      "[CV 4/5; 2/10] END .......clf__max_features=0.2;, score=0.994 total time=   0.0s\n",
      "[CV 5/5; 2/10] START clf__max_features=0.2......................................\n",
      "[CV 5/5; 2/10] END .......clf__max_features=0.2;, score=0.994 total time=   0.1s\n",
      "[CV 1/5; 3/10] START clf__max_features=0.3......................................\n",
      "[CV 1/5; 3/10] END .......clf__max_features=0.3;, score=0.997 total time=   0.0s\n",
      "[CV 2/5; 3/10] START clf__max_features=0.3......................................\n",
      "[CV 2/5; 3/10] END .......clf__max_features=0.3;, score=0.995 total time=   0.0s\n",
      "[CV 3/5; 3/10] START clf__max_features=0.3......................................\n",
      "[CV 3/5; 3/10] END .......clf__max_features=0.3;, score=0.996 total time=   0.0s\n",
      "[CV 4/5; 3/10] START clf__max_features=0.3......................................\n",
      "[CV 4/5; 3/10] END .......clf__max_features=0.3;, score=0.993 total time=   0.0s\n",
      "[CV 5/5; 3/10] START clf__max_features=0.3......................................\n",
      "[CV 5/5; 3/10] END .......clf__max_features=0.3;, score=0.997 total time=   0.0s\n",
      "[CV 1/5; 4/10] START clf__max_features=0.4......................................\n",
      "[CV 1/5; 4/10] END .......clf__max_features=0.4;, score=0.998 total time=   0.0s\n",
      "[CV 2/5; 4/10] START clf__max_features=0.4......................................\n",
      "[CV 2/5; 4/10] END .......clf__max_features=0.4;, score=0.997 total time=   0.0s\n",
      "[CV 3/5; 4/10] START clf__max_features=0.4......................................\n",
      "[CV 3/5; 4/10] END .......clf__max_features=0.4;, score=0.998 total time=   0.0s\n",
      "[CV 4/5; 4/10] START clf__max_features=0.4......................................\n",
      "[CV 4/5; 4/10] END .......clf__max_features=0.4;, score=0.997 total time=   0.0s\n",
      "[CV 5/5; 4/10] START clf__max_features=0.4......................................\n",
      "[CV 5/5; 4/10] END .......clf__max_features=0.4;, score=0.994 total time=   0.0s\n",
      "[CV 1/5; 5/10] START clf__max_features=0.5......................................\n",
      "[CV 1/5; 5/10] END .......clf__max_features=0.5;, score=0.997 total time=   0.0s\n",
      "[CV 2/5; 5/10] START clf__max_features=0.5......................................\n",
      "[CV 2/5; 5/10] END .......clf__max_features=0.5;, score=0.998 total time=   0.0s\n",
      "[CV 3/5; 5/10] START clf__max_features=0.5......................................\n",
      "[CV 3/5; 5/10] END .......clf__max_features=0.5;, score=0.998 total time=   0.0s\n",
      "[CV 4/5; 5/10] START clf__max_features=0.5......................................\n",
      "[CV 4/5; 5/10] END .......clf__max_features=0.5;, score=0.998 total time=   0.0s\n",
      "[CV 5/5; 5/10] START clf__max_features=0.5......................................\n",
      "[CV 5/5; 5/10] END .......clf__max_features=0.5;, score=0.998 total time=   0.0s\n",
      "[CV 1/5; 6/10] START clf__max_features=0.6......................................\n",
      "[CV 1/5; 6/10] END .......clf__max_features=0.6;, score=0.998 total time=   0.0s\n",
      "[CV 2/5; 6/10] START clf__max_features=0.6......................................\n",
      "[CV 2/5; 6/10] END .......clf__max_features=0.6;, score=0.998 total time=   0.0s\n",
      "[CV 3/5; 6/10] START clf__max_features=0.6......................................\n",
      "[CV 3/5; 6/10] END .......clf__max_features=0.6;, score=0.998 total time=   0.0s\n",
      "[CV 4/5; 6/10] START clf__max_features=0.6......................................\n",
      "[CV 4/5; 6/10] END .......clf__max_features=0.6;, score=0.998 total time=   0.0s\n",
      "[CV 5/5; 6/10] START clf__max_features=0.6......................................\n",
      "[CV 5/5; 6/10] END .......clf__max_features=0.6;, score=0.998 total time=   0.0s\n",
      "[CV 1/5; 7/10] START clf__max_features=0.7......................................\n",
      "[CV 1/5; 7/10] END .......clf__max_features=0.7;, score=0.998 total time=   0.0s\n",
      "[CV 2/5; 7/10] START clf__max_features=0.7......................................\n",
      "[CV 2/5; 7/10] END .......clf__max_features=0.7;, score=0.998 total time=   0.0s\n",
      "[CV 3/5; 7/10] START clf__max_features=0.7......................................\n",
      "[CV 3/5; 7/10] END .......clf__max_features=0.7;, score=0.998 total time=   0.0s\n",
      "[CV 4/5; 7/10] START clf__max_features=0.7......................................\n",
      "[CV 4/5; 7/10] END .......clf__max_features=0.7;, score=0.998 total time=   0.0s\n",
      "[CV 5/5; 7/10] START clf__max_features=0.7......................................\n",
      "[CV 5/5; 7/10] END .......clf__max_features=0.7;, score=0.997 total time=   0.0s\n",
      "[CV 1/5; 8/10] START clf__max_features=0.8......................................\n",
      "[CV 1/5; 8/10] END .......clf__max_features=0.8;, score=0.999 total time=   0.0s\n",
      "[CV 2/5; 8/10] START clf__max_features=0.8......................................\n",
      "[CV 2/5; 8/10] END .......clf__max_features=0.8;, score=0.998 total time=   0.0s\n",
      "[CV 3/5; 8/10] START clf__max_features=0.8......................................\n",
      "[CV 3/5; 8/10] END .......clf__max_features=0.8;, score=0.998 total time=   0.0s\n",
      "[CV 4/5; 8/10] START clf__max_features=0.8......................................\n",
      "[CV 4/5; 8/10] END .......clf__max_features=0.8;, score=0.999 total time=   0.0s\n",
      "[CV 5/5; 8/10] START clf__max_features=0.8......................................\n",
      "[CV 5/5; 8/10] END .......clf__max_features=0.8;, score=0.997 total time=   0.0s\n",
      "[CV 1/5; 9/10] START clf__max_features=0.9......................................\n",
      "[CV 1/5; 9/10] END .......clf__max_features=0.9;, score=0.998 total time=   0.0s\n",
      "[CV 2/5; 9/10] START clf__max_features=0.9......................................\n",
      "[CV 2/5; 9/10] END .......clf__max_features=0.9;, score=0.998 total time=   0.1s\n",
      "[CV 3/5; 9/10] START clf__max_features=0.9......................................\n",
      "[CV 3/5; 9/10] END .......clf__max_features=0.9;, score=0.998 total time=   0.0s\n",
      "[CV 4/5; 9/10] START clf__max_features=0.9......................................\n",
      "[CV 4/5; 9/10] END .......clf__max_features=0.9;, score=0.999 total time=   0.0s\n",
      "[CV 5/5; 9/10] START clf__max_features=0.9......................................\n",
      "[CV 5/5; 9/10] END .......clf__max_features=0.9;, score=0.998 total time=   0.0s\n",
      "[CV 1/5; 10/10] START clf__max_features=1.0.....................................\n",
      "[CV 1/5; 10/10] END ......clf__max_features=1.0;, score=0.998 total time=   0.0s\n",
      "[CV 2/5; 10/10] START clf__max_features=1.0.....................................\n",
      "[CV 2/5; 10/10] END ......clf__max_features=1.0;, score=0.998 total time=   0.0s\n",
      "[CV 3/5; 10/10] START clf__max_features=1.0.....................................\n",
      "[CV 3/5; 10/10] END ......clf__max_features=1.0;, score=0.998 total time=   0.0s\n",
      "[CV 4/5; 10/10] START clf__max_features=1.0.....................................\n",
      "[CV 4/5; 10/10] END ......clf__max_features=1.0;, score=0.998 total time=   0.0s\n",
      "[CV 5/5; 10/10] START clf__max_features=1.0.....................................\n",
      "[CV 5/5; 10/10] END ......clf__max_features=1.0;, score=0.998 total time=   0.1s\n",
      "tuned hyperparameters :(best parameters)  {'clf__max_features': 1.0}\n",
      "accuracy : 0.9983612477700048\n"
     ]
    },
    {
     "data": {
      "image/png": "[encoded data removed]",
      "text/plain": [
       "<Figure size 640x480 with 1 Axes>"
      ]
     },
     "metadata": {},
     "output_type": "display_data"
    }
   ],
   "source": [
    "grid={\"max_features\":[i/10.0 for i in range(1, 11)]}\n",
    "model=tree.DecisionTreeRegressor()\n",
    "results = grid_search(grid, model, x, y)\n",
    "plotGridResults(results)"
   ]
  },
  {
   "cell_type": "markdown",
   "metadata": {
    "collapsed": false,
    "pycharm": {
     "name": "#%% md\n"
    }
   },
   "source": [
    "#### min_samples_leaf param"
   ]
  },
  {
   "cell_type": "code",
   "execution_count": null,
   "metadata": {
    "collapsed": false,
    "pycharm": {
     "name": "#%%\n"
    }
   },
   "outputs": [
    {
     "name": "stdout",
     "output_type": "stream",
     "text": [
      "Fitting 5 folds for each of 9 candidates, totalling 45 fits\n",
      "[CV 1/5; 1/9] START clf__min_samples_leaf=1.....................................\n",
      "[CV 1/5; 1/9] END ......clf__min_samples_leaf=1;, score=0.999 total time=   0.1s\n",
      "[CV 2/5; 1/9] START clf__min_samples_leaf=1.....................................\n",
      "[CV 2/5; 1/9] END ......clf__min_samples_leaf=1;, score=0.998 total time=   0.1s\n",
      "[CV 3/5; 1/9] START clf__min_samples_leaf=1.....................................\n",
      "[CV 3/5; 1/9] END ......clf__min_samples_leaf=1;, score=0.998 total time=   0.0s\n",
      "[CV 4/5; 1/9] START clf__min_samples_leaf=1.....................................\n",
      "[CV 4/5; 1/9] END ......clf__min_samples_leaf=1;, score=0.998 total time=   0.1s\n",
      "[CV 5/5; 1/9] START clf__min_samples_leaf=1.....................................\n",
      "[CV 5/5; 1/9] END ......clf__min_samples_leaf=1;, score=0.998 total time=   0.0s\n",
      "[CV 1/5; 2/9] START clf__min_samples_leaf=2.....................................\n",
      "[CV 1/5; 2/9] END ......clf__min_samples_leaf=2;, score=0.999 total time=   0.1s\n",
      "[CV 2/5; 2/9] START clf__min_samples_leaf=2.....................................\n",
      "[CV 2/5; 2/9] END ......clf__min_samples_leaf=2;, score=0.998 total time=   0.0s\n",
      "[CV 3/5; 2/9] START clf__min_samples_leaf=2.....................................\n",
      "[CV 3/5; 2/9] END ......clf__min_samples_leaf=2;, score=0.998 total time=   0.2s\n",
      "[CV 4/5; 2/9] START clf__min_samples_leaf=2.....................................\n",
      "[CV 4/5; 2/9] END ......clf__min_samples_leaf=2;, score=0.998 total time=   0.1s\n",
      "[CV 5/5; 2/9] START clf__min_samples_leaf=2.....................................\n",
      "[CV 5/5; 2/9] END ......clf__min_samples_leaf=2;, score=0.998 total time=   0.0s\n",
      "[CV 1/5; 3/9] START clf__min_samples_leaf=3.....................................\n",
      "[CV 1/5; 3/9] END ......clf__min_samples_leaf=3;, score=0.998 total time=   0.0s\n",
      "[CV 2/5; 3/9] START clf__min_samples_leaf=3.....................................\n",
      "[CV 2/5; 3/9] END ......clf__min_samples_leaf=3;, score=0.998 total time=   0.0s\n",
      "[CV 3/5; 3/9] START clf__min_samples_leaf=3.....................................\n",
      "[CV 3/5; 3/9] END ......clf__min_samples_leaf=3;, score=0.998 total time=   0.0s\n",
      "[CV 4/5; 3/9] START clf__min_samples_leaf=3.....................................\n",
      "[CV 4/5; 3/9] END ......clf__min_samples_leaf=3;, score=0.998 total time=   0.0s\n",
      "[CV 5/5; 3/9] START clf__min_samples_leaf=3.....................................\n",
      "[CV 5/5; 3/9] END ......clf__min_samples_leaf=3;, score=0.998 total time=   0.0s\n",
      "[CV 1/5; 4/9] START clf__min_samples_leaf=4.....................................\n",
      "[CV 1/5; 4/9] END ......clf__min_samples_leaf=4;, score=0.998 total time=   0.0s\n",
      "[CV 2/5; 4/9] START clf__min_samples_leaf=4.....................................\n",
      "[CV 2/5; 4/9] END ......clf__min_samples_leaf=4;, score=0.998 total time=   0.0s\n",
      "[CV 3/5; 4/9] START clf__min_samples_leaf=4.....................................\n",
      "[CV 3/5; 4/9] END ......clf__min_samples_leaf=4;, score=0.997 total time=   0.0s\n",
      "[CV 4/5; 4/9] START clf__min_samples_leaf=4.....................................\n",
      "[CV 4/5; 4/9] END ......clf__min_samples_leaf=4;, score=0.998 total time=   0.0s\n",
      "[CV 5/5; 4/9] START clf__min_samples_leaf=4.....................................\n",
      "[CV 5/5; 4/9] END ......clf__min_samples_leaf=4;, score=0.998 total time=   0.0s\n",
      "[CV 1/5; 5/9] START clf__min_samples_leaf=5.....................................\n",
      "[CV 1/5; 5/9] END ......clf__min_samples_leaf=5;, score=0.998 total time=   0.0s\n",
      "[CV 2/5; 5/9] START clf__min_samples_leaf=5.....................................\n",
      "[CV 2/5; 5/9] END ......clf__min_samples_leaf=5;, score=0.998 total time=   0.0s\n",
      "[CV 3/5; 5/9] START clf__min_samples_leaf=5.....................................\n",
      "[CV 3/5; 5/9] END ......clf__min_samples_leaf=5;, score=0.997 total time=   0.0s\n",
      "[CV 4/5; 5/9] START clf__min_samples_leaf=5.....................................\n",
      "[CV 4/5; 5/9] END ......clf__min_samples_leaf=5;, score=0.998 total time=   0.0s\n",
      "[CV 5/5; 5/9] START clf__min_samples_leaf=5.....................................\n",
      "[CV 5/5; 5/9] END ......clf__min_samples_leaf=5;, score=0.998 total time=   0.0s\n",
      "[CV 1/5; 6/9] START clf__min_samples_leaf=6.....................................\n",
      "[CV 1/5; 6/9] END ......clf__min_samples_leaf=6;, score=0.998 total time=   0.0s\n",
      "[CV 2/5; 6/9] START clf__min_samples_leaf=6.....................................\n",
      "[CV 2/5; 6/9] END ......clf__min_samples_leaf=6;, score=0.998 total time=   0.0s\n",
      "[CV 3/5; 6/9] START clf__min_samples_leaf=6.....................................\n",
      "[CV 3/5; 6/9] END ......clf__min_samples_leaf=6;, score=0.997 total time=   0.0s\n",
      "[CV 4/5; 6/9] START clf__min_samples_leaf=6.....................................\n",
      "[CV 4/5; 6/9] END ......clf__min_samples_leaf=6;, score=0.998 total time=   0.0s\n",
      "[CV 5/5; 6/9] START clf__min_samples_leaf=6.....................................\n",
      "[CV 5/5; 6/9] END ......clf__min_samples_leaf=6;, score=0.998 total time=   0.0s\n",
      "[CV 1/5; 7/9] START clf__min_samples_leaf=7.....................................\n",
      "[CV 1/5; 7/9] END ......clf__min_samples_leaf=7;, score=0.998 total time=   0.0s\n",
      "[CV 2/5; 7/9] START clf__min_samples_leaf=7.....................................\n",
      "[CV 2/5; 7/9] END ......clf__min_samples_leaf=7;, score=0.998 total time=   0.0s\n",
      "[CV 3/5; 7/9] START clf__min_samples_leaf=7.....................................\n",
      "[CV 3/5; 7/9] END ......clf__min_samples_leaf=7;, score=0.997 total time=   0.1s\n",
      "[CV 4/5; 7/9] START clf__min_samples_leaf=7.....................................\n",
      "[CV 4/5; 7/9] END ......clf__min_samples_leaf=7;, score=0.998 total time=   0.0s\n",
      "[CV 5/5; 7/9] START clf__min_samples_leaf=7.....................................\n",
      "[CV 5/5; 7/9] END ......clf__min_samples_leaf=7;, score=0.998 total time=   0.0s\n",
      "[CV 1/5; 8/9] START clf__min_samples_leaf=8.....................................\n",
      "[CV 1/5; 8/9] END ......clf__min_samples_leaf=8;, score=0.998 total time=   0.0s\n",
      "[CV 2/5; 8/9] START clf__min_samples_leaf=8.....................................\n",
      "[CV 2/5; 8/9] END ......clf__min_samples_leaf=8;, score=0.998 total time=   0.0s\n",
      "[CV 3/5; 8/9] START clf__min_samples_leaf=8.....................................\n",
      "[CV 3/5; 8/9] END ......clf__min_samples_leaf=8;, score=0.997 total time=   0.0s\n",
      "[CV 4/5; 8/9] START clf__min_samples_leaf=8.....................................\n",
      "[CV 4/5; 8/9] END ......clf__min_samples_leaf=8;, score=0.998 total time=   0.0s\n",
      "[CV 5/5; 8/9] START clf__min_samples_leaf=8.....................................\n",
      "[CV 5/5; 8/9] END ......clf__min_samples_leaf=8;, score=0.998 total time=   0.0s\n",
      "[CV 1/5; 9/9] START clf__min_samples_leaf=9.....................................\n",
      "[CV 1/5; 9/9] END ......clf__min_samples_leaf=9;, score=0.998 total time=   0.0s\n",
      "[CV 2/5; 9/9] START clf__min_samples_leaf=9.....................................\n",
      "[CV 2/5; 9/9] END ......clf__min_samples_leaf=9;, score=0.998 total time=   0.0s\n",
      "[CV 3/5; 9/9] START clf__min_samples_leaf=9.....................................\n",
      "[CV 3/5; 9/9] END ......clf__min_samples_leaf=9;, score=0.997 total time=   0.0s\n",
      "[CV 4/5; 9/9] START clf__min_samples_leaf=9.....................................\n",
      "[CV 4/5; 9/9] END ......clf__min_samples_leaf=9;, score=0.998 total time=   0.0s\n",
      "[CV 5/5; 9/9] START clf__min_samples_leaf=9.....................................\n",
      "[CV 5/5; 9/9] END ......clf__min_samples_leaf=9;, score=0.998 total time=   0.0s\n",
      "tuned hyperparameters :(best parameters)  {'clf__min_samples_leaf': 1}\n",
      "accuracy : 0.9984213488428434\n"
     ]
    },
    {
     "data": {
      "image/png": "[encoded data removed]",
      "text/plain": [
       "<Figure size 640x480 with 1 Axes>"
      ]
     },
     "metadata": {},
     "output_type": "display_data"
    }
   ],
   "source": [
    "grid={\"min_samples_leaf\":[i for i in range(1, 10)]}\n",
    "model=tree.DecisionTreeRegressor()\n",
    "results = grid_search(grid, model, x, y)\n",
    "plotGridResults(results)"
   ]
  },
  {
   "cell_type": "markdown",
   "metadata": {
    "collapsed": false,
    "pycharm": {
     "name": "#%% md\n"
    }
   },
   "source": []
  },
  {
   "cell_type": "markdown",
   "metadata": {
    "collapsed": false,
    "pycharm": {
     "name": "#%% md\n"
    }
   },
   "source": [
    "#### min_samples_split param"
   ]
  },
  {
   "cell_type": "code",
   "execution_count": null,
   "metadata": {
    "collapsed": false,
    "pycharm": {
     "name": "#%%\n"
    }
   },
   "outputs": [
    {
     "name": "stdout",
     "output_type": "stream",
     "text": [
      "Fitting 10 folds for each of 10 candidates, totalling 100 fits\n",
      "[CV 1/10; 1/10] START clf__min_samples_split=2..................................\n",
      "[CV 1/10; 1/10] END ...clf__min_samples_split=2;, score=0.998 total time=   0.1s\n",
      "[CV 2/10; 1/10] START clf__min_samples_split=2..................................\n",
      "[CV 2/10; 1/10] END ...clf__min_samples_split=2;, score=0.999 total time=   0.1s\n",
      "[CV 3/10; 1/10] START clf__min_samples_split=2..................................\n",
      "[CV 3/10; 1/10] END ...clf__min_samples_split=2;, score=0.999 total time=   0.1s\n",
      "[CV 4/10; 1/10] START clf__min_samples_split=2..................................\n",
      "[CV 4/10; 1/10] END ...clf__min_samples_split=2;, score=0.998 total time=   0.1s\n",
      "[CV 5/10; 1/10] START clf__min_samples_split=2..................................\n",
      "[CV 5/10; 1/10] END ...clf__min_samples_split=2;, score=0.998 total time=   0.1s\n",
      "[CV 6/10; 1/10] START clf__min_samples_split=2..................................\n",
      "[CV 6/10; 1/10] END ...clf__min_samples_split=2;, score=0.998 total time=   0.1s\n",
      "[CV 7/10; 1/10] START clf__min_samples_split=2..................................\n",
      "[CV 7/10; 1/10] END ...clf__min_samples_split=2;, score=0.999 total time=   0.1s\n",
      "[CV 8/10; 1/10] START clf__min_samples_split=2..................................\n",
      "[CV 8/10; 1/10] END ...clf__min_samples_split=2;, score=0.998 total time=   0.1s\n",
      "[CV 9/10; 1/10] START clf__min_samples_split=2..................................\n",
      "[CV 9/10; 1/10] END ...clf__min_samples_split=2;, score=0.998 total time=   0.1s\n",
      "[CV 10/10; 1/10] START clf__min_samples_split=2.................................\n",
      "[CV 10/10; 1/10] END ..clf__min_samples_split=2;, score=0.999 total time=   0.1s\n",
      "[CV 1/10; 2/10] START clf__min_samples_split=3..................................\n",
      "[CV 1/10; 2/10] END ...clf__min_samples_split=3;, score=0.998 total time=   0.1s\n",
      "[CV 2/10; 2/10] START clf__min_samples_split=3..................................\n",
      "[CV 2/10; 2/10] END ...clf__min_samples_split=3;, score=0.999 total time=   0.1s\n",
      "[CV 3/10; 2/10] START clf__min_samples_split=3..................................\n",
      "[CV 3/10; 2/10] END ...clf__min_samples_split=3;, score=0.998 total time=   0.1s\n",
      "[CV 4/10; 2/10] START clf__min_samples_split=3..................................\n",
      "[CV 4/10; 2/10] END ...clf__min_samples_split=3;, score=0.998 total time=   0.1s\n",
      "[CV 5/10; 2/10] START clf__min_samples_split=3..................................\n",
      "[CV 5/10; 2/10] END ...clf__min_samples_split=3;, score=0.998 total time=   0.1s\n",
      "[CV 6/10; 2/10] START clf__min_samples_split=3..................................\n",
      "[CV 6/10; 2/10] END ...clf__min_samples_split=3;, score=0.999 total time=   0.1s\n",
      "[CV 7/10; 2/10] START clf__min_samples_split=3..................................\n",
      "[CV 7/10; 2/10] END ...clf__min_samples_split=3;, score=0.999 total time=   0.1s\n",
      "[CV 8/10; 2/10] START clf__min_samples_split=3..................................\n",
      "[CV 8/10; 2/10] END ...clf__min_samples_split=3;, score=0.998 total time=   0.1s\n",
      "[CV 9/10; 2/10] START clf__min_samples_split=3..................................\n",
      "[CV 9/10; 2/10] END ...clf__min_samples_split=3;, score=0.998 total time=   0.1s\n",
      "[CV 10/10; 2/10] START clf__min_samples_split=3.................................\n",
      "[CV 10/10; 2/10] END ..clf__min_samples_split=3;, score=0.999 total time=   0.3s\n",
      "[CV 1/10; 3/10] START clf__min_samples_split=4..................................\n",
      "[CV 1/10; 3/10] END ...clf__min_samples_split=4;, score=0.998 total time=   0.1s\n",
      "[CV 2/10; 3/10] START clf__min_samples_split=4..................................\n",
      "[CV 2/10; 3/10] END ...clf__min_samples_split=4;, score=0.999 total time=   0.1s\n",
      "[CV 3/10; 3/10] START clf__min_samples_split=4..................................\n",
      "[CV 3/10; 3/10] END ...clf__min_samples_split=4;, score=0.999 total time=   0.1s\n",
      "[CV 4/10; 3/10] START clf__min_samples_split=4..................................\n",
      "[CV 4/10; 3/10] END ...clf__min_samples_split=4;, score=0.998 total time=   0.1s\n",
      "[CV 5/10; 3/10] START clf__min_samples_split=4..................................\n",
      "[CV 5/10; 3/10] END ...clf__min_samples_split=4;, score=0.998 total time=   0.1s\n",
      "[CV 6/10; 3/10] START clf__min_samples_split=4..................................\n",
      "[CV 6/10; 3/10] END ...clf__min_samples_split=4;, score=0.998 total time=   0.0s\n",
      "[CV 7/10; 3/10] START clf__min_samples_split=4..................................\n",
      "[CV 7/10; 3/10] END ...clf__min_samples_split=4;, score=0.999 total time=   0.1s\n",
      "[CV 8/10; 3/10] START clf__min_samples_split=4..................................\n",
      "[CV 8/10; 3/10] END ...clf__min_samples_split=4;, score=0.998 total time=   0.1s\n",
      "[CV 9/10; 3/10] START clf__min_samples_split=4..................................\n",
      "[CV 9/10; 3/10] END ...clf__min_samples_split=4;, score=0.998 total time=   0.1s\n",
      "[CV 10/10; 3/10] START clf__min_samples_split=4.................................\n",
      "[CV 10/10; 3/10] END ..clf__min_samples_split=4;, score=0.999 total time=   0.1s\n",
      "[CV 1/10; 4/10] START clf__min_samples_split=5..................................\n",
      "[CV 1/10; 4/10] END ...clf__min_samples_split=5;, score=0.998 total time=   0.1s\n",
      "[CV 2/10; 4/10] START clf__min_samples_split=5..................................\n",
      "[CV 2/10; 4/10] END ...clf__min_samples_split=5;, score=0.998 total time=   0.1s\n",
      "[CV 3/10; 4/10] START clf__min_samples_split=5..................................\n",
      "[CV 3/10; 4/10] END ...clf__min_samples_split=5;, score=0.999 total time=   0.1s\n",
      "[CV 4/10; 4/10] START clf__min_samples_split=5..................................\n",
      "[CV 4/10; 4/10] END ...clf__min_samples_split=5;, score=0.999 total time=   0.1s\n",
      "[CV 5/10; 4/10] START clf__min_samples_split=5..................................\n",
      "[CV 5/10; 4/10] END ...clf__min_samples_split=5;, score=0.999 total time=   0.1s\n",
      "[CV 6/10; 4/10] START clf__min_samples_split=5..................................\n",
      "[CV 6/10; 4/10] END ...clf__min_samples_split=5;, score=0.998 total time=   0.0s\n",
      "[CV 7/10; 4/10] START clf__min_samples_split=5..................................\n",
      "[CV 7/10; 4/10] END ...clf__min_samples_split=5;, score=0.999 total time=   0.1s\n",
      "[CV 8/10; 4/10] START clf__min_samples_split=5..................................\n",
      "[CV 8/10; 4/10] END ...clf__min_samples_split=5;, score=0.998 total time=   0.0s\n",
      "[CV 9/10; 4/10] START clf__min_samples_split=5..................................\n",
      "[CV 9/10; 4/10] END ...clf__min_samples_split=5;, score=0.998 total time=   0.1s\n",
      "[CV 10/10; 4/10] START clf__min_samples_split=5.................................\n",
      "[CV 10/10; 4/10] END ..clf__min_samples_split=5;, score=0.998 total time=   0.1s\n",
      "[CV 1/10; 5/10] START clf__min_samples_split=6..................................\n",
      "[CV 1/10; 5/10] END ...clf__min_samples_split=6;, score=0.998 total time=   0.1s\n",
      "[CV 2/10; 5/10] START clf__min_samples_split=6..................................\n",
      "[CV 2/10; 5/10] END ...clf__min_samples_split=6;, score=0.998 total time=   0.1s\n",
      "[CV 3/10; 5/10] START clf__min_samples_split=6..................................\n",
      "[CV 3/10; 5/10] END ...clf__min_samples_split=6;, score=0.999 total time=   0.1s\n",
      "[CV 4/10; 5/10] START clf__min_samples_split=6..................................\n",
      "[CV 4/10; 5/10] END ...clf__min_samples_split=6;, score=0.999 total time=   0.0s\n",
      "[CV 5/10; 5/10] START clf__min_samples_split=6..................................\n",
      "[CV 5/10; 5/10] END ...clf__min_samples_split=6;, score=0.999 total time=   0.1s\n",
      "[CV 6/10; 5/10] START clf__min_samples_split=6..................................\n",
      "[CV 6/10; 5/10] END ...clf__min_samples_split=6;, score=0.999 total time=   0.2s\n",
      "[CV 7/10; 5/10] START clf__min_samples_split=6..................................\n",
      "[CV 7/10; 5/10] END ...clf__min_samples_split=6;, score=0.999 total time=   0.1s\n",
      "[CV 8/10; 5/10] START clf__min_samples_split=6..................................\n",
      "[CV 8/10; 5/10] END ...clf__min_samples_split=6;, score=0.998 total time=   0.1s\n",
      "[CV 9/10; 5/10] START clf__min_samples_split=6..................................\n",
      "[CV 9/10; 5/10] END ...clf__min_samples_split=6;, score=0.998 total time=   0.0s\n",
      "[CV 10/10; 5/10] START clf__min_samples_split=6.................................\n",
      "[CV 10/10; 5/10] END ..clf__min_samples_split=6;, score=0.999 total time=   0.1s\n",
      "[CV 1/10; 6/10] START clf__min_samples_split=7..................................\n",
      "[CV 1/10; 6/10] END ...clf__min_samples_split=7;, score=0.998 total time=   0.1s\n",
      "[CV 2/10; 6/10] START clf__min_samples_split=7..................................\n",
      "[CV 2/10; 6/10] END ...clf__min_samples_split=7;, score=0.998 total time=   0.0s\n",
      "[CV 3/10; 6/10] START clf__min_samples_split=7..................................\n",
      "[CV 3/10; 6/10] END ...clf__min_samples_split=7;, score=0.998 total time=   0.0s\n",
      "[CV 4/10; 6/10] START clf__min_samples_split=7..................................\n",
      "[CV 4/10; 6/10] END ...clf__min_samples_split=7;, score=0.999 total time=   0.0s\n",
      "[CV 5/10; 6/10] START clf__min_samples_split=7..................................\n",
      "[CV 5/10; 6/10] END ...clf__min_samples_split=7;, score=0.999 total time=   0.0s\n",
      "[CV 6/10; 6/10] START clf__min_samples_split=7..................................\n",
      "[CV 6/10; 6/10] END ...clf__min_samples_split=7;, score=0.998 total time=   0.1s\n",
      "[CV 7/10; 6/10] START clf__min_samples_split=7..................................\n",
      "[CV 7/10; 6/10] END ...clf__min_samples_split=7;, score=0.999 total time=   0.1s\n",
      "[CV 8/10; 6/10] START clf__min_samples_split=7..................................\n",
      "[CV 8/10; 6/10] END ...clf__min_samples_split=7;, score=0.998 total time=   0.1s\n",
      "[CV 9/10; 6/10] START clf__min_samples_split=7..................................\n",
      "[CV 9/10; 6/10] END ...clf__min_samples_split=7;, score=0.998 total time=   0.1s\n",
      "[CV 10/10; 6/10] START clf__min_samples_split=7.................................\n",
      "[CV 10/10; 6/10] END ..clf__min_samples_split=7;, score=0.999 total time=   0.2s\n",
      "[CV 1/10; 7/10] START clf__min_samples_split=8..................................\n",
      "[CV 1/10; 7/10] END ...clf__min_samples_split=8;, score=0.998 total time=   0.0s\n",
      "[CV 2/10; 7/10] START clf__min_samples_split=8..................................\n",
      "[CV 2/10; 7/10] END ...clf__min_samples_split=8;, score=0.998 total time=   0.1s\n",
      "[CV 3/10; 7/10] START clf__min_samples_split=8..................................\n",
      "[CV 3/10; 7/10] END ...clf__min_samples_split=8;, score=0.998 total time=   0.1s\n",
      "[CV 4/10; 7/10] START clf__min_samples_split=8..................................\n",
      "[CV 4/10; 7/10] END ...clf__min_samples_split=8;, score=0.999 total time=   0.1s\n",
      "[CV 5/10; 7/10] START clf__min_samples_split=8..................................\n",
      "[CV 5/10; 7/10] END ...clf__min_samples_split=8;, score=0.999 total time=   0.1s\n",
      "[CV 6/10; 7/10] START clf__min_samples_split=8..................................\n",
      "[CV 6/10; 7/10] END ...clf__min_samples_split=8;, score=0.999 total time=   0.1s\n",
      "[CV 7/10; 7/10] START clf__min_samples_split=8..................................\n",
      "[CV 7/10; 7/10] END ...clf__min_samples_split=8;, score=0.999 total time=   0.0s\n",
      "[CV 8/10; 7/10] START clf__min_samples_split=8..................................\n",
      "[CV 8/10; 7/10] END ...clf__min_samples_split=8;, score=0.998 total time=   0.1s\n",
      "[CV 9/10; 7/10] START clf__min_samples_split=8..................................\n",
      "[CV 9/10; 7/10] END ...clf__min_samples_split=8;, score=0.998 total time=   0.1s\n",
      "[CV 10/10; 7/10] START clf__min_samples_split=8.................................\n",
      "[CV 10/10; 7/10] END ..clf__min_samples_split=8;, score=0.999 total time=   0.1s\n",
      "[CV 1/10; 8/10] START clf__min_samples_split=9..................................\n",
      "[CV 1/10; 8/10] END ...clf__min_samples_split=9;, score=0.999 total time=   0.0s\n",
      "[CV 2/10; 8/10] START clf__min_samples_split=9..................................\n",
      "[CV 2/10; 8/10] END ...clf__min_samples_split=9;, score=0.998 total time=   0.0s\n",
      "[CV 3/10; 8/10] START clf__min_samples_split=9..................................\n",
      "[CV 3/10; 8/10] END ...clf__min_samples_split=9;, score=0.999 total time=   0.0s\n",
      "[CV 4/10; 8/10] START clf__min_samples_split=9..................................\n",
      "[CV 4/10; 8/10] END ...clf__min_samples_split=9;, score=0.998 total time=   0.0s\n",
      "[CV 5/10; 8/10] START clf__min_samples_split=9..................................\n",
      "[CV 5/10; 8/10] END ...clf__min_samples_split=9;, score=0.998 total time=   0.0s\n",
      "[CV 6/10; 8/10] START clf__min_samples_split=9..................................\n",
      "[CV 6/10; 8/10] END ...clf__min_samples_split=9;, score=0.999 total time=   0.0s\n",
      "[CV 7/10; 8/10] START clf__min_samples_split=9..................................\n",
      "[CV 7/10; 8/10] END ...clf__min_samples_split=9;, score=0.999 total time=   0.0s\n",
      "[CV 8/10; 8/10] START clf__min_samples_split=9..................................\n",
      "[CV 8/10; 8/10] END ...clf__min_samples_split=9;, score=0.999 total time=   0.0s\n",
      "[CV 9/10; 8/10] START clf__min_samples_split=9..................................\n",
      "[CV 9/10; 8/10] END ...clf__min_samples_split=9;, score=0.998 total time=   0.0s\n",
      "[CV 10/10; 8/10] START clf__min_samples_split=9.................................\n",
      "[CV 10/10; 8/10] END ..clf__min_samples_split=9;, score=0.999 total time=   0.0s\n",
      "[CV 1/10; 9/10] START clf__min_samples_split=10.................................\n",
      "[CV 1/10; 9/10] END ..clf__min_samples_split=10;, score=0.998 total time=   0.0s\n",
      "[CV 2/10; 9/10] START clf__min_samples_split=10.................................\n",
      "[CV 2/10; 9/10] END ..clf__min_samples_split=10;, score=0.998 total time=   0.0s\n",
      "[CV 3/10; 9/10] START clf__min_samples_split=10.................................\n",
      "[CV 3/10; 9/10] END ..clf__min_samples_split=10;, score=0.998 total time=   0.0s\n",
      "[CV 4/10; 9/10] START clf__min_samples_split=10.................................\n",
      "[CV 4/10; 9/10] END ..clf__min_samples_split=10;, score=0.999 total time=   0.0s\n",
      "[CV 5/10; 9/10] START clf__min_samples_split=10.................................\n",
      "[CV 5/10; 9/10] END ..clf__min_samples_split=10;, score=0.999 total time=   0.0s\n",
      "[CV 6/10; 9/10] START clf__min_samples_split=10.................................\n",
      "[CV 6/10; 9/10] END ..clf__min_samples_split=10;, score=0.999 total time=   0.0s\n",
      "[CV 7/10; 9/10] START clf__min_samples_split=10.................................\n",
      "[CV 7/10; 9/10] END ..clf__min_samples_split=10;, score=0.999 total time=   0.0s\n",
      "[CV 8/10; 9/10] START clf__min_samples_split=10.................................\n",
      "[CV 8/10; 9/10] END ..clf__min_samples_split=10;, score=0.998 total time=   0.0s\n",
      "[CV 9/10; 9/10] START clf__min_samples_split=10.................................\n",
      "[CV 9/10; 9/10] END ..clf__min_samples_split=10;, score=0.998 total time=   0.0s\n",
      "[CV 10/10; 9/10] START clf__min_samples_split=10................................\n",
      "[CV 10/10; 9/10] END .clf__min_samples_split=10;, score=0.999 total time=   0.0s\n",
      "[CV 1/10; 10/10] START clf__min_samples_split=11................................\n",
      "[CV 1/10; 10/10] END .clf__min_samples_split=11;, score=0.998 total time=   0.0s\n",
      "[CV 2/10; 10/10] START clf__min_samples_split=11................................\n",
      "[CV 2/10; 10/10] END .clf__min_samples_split=11;, score=0.998 total time=   0.0s\n",
      "[CV 3/10; 10/10] START clf__min_samples_split=11................................\n",
      "[CV 3/10; 10/10] END .clf__min_samples_split=11;, score=0.999 total time=   0.0s\n",
      "[CV 4/10; 10/10] START clf__min_samples_split=11................................\n",
      "[CV 4/10; 10/10] END .clf__min_samples_split=11;, score=0.999 total time=   0.0s\n",
      "[CV 5/10; 10/10] START clf__min_samples_split=11................................\n",
      "[CV 5/10; 10/10] END .clf__min_samples_split=11;, score=0.998 total time=   0.0s\n",
      "[CV 6/10; 10/10] START clf__min_samples_split=11................................\n",
      "[CV 6/10; 10/10] END .clf__min_samples_split=11;, score=0.998 total time=   0.0s\n",
      "[CV 7/10; 10/10] START clf__min_samples_split=11................................\n",
      "[CV 7/10; 10/10] END .clf__min_samples_split=11;, score=0.999 total time=   0.0s\n",
      "[CV 8/10; 10/10] START clf__min_samples_split=11................................\n",
      "[CV 8/10; 10/10] END .clf__min_samples_split=11;, score=0.999 total time=   0.0s\n",
      "[CV 9/10; 10/10] START clf__min_samples_split=11................................\n",
      "[CV 9/10; 10/10] END .clf__min_samples_split=11;, score=0.998 total time=   0.0s\n",
      "[CV 10/10; 10/10] START clf__min_samples_split=11...............................\n",
      "[CV 10/10; 10/10] END clf__min_samples_split=11;, score=0.999 total time=   0.0s\n",
      "tuned hyperparameters :(best parameters)  {'clf__min_samples_split': 6}\n",
      "accuracy : 0.9985134202006846\n"
     ]
    },
    {
     "data": {
      "image/png": "[encoded data removed]",
      "text/plain": [
       "<Figure size 640x480 with 1 Axes>"
      ]
     },
     "metadata": {},
     "output_type": "display_data"
    }
   ],
   "source": [
    "grid={\"min_samples_split\":[i for i in range(2, 12)]}\n",
    "model=tree.DecisionTreeRegressor()\n",
    "results = grid_search(grid, model, x, y, cv=10)\n",
    "plotGridResults(results)"
   ]
  },
  {
   "cell_type": "markdown",
   "metadata": {
    "collapsed": false,
    "pycharm": {
     "name": "#%% md\n"
    }
   },
   "source": [
    "I won't go into more analysis since we have better models than DT. In the following sections, I will also use squared_error because it is too long to calculate using absolute."
   ]
  },
  {
   "cell_type": "markdown",
   "metadata": {
    "collapsed": false,
    "pycharm": {
     "name": "#%% md\n"
    }
   },
   "source": [
    "### Best decision tree eval"
   ]
  },
  {
   "cell_type": "code",
   "execution_count": null,
   "metadata": {
    "collapsed": false,
    "pycharm": {
     "name": "#%%\n"
    }
   },
   "outputs": [
    {
     "name": "stderr",
     "output_type": "stream",
     "text": [
      "[Parallel(n_jobs=-1)]: Using backend LokyBackend with 4 concurrent workers.\n",
      "[Parallel(n_jobs=-1)]: Done   2 out of   5 | elapsed:   12.1s remaining:   18.1s\n",
      "[Parallel(n_jobs=-1)]: Done   3 out of   5 | elapsed:   12.1s remaining:    8.0s\n"
     ]
    },
    {
     "name": "stdout",
     "output_type": "stream",
     "text": [
      "MAE:  108.2184\n",
      "RMSE:  206.68085297\n",
      "R2:  0.99844744\n"
     ]
    },
    {
     "name": "stderr",
     "output_type": "stream",
     "text": [
      "[Parallel(n_jobs=-1)]: Done   5 out of   5 | elapsed:   18.8s remaining:    0.0s\n",
      "[Parallel(n_jobs=-1)]: Done   5 out of   5 | elapsed:   18.8s finished\n"
     ]
    }
   ],
   "source": [
    "treeModel = tree.DecisionTreeRegressor(criterion=\"absolute_error\",\n",
    "                                   max_depth=None,\n",
    "                                   max_features=None,\n",
    "                                   min_samples_leaf=1,\n",
    "                                   min_samples_split=2)\n",
    "model_cv_rapport(treeModel, x, y)"
   ]
  },
  {
   "cell_type": "markdown",
   "metadata": {
    "collapsed": false,
    "pycharm": {
     "name": "#%% md\n"
    }
   },
   "source": [
    "## Random forest"
   ]
  },
  {
   "cell_type": "code",
   "execution_count": null,
   "metadata": {
    "collapsed": false,
    "pycharm": {
     "name": "#%%\n"
    }
   },
   "outputs": [
    {
     "name": "stdout",
     "output_type": "stream",
     "text": [
      "RF --------------------------------------\n",
      "r2_score: 0.99921\n",
      "mean squared error: 22354.73742\n",
      "root mean squared error: 149.51501\n",
      "mean absolute error: 83.40214\n"
     ]
    },
    {
     "data": {
      "text/plain": [
       "0.99921"
      ]
     },
     "execution_count": 58,
     "metadata": {},
     "output_type": "execute_result"
    }
   ],
   "source": [
    "model = ensemble.RandomForestRegressor(\n",
    "    n_estimators=100,\n",
    "    criterion=\"squared_error\",\n",
    "    max_depth=None,\n",
    "    min_samples_split=2,\n",
    "    min_samples_leaf=1,\n",
    "    max_features=None #\"sqrt\", \"log2\", int, float\n",
    ")\n",
    "model.fit(x_train, y_train)\n",
    "model_rapport(\"RF\", model, y_test, x_test)"
   ]
  },
  {
   "cell_type": "markdown",
   "metadata": {
    "collapsed": false,
    "pycharm": {
     "name": "#%% md\n"
    }
   },
   "source": [
    "### Hyperparameters - RF\n",
    "Based on [this article](https://www.analyticsvidhya.com/blog/2016/02/complete-guide-parameter-tuning-gradient-boosting-gbm-python/), for all RF based algorithms, I first need to pick a learning rate (except for RF), then the number of estimators, and then I can tune the tree parameters."
   ]
  },
  {
   "cell_type": "markdown",
   "metadata": {
    "collapsed": false,
    "pycharm": {
     "name": "#%% md\n"
    }
   },
   "source": [
    "#### n_estimators param"
   ]
  },
  {
   "cell_type": "code",
   "execution_count": null,
   "metadata": {
    "collapsed": false,
    "pycharm": {
     "name": "#%%\n"
    }
   },
   "outputs": [
    {
     "name": "stdout",
     "output_type": "stream",
     "text": [
      "Fitting 5 folds for each of 6 candidates, totalling 30 fits\n",
      "[CV 1/5; 1/6] START clf__n_estimators=10........................................\n",
      "[CV 1/5; 1/6] END .........clf__n_estimators=10;, score=0.999 total time=   1.3s\n",
      "[CV 2/5; 1/6] START clf__n_estimators=10........................................\n",
      "[CV 2/5; 1/6] END .........clf__n_estimators=10;, score=0.999 total time=   1.5s\n",
      "[CV 3/5; 1/6] START clf__n_estimators=10........................................\n",
      "[CV 3/5; 1/6] END .........clf__n_estimators=10;, score=0.999 total time=   1.4s\n",
      "[CV 4/5; 1/6] START clf__n_estimators=10........................................\n",
      "[CV 4/5; 1/6] END .........clf__n_estimators=10;, score=0.999 total time=   0.9s\n",
      "[CV 5/5; 1/6] START clf__n_estimators=10........................................\n",
      "[CV 5/5; 1/6] END .........clf__n_estimators=10;, score=0.999 total time=   0.9s\n",
      "[CV 1/5; 2/6] START clf__n_estimators=20........................................\n",
      "[CV 1/5; 2/6] END .........clf__n_estimators=20;, score=0.999 total time=   1.9s\n",
      "[CV 2/5; 2/6] START clf__n_estimators=20........................................\n",
      "[CV 2/5; 2/6] END .........clf__n_estimators=20;, score=0.999 total time=   1.9s\n",
      "[CV 3/5; 2/6] START clf__n_estimators=20........................................\n",
      "[CV 3/5; 2/6] END .........clf__n_estimators=20;, score=0.999 total time=   2.0s\n",
      "[CV 4/5; 2/6] START clf__n_estimators=20........................................\n",
      "[CV 4/5; 2/6] END .........clf__n_estimators=20;, score=0.999 total time=   1.9s\n",
      "[CV 5/5; 2/6] START clf__n_estimators=20........................................\n",
      "[CV 5/5; 2/6] END .........clf__n_estimators=20;, score=0.999 total time=   1.9s\n",
      "[CV 1/5; 3/6] START clf__n_estimators=30........................................\n",
      "[CV 1/5; 3/6] END .........clf__n_estimators=30;, score=0.999 total time=   3.0s\n",
      "[CV 2/5; 3/6] START clf__n_estimators=30........................................\n",
      "[CV 2/5; 3/6] END .........clf__n_estimators=30;, score=0.999 total time=   2.9s\n",
      "[CV 3/5; 3/6] START clf__n_estimators=30........................................\n",
      "[CV 3/5; 3/6] END .........clf__n_estimators=30;, score=0.999 total time=   2.9s\n",
      "[CV 4/5; 3/6] START clf__n_estimators=30........................................\n",
      "[CV 4/5; 3/6] END .........clf__n_estimators=30;, score=0.999 total time=   2.9s\n",
      "[CV 5/5; 3/6] START clf__n_estimators=30........................................\n",
      "[CV 5/5; 3/6] END .........clf__n_estimators=30;, score=0.999 total time=   3.0s\n",
      "[CV 1/5; 4/6] START clf__n_estimators=40........................................\n",
      "[CV 1/5; 4/6] END .........clf__n_estimators=40;, score=0.999 total time=   4.0s\n",
      "[CV 2/5; 4/6] START clf__n_estimators=40........................................\n",
      "[CV 2/5; 4/6] END .........clf__n_estimators=40;, score=0.999 total time=   3.9s\n",
      "[CV 3/5; 4/6] START clf__n_estimators=40........................................\n",
      "[CV 3/5; 4/6] END .........clf__n_estimators=40;, score=0.999 total time=   4.6s\n",
      "[CV 4/5; 4/6] START clf__n_estimators=40........................................\n",
      "[CV 4/5; 4/6] END .........clf__n_estimators=40;, score=0.999 total time=   4.3s\n",
      "[CV 5/5; 4/6] START clf__n_estimators=40........................................\n",
      "[CV 5/5; 4/6] END .........clf__n_estimators=40;, score=0.999 total time=   4.0s\n",
      "[CV 1/5; 5/6] START clf__n_estimators=50........................................\n",
      "[CV 1/5; 5/6] END .........clf__n_estimators=50;, score=0.999 total time=   5.0s\n",
      "[CV 2/5; 5/6] START clf__n_estimators=50........................................\n",
      "[CV 2/5; 5/6] END .........clf__n_estimators=50;, score=0.999 total time=   5.0s\n",
      "[CV 3/5; 5/6] START clf__n_estimators=50........................................\n",
      "[CV 3/5; 5/6] END .........clf__n_estimators=50;, score=0.999 total time=   5.0s\n",
      "[CV 4/5; 5/6] START clf__n_estimators=50........................................\n",
      "[CV 4/5; 5/6] END .........clf__n_estimators=50;, score=0.999 total time=   5.1s\n",
      "[CV 5/5; 5/6] START clf__n_estimators=50........................................\n",
      "[CV 5/5; 5/6] END .........clf__n_estimators=50;, score=0.999 total time=   5.0s\n",
      "[CV 1/5; 6/6] START clf__n_estimators=60........................................\n",
      "[CV 1/5; 6/6] END .........clf__n_estimators=60;, score=0.999 total time=   6.2s\n",
      "[CV 2/5; 6/6] START clf__n_estimators=60........................................\n",
      "[CV 2/5; 6/6] END .........clf__n_estimators=60;, score=0.999 total time=   5.9s\n",
      "[CV 3/5; 6/6] START clf__n_estimators=60........................................\n",
      "[CV 3/5; 6/6] END .........clf__n_estimators=60;, score=0.999 total time=   5.9s\n",
      "[CV 4/5; 6/6] START clf__n_estimators=60........................................\n",
      "[CV 4/5; 6/6] END .........clf__n_estimators=60;, score=0.999 total time=   6.0s\n",
      "[CV 5/5; 6/6] START clf__n_estimators=60........................................\n",
      "[CV 5/5; 6/6] END .........clf__n_estimators=60;, score=0.999 total time=   5.9s\n",
      "tuned hyperparameters :(best parameters)  {'clf__n_estimators': 60}\n",
      "accuracy : 0.9991408803600702\n"
     ]
    },
    {
     "data": {
      "image/png": "[encoded data removed]",
      "text/plain": [
       "<Figure size 640x480 with 1 Axes>"
      ]
     },
     "metadata": {},
     "output_type": "display_data"
    }
   ],
   "source": [
    "grid={\"n_estimators\":[i*10 for i in range(1, 7)]}\n",
    "model=ensemble.RandomForestRegressor()\n",
    "results = grid_search(grid, model, x, y)\n",
    "plotGridResults(results)"
   ]
  },
  {
   "cell_type": "markdown",
   "metadata": {
    "collapsed": false,
    "pycharm": {
     "name": "#%% md\n"
    }
   },
   "source": [
    "#### max_depth param"
   ]
  },
  {
   "cell_type": "code",
   "execution_count": null,
   "metadata": {
    "collapsed": false,
    "pycharm": {
     "name": "#%%\n"
    }
   },
   "outputs": [
    {
     "name": "stdout",
     "output_type": "stream",
     "text": [
      "Fitting 5 folds for each of 10 candidates, totalling 50 fits\n",
      "[CV 1/5; 1/10] START clf__max_depth=2...........................................\n",
      "[CV 1/5; 1/10] END ............clf__max_depth=2;, score=0.908 total time=   1.1s\n",
      "[CV 2/5; 1/10] START clf__max_depth=2...........................................\n",
      "[CV 2/5; 1/10] END ............clf__max_depth=2;, score=0.911 total time=   1.3s\n",
      "[CV 3/5; 1/10] START clf__max_depth=2...........................................\n",
      "[CV 3/5; 1/10] END ............clf__max_depth=2;, score=0.911 total time=   1.7s\n",
      "[CV 4/5; 1/10] START clf__max_depth=2...........................................\n",
      "[CV 4/5; 1/10] END ............clf__max_depth=2;, score=0.915 total time=   0.8s\n",
      "[CV 5/5; 1/10] START clf__max_depth=2...........................................\n",
      "[CV 5/5; 1/10] END ............clf__max_depth=2;, score=0.917 total time=   0.8s\n",
      "[CV 1/5; 2/10] START clf__max_depth=3...........................................\n",
      "[CV 1/5; 2/10] END ............clf__max_depth=3;, score=0.944 total time=   1.1s\n",
      "[CV 2/5; 2/10] START clf__max_depth=3...........................................\n",
      "[CV 2/5; 2/10] END ............clf__max_depth=3;, score=0.946 total time=   1.2s\n",
      "[CV 3/5; 2/10] START clf__max_depth=3...........................................\n",
      "[CV 3/5; 2/10] END ............clf__max_depth=3;, score=0.945 total time=   1.2s\n",
      "[CV 4/5; 2/10] START clf__max_depth=3...........................................\n",
      "[CV 4/5; 2/10] END ............clf__max_depth=3;, score=0.951 total time=   1.2s\n",
      "[CV 5/5; 2/10] START clf__max_depth=3...........................................\n",
      "[CV 5/5; 2/10] END ............clf__max_depth=3;, score=0.948 total time=   1.2s\n",
      "[CV 1/5; 3/10] START clf__max_depth=4...........................................\n",
      "[CV 1/5; 3/10] END ............clf__max_depth=4;, score=0.972 total time=   1.7s\n",
      "[CV 2/5; 3/10] START clf__max_depth=4...........................................\n",
      "[CV 2/5; 3/10] END ............clf__max_depth=4;, score=0.975 total time=   2.1s\n",
      "[CV 3/5; 3/10] START clf__max_depth=4...........................................\n",
      "[CV 3/5; 3/10] END ............clf__max_depth=4;, score=0.973 total time=   1.6s\n",
      "[CV 4/5; 3/10] START clf__max_depth=4...........................................\n",
      "[CV 4/5; 3/10] END ............clf__max_depth=4;, score=0.973 total time=   1.5s\n",
      "[CV 5/5; 3/10] START clf__max_depth=4...........................................\n",
      "[CV 5/5; 3/10] END ............clf__max_depth=4;, score=0.972 total time=   1.4s\n",
      "[CV 1/5; 4/10] START clf__max_depth=5...........................................\n",
      "[CV 1/5; 4/10] END ............clf__max_depth=5;, score=0.985 total time=   1.7s\n",
      "[CV 2/5; 4/10] START clf__max_depth=5...........................................\n",
      "[CV 2/5; 4/10] END ............clf__max_depth=5;, score=0.986 total time=   1.8s\n",
      "[CV 3/5; 4/10] START clf__max_depth=5...........................................\n",
      "[CV 3/5; 4/10] END ............clf__max_depth=5;, score=0.985 total time=   1.9s\n",
      "[CV 4/5; 4/10] START clf__max_depth=5...........................................\n",
      "[CV 4/5; 4/10] END ............clf__max_depth=5;, score=0.984 total time=   1.8s\n",
      "[CV 5/5; 4/10] START clf__max_depth=5...........................................\n",
      "[CV 5/5; 4/10] END ............clf__max_depth=5;, score=0.984 total time=   1.9s\n",
      "[CV 1/5; 5/10] START clf__max_depth=6...........................................\n",
      "[CV 1/5; 5/10] END ............clf__max_depth=6;, score=0.994 total time=   2.3s\n",
      "[CV 2/5; 5/10] START clf__max_depth=6...........................................\n",
      "[CV 2/5; 5/10] END ............clf__max_depth=6;, score=0.994 total time=   2.2s\n",
      "[CV 3/5; 5/10] START clf__max_depth=6...........................................\n",
      "[CV 3/5; 5/10] END ............clf__max_depth=6;, score=0.993 total time=   2.1s\n",
      "[CV 4/5; 5/10] START clf__max_depth=6...........................................\n",
      "[CV 4/5; 5/10] END ............clf__max_depth=6;, score=0.993 total time=   2.0s\n",
      "[CV 5/5; 5/10] START clf__max_depth=6...........................................\n",
      "[CV 5/5; 5/10] END ............clf__max_depth=6;, score=0.994 total time=   2.0s\n",
      "[CV 1/5; 6/10] START clf__max_depth=7...........................................\n",
      "[CV 1/5; 6/10] END ............clf__max_depth=7;, score=0.996 total time=   2.3s\n",
      "[CV 2/5; 6/10] START clf__max_depth=7...........................................\n",
      "[CV 2/5; 6/10] END ............clf__max_depth=7;, score=0.996 total time=   2.3s\n",
      "[CV 3/5; 6/10] START clf__max_depth=7...........................................\n",
      "[CV 3/5; 6/10] END ............clf__max_depth=7;, score=0.996 total time=   2.3s\n",
      "[CV 4/5; 6/10] START clf__max_depth=7...........................................\n",
      "[CV 4/5; 6/10] END ............clf__max_depth=7;, score=0.996 total time=   2.3s\n",
      "[CV 5/5; 6/10] START clf__max_depth=7...........................................\n",
      "[CV 5/5; 6/10] END ............clf__max_depth=7;, score=0.996 total time=   2.3s\n",
      "[CV 1/5; 7/10] START clf__max_depth=8...........................................\n",
      "[CV 1/5; 7/10] END ............clf__max_depth=8;, score=0.998 total time=   2.6s\n",
      "[CV 2/5; 7/10] START clf__max_depth=8...........................................\n",
      "[CV 2/5; 7/10] END ............clf__max_depth=8;, score=0.998 total time=   2.6s\n",
      "[CV 3/5; 7/10] START clf__max_depth=8...........................................\n",
      "[CV 3/5; 7/10] END ............clf__max_depth=8;, score=0.998 total time=   2.7s\n",
      "[CV 4/5; 7/10] START clf__max_depth=8...........................................\n",
      "[CV 4/5; 7/10] END ............clf__max_depth=8;, score=0.998 total time=   2.6s\n",
      "[CV 5/5; 7/10] START clf__max_depth=8...........................................\n",
      "[CV 5/5; 7/10] END ............clf__max_depth=8;, score=0.998 total time=   2.6s\n",
      "[CV 1/5; 8/10] START clf__max_depth=9...........................................\n",
      "[CV 1/5; 8/10] END ............clf__max_depth=9;, score=0.998 total time=   2.9s\n",
      "[CV 2/5; 8/10] START clf__max_depth=9...........................................\n",
      "[CV 2/5; 8/10] END ............clf__max_depth=9;, score=0.999 total time=   2.9s\n",
      "[CV 3/5; 8/10] START clf__max_depth=9...........................................\n",
      "[CV 3/5; 8/10] END ............clf__max_depth=9;, score=0.998 total time=   2.9s\n",
      "[CV 4/5; 8/10] START clf__max_depth=9...........................................\n",
      "[CV 4/5; 8/10] END ............clf__max_depth=9;, score=0.999 total time=   2.8s\n",
      "[CV 5/5; 8/10] START clf__max_depth=9...........................................\n",
      "[CV 5/5; 8/10] END ............clf__max_depth=9;, score=0.999 total time=   2.9s\n",
      "[CV 1/5; 9/10] START clf__max_depth=10..........................................\n",
      "[CV 1/5; 9/10] END ...........clf__max_depth=10;, score=0.999 total time=   3.1s\n",
      "[CV 2/5; 9/10] START clf__max_depth=10..........................................\n",
      "[CV 2/5; 9/10] END ...........clf__max_depth=10;, score=0.999 total time=   3.2s\n",
      "[CV 3/5; 9/10] START clf__max_depth=10..........................................\n",
      "[CV 3/5; 9/10] END ...........clf__max_depth=10;, score=0.999 total time=   3.1s\n",
      "[CV 4/5; 9/10] START clf__max_depth=10..........................................\n",
      "[CV 4/5; 9/10] END ...........clf__max_depth=10;, score=0.999 total time=   3.2s\n",
      "[CV 5/5; 9/10] START clf__max_depth=10..........................................\n",
      "[CV 5/5; 9/10] END ...........clf__max_depth=10;, score=0.999 total time=   3.1s\n",
      "[CV 1/5; 10/10] START clf__max_depth=11.........................................\n",
      "[CV 1/5; 10/10] END ..........clf__max_depth=11;, score=0.999 total time=   3.3s\n",
      "[CV 2/5; 10/10] START clf__max_depth=11.........................................\n",
      "[CV 2/5; 10/10] END ..........clf__max_depth=11;, score=0.999 total time=   3.4s\n",
      "[CV 3/5; 10/10] START clf__max_depth=11.........................................\n",
      "[CV 3/5; 10/10] END ..........clf__max_depth=11;, score=0.999 total time=   3.3s\n",
      "[CV 4/5; 10/10] START clf__max_depth=11.........................................\n",
      "[CV 4/5; 10/10] END ..........clf__max_depth=11;, score=0.999 total time=   3.3s\n",
      "[CV 5/5; 10/10] START clf__max_depth=11.........................................\n",
      "[CV 5/5; 10/10] END ..........clf__max_depth=11;, score=0.999 total time=   3.3s\n",
      "tuned hyperparameters :(best parameters)  {'clf__max_depth': 11}\n",
      "accuracy : 0.9989613685404789\n"
     ]
    },
    {
     "data": {
      "image/png": "[encoded data removed]",
      "text/plain": [
       "<Figure size 640x480 with 1 Axes>"
      ]
     },
     "metadata": {},
     "output_type": "display_data"
    }
   ],
   "source": [
    "grid={\"max_depth\":[i for i in range(2, 12)]}\n",
    "model=ensemble.RandomForestRegressor(n_estimators=60)\n",
    "results = grid_search(grid, model, x, y)\n",
    "plotGridResults(results)"
   ]
  },
  {
   "cell_type": "markdown",
   "metadata": {
    "collapsed": false,
    "pycharm": {
     "name": "#%% md\n"
    }
   },
   "source": [
    "#### max_features param"
   ]
  },
  {
   "cell_type": "code",
   "execution_count": null,
   "metadata": {
    "collapsed": false,
    "pycharm": {
     "name": "#%%\n"
    }
   },
   "outputs": [
    {
     "name": "stdout",
     "output_type": "stream",
     "text": [
      "Fitting 5 folds for each of 10 candidates, totalling 50 fits\n",
      "[CV 1/5; 1/10] START clf__max_features=0.1......................................\n",
      "[CV 1/5; 1/10] END .......clf__max_features=0.1;, score=0.997 total time=   1.3s\n",
      "[CV 2/5; 1/10] START clf__max_features=0.1......................................\n",
      "[CV 2/5; 1/10] END .......clf__max_features=0.1;, score=0.998 total time=   1.1s\n",
      "[CV 3/5; 1/10] START clf__max_features=0.1......................................\n",
      "[CV 3/5; 1/10] END .......clf__max_features=0.1;, score=0.997 total time=   1.7s\n",
      "[CV 4/5; 1/10] START clf__max_features=0.1......................................\n",
      "[CV 4/5; 1/10] END .......clf__max_features=0.1;, score=0.997 total time=   1.4s\n",
      "[CV 5/5; 1/10] START clf__max_features=0.1......................................\n",
      "[CV 5/5; 1/10] END .......clf__max_features=0.1;, score=0.997 total time=   0.9s\n",
      "[CV 1/5; 2/10] START clf__max_features=0.2......................................\n",
      "[CV 1/5; 2/10] END .......clf__max_features=0.2;, score=0.999 total time=   2.2s\n",
      "[CV 2/5; 2/10] START clf__max_features=0.2......................................\n",
      "[CV 2/5; 2/10] END .......clf__max_features=0.2;, score=0.999 total time=   2.2s\n",
      "[CV 3/5; 2/10] START clf__max_features=0.2......................................\n",
      "[CV 3/5; 2/10] END .......clf__max_features=0.2;, score=0.999 total time=   1.7s\n",
      "[CV 4/5; 2/10] START clf__max_features=0.2......................................\n",
      "[CV 4/5; 2/10] END .......clf__max_features=0.2;, score=0.999 total time=   1.6s\n",
      "[CV 5/5; 2/10] START clf__max_features=0.2......................................\n",
      "[CV 5/5; 2/10] END .......clf__max_features=0.2;, score=0.999 total time=   1.6s\n",
      "[CV 1/5; 3/10] START clf__max_features=0.3......................................\n",
      "[CV 1/5; 3/10] END .......clf__max_features=0.3;, score=0.999 total time=   2.3s\n",
      "[CV 2/5; 3/10] START clf__max_features=0.3......................................\n",
      "[CV 2/5; 3/10] END .......clf__max_features=0.3;, score=0.999 total time=   2.2s\n",
      "[CV 3/5; 3/10] START clf__max_features=0.3......................................\n",
      "[CV 3/5; 3/10] END .......clf__max_features=0.3;, score=0.999 total time=   2.2s\n",
      "[CV 4/5; 3/10] START clf__max_features=0.3......................................\n",
      "[CV 4/5; 3/10] END .......clf__max_features=0.3;, score=0.999 total time=   2.2s\n",
      "[CV 5/5; 3/10] START clf__max_features=0.3......................................\n",
      "[CV 5/5; 3/10] END .......clf__max_features=0.3;, score=0.999 total time=   2.2s\n",
      "[CV 1/5; 4/10] START clf__max_features=0.4......................................\n",
      "[CV 1/5; 4/10] END .......clf__max_features=0.4;, score=0.999 total time=   2.5s\n",
      "[CV 2/5; 4/10] START clf__max_features=0.4......................................\n",
      "[CV 2/5; 4/10] END .......clf__max_features=0.4;, score=0.999 total time=   2.5s\n",
      "[CV 3/5; 4/10] START clf__max_features=0.4......................................\n",
      "[CV 3/5; 4/10] END .......clf__max_features=0.4;, score=0.999 total time=   2.5s\n",
      "[CV 4/5; 4/10] START clf__max_features=0.4......................................\n",
      "[CV 4/5; 4/10] END .......clf__max_features=0.4;, score=0.999 total time=   2.5s\n",
      "[CV 5/5; 4/10] START clf__max_features=0.4......................................\n",
      "[CV 5/5; 4/10] END .......clf__max_features=0.4;, score=0.999 total time=   2.6s\n",
      "[CV 1/5; 5/10] START clf__max_features=0.5......................................\n",
      "[CV 1/5; 5/10] END .......clf__max_features=0.5;, score=0.999 total time=   3.2s\n",
      "[CV 2/5; 5/10] START clf__max_features=0.5......................................\n",
      "[CV 2/5; 5/10] END .......clf__max_features=0.5;, score=0.999 total time=   3.2s\n",
      "[CV 3/5; 5/10] START clf__max_features=0.5......................................\n",
      "[CV 3/5; 5/10] END .......clf__max_features=0.5;, score=0.999 total time=   3.1s\n",
      "[CV 4/5; 5/10] START clf__max_features=0.5......................................\n",
      "[CV 4/5; 5/10] END .......clf__max_features=0.5;, score=0.999 total time=   3.2s\n",
      "[CV 5/5; 5/10] START clf__max_features=0.5......................................\n",
      "[CV 5/5; 5/10] END .......clf__max_features=0.5;, score=0.999 total time=   3.2s\n",
      "[CV 1/5; 6/10] START clf__max_features=0.6......................................\n",
      "[CV 1/5; 6/10] END .......clf__max_features=0.6;, score=0.999 total time=   3.8s\n",
      "[CV 2/5; 6/10] START clf__max_features=0.6......................................\n",
      "[CV 2/5; 6/10] END .......clf__max_features=0.6;, score=0.999 total time=   3.8s\n",
      "[CV 3/5; 6/10] START clf__max_features=0.6......................................\n",
      "[CV 3/5; 6/10] END .......clf__max_features=0.6;, score=0.999 total time=   3.8s\n",
      "[CV 4/5; 6/10] START clf__max_features=0.6......................................\n",
      "[CV 4/5; 6/10] END .......clf__max_features=0.6;, score=0.999 total time=   3.8s\n",
      "[CV 5/5; 6/10] START clf__max_features=0.6......................................\n",
      "[CV 5/5; 6/10] END .......clf__max_features=0.6;, score=0.999 total time=   3.8s\n",
      "[CV 1/5; 7/10] START clf__max_features=0.7......................................\n",
      "[CV 1/5; 7/10] END .......clf__max_features=0.7;, score=0.999 total time=   4.1s\n",
      "[CV 2/5; 7/10] START clf__max_features=0.7......................................\n",
      "[CV 2/5; 7/10] END .......clf__max_features=0.7;, score=0.999 total time=   4.1s\n",
      "[CV 3/5; 7/10] START clf__max_features=0.7......................................\n",
      "[CV 3/5; 7/10] END .......clf__max_features=0.7;, score=0.999 total time=   4.4s\n",
      "[CV 4/5; 7/10] START clf__max_features=0.7......................................\n",
      "[CV 4/5; 7/10] END .......clf__max_features=0.7;, score=0.999 total time=   4.1s\n",
      "[CV 5/5; 7/10] START clf__max_features=0.7......................................\n",
      "[CV 5/5; 7/10] END .......clf__max_features=0.7;, score=0.999 total time=   4.1s\n",
      "[CV 1/5; 8/10] START clf__max_features=0.8......................................\n",
      "[CV 1/5; 8/10] END .......clf__max_features=0.8;, score=0.999 total time=   4.7s\n",
      "[CV 2/5; 8/10] START clf__max_features=0.8......................................\n",
      "[CV 2/5; 8/10] END .......clf__max_features=0.8;, score=0.999 total time=   4.7s\n",
      "[CV 3/5; 8/10] START clf__max_features=0.8......................................\n",
      "[CV 3/5; 8/10] END .......clf__max_features=0.8;, score=0.999 total time=   4.7s\n",
      "[CV 4/5; 8/10] START clf__max_features=0.8......................................\n",
      "[CV 4/5; 8/10] END .......clf__max_features=0.8;, score=0.999 total time=   4.7s\n",
      "[CV 5/5; 8/10] START clf__max_features=0.8......................................\n",
      "[CV 5/5; 8/10] END .......clf__max_features=0.8;, score=0.999 total time=   4.7s\n",
      "[CV 1/5; 9/10] START clf__max_features=0.9......................................\n",
      "[CV 1/5; 9/10] END .......clf__max_features=0.9;, score=0.999 total time=   5.3s\n",
      "[CV 2/5; 9/10] START clf__max_features=0.9......................................\n",
      "[CV 2/5; 9/10] END .......clf__max_features=0.9;, score=0.999 total time=   5.3s\n",
      "[CV 3/5; 9/10] START clf__max_features=0.9......................................\n",
      "[CV 3/5; 9/10] END .......clf__max_features=0.9;, score=0.999 total time=   5.3s\n",
      "[CV 4/5; 9/10] START clf__max_features=0.9......................................\n",
      "[CV 4/5; 9/10] END .......clf__max_features=0.9;, score=0.999 total time=   5.3s\n",
      "[CV 5/5; 9/10] START clf__max_features=0.9......................................\n",
      "[CV 5/5; 9/10] END .......clf__max_features=0.9;, score=0.999 total time=   5.3s\n",
      "[CV 1/5; 10/10] START clf__max_features=1.0.....................................\n",
      "[CV 1/5; 10/10] END ......clf__max_features=1.0;, score=0.999 total time=   5.9s\n",
      "[CV 2/5; 10/10] START clf__max_features=1.0.....................................\n",
      "[CV 2/5; 10/10] END ......clf__max_features=1.0;, score=0.999 total time=   5.9s\n",
      "[CV 3/5; 10/10] START clf__max_features=1.0.....................................\n",
      "[CV 3/5; 10/10] END ......clf__max_features=1.0;, score=0.999 total time=   5.9s\n",
      "[CV 4/5; 10/10] START clf__max_features=1.0.....................................\n",
      "[CV 4/5; 10/10] END ......clf__max_features=1.0;, score=0.999 total time=   6.0s\n",
      "[CV 5/5; 10/10] START clf__max_features=1.0.....................................\n",
      "[CV 5/5; 10/10] END ......clf__max_features=1.0;, score=0.999 total time=   6.1s\n",
      "tuned hyperparameters :(best parameters)  {'clf__max_features': 0.6}\n",
      "accuracy : 0.9993467052930255\n"
     ]
    },
    {
     "data": {
      "image/png": "[encoded data removed]",
      "text/plain": [
       "<Figure size 640x480 with 1 Axes>"
      ]
     },
     "metadata": {},
     "output_type": "display_data"
    }
   ],
   "source": [
    "grid={\"max_features\":[i/10.0 for i in range(1, 11)]}\n",
    "model=ensemble.RandomForestRegressor(n_estimators=60)\n",
    "results = grid_search(grid, model, x, y)\n",
    "plotGridResults(results)"
   ]
  },
  {
   "cell_type": "markdown",
   "metadata": {
    "collapsed": false,
    "pycharm": {
     "name": "#%% md\n"
    }
   },
   "source": [
    "### Best RF eval"
   ]
  },
  {
   "cell_type": "code",
   "execution_count": null,
   "metadata": {
    "collapsed": false,
    "pycharm": {
     "name": "#%%\n"
    }
   },
   "outputs": [
    {
     "name": "stderr",
     "output_type": "stream",
     "text": [
      "[Parallel(n_jobs=-1)]: Using backend LokyBackend with 4 concurrent workers.\n",
      "[Parallel(n_jobs=-1)]: Done   2 out of   5 | elapsed:    8.9s remaining:   13.5s\n",
      "[Parallel(n_jobs=-1)]: Done   3 out of   5 | elapsed:    9.0s remaining:    6.0s\n"
     ]
    },
    {
     "name": "stdout",
     "output_type": "stream",
     "text": [
      "MAE:  80.29617167\n",
      "RMSE:  137.78133939\n",
      "R2:  0.99931444\n"
     ]
    },
    {
     "name": "stderr",
     "output_type": "stream",
     "text": [
      "[Parallel(n_jobs=-1)]: Done   5 out of   5 | elapsed:   12.9s remaining:    0.0s\n",
      "[Parallel(n_jobs=-1)]: Done   5 out of   5 | elapsed:   12.9s finished\n"
     ]
    }
   ],
   "source": [
    "model = ensemble.RandomForestRegressor(\n",
    "    n_estimators=60,\n",
    "    criterion=\"squared_error\",\n",
    "    max_depth=None,\n",
    "    min_samples_split=2,\n",
    "    min_samples_leaf=1,\n",
    "    max_features=0.6 #\"sqrt\", \"log2\", int, float\n",
    ")\n",
    "model_cv_rapport(model, x, y)"
   ]
  },
  {
   "cell_type": "markdown",
   "metadata": {
    "collapsed": false,
    "pycharm": {
     "name": "#%% md\n"
    }
   },
   "source": [
    "## Gradient Boosting"
   ]
  },
  {
   "cell_type": "code",
   "execution_count": null,
   "metadata": {
    "collapsed": false,
    "pycharm": {
     "name": "#%%\n"
    }
   },
   "outputs": [
    {
     "name": "stdout",
     "output_type": "stream",
     "text": [
      "GB --------------------------------------\n",
      "r2_score: 0.99927\n",
      "mean squared error: 20814.78235\n",
      "root mean squared error: 144.27329\n",
      "mean absolute error: 90.29576\n"
     ]
    },
    {
     "data": {
      "text/plain": [
       "0.99927"
      ]
     },
     "execution_count": 64,
     "metadata": {},
     "output_type": "execute_result"
    }
   ],
   "source": [
    "model = ensemble.GradientBoostingRegressor(\n",
    "    loss=\"squared_error\",\n",
    "    learning_rate=0.13,\n",
    "    n_estimators=150,\n",
    "    criterion=\"friedman_mse\",\n",
    "    min_samples_split=2,\n",
    "    min_samples_leaf=1,\n",
    "    max_depth=6,\n",
    "    max_features=None,\n",
    "    alpha=0.9\n",
    ")\n",
    "model.fit(x_train, y_train)\n",
    "model_rapport(\"GB\", model, y_test, x_test)"
   ]
  },
  {
   "cell_type": "markdown",
   "metadata": {
    "collapsed": false,
    "pycharm": {
     "name": "#%% md\n"
    }
   },
   "source": [
    "### Hyperparameters - Gradient Boosting\n",
    "#### learning_rate param"
   ]
  },
  {
   "cell_type": "code",
   "execution_count": null,
   "metadata": {
    "collapsed": false,
    "pycharm": {
     "name": "#%%\n"
    }
   },
   "outputs": [
    {
     "name": "stdout",
     "output_type": "stream",
     "text": [
      "Fitting 5 folds for each of 15 candidates, totalling 75 fits\n",
      "[CV 1/5; 1/15] START clf__learning_rate=0.05....................................\n",
      "[CV 1/5; 1/15] END .....clf__learning_rate=0.05;, score=0.995 total time=   3.5s\n",
      "[CV 2/5; 1/15] START clf__learning_rate=0.05....................................\n",
      "[CV 2/5; 1/15] END .....clf__learning_rate=0.05;, score=0.995 total time=   3.7s\n",
      "[CV 3/5; 1/15] START clf__learning_rate=0.05....................................\n",
      "[CV 3/5; 1/15] END .....clf__learning_rate=0.05;, score=0.995 total time=   3.6s\n",
      "[CV 4/5; 1/15] START clf__learning_rate=0.05....................................\n",
      "[CV 4/5; 1/15] END .....clf__learning_rate=0.05;, score=0.995 total time=   3.7s\n",
      "[CV 5/5; 1/15] START clf__learning_rate=0.05....................................\n",
      "[CV 5/5; 1/15] END .....clf__learning_rate=0.05;, score=0.995 total time=   4.5s\n",
      "[CV 1/5; 2/15] START clf__learning_rate=0.1.....................................\n",
      "[CV 1/5; 2/15] END ......clf__learning_rate=0.1;, score=0.997 total time=   3.6s\n",
      "[CV 2/5; 2/15] START clf__learning_rate=0.1.....................................\n",
      "[CV 2/5; 2/15] END ......clf__learning_rate=0.1;, score=0.998 total time=   3.5s\n",
      "[CV 3/5; 2/15] START clf__learning_rate=0.1.....................................\n",
      "[CV 3/5; 2/15] END ......clf__learning_rate=0.1;, score=0.998 total time=   3.6s\n",
      "[CV 4/5; 2/15] START clf__learning_rate=0.1.....................................\n",
      "[CV 4/5; 2/15] END ......clf__learning_rate=0.1;, score=0.997 total time=   3.3s\n",
      "[CV 5/5; 2/15] START clf__learning_rate=0.1.....................................\n",
      "[CV 5/5; 2/15] END ......clf__learning_rate=0.1;, score=0.998 total time=   3.4s\n",
      "[CV 1/5; 3/15] START clf__learning_rate=0.15....................................\n",
      "[CV 1/5; 3/15] END .....clf__learning_rate=0.15;, score=0.998 total time=   3.5s\n",
      "[CV 2/5; 3/15] START clf__learning_rate=0.15....................................\n",
      "[CV 2/5; 3/15] END .....clf__learning_rate=0.15;, score=0.998 total time=   3.4s\n",
      "[CV 3/5; 3/15] START clf__learning_rate=0.15....................................\n",
      "[CV 3/5; 3/15] END .....clf__learning_rate=0.15;, score=0.998 total time=   3.4s\n",
      "[CV 4/5; 3/15] START clf__learning_rate=0.15....................................\n",
      "[CV 4/5; 3/15] END .....clf__learning_rate=0.15;, score=0.998 total time=   3.4s\n",
      "[CV 5/5; 3/15] START clf__learning_rate=0.15....................................\n",
      "[CV 5/5; 3/15] END .....clf__learning_rate=0.15;, score=0.998 total time=   3.4s\n",
      "[CV 1/5; 4/15] START clf__learning_rate=0.2.....................................\n",
      "[CV 1/5; 4/15] END ......clf__learning_rate=0.2;, score=0.998 total time=   3.6s\n",
      "[CV 2/5; 4/15] START clf__learning_rate=0.2.....................................\n",
      "[CV 2/5; 4/15] END ......clf__learning_rate=0.2;, score=0.998 total time=   3.6s\n",
      "[CV 3/5; 4/15] START clf__learning_rate=0.2.....................................\n",
      "[CV 3/5; 4/15] END ......clf__learning_rate=0.2;, score=0.998 total time=   3.6s\n",
      "[CV 4/5; 4/15] START clf__learning_rate=0.2.....................................\n",
      "[CV 4/5; 4/15] END ......clf__learning_rate=0.2;, score=0.998 total time=   3.5s\n",
      "[CV 5/5; 4/15] START clf__learning_rate=0.2.....................................\n",
      "[CV 5/5; 4/15] END ......clf__learning_rate=0.2;, score=0.998 total time=   3.5s\n",
      "[CV 1/5; 5/15] START clf__learning_rate=0.25....................................\n",
      "[CV 1/5; 5/15] END .....clf__learning_rate=0.25;, score=0.998 total time=   3.4s\n",
      "[CV 2/5; 5/15] START clf__learning_rate=0.25....................................\n",
      "[CV 2/5; 5/15] END .....clf__learning_rate=0.25;, score=0.998 total time=   3.3s\n",
      "[CV 3/5; 5/15] START clf__learning_rate=0.25....................................\n",
      "[CV 3/5; 5/15] END .....clf__learning_rate=0.25;, score=0.999 total time=   3.4s\n",
      "[CV 4/5; 5/15] START clf__learning_rate=0.25....................................\n",
      "[CV 4/5; 5/15] END .....clf__learning_rate=0.25;, score=0.998 total time=   3.6s\n",
      "[CV 5/5; 5/15] START clf__learning_rate=0.25....................................\n",
      "[CV 5/5; 5/15] END .....clf__learning_rate=0.25;, score=0.999 total time=   3.5s\n",
      "[CV 1/5; 6/15] START clf__learning_rate=0.3.....................................\n",
      "[CV 1/5; 6/15] END ......clf__learning_rate=0.3;, score=0.999 total time=   3.7s\n",
      "[CV 2/5; 6/15] START clf__learning_rate=0.3.....................................\n",
      "[CV 2/5; 6/15] END ......clf__learning_rate=0.3;, score=0.998 total time=   3.6s\n",
      "[CV 3/5; 6/15] START clf__learning_rate=0.3.....................................\n",
      "[CV 3/5; 6/15] END ......clf__learning_rate=0.3;, score=0.999 total time=   3.6s\n",
      "[CV 4/5; 6/15] START clf__learning_rate=0.3.....................................\n",
      "[CV 4/5; 6/15] END ......clf__learning_rate=0.3;, score=0.999 total time=   3.7s\n",
      "[CV 5/5; 6/15] START clf__learning_rate=0.3.....................................\n",
      "[CV 5/5; 6/15] END ......clf__learning_rate=0.3;, score=0.998 total time=   3.4s\n",
      "[CV 1/5; 7/15] START clf__learning_rate=0.35....................................\n",
      "[CV 1/5; 7/15] END .....clf__learning_rate=0.35;, score=0.999 total time=   3.3s\n",
      "[CV 2/5; 7/15] START clf__learning_rate=0.35....................................\n",
      "[CV 2/5; 7/15] END .....clf__learning_rate=0.35;, score=0.999 total time=   3.4s\n",
      "[CV 3/5; 7/15] START clf__learning_rate=0.35....................................\n",
      "[CV 3/5; 7/15] END .....clf__learning_rate=0.35;, score=0.999 total time=   3.5s\n",
      "[CV 4/5; 7/15] START clf__learning_rate=0.35....................................\n",
      "[CV 4/5; 7/15] END .....clf__learning_rate=0.35;, score=0.999 total time=   3.5s\n",
      "[CV 5/5; 7/15] START clf__learning_rate=0.35....................................\n",
      "[CV 5/5; 7/15] END .....clf__learning_rate=0.35;, score=0.998 total time=   3.4s\n",
      "[CV 1/5; 8/15] START clf__learning_rate=0.4.....................................\n",
      "[CV 1/5; 8/15] END ......clf__learning_rate=0.4;, score=0.999 total time=   3.4s\n",
      "[CV 2/5; 8/15] START clf__learning_rate=0.4.....................................\n",
      "[CV 2/5; 8/15] END ......clf__learning_rate=0.4;, score=0.998 total time=   3.5s\n",
      "[CV 3/5; 8/15] START clf__learning_rate=0.4.....................................\n",
      "[CV 3/5; 8/15] END ......clf__learning_rate=0.4;, score=0.999 total time=   3.5s\n",
      "[CV 4/5; 8/15] START clf__learning_rate=0.4.....................................\n",
      "[CV 4/5; 8/15] END ......clf__learning_rate=0.4;, score=0.999 total time=   3.4s\n",
      "[CV 5/5; 8/15] START clf__learning_rate=0.4.....................................\n",
      "[CV 5/5; 8/15] END ......clf__learning_rate=0.4;, score=0.999 total time=   3.5s\n",
      "[CV 1/5; 9/15] START clf__learning_rate=0.45....................................\n",
      "[CV 1/5; 9/15] END .....clf__learning_rate=0.45;, score=0.998 total time=   3.7s\n",
      "[CV 2/5; 9/15] START clf__learning_rate=0.45....................................\n",
      "[CV 2/5; 9/15] END .....clf__learning_rate=0.45;, score=0.998 total time=   3.6s\n",
      "[CV 3/5; 9/15] START clf__learning_rate=0.45....................................\n",
      "[CV 3/5; 9/15] END .....clf__learning_rate=0.45;, score=0.999 total time=   3.5s\n",
      "[CV 4/5; 9/15] START clf__learning_rate=0.45....................................\n",
      "[CV 4/5; 9/15] END .....clf__learning_rate=0.45;, score=0.998 total time=   3.5s\n",
      "[CV 5/5; 9/15] START clf__learning_rate=0.45....................................\n",
      "[CV 5/5; 9/15] END .....clf__learning_rate=0.45;, score=0.999 total time=   3.5s\n",
      "[CV 1/5; 10/15] START clf__learning_rate=0.5....................................\n",
      "[CV 1/5; 10/15] END .....clf__learning_rate=0.5;, score=0.998 total time=   3.6s\n",
      "[CV 2/5; 10/15] START clf__learning_rate=0.5....................................\n",
      "[CV 2/5; 10/15] END .....clf__learning_rate=0.5;, score=0.998 total time=   3.4s\n",
      "[CV 3/5; 10/15] START clf__learning_rate=0.5....................................\n",
      "[CV 3/5; 10/15] END .....clf__learning_rate=0.5;, score=0.999 total time=   3.4s\n",
      "[CV 4/5; 10/15] START clf__learning_rate=0.5....................................\n",
      "[CV 4/5; 10/15] END .....clf__learning_rate=0.5;, score=0.998 total time=   3.5s\n",
      "[CV 5/5; 10/15] START clf__learning_rate=0.5....................................\n",
      "[CV 5/5; 10/15] END .....clf__learning_rate=0.5;, score=0.998 total time=   3.4s\n",
      "[CV 1/5; 11/15] START clf__learning_rate=0.55...................................\n",
      "[CV 1/5; 11/15] END ....clf__learning_rate=0.55;, score=0.998 total time=   3.4s\n",
      "[CV 2/5; 11/15] START clf__learning_rate=0.55...................................\n",
      "[CV 2/5; 11/15] END ....clf__learning_rate=0.55;, score=0.998 total time=   3.3s\n",
      "[CV 3/5; 11/15] START clf__learning_rate=0.55...................................\n",
      "[CV 3/5; 11/15] END ....clf__learning_rate=0.55;, score=0.999 total time=   3.5s\n",
      "[CV 4/5; 11/15] START clf__learning_rate=0.55...................................\n",
      "[CV 4/5; 11/15] END ....clf__learning_rate=0.55;, score=0.998 total time=   3.4s\n",
      "[CV 5/5; 11/15] START clf__learning_rate=0.55...................................\n",
      "[CV 5/5; 11/15] END ....clf__learning_rate=0.55;, score=0.998 total time=   3.5s\n",
      "[CV 1/5; 12/15] START clf__learning_rate=0.6....................................\n",
      "[CV 1/5; 12/15] END .....clf__learning_rate=0.6;, score=0.998 total time=   3.5s\n",
      "[CV 2/5; 12/15] START clf__learning_rate=0.6....................................\n",
      "[CV 2/5; 12/15] END .....clf__learning_rate=0.6;, score=0.998 total time=   3.3s\n",
      "[CV 3/5; 12/15] START clf__learning_rate=0.6....................................\n",
      "[CV 3/5; 12/15] END .....clf__learning_rate=0.6;, score=0.998 total time=   3.5s\n",
      "[CV 4/5; 12/15] START clf__learning_rate=0.6....................................\n",
      "[CV 4/5; 12/15] END .....clf__learning_rate=0.6;, score=0.998 total time=   3.6s\n",
      "[CV 5/5; 12/15] START clf__learning_rate=0.6....................................\n",
      "[CV 5/5; 12/15] END .....clf__learning_rate=0.6;, score=0.998 total time=   3.6s\n",
      "[CV 1/5; 13/15] START clf__learning_rate=0.65...................................\n",
      "[CV 1/5; 13/15] END ....clf__learning_rate=0.65;, score=0.998 total time=   3.4s\n",
      "[CV 2/5; 13/15] START clf__learning_rate=0.65...................................\n",
      "[CV 2/5; 13/15] END ....clf__learning_rate=0.65;, score=0.998 total time=   3.6s\n",
      "[CV 3/5; 13/15] START clf__learning_rate=0.65...................................\n",
      "[CV 3/5; 13/15] END ....clf__learning_rate=0.65;, score=0.998 total time=   3.4s\n",
      "[CV 4/5; 13/15] START clf__learning_rate=0.65...................................\n",
      "[CV 4/5; 13/15] END ....clf__learning_rate=0.65;, score=0.998 total time=   3.5s\n",
      "[CV 5/5; 13/15] START clf__learning_rate=0.65...................................\n",
      "[CV 5/5; 13/15] END ....clf__learning_rate=0.65;, score=0.998 total time=   3.5s\n",
      "[CV 1/5; 14/15] START clf__learning_rate=0.7....................................\n",
      "[CV 1/5; 14/15] END .....clf__learning_rate=0.7;, score=0.998 total time=   3.6s\n",
      "[CV 2/5; 14/15] START clf__learning_rate=0.7....................................\n",
      "[CV 2/5; 14/15] END .....clf__learning_rate=0.7;, score=0.998 total time=   3.4s\n",
      "[CV 3/5; 14/15] START clf__learning_rate=0.7....................................\n",
      "[CV 3/5; 14/15] END .....clf__learning_rate=0.7;, score=0.998 total time=   3.5s\n",
      "[CV 4/5; 14/15] START clf__learning_rate=0.7....................................\n",
      "[CV 4/5; 14/15] END .....clf__learning_rate=0.7;, score=0.998 total time=   3.5s\n",
      "[CV 5/5; 14/15] START clf__learning_rate=0.7....................................\n",
      "[CV 5/5; 14/15] END .....clf__learning_rate=0.7;, score=0.998 total time=   3.5s\n",
      "[CV 1/5; 15/15] START clf__learning_rate=0.75...................................\n",
      "[CV 1/5; 15/15] END ....clf__learning_rate=0.75;, score=0.998 total time=   3.5s\n",
      "[CV 2/5; 15/15] START clf__learning_rate=0.75...................................\n",
      "[CV 2/5; 15/15] END ....clf__learning_rate=0.75;, score=0.998 total time=   3.4s\n",
      "[CV 3/5; 15/15] START clf__learning_rate=0.75...................................\n",
      "[CV 3/5; 15/15] END ....clf__learning_rate=0.75;, score=0.998 total time=   3.6s\n",
      "[CV 4/5; 15/15] START clf__learning_rate=0.75...................................\n",
      "[CV 4/5; 15/15] END ....clf__learning_rate=0.75;, score=0.998 total time=   3.5s\n",
      "[CV 5/5; 15/15] START clf__learning_rate=0.75...................................\n",
      "[CV 5/5; 15/15] END ....clf__learning_rate=0.75;, score=0.998 total time=   3.7s\n",
      "tuned hyperparameters :(best parameters)  {'clf__learning_rate': 0.4}\n",
      "accuracy : 0.9985831051274985\n"
     ]
    },
    {
     "data": {
      "image/png": "[encoded data removed]",
      "text/plain": [
       "<Figure size 640x480 with 1 Axes>"
      ]
     },
     "metadata": {},
     "output_type": "display_data"
    }
   ],
   "source": [
    "grid={\"learning_rate\":[i*5/100.0 for i in range(1, 16)]}\n",
    "model=ensemble.GradientBoostingRegressor()\n",
    "results = grid_search(grid, model, x, y)\n",
    "plotGridResults(results)"
   ]
  },
  {
   "cell_type": "markdown",
   "metadata": {
    "collapsed": false,
    "pycharm": {
     "name": "#%% md\n"
    }
   },
   "source": [
    "#### n_estimators param"
   ]
  },
  {
   "cell_type": "code",
   "execution_count": null,
   "metadata": {
    "collapsed": false,
    "pycharm": {
     "name": "#%%\n"
    }
   },
   "outputs": [
    {
     "name": "stdout",
     "output_type": "stream",
     "text": [
      "Fitting 5 folds for each of 16 candidates, totalling 80 fits\n",
      "[CV 1/5; 1/16] START clf__n_estimators=20.......................................\n",
      "[CV 1/5; 1/16] END ........clf__n_estimators=20;, score=0.996 total time=   1.3s\n",
      "[CV 2/5; 1/16] START clf__n_estimators=20.......................................\n",
      "[CV 2/5; 1/16] END ........clf__n_estimators=20;, score=0.996 total time=   1.0s\n",
      "[CV 3/5; 1/16] START clf__n_estimators=20.......................................\n",
      "[CV 3/5; 1/16] END ........clf__n_estimators=20;, score=0.996 total time=   1.5s\n",
      "[CV 4/5; 1/16] START clf__n_estimators=20.......................................\n",
      "[CV 4/5; 1/16] END ........clf__n_estimators=20;, score=0.997 total time=   0.6s\n",
      "[CV 5/5; 1/16] START clf__n_estimators=20.......................................\n",
      "[CV 5/5; 1/16] END ........clf__n_estimators=20;, score=0.997 total time=   0.6s\n",
      "[CV 1/5; 2/16] START clf__n_estimators=30.......................................\n",
      "[CV 1/5; 2/16] END ........clf__n_estimators=30;, score=0.997 total time=   1.0s\n",
      "[CV 2/5; 2/16] START clf__n_estimators=30.......................................\n",
      "[CV 2/5; 2/16] END ........clf__n_estimators=30;, score=0.997 total time=   0.9s\n",
      "[CV 3/5; 2/16] START clf__n_estimators=30.......................................\n",
      "[CV 3/5; 2/16] END ........clf__n_estimators=30;, score=0.997 total time=   0.9s\n",
      "[CV 4/5; 2/16] START clf__n_estimators=30.......................................\n",
      "[CV 4/5; 2/16] END ........clf__n_estimators=30;, score=0.997 total time=   0.9s\n",
      "[CV 5/5; 2/16] START clf__n_estimators=30.......................................\n",
      "[CV 5/5; 2/16] END ........clf__n_estimators=30;, score=0.997 total time=   1.0s\n",
      "[CV 1/5; 3/16] START clf__n_estimators=40.......................................\n",
      "[CV 1/5; 3/16] END ........clf__n_estimators=40;, score=0.998 total time=   1.3s\n",
      "[CV 2/5; 3/16] START clf__n_estimators=40.......................................\n",
      "[CV 2/5; 3/16] END ........clf__n_estimators=40;, score=0.997 total time=   1.8s\n",
      "[CV 3/5; 3/16] START clf__n_estimators=40.......................................\n",
      "[CV 3/5; 3/16] END ........clf__n_estimators=40;, score=0.998 total time=   1.6s\n",
      "[CV 4/5; 3/16] START clf__n_estimators=40.......................................\n",
      "[CV 4/5; 3/16] END ........clf__n_estimators=40;, score=0.998 total time=   1.4s\n",
      "[CV 5/5; 3/16] START clf__n_estimators=40.......................................\n",
      "[CV 5/5; 3/16] END ........clf__n_estimators=40;, score=0.998 total time=   1.3s\n",
      "[CV 1/5; 4/16] START clf__n_estimators=50.......................................\n",
      "[CV 1/5; 4/16] END ........clf__n_estimators=50;, score=0.998 total time=   2.4s\n",
      "[CV 2/5; 4/16] START clf__n_estimators=50.......................................\n",
      "[CV 2/5; 4/16] END ........clf__n_estimators=50;, score=0.998 total time=   1.7s\n",
      "[CV 3/5; 4/16] START clf__n_estimators=50.......................................\n",
      "[CV 3/5; 4/16] END ........clf__n_estimators=50;, score=0.998 total time=   1.7s\n",
      "[CV 4/5; 4/16] START clf__n_estimators=50.......................................\n",
      "[CV 4/5; 4/16] END ........clf__n_estimators=50;, score=0.998 total time=   1.6s\n",
      "[CV 5/5; 4/16] START clf__n_estimators=50.......................................\n",
      "[CV 5/5; 4/16] END ........clf__n_estimators=50;, score=0.998 total time=   1.6s\n",
      "[CV 1/5; 5/16] START clf__n_estimators=60.......................................\n",
      "[CV 1/5; 5/16] END ........clf__n_estimators=60;, score=0.998 total time=   2.1s\n",
      "[CV 2/5; 5/16] START clf__n_estimators=60.......................................\n",
      "[CV 2/5; 5/16] END ........clf__n_estimators=60;, score=0.998 total time=   2.0s\n",
      "[CV 3/5; 5/16] START clf__n_estimators=60.......................................\n",
      "[CV 3/5; 5/16] END ........clf__n_estimators=60;, score=0.998 total time=   2.9s\n",
      "[CV 4/5; 5/16] START clf__n_estimators=60.......................................\n",
      "[CV 4/5; 5/16] END ........clf__n_estimators=60;, score=0.998 total time=   1.9s\n",
      "[CV 5/5; 5/16] START clf__n_estimators=60.......................................\n",
      "[CV 5/5; 5/16] END ........clf__n_estimators=60;, score=0.998 total time=   1.9s\n",
      "[CV 1/5; 6/16] START clf__n_estimators=70.......................................\n",
      "[CV 1/5; 6/16] END ........clf__n_estimators=70;, score=0.998 total time=   2.3s\n",
      "[CV 2/5; 6/16] START clf__n_estimators=70.......................................\n",
      "[CV 2/5; 6/16] END ........clf__n_estimators=70;, score=0.998 total time=   2.3s\n",
      "[CV 3/5; 6/16] START clf__n_estimators=70.......................................\n",
      "[CV 3/5; 6/16] END ........clf__n_estimators=70;, score=0.998 total time=   2.4s\n",
      "[CV 4/5; 6/16] START clf__n_estimators=70.......................................\n",
      "[CV 4/5; 6/16] END ........clf__n_estimators=70;, score=0.998 total time=   2.3s\n",
      "[CV 5/5; 6/16] START clf__n_estimators=70.......................................\n",
      "[CV 5/5; 6/16] END ........clf__n_estimators=70;, score=0.998 total time=   2.3s\n",
      "[CV 1/5; 7/16] START clf__n_estimators=80.......................................\n",
      "[CV 1/5; 7/16] END ........clf__n_estimators=80;, score=0.998 total time=   2.7s\n",
      "[CV 2/5; 7/16] START clf__n_estimators=80.......................................\n",
      "[CV 2/5; 7/16] END ........clf__n_estimators=80;, score=0.998 total time=   2.7s\n",
      "[CV 3/5; 7/16] START clf__n_estimators=80.......................................\n",
      "[CV 3/5; 7/16] END ........clf__n_estimators=80;, score=0.999 total time=   2.7s\n",
      "[CV 4/5; 7/16] START clf__n_estimators=80.......................................\n",
      "[CV 4/5; 7/16] END ........clf__n_estimators=80;, score=0.998 total time=   2.7s\n",
      "[CV 5/5; 7/16] START clf__n_estimators=80.......................................\n",
      "[CV 5/5; 7/16] END ........clf__n_estimators=80;, score=0.998 total time=   2.6s\n",
      "[CV 1/5; 8/16] START clf__n_estimators=90.......................................\n",
      "[CV 1/5; 8/16] END ........clf__n_estimators=90;, score=0.998 total time=   3.0s\n",
      "[CV 2/5; 8/16] START clf__n_estimators=90.......................................\n",
      "[CV 2/5; 8/16] END ........clf__n_estimators=90;, score=0.998 total time=   3.2s\n",
      "[CV 3/5; 8/16] START clf__n_estimators=90.......................................\n",
      "[CV 3/5; 8/16] END ........clf__n_estimators=90;, score=0.999 total time=   3.1s\n",
      "[CV 4/5; 8/16] START clf__n_estimators=90.......................................\n",
      "[CV 4/5; 8/16] END ........clf__n_estimators=90;, score=0.999 total time=   2.9s\n",
      "[CV 5/5; 8/16] START clf__n_estimators=90.......................................\n",
      "[CV 5/5; 8/16] END ........clf__n_estimators=90;, score=0.999 total time=   3.0s\n",
      "[CV 1/5; 9/16] START clf__n_estimators=100......................................\n",
      "[CV 1/5; 9/16] END .......clf__n_estimators=100;, score=0.999 total time=   3.4s\n",
      "[CV 2/5; 9/16] START clf__n_estimators=100......................................\n",
      "[CV 2/5; 9/16] END .......clf__n_estimators=100;, score=0.998 total time=   3.5s\n",
      "[CV 3/5; 9/16] START clf__n_estimators=100......................................\n",
      "[CV 3/5; 9/16] END .......clf__n_estimators=100;, score=0.999 total time=   3.4s\n",
      "[CV 4/5; 9/16] START clf__n_estimators=100......................................\n",
      "[CV 4/5; 9/16] END .......clf__n_estimators=100;, score=0.999 total time=   3.4s\n",
      "[CV 5/5; 9/16] START clf__n_estimators=100......................................\n",
      "[CV 5/5; 9/16] END .......clf__n_estimators=100;, score=0.999 total time=   3.7s\n",
      "[CV 1/5; 10/16] START clf__n_estimators=110.....................................\n",
      "[CV 1/5; 10/16] END ......clf__n_estimators=110;, score=0.999 total time=   3.5s\n",
      "[CV 2/5; 10/16] START clf__n_estimators=110.....................................\n",
      "[CV 2/5; 10/16] END ......clf__n_estimators=110;, score=0.998 total time=   3.4s\n",
      "[CV 3/5; 10/16] START clf__n_estimators=110.....................................\n",
      "[CV 3/5; 10/16] END ......clf__n_estimators=110;, score=0.999 total time=   3.2s\n",
      "[CV 4/5; 10/16] START clf__n_estimators=110.....................................\n",
      "[CV 4/5; 10/16] END ......clf__n_estimators=110;, score=0.999 total time=   3.2s\n",
      "[CV 5/5; 10/16] START clf__n_estimators=110.....................................\n",
      "[CV 5/5; 10/16] END ......clf__n_estimators=110;, score=0.999 total time=   3.4s\n",
      "[CV 1/5; 11/16] START clf__n_estimators=120.....................................\n",
      "[CV 1/5; 11/16] END ......clf__n_estimators=120;, score=0.999 total time=   4.2s\n",
      "[CV 2/5; 11/16] START clf__n_estimators=120.....................................\n",
      "[CV 2/5; 11/16] END ......clf__n_estimators=120;, score=0.998 total time=   4.5s\n",
      "[CV 3/5; 11/16] START clf__n_estimators=120.....................................\n",
      "[CV 3/5; 11/16] END ......clf__n_estimators=120;, score=0.999 total time=   3.9s\n",
      "[CV 4/5; 11/16] START clf__n_estimators=120.....................................\n",
      "[CV 4/5; 11/16] END ......clf__n_estimators=120;, score=0.999 total time=   4.0s\n",
      "[CV 5/5; 11/16] START clf__n_estimators=120.....................................\n",
      "[CV 5/5; 11/16] END ......clf__n_estimators=120;, score=0.999 total time=   4.1s\n",
      "[CV 1/5; 12/16] START clf__n_estimators=130.....................................\n",
      "[CV 1/5; 12/16] END ......clf__n_estimators=130;, score=0.999 total time=   4.4s\n",
      "[CV 2/5; 12/16] START clf__n_estimators=130.....................................\n",
      "[CV 2/5; 12/16] END ......clf__n_estimators=130;, score=0.999 total time=   4.4s\n",
      "[CV 3/5; 12/16] START clf__n_estimators=130.....................................\n",
      "[CV 3/5; 12/16] END ......clf__n_estimators=130;, score=0.999 total time=   4.4s\n",
      "[CV 4/5; 12/16] START clf__n_estimators=130.....................................\n",
      "[CV 4/5; 12/16] END ......clf__n_estimators=130;, score=0.999 total time=   5.8s\n",
      "[CV 5/5; 12/16] START clf__n_estimators=130.....................................\n",
      "[CV 5/5; 12/16] END ......clf__n_estimators=130;, score=0.999 total time=   5.5s\n",
      "[CV 1/5; 13/16] START clf__n_estimators=140.....................................\n",
      "[CV 1/5; 13/16] END ......clf__n_estimators=140;, score=0.999 total time=   5.7s\n",
      "[CV 2/5; 13/16] START clf__n_estimators=140.....................................\n",
      "[CV 2/5; 13/16] END ......clf__n_estimators=140;, score=0.999 total time=   6.0s\n",
      "[CV 3/5; 13/16] START clf__n_estimators=140.....................................\n",
      "[CV 3/5; 13/16] END ......clf__n_estimators=140;, score=0.999 total time=   6.2s\n",
      "[CV 4/5; 13/16] START clf__n_estimators=140.....................................\n",
      "[CV 4/5; 13/16] END ......clf__n_estimators=140;, score=0.999 total time=   6.2s\n",
      "[CV 5/5; 13/16] START clf__n_estimators=140.....................................\n",
      "[CV 5/5; 13/16] END ......clf__n_estimators=140;, score=0.999 total time=   5.7s\n",
      "[CV 1/5; 14/16] START clf__n_estimators=150.....................................\n",
      "[CV 1/5; 14/16] END ......clf__n_estimators=150;, score=0.999 total time=   6.3s\n",
      "[CV 2/5; 14/16] START clf__n_estimators=150.....................................\n",
      "[CV 2/5; 14/16] END ......clf__n_estimators=150;, score=0.999 total time=   6.2s\n",
      "[CV 3/5; 14/16] START clf__n_estimators=150.....................................\n",
      "[CV 3/5; 14/16] END ......clf__n_estimators=150;, score=0.999 total time=   6.0s\n",
      "[CV 4/5; 14/16] START clf__n_estimators=150.....................................\n",
      "[CV 4/5; 14/16] END ......clf__n_estimators=150;, score=0.999 total time=   5.9s\n",
      "[CV 5/5; 14/16] START clf__n_estimators=150.....................................\n",
      "[CV 5/5; 14/16] END ......clf__n_estimators=150;, score=0.999 total time=   6.1s\n",
      "[CV 1/5; 15/16] START clf__n_estimators=160.....................................\n",
      "[CV 1/5; 15/16] END ......clf__n_estimators=160;, score=0.999 total time=   6.6s\n",
      "[CV 2/5; 15/16] START clf__n_estimators=160.....................................\n",
      "[CV 2/5; 15/16] END ......clf__n_estimators=160;, score=0.999 total time=   6.5s\n",
      "[CV 3/5; 15/16] START clf__n_estimators=160.....................................\n",
      "[CV 3/5; 15/16] END ......clf__n_estimators=160;, score=0.999 total time=   6.3s\n",
      "[CV 4/5; 15/16] START clf__n_estimators=160.....................................\n",
      "[CV 4/5; 15/16] END ......clf__n_estimators=160;, score=0.999 total time=   6.2s\n",
      "[CV 5/5; 15/16] START clf__n_estimators=160.....................................\n",
      "[CV 5/5; 15/16] END ......clf__n_estimators=160;, score=0.999 total time=   6.1s\n",
      "[CV 1/5; 16/16] START clf__n_estimators=170.....................................\n",
      "[CV 1/5; 16/16] END ......clf__n_estimators=170;, score=0.999 total time=   6.6s\n",
      "[CV 2/5; 16/16] START clf__n_estimators=170.....................................\n",
      "[CV 2/5; 16/16] END ......clf__n_estimators=170;, score=0.999 total time=   6.8s\n",
      "[CV 3/5; 16/16] START clf__n_estimators=170.....................................\n",
      "[CV 3/5; 16/16] END ......clf__n_estimators=170;, score=0.999 total time=   7.3s\n",
      "[CV 4/5; 16/16] START clf__n_estimators=170.....................................\n",
      "[CV 4/5; 16/16] END ......clf__n_estimators=170;, score=0.999 total time=   6.8s\n",
      "[CV 5/5; 16/16] START clf__n_estimators=170.....................................\n",
      "[CV 5/5; 16/16] END ......clf__n_estimators=170;, score=0.999 total time=   6.7s\n",
      "tuned hyperparameters :(best parameters)  {'clf__n_estimators': 170}\n",
      "accuracy : 0.9988699465523894\n"
     ]
    },
    {
     "data": {
      "image/png": "[encoded data removed]",
      "text/plain": [
       "<Figure size 640x480 with 1 Axes>"
      ]
     },
     "metadata": {},
     "output_type": "display_data"
    }
   ],
   "source": [
    "grid={\"n_estimators\":[i*10 for i in range(2, 18)]}\n",
    "model=ensemble.GradientBoostingRegressor(learning_rate=0.4)\n",
    "results = grid_search(grid, model, x, y)\n",
    "plotGridResults(results)"
   ]
  },
  {
   "cell_type": "markdown",
   "metadata": {
    "collapsed": false,
    "pycharm": {
     "name": "#%% md\n"
    }
   },
   "source": [
    "#### max_depth param"
   ]
  },
  {
   "cell_type": "code",
   "execution_count": null,
   "metadata": {
    "collapsed": false,
    "pycharm": {
     "name": "#%%\n"
    }
   },
   "outputs": [
    {
     "name": "stdout",
     "output_type": "stream",
     "text": [
      "Fitting 5 folds for each of 10 candidates, totalling 50 fits\n",
      "[CV 1/5; 1/10] START clf__max_depth=2...........................................\n",
      "[CV 1/5; 1/10] END ............clf__max_depth=2;, score=0.998 total time=   5.0s\n",
      "[CV 2/5; 1/10] START clf__max_depth=2...........................................\n",
      "[CV 2/5; 1/10] END ............clf__max_depth=2;, score=0.998 total time=   5.1s\n",
      "[CV 3/5; 1/10] START clf__max_depth=2...........................................\n",
      "[CV 3/5; 1/10] END ............clf__max_depth=2;, score=0.998 total time=   4.5s\n",
      "[CV 4/5; 1/10] START clf__max_depth=2...........................................\n",
      "[CV 4/5; 1/10] END ............clf__max_depth=2;, score=0.998 total time=   4.9s\n",
      "[CV 5/5; 1/10] START clf__max_depth=2...........................................\n",
      "[CV 5/5; 1/10] END ............clf__max_depth=2;, score=0.998 total time=   7.7s\n",
      "[CV 1/5; 2/10] START clf__max_depth=3...........................................\n",
      "[CV 1/5; 2/10] END ............clf__max_depth=3;, score=0.999 total time=   7.7s\n",
      "[CV 2/5; 2/10] START clf__max_depth=3...........................................\n",
      "[CV 2/5; 2/10] END ............clf__max_depth=3;, score=0.999 total time=   6.8s\n",
      "[CV 3/5; 2/10] START clf__max_depth=3...........................................\n",
      "[CV 3/5; 2/10] END ............clf__max_depth=3;, score=0.999 total time=   6.9s\n",
      "[CV 4/5; 2/10] START clf__max_depth=3...........................................\n",
      "[CV 4/5; 2/10] END ............clf__max_depth=3;, score=0.999 total time=   6.9s\n",
      "[CV 5/5; 2/10] START clf__max_depth=3...........................................\n",
      "[CV 5/5; 2/10] END ............clf__max_depth=3;, score=0.999 total time=   7.0s\n",
      "[CV 1/5; 3/10] START clf__max_depth=4...........................................\n",
      "[CV 1/5; 3/10] END ............clf__max_depth=4;, score=0.999 total time=   9.4s\n",
      "[CV 2/5; 3/10] START clf__max_depth=4...........................................\n",
      "[CV 2/5; 3/10] END ............clf__max_depth=4;, score=0.999 total time=  11.7s\n",
      "[CV 3/5; 3/10] START clf__max_depth=4...........................................\n",
      "[CV 3/5; 3/10] END ............clf__max_depth=4;, score=0.999 total time=   9.1s\n",
      "[CV 4/5; 3/10] START clf__max_depth=4...........................................\n",
      "[CV 4/5; 3/10] END ............clf__max_depth=4;, score=0.999 total time=   8.5s\n",
      "[CV 5/5; 3/10] START clf__max_depth=4...........................................\n",
      "[CV 5/5; 3/10] END ............clf__max_depth=4;, score=0.999 total time=   8.6s\n",
      "[CV 1/5; 4/10] START clf__max_depth=5...........................................\n",
      "[CV 1/5; 4/10] END ............clf__max_depth=5;, score=0.999 total time=  10.8s\n",
      "[CV 2/5; 4/10] START clf__max_depth=5...........................................\n",
      "[CV 2/5; 4/10] END ............clf__max_depth=5;, score=0.999 total time=  10.8s\n",
      "[CV 3/5; 4/10] START clf__max_depth=5...........................................\n",
      "[CV 3/5; 4/10] END ............clf__max_depth=5;, score=0.999 total time=  11.6s\n",
      "[CV 4/5; 4/10] START clf__max_depth=5...........................................\n",
      "[CV 4/5; 4/10] END ............clf__max_depth=5;, score=0.999 total time=  12.1s\n",
      "[CV 5/5; 4/10] START clf__max_depth=5...........................................\n",
      "[CV 5/5; 4/10] END ............clf__max_depth=5;, score=0.999 total time=  11.2s\n",
      "[CV 1/5; 5/10] START clf__max_depth=6...........................................\n",
      "[CV 1/5; 5/10] END ............clf__max_depth=6;, score=0.999 total time=  16.0s\n",
      "[CV 2/5; 5/10] START clf__max_depth=6...........................................\n",
      "[CV 2/5; 5/10] END ............clf__max_depth=6;, score=0.999 total time=  13.9s\n",
      "[CV 3/5; 5/10] START clf__max_depth=6...........................................\n",
      "[CV 3/5; 5/10] END ............clf__max_depth=6;, score=0.999 total time=  14.4s\n",
      "[CV 4/5; 5/10] START clf__max_depth=6...........................................\n",
      "[CV 4/5; 5/10] END ............clf__max_depth=6;, score=0.999 total time=  16.0s\n",
      "[CV 5/5; 5/10] START clf__max_depth=6...........................................\n",
      "[CV 5/5; 5/10] END ............clf__max_depth=6;, score=0.999 total time=  12.8s\n",
      "[CV 1/5; 6/10] START clf__max_depth=7...........................................\n",
      "[CV 1/5; 6/10] END ............clf__max_depth=7;, score=0.999 total time=  17.2s\n",
      "[CV 2/5; 6/10] START clf__max_depth=7...........................................\n",
      "[CV 2/5; 6/10] END ............clf__max_depth=7;, score=0.999 total time=  16.6s\n",
      "[CV 3/5; 6/10] START clf__max_depth=7...........................................\n",
      "[CV 3/5; 6/10] END ............clf__max_depth=7;, score=0.999 total time=  17.5s\n",
      "[CV 4/5; 6/10] START clf__max_depth=7...........................................\n",
      "[CV 4/5; 6/10] END ............clf__max_depth=7;, score=0.999 total time=  15.2s\n",
      "[CV 5/5; 6/10] START clf__max_depth=7...........................................\n",
      "[CV 5/5; 6/10] END ............clf__max_depth=7;, score=0.999 total time=  15.3s\n",
      "[CV 1/5; 7/10] START clf__max_depth=8...........................................\n",
      "[CV 1/5; 7/10] END ............clf__max_depth=8;, score=0.999 total time=  18.6s\n",
      "[CV 2/5; 7/10] START clf__max_depth=8...........................................\n",
      "[CV 2/5; 7/10] END ............clf__max_depth=8;, score=0.999 total time=  22.0s\n",
      "[CV 3/5; 7/10] START clf__max_depth=8...........................................\n",
      "[CV 3/5; 7/10] END ............clf__max_depth=8;, score=0.999 total time=  20.5s\n",
      "[CV 4/5; 7/10] START clf__max_depth=8...........................................\n",
      "[CV 4/5; 7/10] END ............clf__max_depth=8;, score=0.999 total time=  18.2s\n",
      "[CV 5/5; 7/10] START clf__max_depth=8...........................................\n",
      "[CV 5/5; 7/10] END ............clf__max_depth=8;, score=0.999 total time=  19.3s\n",
      "[CV 1/5; 8/10] START clf__max_depth=9...........................................\n",
      "[CV 1/5; 8/10] END ............clf__max_depth=9;, score=0.999 total time=  20.9s\n",
      "[CV 2/5; 8/10] START clf__max_depth=9...........................................\n",
      "[CV 2/5; 8/10] END ............clf__max_depth=9;, score=0.999 total time=  20.7s\n",
      "[CV 3/5; 8/10] START clf__max_depth=9...........................................\n",
      "[CV 3/5; 8/10] END ............clf__max_depth=9;, score=0.999 total time=  19.8s\n",
      "[CV 4/5; 8/10] START clf__max_depth=9...........................................\n",
      "[CV 4/5; 8/10] END ............clf__max_depth=9;, score=0.999 total time=  19.6s\n",
      "[CV 5/5; 8/10] START clf__max_depth=9...........................................\n",
      "[CV 5/5; 8/10] END ............clf__max_depth=9;, score=0.999 total time=  20.7s\n",
      "[CV 1/5; 9/10] START clf__max_depth=10..........................................\n",
      "[CV 1/5; 9/10] END ...........clf__max_depth=10;, score=0.999 total time=  21.3s\n",
      "[CV 2/5; 9/10] START clf__max_depth=10..........................................\n",
      "[CV 2/5; 9/10] END ...........clf__max_depth=10;, score=0.999 total time=  21.5s\n",
      "[CV 3/5; 9/10] START clf__max_depth=10..........................................\n",
      "[CV 3/5; 9/10] END ...........clf__max_depth=10;, score=0.999 total time=  21.1s\n",
      "[CV 4/5; 9/10] START clf__max_depth=10..........................................\n",
      "[CV 4/5; 9/10] END ...........clf__max_depth=10;, score=0.999 total time=  21.3s\n",
      "[CV 5/5; 9/10] START clf__max_depth=10..........................................\n",
      "[CV 5/5; 9/10] END ...........clf__max_depth=10;, score=0.999 total time=  21.5s\n",
      "[CV 1/5; 10/10] START clf__max_depth=11.........................................\n",
      "[CV 1/5; 10/10] END ..........clf__max_depth=11;, score=0.999 total time=  23.1s\n",
      "[CV 2/5; 10/10] START clf__max_depth=11.........................................\n",
      "[CV 2/5; 10/10] END ..........clf__max_depth=11;, score=0.999 total time=  24.1s\n",
      "[CV 3/5; 10/10] START clf__max_depth=11.........................................\n",
      "[CV 3/5; 10/10] END ..........clf__max_depth=11;, score=0.999 total time=  22.9s\n",
      "[CV 4/5; 10/10] START clf__max_depth=11.........................................\n",
      "[CV 4/5; 10/10] END ..........clf__max_depth=11;, score=0.999 total time=  23.4s\n",
      "[CV 5/5; 10/10] START clf__max_depth=11.........................................\n",
      "[CV 5/5; 10/10] END ..........clf__max_depth=11;, score=0.999 total time=  24.1s\n",
      "tuned hyperparameters :(best parameters)  {'clf__max_depth': 8}\n",
      "accuracy : 0.9991345100705924\n"
     ]
    },
    {
     "data": {
      "image/png": "[encoded data removed]",
      "text/plain": [
       "<Figure size 640x480 with 1 Axes>"
      ]
     },
     "metadata": {},
     "output_type": "display_data"
    }
   ],
   "source": [
    "grid={\"max_depth\":[i for i in range(2, 12)]}\n",
    "model=ensemble.GradientBoostingRegressor(learning_rate=0.4, n_estimators=170)\n",
    "results = grid_search(grid, model, x, y)\n",
    "plotGridResults(results)"
   ]
  },
  {
   "cell_type": "markdown",
   "metadata": {
    "collapsed": false,
    "pycharm": {
     "name": "#%% md\n"
    }
   },
   "source": [
    "#### max_features param"
   ]
  },
  {
   "cell_type": "code",
   "execution_count": null,
   "metadata": {
    "collapsed": false,
    "pycharm": {
     "name": "#%%\n"
    }
   },
   "outputs": [
    {
     "name": "stdout",
     "output_type": "stream",
     "text": [
      "Fitting 5 folds for each of 10 candidates, totalling 50 fits\n",
      "[CV 1/5; 1/10] START clf__max_features=0.1......................................\n",
      "[CV 1/5; 1/10] END .......clf__max_features=0.1;, score=0.989 total time=   0.5s\n",
      "[CV 2/5; 1/10] START clf__max_features=0.1......................................\n",
      "[CV 2/5; 1/10] END .......clf__max_features=0.1;, score=0.983 total time=   0.5s\n",
      "[CV 3/5; 1/10] START clf__max_features=0.1......................................\n",
      "[CV 3/5; 1/10] END .......clf__max_features=0.1;, score=0.990 total time=   0.5s\n",
      "[CV 4/5; 1/10] START clf__max_features=0.1......................................\n",
      "[CV 4/5; 1/10] END .......clf__max_features=0.1;, score=0.984 total time=   0.5s\n",
      "[CV 5/5; 1/10] START clf__max_features=0.1......................................\n",
      "[CV 5/5; 1/10] END .......clf__max_features=0.1;, score=0.995 total time=   0.5s\n",
      "[CV 1/5; 2/10] START clf__max_features=0.2......................................\n",
      "[CV 1/5; 2/10] END .......clf__max_features=0.2;, score=0.996 total time=   1.2s\n",
      "[CV 2/5; 2/10] START clf__max_features=0.2......................................\n",
      "[CV 2/5; 2/10] END .......clf__max_features=0.2;, score=0.993 total time=   1.2s\n",
      "[CV 3/5; 2/10] START clf__max_features=0.2......................................\n",
      "[CV 3/5; 2/10] END .......clf__max_features=0.2;, score=0.996 total time=   1.2s\n",
      "[CV 4/5; 2/10] START clf__max_features=0.2......................................\n",
      "[CV 4/5; 2/10] END .......clf__max_features=0.2;, score=0.997 total time=   1.2s\n",
      "[CV 5/5; 2/10] START clf__max_features=0.2......................................\n",
      "[CV 5/5; 2/10] END .......clf__max_features=0.2;, score=0.997 total time=   1.2s\n",
      "[CV 1/5; 3/10] START clf__max_features=0.3......................................\n",
      "[CV 1/5; 3/10] END .......clf__max_features=0.3;, score=0.998 total time=   2.0s\n",
      "[CV 2/5; 3/10] START clf__max_features=0.3......................................\n",
      "[CV 2/5; 3/10] END .......clf__max_features=0.3;, score=0.997 total time=   2.0s\n",
      "[CV 3/5; 3/10] START clf__max_features=0.3......................................\n",
      "[CV 3/5; 3/10] END .......clf__max_features=0.3;, score=0.998 total time=   2.1s\n",
      "[CV 4/5; 3/10] START clf__max_features=0.3......................................\n",
      "[CV 4/5; 3/10] END .......clf__max_features=0.3;, score=0.998 total time=   2.5s\n",
      "[CV 5/5; 3/10] START clf__max_features=0.3......................................\n",
      "[CV 5/5; 3/10] END .......clf__max_features=0.3;, score=0.998 total time=   2.8s\n",
      "[CV 1/5; 4/10] START clf__max_features=0.4......................................\n",
      "[CV 1/5; 4/10] END .......clf__max_features=0.4;, score=0.998 total time=   3.2s\n",
      "[CV 2/5; 4/10] START clf__max_features=0.4......................................\n",
      "[CV 2/5; 4/10] END .......clf__max_features=0.4;, score=0.998 total time=   3.8s\n",
      "[CV 3/5; 4/10] START clf__max_features=0.4......................................\n",
      "[CV 3/5; 4/10] END .......clf__max_features=0.4;, score=0.998 total time=   2.5s\n",
      "[CV 4/5; 4/10] START clf__max_features=0.4......................................\n",
      "[CV 4/5; 4/10] END .......clf__max_features=0.4;, score=0.998 total time=   2.4s\n",
      "[CV 5/5; 4/10] START clf__max_features=0.4......................................\n",
      "[CV 5/5; 4/10] END .......clf__max_features=0.4;, score=0.998 total time=   2.4s\n",
      "[CV 1/5; 5/10] START clf__max_features=0.5......................................\n",
      "[CV 1/5; 5/10] END .......clf__max_features=0.5;, score=0.999 total time=   3.2s\n",
      "[CV 2/5; 5/10] START clf__max_features=0.5......................................\n",
      "[CV 2/5; 5/10] END .......clf__max_features=0.5;, score=0.998 total time=   3.2s\n",
      "[CV 3/5; 5/10] START clf__max_features=0.5......................................\n",
      "[CV 3/5; 5/10] END .......clf__max_features=0.5;, score=0.999 total time=   3.8s\n",
      "[CV 4/5; 5/10] START clf__max_features=0.5......................................\n",
      "[CV 4/5; 5/10] END .......clf__max_features=0.5;, score=0.998 total time=   3.2s\n",
      "[CV 5/5; 5/10] START clf__max_features=0.5......................................\n",
      "[CV 5/5; 5/10] END .......clf__max_features=0.5;, score=0.999 total time=   3.2s\n",
      "[CV 1/5; 6/10] START clf__max_features=0.6......................................\n",
      "[CV 1/5; 6/10] END .......clf__max_features=0.6;, score=0.999 total time=   3.9s\n",
      "[CV 2/5; 6/10] START clf__max_features=0.6......................................\n",
      "[CV 2/5; 6/10] END .......clf__max_features=0.6;, score=0.998 total time=   4.9s\n",
      "[CV 3/5; 6/10] START clf__max_features=0.6......................................\n",
      "[CV 3/5; 6/10] END .......clf__max_features=0.6;, score=0.999 total time=   5.5s\n",
      "[CV 4/5; 6/10] START clf__max_features=0.6......................................\n",
      "[CV 4/5; 6/10] END .......clf__max_features=0.6;, score=0.999 total time=   4.7s\n",
      "[CV 5/5; 6/10] START clf__max_features=0.6......................................\n",
      "[CV 5/5; 6/10] END .......clf__max_features=0.6;, score=0.999 total time=   4.1s\n",
      "[CV 1/5; 7/10] START clf__max_features=0.7......................................\n",
      "[CV 1/5; 7/10] END .......clf__max_features=0.7;, score=0.999 total time=   4.3s\n",
      "[CV 2/5; 7/10] START clf__max_features=0.7......................................\n",
      "[CV 2/5; 7/10] END .......clf__max_features=0.7;, score=0.999 total time=   4.3s\n",
      "[CV 3/5; 7/10] START clf__max_features=0.7......................................\n",
      "[CV 3/5; 7/10] END .......clf__max_features=0.7;, score=0.999 total time=   4.3s\n",
      "[CV 4/5; 7/10] START clf__max_features=0.7......................................\n",
      "[CV 4/5; 7/10] END .......clf__max_features=0.7;, score=0.999 total time=   4.3s\n",
      "[CV 5/5; 7/10] START clf__max_features=0.7......................................\n",
      "[CV 5/5; 7/10] END .......clf__max_features=0.7;, score=0.999 total time=   4.3s\n",
      "[CV 1/5; 8/10] START clf__max_features=0.8......................................\n",
      "[CV 1/5; 8/10] END .......clf__max_features=0.8;, score=0.999 total time=   5.0s\n",
      "[CV 2/5; 8/10] START clf__max_features=0.8......................................\n",
      "[CV 2/5; 8/10] END .......clf__max_features=0.8;, score=0.999 total time=   5.0s\n",
      "[CV 3/5; 8/10] START clf__max_features=0.8......................................\n",
      "[CV 3/5; 8/10] END .......clf__max_features=0.8;, score=0.999 total time=   5.0s\n",
      "[CV 4/5; 8/10] START clf__max_features=0.8......................................\n",
      "[CV 4/5; 8/10] END .......clf__max_features=0.8;, score=0.999 total time=   4.9s\n",
      "[CV 5/5; 8/10] START clf__max_features=0.8......................................\n",
      "[CV 5/5; 8/10] END .......clf__max_features=0.8;, score=0.999 total time=   4.9s\n",
      "[CV 1/5; 9/10] START clf__max_features=0.9......................................\n",
      "[CV 1/5; 9/10] END .......clf__max_features=0.9;, score=0.999 total time=   5.8s\n",
      "[CV 2/5; 9/10] START clf__max_features=0.9......................................\n",
      "[CV 2/5; 9/10] END .......clf__max_features=0.9;, score=0.999 total time=   5.7s\n",
      "[CV 3/5; 9/10] START clf__max_features=0.9......................................\n",
      "[CV 3/5; 9/10] END .......clf__max_features=0.9;, score=0.999 total time=   5.7s\n",
      "[CV 4/5; 9/10] START clf__max_features=0.9......................................\n",
      "[CV 4/5; 9/10] END .......clf__max_features=0.9;, score=0.999 total time=   5.7s\n",
      "[CV 5/5; 9/10] START clf__max_features=0.9......................................\n",
      "[CV 5/5; 9/10] END .......clf__max_features=0.9;, score=0.999 total time=   5.7s\n",
      "[CV 1/5; 10/10] START clf__max_features=1.0.....................................\n",
      "[CV 1/5; 10/10] END ......clf__max_features=1.0;, score=0.999 total time=   6.4s\n",
      "[CV 2/5; 10/10] START clf__max_features=1.0.....................................\n",
      "[CV 2/5; 10/10] END ......clf__max_features=1.0;, score=0.999 total time=   6.4s\n",
      "[CV 3/5; 10/10] START clf__max_features=1.0.....................................\n",
      "[CV 3/5; 10/10] END ......clf__max_features=1.0;, score=0.999 total time=   7.9s\n",
      "[CV 4/5; 10/10] START clf__max_features=1.0.....................................\n",
      "[CV 4/5; 10/10] END ......clf__max_features=1.0;, score=0.999 total time=   7.7s\n",
      "[CV 5/5; 10/10] START clf__max_features=1.0.....................................\n",
      "[CV 5/5; 10/10] END ......clf__max_features=1.0;, score=0.999 total time=   7.9s\n",
      "tuned hyperparameters :(best parameters)  {'clf__max_features': 1.0}\n",
      "accuracy : 0.998874211414069\n"
     ]
    },
    {
     "data": {
      "image/png": "[encoded data removed]",
      "text/plain": [
       "<Figure size 640x480 with 1 Axes>"
      ]
     },
     "metadata": {},
     "output_type": "display_data"
    }
   ],
   "source": [
    "grid={\"max_features\":[i/10.0 for i in range(1, 11)]}\n",
    "model=ensemble.GradientBoostingRegressor(learning_rate=0.4, n_estimators=170)\n",
    "results = grid_search(grid, model, x, y)\n",
    "plotGridResults(results)"
   ]
  },
  {
   "cell_type": "markdown",
   "metadata": {
    "collapsed": false,
    "pycharm": {
     "name": "#%% md\n"
    }
   },
   "source": [
    "### Best Gradient Boosting eval"
   ]
  },
  {
   "cell_type": "code",
   "execution_count": null,
   "metadata": {
    "collapsed": false,
    "pycharm": {
     "name": "#%%\n"
    }
   },
   "outputs": [
    {
     "name": "stderr",
     "output_type": "stream",
     "text": [
      "[Parallel(n_jobs=-1)]: Using backend LokyBackend with 4 concurrent workers.\n",
      "[Parallel(n_jobs=-1)]: Done   2 out of   5 | elapsed:   27.0s remaining:   40.6s\n",
      "[Parallel(n_jobs=-1)]: Done   3 out of   5 | elapsed:   27.3s remaining:   18.2s\n"
     ]
    },
    {
     "name": "stdout",
     "output_type": "stream",
     "text": [
      "MAE:  91.57643515\n",
      "RMSE:  156.17062066\n",
      "R2:  0.99911477\n"
     ]
    },
    {
     "name": "stderr",
     "output_type": "stream",
     "text": [
      "[Parallel(n_jobs=-1)]: Done   5 out of   5 | elapsed:   44.7s remaining:    0.0s\n",
      "[Parallel(n_jobs=-1)]: Done   5 out of   5 | elapsed:   44.7s finished\n"
     ]
    }
   ],
   "source": [
    "model = ensemble.GradientBoostingRegressor(\n",
    "    n_estimators=170,\n",
    "    learning_rate=0.4,\n",
    "    max_depth=8,\n",
    "    max_features=None\n",
    ")\n",
    "model_cv_rapport(model, x, y)"
   ]
  },
  {
   "cell_type": "markdown",
   "metadata": {
    "collapsed": false,
    "pycharm": {
     "name": "#%% md\n"
    }
   },
   "source": [
    "## XG Boosting"
   ]
  },
  {
   "cell_type": "code",
   "execution_count": null,
   "metadata": {
    "collapsed": false,
    "pycharm": {
     "name": "#%%\n"
    }
   },
   "outputs": [],
   "source": [
    "from xgboost import XGBRegressor"
   ]
  },
  {
   "cell_type": "code",
   "execution_count": null,
   "metadata": {
    "collapsed": false,
    "pycharm": {
     "name": "#%%\n"
    }
   },
   "outputs": [
    {
     "name": "stdout",
     "output_type": "stream",
     "text": [
      "XGB --------------------------------------\n",
      "r2_score: 0.99925\n",
      "mean squared error: 21193.85104\n",
      "root mean squared error: 145.58108\n",
      "mean absolute error: 94.65452\n"
     ]
    },
    {
     "data": {
      "text/plain": [
       "0.99925"
      ]
     },
     "execution_count": 42,
     "metadata": {},
     "output_type": "execute_result"
    }
   ],
   "source": [
    "model = XGBRegressor()\n",
    "model.fit(x_train, y_train)\n",
    "model_rapport(\"XGB\", model, y_test, x_test)"
   ]
  },
  {
   "cell_type": "markdown",
   "metadata": {
    "collapsed": false,
    "pycharm": {
     "name": "#%% md\n"
    }
   },
   "source": [
    "### Hyperparameters - XG Boost\n",
    "#### learning_rate param"
   ]
  },
  {
   "cell_type": "code",
   "execution_count": null,
   "metadata": {
    "collapsed": false,
    "pycharm": {
     "name": "#%%\n"
    }
   },
   "outputs": [
    {
     "name": "stdout",
     "output_type": "stream",
     "text": [
      "Fitting 5 folds for each of 16 candidates, totalling 80 fits\n",
      "[CV 1/5; 1/16] START clf__learning_rate=0.05....................................\n",
      "[CV 1/5; 1/16] END .....clf__learning_rate=0.05;, score=0.998 total time=   0.7s\n",
      "[CV 2/5; 1/16] START clf__learning_rate=0.05....................................\n",
      "[CV 2/5; 1/16] END .....clf__learning_rate=0.05;, score=0.998 total time=   1.7s\n",
      "[CV 3/5; 1/16] START clf__learning_rate=0.05....................................\n",
      "[CV 3/5; 1/16] END .....clf__learning_rate=0.05;, score=0.998 total time=   1.2s\n",
      "[CV 4/5; 1/16] START clf__learning_rate=0.05....................................\n",
      "[CV 4/5; 1/16] END .....clf__learning_rate=0.05;, score=0.998 total time=   0.9s\n",
      "[CV 5/5; 1/16] START clf__learning_rate=0.05....................................\n",
      "[CV 5/5; 1/16] END .....clf__learning_rate=0.05;, score=0.998 total time=   0.9s\n",
      "[CV 1/5; 2/16] START clf__learning_rate=0.1.....................................\n",
      "[CV 1/5; 2/16] END ......clf__learning_rate=0.1;, score=0.999 total time=   0.9s\n",
      "[CV 2/5; 2/16] START clf__learning_rate=0.1.....................................\n",
      "[CV 2/5; 2/16] END ......clf__learning_rate=0.1;, score=0.999 total time=   0.8s\n",
      "[CV 3/5; 2/16] START clf__learning_rate=0.1.....................................\n",
      "[CV 3/5; 2/16] END ......clf__learning_rate=0.1;, score=0.999 total time=   0.8s\n",
      "[CV 4/5; 2/16] START clf__learning_rate=0.1.....................................\n",
      "[CV 4/5; 2/16] END ......clf__learning_rate=0.1;, score=0.999 total time=   0.8s\n",
      "[CV 5/5; 2/16] START clf__learning_rate=0.1.....................................\n",
      "[CV 5/5; 2/16] END ......clf__learning_rate=0.1;, score=0.999 total time=   0.9s\n",
      "[CV 1/5; 3/16] START clf__learning_rate=0.15....................................\n",
      "[CV 1/5; 3/16] END .....clf__learning_rate=0.15;, score=0.999 total time=   0.9s\n",
      "[CV 2/5; 3/16] START clf__learning_rate=0.15....................................\n",
      "[CV 2/5; 3/16] END .....clf__learning_rate=0.15;, score=0.999 total time=   0.8s\n",
      "[CV 3/5; 3/16] START clf__learning_rate=0.15....................................\n",
      "[CV 3/5; 3/16] END .....clf__learning_rate=0.15;, score=0.999 total time=   0.8s\n",
      "[CV 4/5; 3/16] START clf__learning_rate=0.15....................................\n",
      "[CV 4/5; 3/16] END .....clf__learning_rate=0.15;, score=0.999 total time=   0.8s\n",
      "[CV 5/5; 3/16] START clf__learning_rate=0.15....................................\n",
      "[CV 5/5; 3/16] END .....clf__learning_rate=0.15;, score=0.999 total time=   0.9s\n",
      "[CV 1/5; 4/16] START clf__learning_rate=0.2.....................................\n",
      "[CV 1/5; 4/16] END ......clf__learning_rate=0.2;, score=0.999 total time=   0.8s\n",
      "[CV 2/5; 4/16] START clf__learning_rate=0.2.....................................\n",
      "[CV 2/5; 4/16] END ......clf__learning_rate=0.2;, score=0.999 total time=   0.9s\n",
      "[CV 3/5; 4/16] START clf__learning_rate=0.2.....................................\n",
      "[CV 3/5; 4/16] END ......clf__learning_rate=0.2;, score=0.999 total time=   1.0s\n",
      "[CV 4/5; 4/16] START clf__learning_rate=0.2.....................................\n",
      "[CV 4/5; 4/16] END ......clf__learning_rate=0.2;, score=0.999 total time=   0.9s\n",
      "[CV 5/5; 4/16] START clf__learning_rate=0.2.....................................\n",
      "[CV 5/5; 4/16] END ......clf__learning_rate=0.2;, score=0.999 total time=   0.9s\n",
      "[CV 1/5; 5/16] START clf__learning_rate=0.25....................................\n",
      "[CV 1/5; 5/16] END .....clf__learning_rate=0.25;, score=0.999 total time=   0.8s\n",
      "[CV 2/5; 5/16] START clf__learning_rate=0.25....................................\n",
      "[CV 2/5; 5/16] END .....clf__learning_rate=0.25;, score=0.999 total time=   0.8s\n",
      "[CV 3/5; 5/16] START clf__learning_rate=0.25....................................\n",
      "[CV 3/5; 5/16] END .....clf__learning_rate=0.25;, score=0.999 total time=   0.9s\n",
      "[CV 4/5; 5/16] START clf__learning_rate=0.25....................................\n",
      "[CV 4/5; 5/16] END .....clf__learning_rate=0.25;, score=0.999 total time=   0.8s\n",
      "[CV 5/5; 5/16] START clf__learning_rate=0.25....................................\n",
      "[CV 5/5; 5/16] END .....clf__learning_rate=0.25;, score=0.999 total time=   0.9s\n",
      "[CV 1/5; 6/16] START clf__learning_rate=0.3.....................................\n",
      "[CV 1/5; 6/16] END ......clf__learning_rate=0.3;, score=0.999 total time=   0.8s\n",
      "[CV 2/5; 6/16] START clf__learning_rate=0.3.....................................\n",
      "[CV 2/5; 6/16] END ......clf__learning_rate=0.3;, score=0.999 total time=   0.8s\n",
      "[CV 3/5; 6/16] START clf__learning_rate=0.3.....................................\n",
      "[CV 3/5; 6/16] END ......clf__learning_rate=0.3;, score=0.999 total time=   0.8s\n",
      "[CV 4/5; 6/16] START clf__learning_rate=0.3.....................................\n",
      "[CV 4/5; 6/16] END ......clf__learning_rate=0.3;, score=0.999 total time=   0.8s\n",
      "[CV 5/5; 6/16] START clf__learning_rate=0.3.....................................\n",
      "[CV 5/5; 6/16] END ......clf__learning_rate=0.3;, score=0.999 total time=   0.8s\n",
      "[CV 1/5; 7/16] START clf__learning_rate=0.35....................................\n",
      "[CV 1/5; 7/16] END .....clf__learning_rate=0.35;, score=0.999 total time=   0.8s\n",
      "[CV 2/5; 7/16] START clf__learning_rate=0.35....................................\n",
      "[CV 2/5; 7/16] END .....clf__learning_rate=0.35;, score=0.999 total time=   0.8s\n",
      "[CV 3/5; 7/16] START clf__learning_rate=0.35....................................\n",
      "[CV 3/5; 7/16] END .....clf__learning_rate=0.35;, score=0.999 total time=   0.8s\n",
      "[CV 4/5; 7/16] START clf__learning_rate=0.35....................................\n",
      "[CV 4/5; 7/16] END .....clf__learning_rate=0.35;, score=0.999 total time=   0.8s\n",
      "[CV 5/5; 7/16] START clf__learning_rate=0.35....................................\n",
      "[CV 5/5; 7/16] END .....clf__learning_rate=0.35;, score=0.999 total time=   0.8s\n",
      "[CV 1/5; 8/16] START clf__learning_rate=0.4.....................................\n",
      "[CV 1/5; 8/16] END ......clf__learning_rate=0.4;, score=0.999 total time=   0.9s\n",
      "[CV 2/5; 8/16] START clf__learning_rate=0.4.....................................\n",
      "[CV 2/5; 8/16] END ......clf__learning_rate=0.4;, score=0.999 total time=   0.9s\n",
      "[CV 3/5; 8/16] START clf__learning_rate=0.4.....................................\n",
      "[CV 3/5; 8/16] END ......clf__learning_rate=0.4;, score=0.999 total time=   0.9s\n",
      "[CV 4/5; 8/16] START clf__learning_rate=0.4.....................................\n",
      "[CV 4/5; 8/16] END ......clf__learning_rate=0.4;, score=0.999 total time=   0.8s\n",
      "[CV 5/5; 8/16] START clf__learning_rate=0.4.....................................\n",
      "[CV 5/5; 8/16] END ......clf__learning_rate=0.4;, score=0.999 total time=   0.8s\n",
      "[CV 1/5; 9/16] START clf__learning_rate=0.45....................................\n",
      "[CV 1/5; 9/16] END .....clf__learning_rate=0.45;, score=0.999 total time=   0.8s\n",
      "[CV 2/5; 9/16] START clf__learning_rate=0.45....................................\n",
      "[CV 2/5; 9/16] END .....clf__learning_rate=0.45;, score=0.999 total time=   1.3s\n",
      "[CV 3/5; 9/16] START clf__learning_rate=0.45....................................\n",
      "[CV 3/5; 9/16] END .....clf__learning_rate=0.45;, score=0.999 total time=   0.8s\n",
      "[CV 4/5; 9/16] START clf__learning_rate=0.45....................................\n",
      "[CV 4/5; 9/16] END .....clf__learning_rate=0.45;, score=0.999 total time=   0.9s\n",
      "[CV 5/5; 9/16] START clf__learning_rate=0.45....................................\n",
      "[CV 5/5; 9/16] END .....clf__learning_rate=0.45;, score=0.999 total time=   0.8s\n",
      "[CV 1/5; 10/16] START clf__learning_rate=0.5....................................\n",
      "[CV 1/5; 10/16] END .....clf__learning_rate=0.5;, score=0.999 total time=   0.9s\n",
      "[CV 2/5; 10/16] START clf__learning_rate=0.5....................................\n",
      "[CV 2/5; 10/16] END .....clf__learning_rate=0.5;, score=0.999 total time=   0.8s\n",
      "[CV 3/5; 10/16] START clf__learning_rate=0.5....................................\n",
      "[CV 3/5; 10/16] END .....clf__learning_rate=0.5;, score=0.999 total time=   0.8s\n",
      "[CV 4/5; 10/16] START clf__learning_rate=0.5....................................\n",
      "[CV 4/5; 10/16] END .....clf__learning_rate=0.5;, score=0.999 total time=   0.9s\n",
      "[CV 5/5; 10/16] START clf__learning_rate=0.5....................................\n",
      "[CV 5/5; 10/16] END .....clf__learning_rate=0.5;, score=0.999 total time=   0.9s\n",
      "[CV 1/5; 11/16] START clf__learning_rate=0.55...................................\n",
      "[CV 1/5; 11/16] END ....clf__learning_rate=0.55;, score=0.999 total time=   1.5s\n",
      "[CV 2/5; 11/16] START clf__learning_rate=0.55...................................\n",
      "[CV 2/5; 11/16] END ....clf__learning_rate=0.55;, score=0.999 total time=   1.2s\n",
      "[CV 3/5; 11/16] START clf__learning_rate=0.55...................................\n",
      "[CV 3/5; 11/16] END ....clf__learning_rate=0.55;, score=0.999 total time=   1.2s\n",
      "[CV 4/5; 11/16] START clf__learning_rate=0.55...................................\n",
      "[CV 4/5; 11/16] END ....clf__learning_rate=0.55;, score=0.999 total time=   1.3s\n",
      "[CV 5/5; 11/16] START clf__learning_rate=0.55...................................\n",
      "[CV 5/5; 11/16] END ....clf__learning_rate=0.55;, score=0.999 total time=   1.4s\n",
      "[CV 1/5; 12/16] START clf__learning_rate=0.6....................................\n",
      "[CV 1/5; 12/16] END .....clf__learning_rate=0.6;, score=0.999 total time=   1.6s\n",
      "[CV 2/5; 12/16] START clf__learning_rate=0.6....................................\n",
      "[CV 2/5; 12/16] END .....clf__learning_rate=0.6;, score=0.999 total time=   0.9s\n",
      "[CV 3/5; 12/16] START clf__learning_rate=0.6....................................\n",
      "[CV 3/5; 12/16] END .....clf__learning_rate=0.6;, score=0.999 total time=   0.8s\n",
      "[CV 4/5; 12/16] START clf__learning_rate=0.6....................................\n",
      "[CV 4/5; 12/16] END .....clf__learning_rate=0.6;, score=0.999 total time=   0.9s\n",
      "[CV 5/5; 12/16] START clf__learning_rate=0.6....................................\n",
      "[CV 5/5; 12/16] END .....clf__learning_rate=0.6;, score=0.999 total time=   0.9s\n",
      "[CV 1/5; 13/16] START clf__learning_rate=0.65...................................\n",
      "[CV 1/5; 13/16] END ....clf__learning_rate=0.65;, score=0.999 total time=   0.8s\n",
      "[CV 2/5; 13/16] START clf__learning_rate=0.65...................................\n",
      "[CV 2/5; 13/16] END ....clf__learning_rate=0.65;, score=0.999 total time=   0.8s\n",
      "[CV 3/5; 13/16] START clf__learning_rate=0.65...................................\n",
      "[CV 3/5; 13/16] END ....clf__learning_rate=0.65;, score=0.999 total time=   1.5s\n",
      "[CV 4/5; 13/16] START clf__learning_rate=0.65...................................\n",
      "[CV 4/5; 13/16] END ....clf__learning_rate=0.65;, score=0.999 total time=   1.0s\n",
      "[CV 5/5; 13/16] START clf__learning_rate=0.65...................................\n",
      "[CV 5/5; 13/16] END ....clf__learning_rate=0.65;, score=0.998 total time=   0.9s\n",
      "[CV 1/5; 14/16] START clf__learning_rate=0.7....................................\n",
      "[CV 1/5; 14/16] END .....clf__learning_rate=0.7;, score=0.999 total time=   1.1s\n",
      "[CV 2/5; 14/16] START clf__learning_rate=0.7....................................\n",
      "[CV 2/5; 14/16] END .....clf__learning_rate=0.7;, score=0.999 total time=   0.9s\n",
      "[CV 3/5; 14/16] START clf__learning_rate=0.7....................................\n",
      "[CV 3/5; 14/16] END .....clf__learning_rate=0.7;, score=0.998 total time=   0.9s\n",
      "[CV 4/5; 14/16] START clf__learning_rate=0.7....................................\n",
      "[CV 4/5; 14/16] END .....clf__learning_rate=0.7;, score=0.998 total time=   0.9s\n",
      "[CV 5/5; 14/16] START clf__learning_rate=0.7....................................\n",
      "[CV 5/5; 14/16] END .....clf__learning_rate=0.7;, score=0.999 total time=   0.8s\n",
      "[CV 1/5; 15/16] START clf__learning_rate=0.75...................................\n",
      "[CV 1/5; 15/16] END ....clf__learning_rate=0.75;, score=0.998 total time=   0.8s\n",
      "[CV 2/5; 15/16] START clf__learning_rate=0.75...................................\n",
      "[CV 2/5; 15/16] END ....clf__learning_rate=0.75;, score=0.999 total time=   1.0s\n",
      "[CV 3/5; 15/16] START clf__learning_rate=0.75...................................\n",
      "[CV 3/5; 15/16] END ....clf__learning_rate=0.75;, score=0.998 total time=   1.0s\n",
      "[CV 4/5; 15/16] START clf__learning_rate=0.75...................................\n",
      "[CV 4/5; 15/16] END ....clf__learning_rate=0.75;, score=0.999 total time=   0.9s\n",
      "[CV 5/5; 15/16] START clf__learning_rate=0.75...................................\n",
      "[CV 5/5; 15/16] END ....clf__learning_rate=0.75;, score=0.998 total time=   0.9s\n",
      "[CV 1/5; 16/16] START clf__learning_rate=0.8....................................\n",
      "[CV 1/5; 16/16] END .....clf__learning_rate=0.8;, score=0.998 total time=   0.8s\n",
      "[CV 2/5; 16/16] START clf__learning_rate=0.8....................................\n",
      "[CV 2/5; 16/16] END .....clf__learning_rate=0.8;, score=0.999 total time=   0.8s\n",
      "[CV 3/5; 16/16] START clf__learning_rate=0.8....................................\n",
      "[CV 3/5; 16/16] END .....clf__learning_rate=0.8;, score=0.998 total time=   0.8s\n",
      "[CV 4/5; 16/16] START clf__learning_rate=0.8....................................\n",
      "[CV 4/5; 16/16] END .....clf__learning_rate=0.8;, score=0.998 total time=   0.8s\n",
      "[CV 5/5; 16/16] START clf__learning_rate=0.8....................................\n",
      "[CV 5/5; 16/16] END .....clf__learning_rate=0.8;, score=0.998 total time=   0.9s\n",
      "tuned hyperparameters :(best parameters)  {'clf__learning_rate': 0.2}\n",
      "accuracy : 0.999249535914864\n"
     ]
    },
    {
     "data": {
      "image/png": "[encoded data removed]",
      "text/plain": [
       "<Figure size 640x480 with 1 Axes>"
      ]
     },
     "metadata": {},
     "output_type": "display_data"
    }
   ],
   "source": [
    "grid={\"learning_rate\":[i*5/100.0 for i in range(1, 17)]}\n",
    "model=XGBRegressor()\n",
    "results = grid_search(grid, model, x, y)\n",
    "plotGridResults(results)"
   ]
  },
  {
   "cell_type": "markdown",
   "metadata": {
    "collapsed": false,
    "pycharm": {
     "name": "#%% md\n"
    }
   },
   "source": [
    "#### n_estimators param"
   ]
  },
  {
   "cell_type": "code",
   "execution_count": null,
   "metadata": {
    "collapsed": false,
    "pycharm": {
     "name": "#%%\n"
    }
   },
   "outputs": [
    {
     "name": "stdout",
     "output_type": "stream",
     "text": [
      "Fitting 5 folds for each of 15 candidates, totalling 75 fits\n",
      "[CV 1/5; 1/15] START clf__n_estimators=30.......................................\n",
      "[CV 1/5; 1/15] END ........clf__n_estimators=30;, score=0.999 total time=   0.9s\n",
      "[CV 2/5; 1/15] START clf__n_estimators=30.......................................\n",
      "[CV 2/5; 1/15] END ........clf__n_estimators=30;, score=0.999 total time=   0.3s\n",
      "[CV 3/5; 1/15] START clf__n_estimators=30.......................................\n",
      "[CV 3/5; 1/15] END ........clf__n_estimators=30;, score=0.999 total time=   0.4s\n",
      "[CV 4/5; 1/15] START clf__n_estimators=30.......................................\n",
      "[CV 4/5; 1/15] END ........clf__n_estimators=30;, score=0.999 total time=   0.4s\n",
      "[CV 5/5; 1/15] START clf__n_estimators=30.......................................\n",
      "[CV 5/5; 1/15] END ........clf__n_estimators=30;, score=0.999 total time=   0.4s\n",
      "[CV 1/5; 2/15] START clf__n_estimators=40.......................................\n",
      "[CV 1/5; 2/15] END ........clf__n_estimators=40;, score=0.999 total time=   0.7s\n",
      "[CV 2/5; 2/15] START clf__n_estimators=40.......................................\n",
      "[CV 2/5; 2/15] END ........clf__n_estimators=40;, score=0.999 total time=   1.1s\n",
      "[CV 3/5; 2/15] START clf__n_estimators=40.......................................\n",
      "[CV 3/5; 2/15] END ........clf__n_estimators=40;, score=0.999 total time=   0.3s\n",
      "[CV 4/5; 2/15] START clf__n_estimators=40.......................................\n",
      "[CV 4/5; 2/15] END ........clf__n_estimators=40;, score=0.999 total time=   0.3s\n",
      "[CV 5/5; 2/15] START clf__n_estimators=40.......................................\n",
      "[CV 5/5; 2/15] END ........clf__n_estimators=40;, score=0.999 total time=   0.3s\n",
      "[CV 1/5; 3/15] START clf__n_estimators=50.......................................\n",
      "[CV 1/5; 3/15] END ........clf__n_estimators=50;, score=0.999 total time=   0.4s\n",
      "[CV 2/5; 3/15] START clf__n_estimators=50.......................................\n",
      "[CV 2/5; 3/15] END ........clf__n_estimators=50;, score=0.999 total time=   0.4s\n",
      "[CV 3/5; 3/15] START clf__n_estimators=50.......................................\n",
      "[CV 3/5; 3/15] END ........clf__n_estimators=50;, score=0.999 total time=   0.6s\n",
      "[CV 4/5; 3/15] START clf__n_estimators=50.......................................\n",
      "[CV 4/5; 3/15] END ........clf__n_estimators=50;, score=0.999 total time=   0.4s\n",
      "[CV 5/5; 3/15] START clf__n_estimators=50.......................................\n",
      "[CV 5/5; 3/15] END ........clf__n_estimators=50;, score=0.999 total time=   0.5s\n",
      "[CV 1/5; 4/15] START clf__n_estimators=60.......................................\n",
      "[CV 1/5; 4/15] END ........clf__n_estimators=60;, score=0.999 total time=   0.5s\n",
      "[CV 2/5; 4/15] START clf__n_estimators=60.......................................\n",
      "[CV 2/5; 4/15] END ........clf__n_estimators=60;, score=0.999 total time=   0.6s\n",
      "[CV 3/5; 4/15] START clf__n_estimators=60.......................................\n",
      "[CV 3/5; 4/15] END ........clf__n_estimators=60;, score=0.999 total time=   0.5s\n",
      "[CV 4/5; 4/15] START clf__n_estimators=60.......................................\n",
      "[CV 4/5; 4/15] END ........clf__n_estimators=60;, score=0.999 total time=   0.5s\n",
      "[CV 5/5; 4/15] START clf__n_estimators=60.......................................\n",
      "[CV 5/5; 4/15] END ........clf__n_estimators=60;, score=0.999 total time=   0.5s\n",
      "[CV 1/5; 5/15] START clf__n_estimators=70.......................................\n",
      "[CV 1/5; 5/15] END ........clf__n_estimators=70;, score=0.999 total time=   0.6s\n",
      "[CV 2/5; 5/15] START clf__n_estimators=70.......................................\n",
      "[CV 2/5; 5/15] END ........clf__n_estimators=70;, score=0.999 total time=   0.8s\n",
      "[CV 3/5; 5/15] START clf__n_estimators=70.......................................\n",
      "[CV 3/5; 5/15] END ........clf__n_estimators=70;, score=0.999 total time=   1.8s\n",
      "[CV 4/5; 5/15] START clf__n_estimators=70.......................................\n",
      "[CV 4/5; 5/15] END ........clf__n_estimators=70;, score=0.999 total time=   1.4s\n",
      "[CV 5/5; 5/15] START clf__n_estimators=70.......................................\n",
      "[CV 5/5; 5/15] END ........clf__n_estimators=70;, score=0.999 total time=   0.6s\n",
      "[CV 1/5; 6/15] START clf__n_estimators=80.......................................\n",
      "[CV 1/5; 6/15] END ........clf__n_estimators=80;, score=0.999 total time=   1.5s\n",
      "[CV 2/5; 6/15] START clf__n_estimators=80.......................................\n",
      "[CV 2/5; 6/15] END ........clf__n_estimators=80;, score=0.999 total time=   1.4s\n",
      "[CV 3/5; 6/15] START clf__n_estimators=80.......................................\n",
      "[CV 3/5; 6/15] END ........clf__n_estimators=80;, score=0.999 total time=   0.7s\n",
      "[CV 4/5; 6/15] START clf__n_estimators=80.......................................\n",
      "[CV 4/5; 6/15] END ........clf__n_estimators=80;, score=0.999 total time=   0.8s\n",
      "[CV 5/5; 6/15] START clf__n_estimators=80.......................................\n",
      "[CV 5/5; 6/15] END ........clf__n_estimators=80;, score=0.999 total time=   0.7s\n",
      "[CV 1/5; 7/15] START clf__n_estimators=90.......................................\n",
      "[CV 1/5; 7/15] END ........clf__n_estimators=90;, score=0.999 total time=   0.8s\n",
      "[CV 2/5; 7/15] START clf__n_estimators=90.......................................\n",
      "[CV 2/5; 7/15] END ........clf__n_estimators=90;, score=0.999 total time=   0.8s\n",
      "[CV 3/5; 7/15] START clf__n_estimators=90.......................................\n",
      "[CV 3/5; 7/15] END ........clf__n_estimators=90;, score=0.999 total time=   1.0s\n",
      "[CV 4/5; 7/15] START clf__n_estimators=90.......................................\n",
      "[CV 4/5; 7/15] END ........clf__n_estimators=90;, score=0.999 total time=   0.8s\n",
      "[CV 5/5; 7/15] START clf__n_estimators=90.......................................\n",
      "[CV 5/5; 7/15] END ........clf__n_estimators=90;, score=0.999 total time=   0.9s\n",
      "[CV 1/5; 8/15] START clf__n_estimators=100......................................\n",
      "[CV 1/5; 8/15] END .......clf__n_estimators=100;, score=0.999 total time=   0.9s\n",
      "[CV 2/5; 8/15] START clf__n_estimators=100......................................\n",
      "[CV 2/5; 8/15] END .......clf__n_estimators=100;, score=0.999 total time=   0.8s\n",
      "[CV 3/5; 8/15] START clf__n_estimators=100......................................\n",
      "[CV 3/5; 8/15] END .......clf__n_estimators=100;, score=0.999 total time=   1.3s\n",
      "[CV 4/5; 8/15] START clf__n_estimators=100......................................\n",
      "[CV 4/5; 8/15] END .......clf__n_estimators=100;, score=0.999 total time=   1.6s\n",
      "[CV 5/5; 8/15] START clf__n_estimators=100......................................\n",
      "[CV 5/5; 8/15] END .......clf__n_estimators=100;, score=0.999 total time=   2.1s\n",
      "[CV 1/5; 9/15] START clf__n_estimators=110......................................\n",
      "[CV 1/5; 9/15] END .......clf__n_estimators=110;, score=0.999 total time=   1.4s\n",
      "[CV 2/5; 9/15] START clf__n_estimators=110......................................\n",
      "[CV 2/5; 9/15] END .......clf__n_estimators=110;, score=0.999 total time=   2.2s\n",
      "[CV 3/5; 9/15] START clf__n_estimators=110......................................\n",
      "[CV 3/5; 9/15] END .......clf__n_estimators=110;, score=0.999 total time=   1.5s\n",
      "[CV 4/5; 9/15] START clf__n_estimators=110......................................\n",
      "[CV 4/5; 9/15] END .......clf__n_estimators=110;, score=0.999 total time=   1.4s\n",
      "[CV 5/5; 9/15] START clf__n_estimators=110......................................\n",
      "[CV 5/5; 9/15] END .......clf__n_estimators=110;, score=0.999 total time=   1.7s\n",
      "[CV 1/5; 10/15] START clf__n_estimators=120.....................................\n",
      "[CV 1/5; 10/15] END ......clf__n_estimators=120;, score=0.999 total time=   1.1s\n",
      "[CV 2/5; 10/15] START clf__n_estimators=120.....................................\n",
      "[CV 2/5; 10/15] END ......clf__n_estimators=120;, score=0.999 total time=   1.1s\n",
      "[CV 3/5; 10/15] START clf__n_estimators=120.....................................\n",
      "[CV 3/5; 10/15] END ......clf__n_estimators=120;, score=0.999 total time=   1.1s\n",
      "[CV 4/5; 10/15] START clf__n_estimators=120.....................................\n",
      "[CV 4/5; 10/15] END ......clf__n_estimators=120;, score=0.999 total time=   1.1s\n",
      "[CV 5/5; 10/15] START clf__n_estimators=120.....................................\n",
      "[CV 5/5; 10/15] END ......clf__n_estimators=120;, score=0.999 total time=   1.3s\n",
      "[CV 1/5; 11/15] START clf__n_estimators=130.....................................\n",
      "[CV 1/5; 11/15] END ......clf__n_estimators=130;, score=0.999 total time=   1.1s\n",
      "[CV 2/5; 11/15] START clf__n_estimators=130.....................................\n",
      "[CV 2/5; 11/15] END ......clf__n_estimators=130;, score=0.999 total time=   2.1s\n",
      "[CV 3/5; 11/15] START clf__n_estimators=130.....................................\n",
      "[CV 3/5; 11/15] END ......clf__n_estimators=130;, score=0.999 total time=   2.6s\n",
      "[CV 4/5; 11/15] START clf__n_estimators=130.....................................\n",
      "[CV 4/5; 11/15] END ......clf__n_estimators=130;, score=0.999 total time=   1.1s\n",
      "[CV 5/5; 11/15] START clf__n_estimators=130.....................................\n",
      "[CV 5/5; 11/15] END ......clf__n_estimators=130;, score=0.999 total time=   1.1s\n",
      "[CV 1/5; 12/15] START clf__n_estimators=140.....................................\n",
      "[CV 1/5; 12/15] END ......clf__n_estimators=140;, score=0.999 total time=   1.2s\n",
      "[CV 2/5; 12/15] START clf__n_estimators=140.....................................\n",
      "[CV 2/5; 12/15] END ......clf__n_estimators=140;, score=0.999 total time=   1.2s\n",
      "[CV 3/5; 12/15] START clf__n_estimators=140.....................................\n",
      "[CV 3/5; 12/15] END ......clf__n_estimators=140;, score=0.999 total time=   1.2s\n",
      "[CV 4/5; 12/15] START clf__n_estimators=140.....................................\n",
      "[CV 4/5; 12/15] END ......clf__n_estimators=140;, score=0.999 total time=   1.2s\n",
      "[CV 5/5; 12/15] START clf__n_estimators=140.....................................\n",
      "[CV 5/5; 12/15] END ......clf__n_estimators=140;, score=0.999 total time=   1.4s\n",
      "[CV 1/5; 13/15] START clf__n_estimators=150.....................................\n",
      "[CV 1/5; 13/15] END ......clf__n_estimators=150;, score=0.999 total time=   1.3s\n",
      "[CV 2/5; 13/15] START clf__n_estimators=150.....................................\n",
      "[CV 2/5; 13/15] END ......clf__n_estimators=150;, score=0.999 total time=   1.3s\n",
      "[CV 3/5; 13/15] START clf__n_estimators=150.....................................\n",
      "[CV 3/5; 13/15] END ......clf__n_estimators=150;, score=0.999 total time=   1.2s\n",
      "[CV 4/5; 13/15] START clf__n_estimators=150.....................................\n",
      "[CV 4/5; 13/15] END ......clf__n_estimators=150;, score=0.999 total time=   1.4s\n",
      "[CV 5/5; 13/15] START clf__n_estimators=150.....................................\n",
      "[CV 5/5; 13/15] END ......clf__n_estimators=150;, score=0.999 total time=   1.3s\n",
      "[CV 1/5; 14/15] START clf__n_estimators=160.....................................\n",
      "[CV 1/5; 14/15] END ......clf__n_estimators=160;, score=0.999 total time=   1.3s\n",
      "[CV 2/5; 14/15] START clf__n_estimators=160.....................................\n",
      "[CV 2/5; 14/15] END ......clf__n_estimators=160;, score=0.999 total time=   1.4s\n",
      "[CV 3/5; 14/15] START clf__n_estimators=160.....................................\n",
      "[CV 3/5; 14/15] END ......clf__n_estimators=160;, score=0.999 total time=   1.5s\n",
      "[CV 4/5; 14/15] START clf__n_estimators=160.....................................\n",
      "[CV 4/5; 14/15] END ......clf__n_estimators=160;, score=0.999 total time=   1.5s\n",
      "[CV 5/5; 14/15] START clf__n_estimators=160.....................................\n",
      "[CV 5/5; 14/15] END ......clf__n_estimators=160;, score=0.999 total time=   1.4s\n",
      "[CV 1/5; 15/15] START clf__n_estimators=170.....................................\n",
      "[CV 1/5; 15/15] END ......clf__n_estimators=170;, score=0.999 total time=   1.4s\n",
      "[CV 2/5; 15/15] START clf__n_estimators=170.....................................\n",
      "[CV 2/5; 15/15] END ......clf__n_estimators=170;, score=0.999 total time=   1.4s\n",
      "[CV 3/5; 15/15] START clf__n_estimators=170.....................................\n",
      "[CV 3/5; 15/15] END ......clf__n_estimators=170;, score=0.999 total time=   1.6s\n",
      "[CV 4/5; 15/15] START clf__n_estimators=170.....................................\n",
      "[CV 4/5; 15/15] END ......clf__n_estimators=170;, score=0.999 total time=   1.4s\n",
      "[CV 5/5; 15/15] START clf__n_estimators=170.....................................\n",
      "[CV 5/5; 15/15] END ......clf__n_estimators=170;, score=0.999 total time=   1.4s\n",
      "tuned hyperparameters :(best parameters)  {'clf__n_estimators': 170}\n",
      "accuracy : 0.9993139964402706\n"
     ]
    },
    {
     "data": {
      "image/png": "[encoded data removed]",
      "text/plain": [
       "<Figure size 640x480 with 1 Axes>"
      ]
     },
     "metadata": {},
     "output_type": "display_data"
    }
   ],
   "source": [
    "grid={\"n_estimators\":[i*10 for i in range(3, 18)]}\n",
    "model=XGBRegressor(learning_rate=0.2)\n",
    "results = grid_search(grid, model, x, y)\n",
    "plotGridResults(results)"
   ]
  },
  {
   "cell_type": "code",
   "execution_count": null,
   "metadata": {
    "collapsed": false,
    "pycharm": {
     "name": "#%%\n"
    }
   },
   "outputs": [
    {
     "name": "stdout",
     "output_type": "stream",
     "text": [
      "Fitting 5 folds for each of 10 candidates, totalling 50 fits\n",
      "[CV 1/5; 1/10] START clf__n_estimators=150......................................\n",
      "[CV 1/5; 1/10] END .......clf__n_estimators=150;, score=0.999 total time=   2.9s\n",
      "[CV 2/5; 1/10] START clf__n_estimators=150......................................\n",
      "[CV 2/5; 1/10] END .......clf__n_estimators=150;, score=0.999 total time=   3.0s\n",
      "[CV 3/5; 1/10] START clf__n_estimators=150......................................\n",
      "[CV 3/5; 1/10] END .......clf__n_estimators=150;, score=0.999 total time=   1.4s\n",
      "[CV 4/5; 1/10] START clf__n_estimators=150......................................\n",
      "[CV 4/5; 1/10] END .......clf__n_estimators=150;, score=0.999 total time=   1.3s\n",
      "[CV 5/5; 1/10] START clf__n_estimators=150......................................\n",
      "[CV 5/5; 1/10] END .......clf__n_estimators=150;, score=0.999 total time=   1.3s\n",
      "[CV 1/5; 2/10] START clf__n_estimators=160......................................\n",
      "[CV 1/5; 2/10] END .......clf__n_estimators=160;, score=0.999 total time=   1.4s\n",
      "[CV 2/5; 2/10] START clf__n_estimators=160......................................\n",
      "[CV 2/5; 2/10] END .......clf__n_estimators=160;, score=0.999 total time=   1.5s\n",
      "[CV 3/5; 2/10] START clf__n_estimators=160......................................\n",
      "[CV 3/5; 2/10] END .......clf__n_estimators=160;, score=0.999 total time=   1.3s\n",
      "[CV 4/5; 2/10] START clf__n_estimators=160......................................\n",
      "[CV 4/5; 2/10] END .......clf__n_estimators=160;, score=0.999 total time=   1.4s\n",
      "[CV 5/5; 2/10] START clf__n_estimators=160......................................\n",
      "[CV 5/5; 2/10] END .......clf__n_estimators=160;, score=0.999 total time=   1.4s\n",
      "[CV 1/5; 3/10] START clf__n_estimators=170......................................\n",
      "[CV 1/5; 3/10] END .......clf__n_estimators=170;, score=0.999 total time=   1.4s\n",
      "[CV 2/5; 3/10] START clf__n_estimators=170......................................\n",
      "[CV 2/5; 3/10] END .......clf__n_estimators=170;, score=0.999 total time=   1.4s\n",
      "[CV 3/5; 3/10] START clf__n_estimators=170......................................\n",
      "[CV 3/5; 3/10] END .......clf__n_estimators=170;, score=0.999 total time=   1.4s\n",
      "[CV 4/5; 3/10] START clf__n_estimators=170......................................\n",
      "[CV 4/5; 3/10] END .......clf__n_estimators=170;, score=0.999 total time=   1.4s\n",
      "[CV 5/5; 3/10] START clf__n_estimators=170......................................\n",
      "[CV 5/5; 3/10] END .......clf__n_estimators=170;, score=0.999 total time=   1.4s\n",
      "[CV 1/5; 4/10] START clf__n_estimators=180......................................\n",
      "[CV 1/5; 4/10] END .......clf__n_estimators=180;, score=0.999 total time=   1.5s\n",
      "[CV 2/5; 4/10] START clf__n_estimators=180......................................\n",
      "[CV 2/5; 4/10] END .......clf__n_estimators=180;, score=0.999 total time=   1.6s\n",
      "[CV 3/5; 4/10] START clf__n_estimators=180......................................\n",
      "[CV 3/5; 4/10] END .......clf__n_estimators=180;, score=0.999 total time=   1.5s\n",
      "[CV 4/5; 4/10] START clf__n_estimators=180......................................\n",
      "[CV 4/5; 4/10] END .......clf__n_estimators=180;, score=0.999 total time=   1.5s\n",
      "[CV 5/5; 4/10] START clf__n_estimators=180......................................\n",
      "[CV 5/5; 4/10] END .......clf__n_estimators=180;, score=0.999 total time=   1.5s\n",
      "[CV 1/5; 5/10] START clf__n_estimators=190......................................\n",
      "[CV 1/5; 5/10] END .......clf__n_estimators=190;, score=0.999 total time=   1.6s\n",
      "[CV 2/5; 5/10] START clf__n_estimators=190......................................\n",
      "[CV 2/5; 5/10] END .......clf__n_estimators=190;, score=0.999 total time=   1.6s\n",
      "[CV 3/5; 5/10] START clf__n_estimators=190......................................\n",
      "[CV 3/5; 5/10] END .......clf__n_estimators=190;, score=0.999 total time=   1.6s\n",
      "[CV 4/5; 5/10] START clf__n_estimators=190......................................\n",
      "[CV 4/5; 5/10] END .......clf__n_estimators=190;, score=0.999 total time=   1.6s\n",
      "[CV 5/5; 5/10] START clf__n_estimators=190......................................\n",
      "[CV 5/5; 5/10] END .......clf__n_estimators=190;, score=0.999 total time=   1.9s\n",
      "[CV 1/5; 6/10] START clf__n_estimators=200......................................\n",
      "[CV 1/5; 6/10] END .......clf__n_estimators=200;, score=0.999 total time=   1.7s\n",
      "[CV 2/5; 6/10] START clf__n_estimators=200......................................\n",
      "[CV 2/5; 6/10] END .......clf__n_estimators=200;, score=0.999 total time=   1.7s\n",
      "[CV 3/5; 6/10] START clf__n_estimators=200......................................\n",
      "[CV 3/5; 6/10] END .......clf__n_estimators=200;, score=0.999 total time=   1.7s\n",
      "[CV 4/5; 6/10] START clf__n_estimators=200......................................\n",
      "[CV 4/5; 6/10] END .......clf__n_estimators=200;, score=0.999 total time=   1.7s\n",
      "[CV 5/5; 6/10] START clf__n_estimators=200......................................\n",
      "[CV 5/5; 6/10] END .......clf__n_estimators=200;, score=0.999 total time=   1.7s\n",
      "[CV 1/5; 7/10] START clf__n_estimators=210......................................\n",
      "[CV 1/5; 7/10] END .......clf__n_estimators=210;, score=0.999 total time=   1.7s\n",
      "[CV 2/5; 7/10] START clf__n_estimators=210......................................\n",
      "[CV 2/5; 7/10] END .......clf__n_estimators=210;, score=0.999 total time=   1.8s\n",
      "[CV 3/5; 7/10] START clf__n_estimators=210......................................\n",
      "[CV 3/5; 7/10] END .......clf__n_estimators=210;, score=0.999 total time=   1.8s\n",
      "[CV 4/5; 7/10] START clf__n_estimators=210......................................\n",
      "[CV 4/5; 7/10] END .......clf__n_estimators=210;, score=0.999 total time=   1.8s\n",
      "[CV 5/5; 7/10] START clf__n_estimators=210......................................\n",
      "[CV 5/5; 7/10] END .......clf__n_estimators=210;, score=0.999 total time=   1.8s\n",
      "[CV 1/5; 8/10] START clf__n_estimators=220......................................\n",
      "[CV 1/5; 8/10] END .......clf__n_estimators=220;, score=0.999 total time=   1.8s\n",
      "[CV 2/5; 8/10] START clf__n_estimators=220......................................\n",
      "[CV 2/5; 8/10] END .......clf__n_estimators=220;, score=0.999 total time=   1.9s\n",
      "[CV 3/5; 8/10] START clf__n_estimators=220......................................\n",
      "[CV 3/5; 8/10] END .......clf__n_estimators=220;, score=0.999 total time=   1.8s\n",
      "[CV 4/5; 8/10] START clf__n_estimators=220......................................\n",
      "[CV 4/5; 8/10] END .......clf__n_estimators=220;, score=0.999 total time=   1.9s\n",
      "[CV 5/5; 8/10] START clf__n_estimators=220......................................\n",
      "[CV 5/5; 8/10] END .......clf__n_estimators=220;, score=0.999 total time=   1.9s\n",
      "[CV 1/5; 9/10] START clf__n_estimators=230......................................\n",
      "[CV 1/5; 9/10] END .......clf__n_estimators=230;, score=0.999 total time=   1.9s\n",
      "[CV 2/5; 9/10] START clf__n_estimators=230......................................\n",
      "[CV 2/5; 9/10] END .......clf__n_estimators=230;, score=0.999 total time=   2.0s\n",
      "[CV 3/5; 9/10] START clf__n_estimators=230......................................\n",
      "[CV 3/5; 9/10] END .......clf__n_estimators=230;, score=0.999 total time=   1.9s\n",
      "[CV 4/5; 9/10] START clf__n_estimators=230......................................\n",
      "[CV 4/5; 9/10] END .......clf__n_estimators=230;, score=0.999 total time=   2.0s\n",
      "[CV 5/5; 9/10] START clf__n_estimators=230......................................\n",
      "[CV 5/5; 9/10] END .......clf__n_estimators=230;, score=0.999 total time=   1.9s\n",
      "[CV 1/5; 10/10] START clf__n_estimators=240.....................................\n",
      "[CV 1/5; 10/10] END ......clf__n_estimators=240;, score=0.999 total time=   2.0s\n",
      "[CV 2/5; 10/10] START clf__n_estimators=240.....................................\n",
      "[CV 2/5; 10/10] END ......clf__n_estimators=240;, score=0.999 total time=   2.1s\n",
      "[CV 3/5; 10/10] START clf__n_estimators=240.....................................\n",
      "[CV 3/5; 10/10] END ......clf__n_estimators=240;, score=0.999 total time=   2.0s\n",
      "[CV 4/5; 10/10] START clf__n_estimators=240.....................................\n",
      "[CV 4/5; 10/10] END ......clf__n_estimators=240;, score=0.999 total time=   2.1s\n",
      "[CV 5/5; 10/10] START clf__n_estimators=240.....................................\n",
      "[CV 5/5; 10/10] END ......clf__n_estimators=240;, score=0.999 total time=   2.0s\n",
      "tuned hyperparameters :(best parameters)  {'clf__n_estimators': 240}\n",
      "accuracy : 0.9993380820594029\n"
     ]
    },
    {
     "data": {
      "image/png": "[encoded data removed]",
      "text/plain": [
       "<Figure size 640x480 with 1 Axes>"
      ]
     },
     "metadata": {},
     "output_type": "display_data"
    }
   ],
   "source": [
    "grid={\"n_estimators\":[i*10 for i in range(15, 25)]}\n",
    "model=XGBRegressor(learning_rate=0.2)\n",
    "results = grid_search(grid, model, x, y)\n",
    "plotGridResults(results)"
   ]
  },
  {
   "cell_type": "markdown",
   "metadata": {
    "collapsed": false,
    "pycharm": {
     "name": "#%% md\n"
    }
   },
   "source": [
    "#### max_depth param"
   ]
  },
  {
   "cell_type": "code",
   "execution_count": null,
   "metadata": {
    "collapsed": false,
    "pycharm": {
     "name": "#%%\n"
    }
   },
   "outputs": [
    {
     "name": "stdout",
     "output_type": "stream",
     "text": [
      "Fitting 5 folds for each of 9 candidates, totalling 45 fits\n",
      "[CV 1/5; 1/9] START clf__max_depth=2............................................\n",
      "[CV 1/5; 1/9] END .............clf__max_depth=2;, score=0.998 total time=   1.7s\n",
      "[CV 2/5; 1/9] START clf__max_depth=2............................................\n",
      "[CV 2/5; 1/9] END .............clf__max_depth=2;, score=0.998 total time=   0.7s\n",
      "[CV 3/5; 1/9] START clf__max_depth=2............................................\n",
      "[CV 3/5; 1/9] END .............clf__max_depth=2;, score=0.998 total time=   0.5s\n",
      "[CV 4/5; 1/9] START clf__max_depth=2............................................\n",
      "[CV 4/5; 1/9] END .............clf__max_depth=2;, score=0.998 total time=   0.5s\n",
      "[CV 5/5; 1/9] START clf__max_depth=2............................................\n",
      "[CV 5/5; 1/9] END .............clf__max_depth=2;, score=0.998 total time=   0.5s\n",
      "[CV 1/5; 2/9] START clf__max_depth=3............................................\n",
      "[CV 1/5; 2/9] END .............clf__max_depth=3;, score=0.999 total time=   0.8s\n",
      "[CV 2/5; 2/9] START clf__max_depth=3............................................\n",
      "[CV 2/5; 2/9] END .............clf__max_depth=3;, score=0.999 total time=   0.8s\n",
      "[CV 3/5; 2/9] START clf__max_depth=3............................................\n",
      "[CV 3/5; 2/9] END .............clf__max_depth=3;, score=0.999 total time=   0.8s\n",
      "[CV 4/5; 2/9] START clf__max_depth=3............................................\n",
      "[CV 4/5; 2/9] END .............clf__max_depth=3;, score=0.999 total time=   0.7s\n",
      "[CV 5/5; 2/9] START clf__max_depth=3............................................\n",
      "[CV 5/5; 2/9] END .............clf__max_depth=3;, score=0.999 total time=   0.8s\n",
      "[CV 1/5; 3/9] START clf__max_depth=4............................................\n",
      "[CV 1/5; 3/9] END .............clf__max_depth=4;, score=0.999 total time=   1.1s\n",
      "[CV 2/5; 3/9] START clf__max_depth=4............................................\n",
      "[CV 2/5; 3/9] END .............clf__max_depth=4;, score=0.999 total time=   1.1s\n",
      "[CV 3/5; 3/9] START clf__max_depth=4............................................\n",
      "[CV 3/5; 3/9] END .............clf__max_depth=4;, score=0.999 total time=   1.1s\n",
      "[CV 4/5; 3/9] START clf__max_depth=4............................................\n",
      "[CV 4/5; 3/9] END .............clf__max_depth=4;, score=0.999 total time=   1.0s\n",
      "[CV 5/5; 3/9] START clf__max_depth=4............................................\n",
      "[CV 5/5; 3/9] END .............clf__max_depth=4;, score=0.999 total time=   1.0s\n",
      "[CV 1/5; 4/9] START clf__max_depth=5............................................\n",
      "[CV 1/5; 4/9] END .............clf__max_depth=5;, score=0.999 total time=   1.4s\n",
      "[CV 2/5; 4/9] START clf__max_depth=5............................................\n",
      "[CV 2/5; 4/9] END .............clf__max_depth=5;, score=0.999 total time=   1.4s\n",
      "[CV 3/5; 4/9] START clf__max_depth=5............................................\n",
      "[CV 3/5; 4/9] END .............clf__max_depth=5;, score=0.999 total time=   1.4s\n",
      "[CV 4/5; 4/9] START clf__max_depth=5............................................\n",
      "[CV 4/5; 4/9] END .............clf__max_depth=5;, score=0.999 total time=   1.4s\n",
      "[CV 5/5; 4/9] START clf__max_depth=5............................................\n",
      "[CV 5/5; 4/9] END .............clf__max_depth=5;, score=0.999 total time=   1.4s\n",
      "[CV 1/5; 5/9] START clf__max_depth=6............................................\n",
      "[CV 1/5; 5/9] END .............clf__max_depth=6;, score=0.999 total time=   1.7s\n",
      "[CV 2/5; 5/9] START clf__max_depth=6............................................\n",
      "[CV 2/5; 5/9] END .............clf__max_depth=6;, score=0.999 total time=   1.7s\n",
      "[CV 3/5; 5/9] START clf__max_depth=6............................................\n",
      "[CV 3/5; 5/9] END .............clf__max_depth=6;, score=0.999 total time=   1.7s\n",
      "[CV 4/5; 5/9] START clf__max_depth=6............................................\n",
      "[CV 4/5; 5/9] END .............clf__max_depth=6;, score=0.999 total time=   1.7s\n",
      "[CV 5/5; 5/9] START clf__max_depth=6............................................\n",
      "[CV 5/5; 5/9] END .............clf__max_depth=6;, score=0.999 total time=   1.7s\n",
      "[CV 1/5; 6/9] START clf__max_depth=7............................................\n",
      "[CV 1/5; 6/9] END .............clf__max_depth=7;, score=0.999 total time=   2.0s\n",
      "[CV 2/5; 6/9] START clf__max_depth=7............................................\n",
      "[CV 2/5; 6/9] END .............clf__max_depth=7;, score=0.999 total time=   2.0s\n",
      "[CV 3/5; 6/9] START clf__max_depth=7............................................\n",
      "[CV 3/5; 6/9] END .............clf__max_depth=7;, score=0.999 total time=   2.0s\n",
      "[CV 4/5; 6/9] START clf__max_depth=7............................................\n",
      "[CV 4/5; 6/9] END .............clf__max_depth=7;, score=0.999 total time=   2.0s\n",
      "[CV 5/5; 6/9] START clf__max_depth=7............................................\n",
      "[CV 5/5; 6/9] END .............clf__max_depth=7;, score=0.999 total time=   2.0s\n",
      "[CV 1/5; 7/9] START clf__max_depth=8............................................\n",
      "[CV 1/5; 7/9] END .............clf__max_depth=8;, score=0.999 total time=   2.3s\n",
      "[CV 2/5; 7/9] START clf__max_depth=8............................................\n",
      "[CV 2/5; 7/9] END .............clf__max_depth=8;, score=0.999 total time=   2.4s\n",
      "[CV 3/5; 7/9] START clf__max_depth=8............................................\n",
      "[CV 3/5; 7/9] END .............clf__max_depth=8;, score=0.999 total time=   2.4s\n",
      "[CV 4/5; 7/9] START clf__max_depth=8............................................\n",
      "[CV 4/5; 7/9] END .............clf__max_depth=8;, score=0.999 total time=   2.3s\n",
      "[CV 5/5; 7/9] START clf__max_depth=8............................................\n",
      "[CV 5/5; 7/9] END .............clf__max_depth=8;, score=0.999 total time=   2.5s\n",
      "[CV 1/5; 8/9] START clf__max_depth=9............................................\n",
      "[CV 1/5; 8/9] END .............clf__max_depth=9;, score=0.999 total time=   2.7s\n",
      "[CV 2/5; 8/9] START clf__max_depth=9............................................\n",
      "[CV 2/5; 8/9] END .............clf__max_depth=9;, score=0.999 total time=   2.8s\n",
      "[CV 3/5; 8/9] START clf__max_depth=9............................................\n",
      "[CV 3/5; 8/9] END .............clf__max_depth=9;, score=0.999 total time=   2.8s\n",
      "[CV 4/5; 8/9] START clf__max_depth=9............................................\n",
      "[CV 4/5; 8/9] END .............clf__max_depth=9;, score=0.999 total time=   2.7s\n",
      "[CV 5/5; 8/9] START clf__max_depth=9............................................\n",
      "[CV 5/5; 8/9] END .............clf__max_depth=9;, score=0.999 total time=   2.8s\n",
      "[CV 1/5; 9/9] START clf__max_depth=10...........................................\n",
      "[CV 1/5; 9/9] END ............clf__max_depth=10;, score=0.999 total time=   3.0s\n",
      "[CV 2/5; 9/9] START clf__max_depth=10...........................................\n",
      "[CV 2/5; 9/9] END ............clf__max_depth=10;, score=0.999 total time=   3.1s\n",
      "[CV 3/5; 9/9] START clf__max_depth=10...........................................\n",
      "[CV 3/5; 9/9] END ............clf__max_depth=10;, score=0.999 total time=   3.1s\n",
      "[CV 4/5; 9/9] START clf__max_depth=10...........................................\n",
      "[CV 4/5; 9/9] END ............clf__max_depth=10;, score=0.999 total time=   3.0s\n",
      "[CV 5/5; 9/9] START clf__max_depth=10...........................................\n",
      "[CV 5/5; 9/9] END ............clf__max_depth=10;, score=0.999 total time=   3.2s\n",
      "tuned hyperparameters :(best parameters)  {'clf__max_depth': 9}\n",
      "accuracy : 0.999345976373774\n"
     ]
    },
    {
     "data": {
      "image/png": "[encoded data removed]",
      "text/plain": [
       "<Figure size 640x480 with 1 Axes>"
      ]
     },
     "metadata": {},
     "output_type": "display_data"
    }
   ],
   "source": [
    "grid={\"max_depth\":[i for i in range(2, 11)]}\n",
    "model=XGBRegressor(learning_rate=0.2, n_estimators=200)\n",
    "results = grid_search(grid, model, x, y)\n",
    "plotGridResults(results)"
   ]
  },
  {
   "cell_type": "markdown",
   "metadata": {
    "collapsed": false,
    "pycharm": {
     "name": "#%% md\n"
    }
   },
   "source": [
    "### Best XG Boost eval"
   ]
  },
  {
   "cell_type": "code",
   "execution_count": null,
   "metadata": {
    "collapsed": false,
    "pycharm": {
     "name": "#%%\n"
    }
   },
   "outputs": [
    {
     "name": "stderr",
     "output_type": "stream",
     "text": [
      "[Parallel(n_jobs=-1)]: Using backend LokyBackend with 4 concurrent workers.\n",
      "[Parallel(n_jobs=-1)]: Done   2 out of   5 | elapsed:   15.8s remaining:   23.8s\n",
      "[Parallel(n_jobs=-1)]: Done   3 out of   5 | elapsed:   16.2s remaining:   10.8s\n"
     ]
    },
    {
     "name": "stdout",
     "output_type": "stream",
     "text": [
      "MAE:  87.81217246\n",
      "RMSE:  134.62632835\n",
      "R2:  0.99934598\n"
     ]
    },
    {
     "name": "stderr",
     "output_type": "stream",
     "text": [
      "[Parallel(n_jobs=-1)]: Done   5 out of   5 | elapsed:   23.7s remaining:    0.0s\n",
      "[Parallel(n_jobs=-1)]: Done   5 out of   5 | elapsed:   23.7s finished\n"
     ]
    }
   ],
   "source": [
    "#Best model\n",
    "model = XGBRegressor(\n",
    "    n_estimators=200,\n",
    "    max_depth=9,\n",
    "    learning_rate=0.2)\n",
    "\n",
    "model_cv_rapport(model, x, y)"
   ]
  },
  {
   "cell_type": "code",
   "execution_count": null,
   "metadata": {
    "collapsed": false,
    "pycharm": {
     "name": "#%%\n"
    }
   },
   "outputs": [],
   "source": []
  }
 ],
 "metadata": {
  "kernelspec": {
   "display_name": "Python 3.9.7 ('base')",
   "language": "python",
   "name": "python3"
  },
  "language_info": {
   "codemirror_mode": {
    "name": "ipython",
    "version": 3
   },
   "file_extension": ".py",
   "mimetype": "text/x-python",
   "name": "python",
   "nbconvert_exporter": "python",
   "pygments_lexer": "ipython3",
   "version": "3.9.15"
  },
  "vscode": {
   "interpreter": {
    "hash": "63ec137b236f4571ddf6057b0ef98c638499ee8b49585d9f37af80a425d01971"
   }
  }
 },
 "nbformat": 4,
 "nbformat_minor": 0
}