{
 "cells": [
  {
   "cell_type": "code",
   "execution_count": 94,
   "metadata": {
    "collapsed": true,
    "pycharm": {
     "name": "#%%\n"
    }
   },
   "outputs": [],
   "source": [
    "import os\n",
    "\n",
    "import numpy as np\n",
    "import pandas as pd\n",
    "from sklearn import preprocessing\n",
    "from sklearn.preprocessing import StandardScaler\n",
    "from sklearn.model_selection import train_test_split, KFold\n",
    "import matplotlib.pyplot as plt\n",
    "from tqdm import tqdm\n",
    "import torch\n",
    "from torch import nn"
   ]
  },
  {
   "cell_type": "markdown",
   "source": [
    "## Loading Data"
   ],
   "metadata": {
    "collapsed": false,
    "pycharm": {
     "name": "#%% md\n"
    }
   }
  },
  {
   "cell_type": "code",
   "execution_count": 80,
   "outputs": [],
   "source": [
    "fullData = pd.read_csv(\"../HGS/clean_dataset_v3.csv\", sep=\",\")\n",
    "fullData = fullData.drop(columns=[\"S7\", \"S13\"])"
   ],
   "metadata": {
    "collapsed": false,
    "pycharm": {
     "name": "#%%\n"
    }
   }
  },
  {
   "cell_type": "code",
   "execution_count": 81,
   "outputs": [],
   "source": [
    "instanceData = fullData[fullData[\"instance_name\"].str.find(\"3113\") > 0]"
   ],
   "metadata": {
    "collapsed": false,
    "pycharm": {
     "name": "#%%\n"
    }
   }
  },
  {
   "cell_type": "code",
   "execution_count": 82,
   "outputs": [],
   "source": [
    "chunkData = instanceData.sample(1000000, random_state=123456)\n",
    "if \"instance_name\" in chunkData.columns:\n",
    "    chunkData = chunkData.drop(columns=[\"instance_name\"])"
   ],
   "metadata": {
    "collapsed": false,
    "pycharm": {
     "name": "#%%\n"
    }
   }
  },
  {
   "cell_type": "markdown",
   "source": [
    "## Labelizing"
   ],
   "metadata": {
    "collapsed": false,
    "pycharm": {
     "name": "#%% md\n"
    }
   }
  },
  {
   "cell_type": "code",
   "execution_count": 83,
   "outputs": [
    {
     "name": "stdout",
     "output_type": "stream",
     "text": [
      "[18079. 21820. 26482.]\n"
     ]
    },
    {
     "data": {
      "text/plain": "          cost       S1        S2      S3      S4       S5       S6       S8  \\\n8467000  21937  188.705  102.1090  0.0779  0.0365  833.167  325.225  650.667   \n5848654  24466  207.583   98.6532  0.1239  0.0877  870.692  329.966  673.538   \n9653867  21913  194.070   93.0329  0.1004  0.0728  847.833  351.479  606.667   \n8210497  22134  217.353   79.9058  0.1023  0.0513  832.000  301.467  617.500   \n9150431  24716  193.138   72.3104  0.0914  0.0374  875.846  279.450  678.692   \n\n             S9     S10      S11     S12     S14      S15      S16     S17  \\\n8467000  0.3613  0.0900  1167.42  0.3704  0.2457  724.958  499.732  2.2111   \n5848654  0.3567  0.1501  1213.38  0.2692  0.0333  673.116  492.288  1.0659   \n9653867  0.3289  0.1109  1123.25  0.3704  0.2457  723.899  495.570  2.2111   \n8210497  0.3395  0.1144  1110.92  0.3704  0.2457  654.021  478.106  2.2111   \n9150431  0.3479  0.1321  1224.92  0.2692  0.0333  613.014  464.931  1.0659   \n\n            S18  top0.5  top1.0  \n8467000  3.0990   False    True  \n5848654  4.2875   False    True  \n9653867  3.4792   False    True  \n8210497  3.7135   False    True  \n9150431  3.8297   False    True  ",
      "text/html": "<div>\n<style scoped>\n    .dataframe tbody tr th:only-of-type {\n        vertical-align: middle;\n    }\n\n    .dataframe tbody tr th {\n        vertical-align: top;\n    }\n\n    .dataframe thead th {\n        text-align: right;\n    }\n</style>\n<table border=\"1\" class=\"dataframe\">\n  <thead>\n    <tr style=\"text-align: right;\">\n      <th></th>\n      <th>cost</th>\n      <th>S1</th>\n      <th>S2</th>\n      <th>S3</th>\n      <th>S4</th>\n      <th>S5</th>\n      <th>S6</th>\n      <th>S8</th>\n      <th>S9</th>\n      <th>S10</th>\n      <th>S11</th>\n      <th>S12</th>\n      <th>S14</th>\n      <th>S15</th>\n      <th>S16</th>\n      <th>S17</th>\n      <th>S18</th>\n      <th>top0.5</th>\n      <th>top1.0</th>\n    </tr>\n  </thead>\n  <tbody>\n    <tr>\n      <th>8467000</th>\n      <td>21937</td>\n      <td>188.705</td>\n      <td>102.1090</td>\n      <td>0.0779</td>\n      <td>0.0365</td>\n      <td>833.167</td>\n      <td>325.225</td>\n      <td>650.667</td>\n      <td>0.3613</td>\n      <td>0.0900</td>\n      <td>1167.42</td>\n      <td>0.3704</td>\n      <td>0.2457</td>\n      <td>724.958</td>\n      <td>499.732</td>\n      <td>2.2111</td>\n      <td>3.0990</td>\n      <td>False</td>\n      <td>True</td>\n    </tr>\n    <tr>\n      <th>5848654</th>\n      <td>24466</td>\n      <td>207.583</td>\n      <td>98.6532</td>\n      <td>0.1239</td>\n      <td>0.0877</td>\n      <td>870.692</td>\n      <td>329.966</td>\n      <td>673.538</td>\n      <td>0.3567</td>\n      <td>0.1501</td>\n      <td>1213.38</td>\n      <td>0.2692</td>\n      <td>0.0333</td>\n      <td>673.116</td>\n      <td>492.288</td>\n      <td>1.0659</td>\n      <td>4.2875</td>\n      <td>False</td>\n      <td>True</td>\n    </tr>\n    <tr>\n      <th>9653867</th>\n      <td>21913</td>\n      <td>194.070</td>\n      <td>93.0329</td>\n      <td>0.1004</td>\n      <td>0.0728</td>\n      <td>847.833</td>\n      <td>351.479</td>\n      <td>606.667</td>\n      <td>0.3289</td>\n      <td>0.1109</td>\n      <td>1123.25</td>\n      <td>0.3704</td>\n      <td>0.2457</td>\n      <td>723.899</td>\n      <td>495.570</td>\n      <td>2.2111</td>\n      <td>3.4792</td>\n      <td>False</td>\n      <td>True</td>\n    </tr>\n    <tr>\n      <th>8210497</th>\n      <td>22134</td>\n      <td>217.353</td>\n      <td>79.9058</td>\n      <td>0.1023</td>\n      <td>0.0513</td>\n      <td>832.000</td>\n      <td>301.467</td>\n      <td>617.500</td>\n      <td>0.3395</td>\n      <td>0.1144</td>\n      <td>1110.92</td>\n      <td>0.3704</td>\n      <td>0.2457</td>\n      <td>654.021</td>\n      <td>478.106</td>\n      <td>2.2111</td>\n      <td>3.7135</td>\n      <td>False</td>\n      <td>True</td>\n    </tr>\n    <tr>\n      <th>9150431</th>\n      <td>24716</td>\n      <td>193.138</td>\n      <td>72.3104</td>\n      <td>0.0914</td>\n      <td>0.0374</td>\n      <td>875.846</td>\n      <td>279.450</td>\n      <td>678.692</td>\n      <td>0.3479</td>\n      <td>0.1321</td>\n      <td>1224.92</td>\n      <td>0.2692</td>\n      <td>0.0333</td>\n      <td>613.014</td>\n      <td>464.931</td>\n      <td>1.0659</td>\n      <td>3.8297</td>\n      <td>False</td>\n      <td>True</td>\n    </tr>\n  </tbody>\n</table>\n</div>"
     },
     "execution_count": 83,
     "metadata": {},
     "output_type": "execute_result"
    }
   ],
   "source": [
    "#I shouldn't standarize the whole set\n",
    "#chunkData = pd.DataFrame(preprocessing.StandardScaler().fit_transform(chunkData), columns=colNames)\n",
    "\n",
    "nbrLabels = 2\n",
    "\n",
    "separators = np.quantile(chunkData[\"cost\"], [i/nbrLabels for i in range(0, nbrLabels+1)])\n",
    "print(separators)\n",
    "labelCols = []\n",
    "#labelize data\n",
    "for i in range(1, nbrLabels+1):\n",
    "    labelCols.append(\"top\"+str(i/nbrLabels))\n",
    "    if i < nbrLabels:\n",
    "        chunkData[\"top\"+str(i/nbrLabels)] = (separators[i-1] <= chunkData[\"cost\"]) & (chunkData[\"cost\"] < separators[i])\n",
    "    else:\n",
    "        chunkData[\"top\"+str(i/nbrLabels)] = (separators[i-1] <= chunkData[\"cost\"]) & (chunkData[\"cost\"] <= separators[i])\n",
    "\n",
    "chunkData.head()"
   ],
   "metadata": {
    "collapsed": false,
    "pycharm": {
     "name": "#%%\n"
    }
   }
  },
  {
   "cell_type": "markdown",
   "source": [
    "## Utils\n",
    "### Plotting methods"
   ],
   "metadata": {
    "collapsed": false,
    "pycharm": {
     "name": "#%% md\n"
    }
   }
  },
  {
   "cell_type": "code",
   "execution_count": 84,
   "outputs": [],
   "source": [
    "from sklearn.metrics import ConfusionMatrixDisplay, multilabel_confusion_matrix"
   ],
   "metadata": {
    "collapsed": false,
    "pycharm": {
     "name": "#%%\n"
    }
   }
  },
  {
   "cell_type": "markdown",
   "source": [
    "## Train-test splitting"
   ],
   "metadata": {
    "collapsed": false,
    "pycharm": {
     "name": "#%% md\n"
    }
   }
  },
  {
   "cell_type": "code",
   "execution_count": 85,
   "outputs": [],
   "source": [
    "from torch.utils.data import Dataset\n",
    "class MyDataset(Dataset):\n",
    "\n",
    "  def __init__(self,x:np.ndarray, y:np.ndarray):\n",
    "    self.x_train=torch.tensor(x, dtype=torch.float32)\n",
    "    self.y_train=torch.tensor(y, dtype=torch.float32)#.squeeze(-1)\n",
    "\n",
    "  def __len__(self):\n",
    "    return len(self.x_train)\n",
    "\n",
    "  def __getitem__(self,idx):\n",
    "    return self.x_train[idx],self.y_train[idx]"
   ],
   "metadata": {
    "collapsed": false,
    "pycharm": {
     "name": "#%%\n"
    }
   }
  },
  {
   "cell_type": "code",
   "execution_count": 101,
   "outputs": [],
   "source": [
    "y = chunkData[labelCols]\n",
    "x = chunkData.drop(columns=labelCols + [\"cost\"])\n",
    "x_train,x_test,y_train,y_test=train_test_split(x,y,test_size=0.2)\n",
    "#normalizing data, only according to train data mean and variance\n",
    "scaler = preprocessing.StandardScaler()\n",
    "scaler.fit(x_train)\n",
    "x_train = scaler.transform(x_train)\n",
    "x_test = scaler.transform(x_test)\n",
    "\n",
    "# Prepare dataset\n",
    "dataset = MyDataset(x=x_train, y=y_train.to_numpy())\n",
    "dataset_test = MyDataset(x=x_test, y=y_test.to_numpy())\n",
    "trainloader = torch.utils.data.DataLoader(dataset, batch_size=64, shuffle=True, num_workers=0)\n",
    "testloader = torch.utils.data.DataLoader(dataset_test, batch_size=64, shuffle=True, num_workers=0)"
   ],
   "metadata": {
    "collapsed": false,
    "pycharm": {
     "name": "#%%\n"
    }
   }
  },
  {
   "cell_type": "code",
   "execution_count": 102,
   "outputs": [],
   "source": [
    "from sklearn.metrics import precision_score, recall_score, f1_score, roc_auc_score, accuracy_score\n",
    "\n",
    "def model_rapport(name, y_test, y_pred, precision = 8):\n",
    "\n",
    "    accuracy = round(accuracy_score(y_test, y_pred), precision)\n",
    "    precisionsc = round(precision_score(y_test, y_pred, average=\"macro\"), precision)\n",
    "    recall = round(recall_score(y_test, y_pred, average=\"macro\"), precision)\n",
    "    f1 = round(f1_score(y_test, y_pred, average=\"macro\"), precision)\n",
    "    roc = round(roc_auc_score(y_test, y_pred, average=\"macro\"), precision)\n",
    "\n",
    "    results = {\n",
    "        \"precision\": precisionsc,\n",
    "        \"recall\": recall,\n",
    "        \"f1\": f1,\n",
    "        \"roc\": roc,\n",
    "        \"accuracy\": accuracy}\n",
    "\n",
    "    print(name, \"--------------------------------------\")\n",
    "    for key, value in results.items():\n",
    "        print(key, \":\", value)\n",
    "\n",
    "    return results"
   ],
   "metadata": {
    "collapsed": false,
    "pycharm": {
     "name": "#%%\n"
    }
   }
  },
  {
   "cell_type": "markdown",
   "source": [
    "## Multi Layer Perceptron"
   ],
   "metadata": {
    "collapsed": false,
    "pycharm": {
     "name": "#%% md\n"
    }
   }
  },
  {
   "cell_type": "code",
   "execution_count": 103,
   "outputs": [],
   "source": [
    "n_input_dim = x_train.shape[1]\n",
    "\n",
    "#Layer size\n",
    "n_hidden1 = 300  # Number of hidden nodes\n",
    "n_hidden2 = 100\n",
    "n_output =  nbrLabels  # Number of output nodes\n",
    "\n",
    "\n",
    "class ChurnModel(nn.Module):\n",
    "    def __init__(self):\n",
    "        super(ChurnModel, self).__init__()\n",
    "        self.layer_1 = nn.Linear(n_input_dim, n_hidden1)\n",
    "        self.layer_2 = nn.Linear(n_hidden1, n_hidden2)\n",
    "        self.layer_out = nn.Linear(n_hidden2, n_output)\n",
    "\n",
    "\n",
    "        self.relu = nn.ReLU()\n",
    "        if n_output > 1:\n",
    "            self.outactivefunc = nn.Softmax(dim=1)\n",
    "        else:\n",
    "            self.outactivefunc = nn.Sigmoid()\n",
    "        self.dropout = nn.Dropout(p=0.1)\n",
    "        self.batchnorm1 = nn.BatchNorm1d(n_hidden1)\n",
    "        self.batchnorm2 = nn.BatchNorm1d(n_hidden2)\n",
    "\n",
    "\n",
    "    def forward(self, inputs):\n",
    "        x = self.relu(self.layer_1(inputs))\n",
    "        x = self.batchnorm1(x)\n",
    "        x = self.relu(self.layer_2(x))\n",
    "        x = self.batchnorm2(x)\n",
    "        x = self.dropout(x)\n",
    "        x = self.outactivefunc(self.layer_out(x))\n",
    "\n",
    "        return x\n"
   ],
   "metadata": {
    "collapsed": false,
    "pycharm": {
     "name": "#%%\n"
    }
   }
  },
  {
   "cell_type": "code",
   "execution_count": 106,
   "outputs": [
    {
     "name": "stdout",
     "output_type": "stream",
     "text": [
      "cuda:0\n"
     ]
    }
   ],
   "source": [
    "device = torch.device('cuda:0' if torch.cuda.is_available() else 'cpu')\n",
    "# Assuming that we are on a CUDA machine, this should print a CUDA device:\n",
    "print(device)"
   ],
   "metadata": {
    "collapsed": false,
    "pycharm": {
     "name": "#%%\n"
    }
   }
  },
  {
   "cell_type": "code",
   "execution_count": 109,
   "outputs": [],
   "source": [
    "model = ChurnModel()\n",
    "#model.to(device)\n",
    "\n",
    "#loss function\n",
    "loss_func = nn.BCELoss()\n",
    "\n",
    "#Optimizer\n",
    "learning_rate = 1e-5\n",
    "optimizer = torch.optim.Adam(model.parameters(), lr=learning_rate)\n",
    "epochs = 50"
   ],
   "metadata": {
    "collapsed": false,
    "pycharm": {
     "name": "#%%\n"
    }
   }
  },
  {
   "cell_type": "code",
   "execution_count": 110,
   "outputs": [
    {
     "name": "stderr",
     "output_type": "stream",
     "text": [
      "100%|██████████| 12500/12500 [00:55<00:00, 224.84it/s]\n"
     ]
    },
    {
     "name": "stdout",
     "output_type": "stream",
     "text": [
      "[1] loss: 0.096\n",
      "[1] test loss: 0.054\n"
     ]
    },
    {
     "name": "stderr",
     "output_type": "stream",
     "text": [
      "100%|██████████| 12500/12500 [00:54<00:00, 229.91it/s]\n"
     ]
    },
    {
     "name": "stdout",
     "output_type": "stream",
     "text": [
      "[2] loss: 0.050\n",
      "[2] test loss: 0.047\n"
     ]
    },
    {
     "name": "stderr",
     "output_type": "stream",
     "text": [
      "100%|██████████| 12500/12500 [00:51<00:00, 241.96it/s]\n"
     ]
    },
    {
     "name": "stdout",
     "output_type": "stream",
     "text": [
      "[3] loss: 0.046\n",
      "[3] test loss: 0.044\n"
     ]
    },
    {
     "name": "stderr",
     "output_type": "stream",
     "text": [
      "100%|██████████| 12500/12500 [00:52<00:00, 237.14it/s]\n"
     ]
    },
    {
     "name": "stdout",
     "output_type": "stream",
     "text": [
      "[4] loss: 0.043\n",
      "[4] test loss: 0.042\n"
     ]
    },
    {
     "name": "stderr",
     "output_type": "stream",
     "text": [
      "100%|██████████| 12500/12500 [01:00<00:00, 205.27it/s]\n"
     ]
    },
    {
     "name": "stdout",
     "output_type": "stream",
     "text": [
      "[5] loss: 0.042\n",
      "[5] test loss: 0.041\n"
     ]
    },
    {
     "name": "stderr",
     "output_type": "stream",
     "text": [
      "100%|██████████| 12500/12500 [01:13<00:00, 169.81it/s]\n"
     ]
    },
    {
     "name": "stdout",
     "output_type": "stream",
     "text": [
      "[6] loss: 0.040\n",
      "[6] test loss: 0.039\n"
     ]
    },
    {
     "name": "stderr",
     "output_type": "stream",
     "text": [
      "100%|██████████| 12500/12500 [01:00<00:00, 207.54it/s]\n"
     ]
    },
    {
     "name": "stdout",
     "output_type": "stream",
     "text": [
      "[7] loss: 0.039\n",
      "[7] test loss: 0.039\n"
     ]
    },
    {
     "name": "stderr",
     "output_type": "stream",
     "text": [
      "100%|██████████| 12500/12500 [00:57<00:00, 216.39it/s]\n"
     ]
    },
    {
     "name": "stdout",
     "output_type": "stream",
     "text": [
      "[8] loss: 0.038\n",
      "[8] test loss: 0.038\n"
     ]
    },
    {
     "name": "stderr",
     "output_type": "stream",
     "text": [
      "100%|██████████| 12500/12500 [00:56<00:00, 222.10it/s]\n"
     ]
    },
    {
     "name": "stdout",
     "output_type": "stream",
     "text": [
      "[9] loss: 0.038\n",
      "[9] test loss: 0.038\n"
     ]
    },
    {
     "name": "stderr",
     "output_type": "stream",
     "text": [
      "100%|██████████| 12500/12500 [00:58<00:00, 214.07it/s]\n"
     ]
    },
    {
     "name": "stdout",
     "output_type": "stream",
     "text": [
      "[10] loss: 0.037\n",
      "[10] test loss: 0.037\n"
     ]
    },
    {
     "name": "stderr",
     "output_type": "stream",
     "text": [
      "100%|██████████| 12500/12500 [01:12<00:00, 172.16it/s]\n"
     ]
    },
    {
     "name": "stdout",
     "output_type": "stream",
     "text": [
      "[11] loss: 0.036\n",
      "[11] test loss: 0.037\n"
     ]
    },
    {
     "name": "stderr",
     "output_type": "stream",
     "text": [
      "100%|██████████| 12500/12500 [01:04<00:00, 193.03it/s]\n"
     ]
    },
    {
     "name": "stdout",
     "output_type": "stream",
     "text": [
      "[12] loss: 0.036\n",
      "[12] test loss: 0.036\n"
     ]
    },
    {
     "name": "stderr",
     "output_type": "stream",
     "text": [
      "100%|██████████| 12500/12500 [01:07<00:00, 184.88it/s]\n"
     ]
    },
    {
     "name": "stdout",
     "output_type": "stream",
     "text": [
      "[13] loss: 0.035\n",
      "[13] test loss: 0.036\n"
     ]
    },
    {
     "name": "stderr",
     "output_type": "stream",
     "text": [
      "100%|██████████| 12500/12500 [00:56<00:00, 221.48it/s]\n"
     ]
    },
    {
     "name": "stdout",
     "output_type": "stream",
     "text": [
      "[14] loss: 0.035\n",
      "[14] test loss: 0.035\n"
     ]
    },
    {
     "name": "stderr",
     "output_type": "stream",
     "text": [
      "100%|██████████| 12500/12500 [00:56<00:00, 221.44it/s]\n"
     ]
    },
    {
     "name": "stdout",
     "output_type": "stream",
     "text": [
      "[15] loss: 0.034\n",
      "[15] test loss: 0.034\n"
     ]
    },
    {
     "name": "stderr",
     "output_type": "stream",
     "text": [
      "100%|██████████| 12500/12500 [00:53<00:00, 233.30it/s]\n"
     ]
    },
    {
     "name": "stdout",
     "output_type": "stream",
     "text": [
      "[16] loss: 0.034\n",
      "[16] test loss: 0.035\n"
     ]
    },
    {
     "name": "stderr",
     "output_type": "stream",
     "text": [
      "100%|██████████| 12500/12500 [00:54<00:00, 229.66it/s]\n"
     ]
    },
    {
     "name": "stdout",
     "output_type": "stream",
     "text": [
      "[17] loss: 0.034\n",
      "[17] test loss: 0.034\n"
     ]
    },
    {
     "name": "stderr",
     "output_type": "stream",
     "text": [
      "100%|██████████| 12500/12500 [00:53<00:00, 232.80it/s]\n"
     ]
    },
    {
     "name": "stdout",
     "output_type": "stream",
     "text": [
      "[18] loss: 0.034\n",
      "[18] test loss: 0.034\n"
     ]
    },
    {
     "name": "stderr",
     "output_type": "stream",
     "text": [
      "100%|██████████| 12500/12500 [00:54<00:00, 228.93it/s]\n"
     ]
    },
    {
     "name": "stdout",
     "output_type": "stream",
     "text": [
      "[19] loss: 0.034\n",
      "[19] test loss: 0.034\n"
     ]
    },
    {
     "name": "stderr",
     "output_type": "stream",
     "text": [
      "100%|██████████| 12500/12500 [00:55<00:00, 224.29it/s]\n"
     ]
    },
    {
     "name": "stdout",
     "output_type": "stream",
     "text": [
      "[20] loss: 0.033\n",
      "[20] test loss: 0.034\n"
     ]
    },
    {
     "name": "stderr",
     "output_type": "stream",
     "text": [
      "100%|██████████| 12500/12500 [00:55<00:00, 225.15it/s]\n"
     ]
    },
    {
     "name": "stdout",
     "output_type": "stream",
     "text": [
      "[21] loss: 0.033\n",
      "[21] test loss: 0.033\n"
     ]
    },
    {
     "name": "stderr",
     "output_type": "stream",
     "text": [
      "100%|██████████| 12500/12500 [00:57<00:00, 216.77it/s]\n"
     ]
    },
    {
     "name": "stdout",
     "output_type": "stream",
     "text": [
      "[22] loss: 0.032\n",
      "[22] test loss: 0.033\n"
     ]
    },
    {
     "name": "stderr",
     "output_type": "stream",
     "text": [
      "100%|██████████| 12500/12500 [00:58<00:00, 215.48it/s]\n"
     ]
    },
    {
     "name": "stdout",
     "output_type": "stream",
     "text": [
      "[23] loss: 0.032\n",
      "[23] test loss: 0.033\n"
     ]
    },
    {
     "name": "stderr",
     "output_type": "stream",
     "text": [
      "100%|██████████| 12500/12500 [00:55<00:00, 226.95it/s]\n"
     ]
    },
    {
     "name": "stdout",
     "output_type": "stream",
     "text": [
      "[24] loss: 0.032\n",
      "[24] test loss: 0.032\n"
     ]
    },
    {
     "name": "stderr",
     "output_type": "stream",
     "text": [
      "100%|██████████| 12500/12500 [00:55<00:00, 226.77it/s]\n"
     ]
    },
    {
     "name": "stdout",
     "output_type": "stream",
     "text": [
      "[25] loss: 0.032\n",
      "[25] test loss: 0.033\n"
     ]
    },
    {
     "name": "stderr",
     "output_type": "stream",
     "text": [
      "100%|██████████| 12500/12500 [00:55<00:00, 223.49it/s]\n"
     ]
    },
    {
     "name": "stdout",
     "output_type": "stream",
     "text": [
      "[26] loss: 0.032\n",
      "[26] test loss: 0.033\n"
     ]
    },
    {
     "name": "stderr",
     "output_type": "stream",
     "text": [
      "100%|██████████| 12500/12500 [00:56<00:00, 222.01it/s]\n"
     ]
    },
    {
     "name": "stdout",
     "output_type": "stream",
     "text": [
      "[27] loss: 0.032\n",
      "[27] test loss: 0.033\n"
     ]
    },
    {
     "name": "stderr",
     "output_type": "stream",
     "text": [
      "100%|██████████| 12500/12500 [00:56<00:00, 221.38it/s]\n"
     ]
    },
    {
     "name": "stdout",
     "output_type": "stream",
     "text": [
      "[28] loss: 0.031\n",
      "[28] test loss: 0.032\n"
     ]
    },
    {
     "name": "stderr",
     "output_type": "stream",
     "text": [
      "100%|██████████| 12500/12500 [00:51<00:00, 243.06it/s]\n"
     ]
    },
    {
     "name": "stdout",
     "output_type": "stream",
     "text": [
      "[29] loss: 0.031\n",
      "[29] test loss: 0.032\n"
     ]
    },
    {
     "name": "stderr",
     "output_type": "stream",
     "text": [
      "100%|██████████| 12500/12500 [00:57<00:00, 216.81it/s]\n"
     ]
    },
    {
     "name": "stdout",
     "output_type": "stream",
     "text": [
      "[30] loss: 0.031\n",
      "[30] test loss: 0.033\n"
     ]
    },
    {
     "name": "stderr",
     "output_type": "stream",
     "text": [
      "100%|██████████| 12500/12500 [01:04<00:00, 194.52it/s]\n"
     ]
    },
    {
     "name": "stdout",
     "output_type": "stream",
     "text": [
      "[31] loss: 0.031\n",
      "[31] test loss: 0.032\n"
     ]
    },
    {
     "name": "stderr",
     "output_type": "stream",
     "text": [
      "100%|██████████| 12500/12500 [01:04<00:00, 193.13it/s]\n"
     ]
    },
    {
     "name": "stdout",
     "output_type": "stream",
     "text": [
      "[32] loss: 0.031\n",
      "[32] test loss: 0.032\n"
     ]
    },
    {
     "name": "stderr",
     "output_type": "stream",
     "text": [
      "100%|██████████| 12500/12500 [00:57<00:00, 218.81it/s]\n"
     ]
    },
    {
     "name": "stdout",
     "output_type": "stream",
     "text": [
      "[33] loss: 0.031\n",
      "[33] test loss: 0.032\n"
     ]
    },
    {
     "name": "stderr",
     "output_type": "stream",
     "text": [
      "100%|██████████| 12500/12500 [00:55<00:00, 225.75it/s]\n"
     ]
    },
    {
     "name": "stdout",
     "output_type": "stream",
     "text": [
      "[34] loss: 0.031\n",
      "[34] test loss: 0.032\n"
     ]
    },
    {
     "name": "stderr",
     "output_type": "stream",
     "text": [
      "100%|██████████| 12500/12500 [00:57<00:00, 215.69it/s]\n"
     ]
    },
    {
     "name": "stdout",
     "output_type": "stream",
     "text": [
      "[35] loss: 0.030\n",
      "[35] test loss: 0.032\n"
     ]
    },
    {
     "name": "stderr",
     "output_type": "stream",
     "text": [
      "100%|██████████| 12500/12500 [00:50<00:00, 245.34it/s]\n"
     ]
    },
    {
     "name": "stdout",
     "output_type": "stream",
     "text": [
      "[36] loss: 0.030\n",
      "[36] test loss: 0.032\n"
     ]
    },
    {
     "name": "stderr",
     "output_type": "stream",
     "text": [
      "100%|██████████| 12500/12500 [00:57<00:00, 216.51it/s]\n"
     ]
    },
    {
     "name": "stdout",
     "output_type": "stream",
     "text": [
      "[37] loss: 0.030\n",
      "[37] test loss: 0.032\n"
     ]
    },
    {
     "name": "stderr",
     "output_type": "stream",
     "text": [
      "100%|██████████| 12500/12500 [00:55<00:00, 223.70it/s]\n"
     ]
    },
    {
     "name": "stdout",
     "output_type": "stream",
     "text": [
      "[38] loss: 0.030\n",
      "[38] test loss: 0.031\n"
     ]
    },
    {
     "name": "stderr",
     "output_type": "stream",
     "text": [
      "100%|██████████| 12500/12500 [01:02<00:00, 199.22it/s]\n"
     ]
    },
    {
     "name": "stdout",
     "output_type": "stream",
     "text": [
      "[39] loss: 0.030\n",
      "[39] test loss: 0.031\n"
     ]
    },
    {
     "name": "stderr",
     "output_type": "stream",
     "text": [
      "100%|██████████| 12500/12500 [00:56<00:00, 220.32it/s]\n"
     ]
    },
    {
     "name": "stdout",
     "output_type": "stream",
     "text": [
      "[40] loss: 0.030\n",
      "[40] test loss: 0.031\n"
     ]
    },
    {
     "name": "stderr",
     "output_type": "stream",
     "text": [
      "100%|██████████| 12500/12500 [00:57<00:00, 216.50it/s]\n"
     ]
    },
    {
     "name": "stdout",
     "output_type": "stream",
     "text": [
      "[41] loss: 0.030\n",
      "[41] test loss: 0.031\n"
     ]
    },
    {
     "name": "stderr",
     "output_type": "stream",
     "text": [
      "100%|██████████| 12500/12500 [00:53<00:00, 234.32it/s]\n"
     ]
    },
    {
     "name": "stdout",
     "output_type": "stream",
     "text": [
      "[42] loss: 0.030\n",
      "[42] test loss: 0.031\n"
     ]
    },
    {
     "name": "stderr",
     "output_type": "stream",
     "text": [
      "100%|██████████| 12500/12500 [00:51<00:00, 242.72it/s]\n"
     ]
    },
    {
     "name": "stdout",
     "output_type": "stream",
     "text": [
      "[43] loss: 0.030\n",
      "[43] test loss: 0.031\n"
     ]
    },
    {
     "name": "stderr",
     "output_type": "stream",
     "text": [
      "100%|██████████| 12500/12500 [00:56<00:00, 221.50it/s]\n"
     ]
    },
    {
     "name": "stdout",
     "output_type": "stream",
     "text": [
      "[44] loss: 0.030\n",
      "[44] test loss: 0.031\n"
     ]
    },
    {
     "name": "stderr",
     "output_type": "stream",
     "text": [
      "100%|██████████| 12500/12500 [00:56<00:00, 221.70it/s]\n"
     ]
    },
    {
     "name": "stdout",
     "output_type": "stream",
     "text": [
      "[45] loss: 0.030\n",
      "[45] test loss: 0.031\n"
     ]
    },
    {
     "name": "stderr",
     "output_type": "stream",
     "text": [
      "100%|██████████| 12500/12500 [00:58<00:00, 215.01it/s]\n"
     ]
    },
    {
     "name": "stdout",
     "output_type": "stream",
     "text": [
      "[46] loss: 0.030\n",
      "[46] test loss: 0.031\n"
     ]
    },
    {
     "name": "stderr",
     "output_type": "stream",
     "text": [
      "100%|██████████| 12500/12500 [00:58<00:00, 212.50it/s]\n"
     ]
    },
    {
     "name": "stdout",
     "output_type": "stream",
     "text": [
      "[47] loss: 0.029\n",
      "[47] test loss: 0.031\n"
     ]
    },
    {
     "name": "stderr",
     "output_type": "stream",
     "text": [
      "100%|██████████| 12500/12500 [00:57<00:00, 218.54it/s]\n"
     ]
    },
    {
     "name": "stdout",
     "output_type": "stream",
     "text": [
      "[48] loss: 0.029\n",
      "[48] test loss: 0.031\n"
     ]
    },
    {
     "name": "stderr",
     "output_type": "stream",
     "text": [
      "100%|██████████| 12500/12500 [01:00<00:00, 207.74it/s]\n"
     ]
    },
    {
     "name": "stdout",
     "output_type": "stream",
     "text": [
      "[49] loss: 0.029\n",
      "[49] test loss: 0.031\n"
     ]
    },
    {
     "name": "stderr",
     "output_type": "stream",
     "text": [
      "100%|██████████| 12500/12500 [00:53<00:00, 231.68it/s]\n"
     ]
    },
    {
     "name": "stdout",
     "output_type": "stream",
     "text": [
      "[50] loss: 0.029\n",
      "[50] test loss: 0.031\n",
      "Finished Training\n"
     ]
    }
   ],
   "source": [
    "lossProgress_train = []\n",
    "lossProgress_test = []\n",
    "for epoch in range(epochs):  # loop over the dataset multiple times\n",
    "    running_loss = 0.0\n",
    "    for i, data in enumerate(tqdm(trainloader)):\n",
    "        # get the inputs; data is a list of [inputs, labels]\n",
    "        inputs, labels = data#[0].to(device), data[1].to(device)\n",
    "\n",
    "        # zero the parameter gradients\n",
    "        optimizer.zero_grad()\n",
    "\n",
    "        # forward + backward + optimize\n",
    "        outputs = model(inputs)\n",
    "        loss = loss_func(outputs, labels)\n",
    "        loss.backward()\n",
    "        optimizer.step()\n",
    "\n",
    "        # print statistics\n",
    "        running_loss += loss.item()\n",
    "    print(f'[{epoch + 1}] loss: {running_loss / len(trainloader):.3f}')\n",
    "    lossProgress_train.append(running_loss / len(trainloader))\n",
    "\n",
    "    #getting loss for test\n",
    "    running_loss_test = 0.0\n",
    "    for i, data in enumerate(testloader, 0):\n",
    "        # get the inputs; data is a list of [inputs, labels]\n",
    "        inputs, labels = data#[0].to(device), data[1].to(device)\n",
    "        # forward + backward + optimize\n",
    "        outputs = model(inputs)\n",
    "        loss = loss_func(outputs, labels)\n",
    "        running_loss_test += loss.item()\n",
    "    print(f'[{epoch + 1}] test loss: {running_loss_test / len(testloader):.3f}')\n",
    "    lossProgress_test.append(running_loss_test / len(testloader))\n",
    "\n",
    "print('Finished Training')"
   ],
   "metadata": {
    "collapsed": false,
    "pycharm": {
     "name": "#%%\n"
    }
   }
  },
  {
   "cell_type": "markdown",
   "source": [
    "### Loss progress"
   ],
   "metadata": {
    "collapsed": false,
    "pycharm": {
     "name": "#%% md\n"
    }
   }
  },
  {
   "cell_type": "code",
   "execution_count": 111,
   "outputs": [],
   "source": [
    "del totalLossProgress_train\n",
    "del totalLossProgress_test"
   ],
   "metadata": {
    "collapsed": false,
    "pycharm": {
     "name": "#%%\n"
    }
   }
  },
  {
   "cell_type": "code",
   "execution_count": 112,
   "outputs": [
    {
     "data": {
      "text/plain": "<matplotlib.legend.Legend at 0x21f41014dc0>"
     },
     "execution_count": 112,
     "metadata": {},
     "output_type": "execute_result"
    },
    {
     "data": {
      "text/plain": "<Figure size 640x480 with 1 Axes>",
      "image/png": "[encoded data removed]"
     },
     "metadata": {},
     "output_type": "display_data"
    }
   ],
   "source": [
    "totalLossProgress_train = locals().get(\"totalLossProgress_train\", [])\n",
    "totalLossProgress_test = locals().get(\"totalLossProgress_test\", [])\n",
    "totalLossProgress_train += lossProgress_train\n",
    "totalLossProgress_test += lossProgress_test\n",
    "\n",
    "plt.plot([i for i in range(len(totalLossProgress_train))], totalLossProgress_train, label=\"Loss train\")\n",
    "plt.plot([i for i in range(len(totalLossProgress_test))], totalLossProgress_test, label=\"Loss test\")\n",
    "plt.legend()"
   ],
   "metadata": {
    "collapsed": false,
    "pycharm": {
     "name": "#%%\n"
    }
   }
  },
  {
   "cell_type": "markdown",
   "source": [
    "### Results and scores"
   ],
   "metadata": {
    "collapsed": false,
    "pycharm": {
     "name": "#%% md\n"
    }
   }
  },
  {
   "cell_type": "code",
   "execution_count": 113,
   "outputs": [
    {
     "name": "stdout",
     "output_type": "stream",
     "text": [
      "ChurnModel --------------------------------------\n",
      "precision : 0.98823152\n",
      "recall : 0.98823045\n",
      "f1 : 0.98823\n",
      "roc : 0.98823045\n",
      "accuracy : 0.98823\n"
     ]
    },
    {
     "data": {
      "text/plain": "{'precision': 0.98823152,\n 'recall': 0.98823045,\n 'f1': 0.98823,\n 'roc': 0.98823045,\n 'accuracy': 0.98823}"
     },
     "execution_count": 113,
     "metadata": {},
     "output_type": "execute_result"
    }
   ],
   "source": [
    "y_pred = model(torch.tensor(x_test, dtype=torch.float32))\n",
    "y_pred_true = torch.round(y_pred).detach().numpy()\n",
    "model_rapport(\"ChurnModel\", y_test=y_test, y_pred=y_pred_true)"
   ],
   "metadata": {
    "collapsed": false,
    "pycharm": {
     "name": "#%%\n"
    }
   }
  },
  {
   "cell_type": "code",
   "execution_count": 114,
   "outputs": [
    {
     "ename": "ValueError",
     "evalue": "multilabel-indicator is not supported",
     "output_type": "error",
     "traceback": [
      "\u001B[1;31m---------------------------------------------------------------------------\u001B[0m",
      "\u001B[1;31mValueError\u001B[0m                                Traceback (most recent call last)",
      "Cell \u001B[1;32mIn [114], line 1\u001B[0m\n\u001B[1;32m----> 1\u001B[0m \u001B[43mConfusionMatrixDisplay\u001B[49m\u001B[38;5;241;43m.\u001B[39;49m\u001B[43mfrom_predictions\u001B[49m\u001B[43m(\u001B[49m\u001B[43my_true\u001B[49m\u001B[38;5;241;43m=\u001B[39;49m\u001B[43my_test\u001B[49m\u001B[43m,\u001B[49m\u001B[43m \u001B[49m\u001B[43my_pred\u001B[49m\u001B[38;5;241;43m=\u001B[39;49m\u001B[43my_pred_true\u001B[49m\u001B[43m,\u001B[49m\u001B[43m \u001B[49m\u001B[43mcmap\u001B[49m\u001B[38;5;241;43m=\u001B[39;49m\u001B[38;5;124;43m\"\u001B[39;49m\u001B[38;5;124;43mviridis\u001B[39;49m\u001B[38;5;124;43m\"\u001B[39;49m\u001B[43m,\u001B[49m\u001B[43m \u001B[49m\u001B[43mnormalize\u001B[49m\u001B[38;5;241;43m=\u001B[39;49m\u001B[38;5;124;43m\"\u001B[39;49m\u001B[38;5;124;43mall\u001B[39;49m\u001B[38;5;124;43m\"\u001B[39;49m\u001B[43m)\u001B[49m\n",
      "File \u001B[1;32m~\\AppData\\Local\\Programs\\Python\\Python310\\lib\\site-packages\\sklearn\\metrics\\_plot\\confusion_matrix.py:441\u001B[0m, in \u001B[0;36mConfusionMatrixDisplay.from_predictions\u001B[1;34m(cls, y_true, y_pred, labels, sample_weight, normalize, display_labels, include_values, xticks_rotation, values_format, cmap, ax, colorbar, im_kw)\u001B[0m\n\u001B[0;32m    438\u001B[0m     \u001B[38;5;28;01melse\u001B[39;00m:\n\u001B[0;32m    439\u001B[0m         display_labels \u001B[38;5;241m=\u001B[39m labels\n\u001B[1;32m--> 441\u001B[0m cm \u001B[38;5;241m=\u001B[39m \u001B[43mconfusion_matrix\u001B[49m\u001B[43m(\u001B[49m\n\u001B[0;32m    442\u001B[0m \u001B[43m    \u001B[49m\u001B[43my_true\u001B[49m\u001B[43m,\u001B[49m\n\u001B[0;32m    443\u001B[0m \u001B[43m    \u001B[49m\u001B[43my_pred\u001B[49m\u001B[43m,\u001B[49m\n\u001B[0;32m    444\u001B[0m \u001B[43m    \u001B[49m\u001B[43msample_weight\u001B[49m\u001B[38;5;241;43m=\u001B[39;49m\u001B[43msample_weight\u001B[49m\u001B[43m,\u001B[49m\n\u001B[0;32m    445\u001B[0m \u001B[43m    \u001B[49m\u001B[43mlabels\u001B[49m\u001B[38;5;241;43m=\u001B[39;49m\u001B[43mlabels\u001B[49m\u001B[43m,\u001B[49m\n\u001B[0;32m    446\u001B[0m \u001B[43m    \u001B[49m\u001B[43mnormalize\u001B[49m\u001B[38;5;241;43m=\u001B[39;49m\u001B[43mnormalize\u001B[49m\u001B[43m,\u001B[49m\n\u001B[0;32m    447\u001B[0m \u001B[43m\u001B[49m\u001B[43m)\u001B[49m\n\u001B[0;32m    449\u001B[0m disp \u001B[38;5;241m=\u001B[39m \u001B[38;5;28mcls\u001B[39m(confusion_matrix\u001B[38;5;241m=\u001B[39mcm, display_labels\u001B[38;5;241m=\u001B[39mdisplay_labels)\n\u001B[0;32m    451\u001B[0m \u001B[38;5;28;01mreturn\u001B[39;00m disp\u001B[38;5;241m.\u001B[39mplot(\n\u001B[0;32m    452\u001B[0m     include_values\u001B[38;5;241m=\u001B[39minclude_values,\n\u001B[0;32m    453\u001B[0m     cmap\u001B[38;5;241m=\u001B[39mcmap,\n\u001B[1;32m   (...)\u001B[0m\n\u001B[0;32m    458\u001B[0m     im_kw\u001B[38;5;241m=\u001B[39mim_kw,\n\u001B[0;32m    459\u001B[0m )\n",
      "File \u001B[1;32m~\\AppData\\Local\\Programs\\Python\\Python310\\lib\\site-packages\\sklearn\\metrics\\_classification.py:309\u001B[0m, in \u001B[0;36mconfusion_matrix\u001B[1;34m(y_true, y_pred, labels, sample_weight, normalize)\u001B[0m\n\u001B[0;32m    307\u001B[0m y_type, y_true, y_pred \u001B[38;5;241m=\u001B[39m _check_targets(y_true, y_pred)\n\u001B[0;32m    308\u001B[0m \u001B[38;5;28;01mif\u001B[39;00m y_type \u001B[38;5;129;01mnot\u001B[39;00m \u001B[38;5;129;01min\u001B[39;00m (\u001B[38;5;124m\"\u001B[39m\u001B[38;5;124mbinary\u001B[39m\u001B[38;5;124m\"\u001B[39m, \u001B[38;5;124m\"\u001B[39m\u001B[38;5;124mmulticlass\u001B[39m\u001B[38;5;124m\"\u001B[39m):\n\u001B[1;32m--> 309\u001B[0m     \u001B[38;5;28;01mraise\u001B[39;00m \u001B[38;5;167;01mValueError\u001B[39;00m(\u001B[38;5;124m\"\u001B[39m\u001B[38;5;132;01m%s\u001B[39;00m\u001B[38;5;124m is not supported\u001B[39m\u001B[38;5;124m\"\u001B[39m \u001B[38;5;241m%\u001B[39m y_type)\n\u001B[0;32m    311\u001B[0m \u001B[38;5;28;01mif\u001B[39;00m labels \u001B[38;5;129;01mis\u001B[39;00m \u001B[38;5;28;01mNone\u001B[39;00m:\n\u001B[0;32m    312\u001B[0m     labels \u001B[38;5;241m=\u001B[39m unique_labels(y_true, y_pred)\n",
      "\u001B[1;31mValueError\u001B[0m: multilabel-indicator is not supported"
     ]
    }
   ],
   "source": [
    "ConfusionMatrixDisplay.from_predictions(y_true=y_test, y_pred=y_pred_true, cmap=\"viridis\", normalize=\"all\")"
   ],
   "metadata": {
    "collapsed": false,
    "pycharm": {
     "name": "#%%\n"
    }
   }
  },
  {
   "cell_type": "markdown",
   "source": [
    "### Cross validation"
   ],
   "metadata": {
    "collapsed": false,
    "pycharm": {
     "name": "#%% md\n"
    }
   }
  },
  {
   "cell_type": "code",
   "execution_count": 74,
   "outputs": [
    {
     "name": "stdout",
     "output_type": "stream",
     "text": [
      "split 0 ----------------------------------------------------\n",
      "[1] loss: 0.475\n",
      "[1] test loss: 0.379\n",
      "[2] loss: 0.332\n",
      "[2] test loss: 0.298\n",
      "[3] loss: 0.277\n",
      "[3] test loss: 0.255\n",
      "[4] loss: 0.255\n",
      "[4] test loss: 0.240\n",
      "[5] loss: 0.231\n",
      "[5] test loss: 0.239\n",
      "[6] loss: 0.214\n",
      "[6] test loss: 0.197\n",
      "[7] loss: 0.205\n",
      "[7] test loss: 0.207\n",
      "[8] loss: 0.190\n",
      "[8] test loss: 0.206\n",
      "[9] loss: 0.183\n",
      "[9] test loss: 0.177\n",
      "[10] loss: 0.178\n",
      "[10] test loss: 0.174\n",
      "[11] loss: 0.180\n",
      "[11] test loss: 0.174\n",
      "[12] loss: 0.170\n",
      "[12] test loss: 0.158\n",
      "[13] loss: 0.163\n",
      "[13] test loss: 0.167\n",
      "[14] loss: 0.161\n",
      "[14] test loss: 0.167\n",
      "[15] loss: 0.161\n",
      "[15] test loss: 0.158\n",
      "[16] loss: 0.157\n",
      "[16] test loss: 0.159\n",
      "[17] loss: 0.153\n",
      "[17] test loss: 0.159\n",
      "[18] loss: 0.144\n",
      "[18] test loss: 0.158\n",
      "[19] loss: 0.150\n",
      "[19] test loss: 0.147\n",
      "[20] loss: 0.150\n",
      "[20] test loss: 0.135\n",
      "[21] loss: 0.144\n",
      "[21] test loss: 0.133\n",
      "[22] loss: 0.140\n",
      "[22] test loss: 0.148\n",
      "[23] loss: 0.139\n",
      "[23] test loss: 0.149\n",
      "[24] loss: 0.141\n",
      "[24] test loss: 0.131\n",
      "[25] loss: 0.136\n",
      "[25] test loss: 0.158\n",
      "[26] loss: 0.141\n",
      "[26] test loss: 0.143\n",
      "[27] loss: 0.137\n",
      "[27] test loss: 0.149\n",
      "[28] loss: 0.129\n",
      "[28] test loss: 0.141\n",
      "[29] loss: 0.128\n",
      "[29] test loss: 0.139\n",
      "[30] loss: 0.128\n",
      "[30] test loss: 0.144\n",
      "[31] loss: 0.134\n",
      "[31] test loss: 0.145\n",
      "[32] loss: 0.121\n",
      "[32] test loss: 0.119\n",
      "[33] loss: 0.126\n",
      "[33] test loss: 0.124\n",
      "[34] loss: 0.115\n",
      "[34] test loss: 0.126\n",
      "[35] loss: 0.119\n",
      "[35] test loss: 0.119\n",
      "[36] loss: 0.119\n",
      "[36] test loss: 0.135\n",
      "[37] loss: 0.119\n",
      "[37] test loss: 0.110\n",
      "[38] loss: 0.119\n",
      "[38] test loss: 0.120\n",
      "[39] loss: 0.119\n",
      "[39] test loss: 0.134\n",
      "[40] loss: 0.124\n",
      "[40] test loss: 0.139\n",
      "[41] loss: 0.116\n",
      "[41] test loss: 0.114\n",
      "[42] loss: 0.131\n",
      "[42] test loss: 0.119\n",
      "[43] loss: 0.114\n",
      "[43] test loss: 0.120\n",
      "[44] loss: 0.116\n",
      "[44] test loss: 0.115\n",
      "[45] loss: 0.117\n",
      "[45] test loss: 0.108\n",
      "[46] loss: 0.112\n",
      "[46] test loss: 0.132\n",
      "[47] loss: 0.112\n",
      "[47] test loss: 0.124\n",
      "[48] loss: 0.107\n",
      "[48] test loss: 0.132\n",
      "[49] loss: 0.103\n",
      "[49] test loss: 0.119\n",
      "[50] loss: 0.114\n",
      "[50] test loss: 0.127\n",
      "Finished Training\n",
      "Rapport split 0\n",
      "ChurnModel --------------------------------------\n",
      "precision : 0.98000962\n",
      "recall : 0.97998658\n",
      "f1 : 0.97999712\n",
      "roc : 0.97998658\n",
      "accuracy : 0.98\n",
      "split 1 ----------------------------------------------------\n",
      "[1] loss: 0.470\n",
      "[1] test loss: 0.384\n",
      "[2] loss: 0.338\n",
      "[2] test loss: 0.308\n",
      "[3] loss: 0.285\n",
      "[3] test loss: 0.278\n",
      "[4] loss: 0.253\n",
      "[4] test loss: 0.241\n",
      "[5] loss: 0.240\n",
      "[5] test loss: 0.235\n",
      "[6] loss: 0.228\n",
      "[6] test loss: 0.229\n",
      "[7] loss: 0.220\n",
      "[7] test loss: 0.230\n",
      "[8] loss: 0.205\n",
      "[8] test loss: 0.204\n",
      "[9] loss: 0.192\n",
      "[9] test loss: 0.193\n",
      "[10] loss: 0.191\n",
      "[10] test loss: 0.196\n",
      "[11] loss: 0.186\n",
      "[11] test loss: 0.179\n",
      "[12] loss: 0.173\n",
      "[12] test loss: 0.175\n",
      "[13] loss: 0.169\n",
      "[13] test loss: 0.171\n",
      "[14] loss: 0.164\n",
      "[14] test loss: 0.163\n",
      "[15] loss: 0.162\n",
      "[15] test loss: 0.168\n",
      "[16] loss: 0.154\n",
      "[16] test loss: 0.178\n",
      "[17] loss: 0.159\n",
      "[17] test loss: 0.170\n",
      "[18] loss: 0.150\n",
      "[18] test loss: 0.164\n",
      "[19] loss: 0.140\n",
      "[19] test loss: 0.176\n",
      "[20] loss: 0.146\n",
      "[20] test loss: 0.155\n",
      "[21] loss: 0.141\n",
      "[21] test loss: 0.161\n",
      "[22] loss: 0.139\n",
      "[22] test loss: 0.155\n",
      "[23] loss: 0.137\n",
      "[23] test loss: 0.152\n",
      "[24] loss: 0.135\n",
      "[24] test loss: 0.143\n",
      "[25] loss: 0.133\n",
      "[25] test loss: 0.138\n",
      "[26] loss: 0.131\n",
      "[26] test loss: 0.133\n",
      "[27] loss: 0.131\n",
      "[27] test loss: 0.128\n",
      "[28] loss: 0.133\n",
      "[28] test loss: 0.142\n",
      "[29] loss: 0.123\n",
      "[29] test loss: 0.146\n",
      "[30] loss: 0.137\n",
      "[30] test loss: 0.119\n",
      "[31] loss: 0.129\n",
      "[31] test loss: 0.153\n",
      "[32] loss: 0.124\n",
      "[32] test loss: 0.131\n",
      "[33] loss: 0.121\n",
      "[33] test loss: 0.144\n",
      "[34] loss: 0.126\n",
      "[34] test loss: 0.127\n",
      "[35] loss: 0.123\n",
      "[35] test loss: 0.152\n",
      "[36] loss: 0.128\n",
      "[36] test loss: 0.134\n",
      "[37] loss: 0.119\n",
      "[37] test loss: 0.122\n",
      "[38] loss: 0.123\n",
      "[38] test loss: 0.131\n",
      "[39] loss: 0.119\n",
      "[39] test loss: 0.113\n",
      "[40] loss: 0.120\n",
      "[40] test loss: 0.145\n",
      "[41] loss: 0.123\n",
      "[41] test loss: 0.112\n",
      "[42] loss: 0.116\n",
      "[42] test loss: 0.117\n",
      "[43] loss: 0.116\n",
      "[43] test loss: 0.127\n",
      "[44] loss: 0.116\n",
      "[44] test loss: 0.125\n",
      "[45] loss: 0.111\n",
      "[45] test loss: 0.120\n",
      "[46] loss: 0.110\n",
      "[46] test loss: 0.127\n",
      "[47] loss: 0.118\n",
      "[47] test loss: 0.122\n",
      "[48] loss: 0.114\n",
      "[48] test loss: 0.127\n",
      "[49] loss: 0.105\n",
      "[49] test loss: 0.106\n",
      "[50] loss: 0.122\n",
      "[50] test loss: 0.109\n",
      "Finished Training\n",
      "Rapport split 1\n",
      "ChurnModel --------------------------------------\n",
      "precision : 0.97676915\n",
      "recall : 0.97722781\n",
      "f1 : 0.97696314\n",
      "roc : 0.97722781\n",
      "accuracy : 0.977\n",
      "split 2 ----------------------------------------------------\n",
      "[1] loss: 0.594\n",
      "[1] test loss: 0.417\n",
      "[2] loss: 0.365\n",
      "[2] test loss: 0.325\n",
      "[3] loss: 0.301\n",
      "[3] test loss: 0.281\n",
      "[4] loss: 0.267\n",
      "[4] test loss: 0.255\n",
      "[5] loss: 0.239\n",
      "[5] test loss: 0.246\n",
      "[6] loss: 0.227\n",
      "[6] test loss: 0.235\n",
      "[7] loss: 0.209\n",
      "[7] test loss: 0.216\n",
      "[8] loss: 0.189\n",
      "[8] test loss: 0.202\n",
      "[9] loss: 0.188\n",
      "[9] test loss: 0.192\n",
      "[10] loss: 0.180\n",
      "[10] test loss: 0.208\n",
      "[11] loss: 0.184\n",
      "[11] test loss: 0.187\n",
      "[12] loss: 0.175\n",
      "[12] test loss: 0.180\n",
      "[13] loss: 0.163\n",
      "[13] test loss: 0.182\n",
      "[14] loss: 0.157\n",
      "[14] test loss: 0.172\n",
      "[15] loss: 0.158\n",
      "[15] test loss: 0.170\n",
      "[16] loss: 0.155\n",
      "[16] test loss: 0.158\n",
      "[17] loss: 0.150\n",
      "[17] test loss: 0.172\n",
      "[18] loss: 0.145\n",
      "[18] test loss: 0.161\n",
      "[19] loss: 0.144\n",
      "[19] test loss: 0.169\n",
      "[20] loss: 0.143\n",
      "[20] test loss: 0.161\n",
      "[21] loss: 0.138\n",
      "[21] test loss: 0.153\n",
      "[22] loss: 0.132\n",
      "[22] test loss: 0.151\n",
      "[23] loss: 0.136\n",
      "[23] test loss: 0.145\n",
      "[24] loss: 0.133\n",
      "[24] test loss: 0.138\n",
      "[25] loss: 0.134\n",
      "[25] test loss: 0.160\n",
      "[26] loss: 0.133\n",
      "[26] test loss: 0.125\n",
      "[27] loss: 0.131\n",
      "[27] test loss: 0.147\n",
      "[28] loss: 0.132\n",
      "[28] test loss: 0.145\n",
      "[29] loss: 0.125\n",
      "[29] test loss: 0.139\n",
      "[30] loss: 0.122\n",
      "[30] test loss: 0.133\n",
      "[31] loss: 0.131\n",
      "[31] test loss: 0.131\n",
      "[32] loss: 0.121\n",
      "[32] test loss: 0.128\n",
      "[33] loss: 0.125\n",
      "[33] test loss: 0.144\n",
      "[34] loss: 0.114\n",
      "[34] test loss: 0.139\n",
      "[35] loss: 0.118\n",
      "[35] test loss: 0.136\n",
      "[36] loss: 0.118\n",
      "[36] test loss: 0.118\n",
      "[37] loss: 0.123\n",
      "[37] test loss: 0.124\n",
      "[38] loss: 0.114\n",
      "[38] test loss: 0.130\n",
      "[39] loss: 0.114\n",
      "[39] test loss: 0.147\n",
      "[40] loss: 0.115\n",
      "[40] test loss: 0.120\n",
      "[41] loss: 0.109\n",
      "[41] test loss: 0.136\n",
      "[42] loss: 0.105\n",
      "[42] test loss: 0.111\n",
      "[43] loss: 0.109\n",
      "[43] test loss: 0.133\n",
      "[44] loss: 0.112\n",
      "[44] test loss: 0.148\n",
      "[45] loss: 0.108\n",
      "[45] test loss: 0.137\n",
      "[46] loss: 0.106\n",
      "[46] test loss: 0.121\n",
      "[47] loss: 0.112\n",
      "[47] test loss: 0.136\n",
      "[48] loss: 0.101\n",
      "[48] test loss: 0.130\n",
      "[49] loss: 0.108\n",
      "[49] test loss: 0.122\n",
      "[50] loss: 0.105\n",
      "[50] test loss: 0.130\n",
      "Finished Training\n",
      "Rapport split 2\n",
      "ChurnModel --------------------------------------\n",
      "precision : 0.9800045\n",
      "recall : 0.97999682\n",
      "f1 : 0.97999968\n",
      "roc : 0.97999682\n",
      "accuracy : 0.98\n",
      "split 3 ----------------------------------------------------\n",
      "[1] loss: 0.497\n",
      "[1] test loss: 0.376\n",
      "[2] loss: 0.341\n",
      "[2] test loss: 0.307\n",
      "[3] loss: 0.285\n",
      "[3] test loss: 0.275\n",
      "[4] loss: 0.262\n",
      "[4] test loss: 0.247\n",
      "[5] loss: 0.229\n",
      "[5] test loss: 0.226\n",
      "[6] loss: 0.214\n",
      "[6] test loss: 0.216\n",
      "[7] loss: 0.209\n",
      "[7] test loss: 0.212\n",
      "[8] loss: 0.195\n",
      "[8] test loss: 0.186\n",
      "[9] loss: 0.182\n",
      "[9] test loss: 0.173\n",
      "[10] loss: 0.180\n",
      "[10] test loss: 0.171\n",
      "[11] loss: 0.181\n",
      "[11] test loss: 0.175\n",
      "[12] loss: 0.173\n",
      "[12] test loss: 0.164\n",
      "[13] loss: 0.168\n",
      "[13] test loss: 0.172\n",
      "[14] loss: 0.157\n",
      "[14] test loss: 0.148\n",
      "[15] loss: 0.157\n",
      "[15] test loss: 0.163\n",
      "[16] loss: 0.155\n",
      "[16] test loss: 0.151\n",
      "[17] loss: 0.143\n",
      "[17] test loss: 0.140\n",
      "[18] loss: 0.155\n",
      "[18] test loss: 0.137\n",
      "[19] loss: 0.142\n",
      "[19] test loss: 0.161\n",
      "[20] loss: 0.140\n",
      "[20] test loss: 0.138\n",
      "[21] loss: 0.147\n",
      "[21] test loss: 0.150\n",
      "[22] loss: 0.141\n",
      "[22] test loss: 0.118\n",
      "[23] loss: 0.145\n",
      "[23] test loss: 0.124\n",
      "[24] loss: 0.140\n",
      "[24] test loss: 0.136\n",
      "[25] loss: 0.131\n",
      "[25] test loss: 0.139\n",
      "[26] loss: 0.139\n",
      "[26] test loss: 0.127\n",
      "[27] loss: 0.139\n",
      "[27] test loss: 0.139\n",
      "[28] loss: 0.132\n",
      "[28] test loss: 0.132\n",
      "[29] loss: 0.129\n",
      "[29] test loss: 0.123\n",
      "[30] loss: 0.124\n",
      "[30] test loss: 0.148\n",
      "[31] loss: 0.133\n",
      "[31] test loss: 0.131\n",
      "[32] loss: 0.132\n",
      "[32] test loss: 0.116\n",
      "[33] loss: 0.133\n",
      "[33] test loss: 0.108\n",
      "[34] loss: 0.126\n",
      "[34] test loss: 0.141\n",
      "[35] loss: 0.125\n",
      "[35] test loss: 0.116\n",
      "[36] loss: 0.122\n",
      "[36] test loss: 0.122\n",
      "[37] loss: 0.116\n",
      "[37] test loss: 0.126\n",
      "[38] loss: 0.120\n",
      "[38] test loss: 0.133\n",
      "[39] loss: 0.115\n",
      "[39] test loss: 0.116\n",
      "[40] loss: 0.114\n",
      "[40] test loss: 0.119\n",
      "[41] loss: 0.119\n",
      "[41] test loss: 0.117\n",
      "[42] loss: 0.120\n",
      "[42] test loss: 0.115\n",
      "[43] loss: 0.109\n",
      "[43] test loss: 0.132\n",
      "[44] loss: 0.114\n",
      "[44] test loss: 0.114\n",
      "[45] loss: 0.106\n",
      "[45] test loss: 0.126\n",
      "[46] loss: 0.115\n",
      "[46] test loss: 0.120\n",
      "[47] loss: 0.112\n",
      "[47] test loss: 0.109\n",
      "[48] loss: 0.113\n",
      "[48] test loss: 0.118\n",
      "[49] loss: 0.116\n",
      "[49] test loss: 0.119\n",
      "[50] loss: 0.111\n",
      "[50] test loss: 0.104\n",
      "Finished Training\n",
      "Rapport split 3\n",
      "ChurnModel --------------------------------------\n",
      "precision : 0.98032696\n",
      "recall : 0.9808623\n",
      "f1 : 0.9804863\n",
      "roc : 0.9808623\n",
      "accuracy : 0.9805\n",
      "split 4 ----------------------------------------------------\n",
      "[1] loss: 0.518\n",
      "[1] test loss: 0.391\n",
      "[2] loss: 0.343\n",
      "[2] test loss: 0.308\n",
      "[3] loss: 0.292\n",
      "[3] test loss: 0.274\n",
      "[4] loss: 0.252\n",
      "[4] test loss: 0.239\n",
      "[5] loss: 0.232\n",
      "[5] test loss: 0.219\n",
      "[6] loss: 0.214\n",
      "[6] test loss: 0.204\n",
      "[7] loss: 0.207\n",
      "[7] test loss: 0.209\n",
      "[8] loss: 0.192\n",
      "[8] test loss: 0.207\n",
      "[9] loss: 0.190\n",
      "[9] test loss: 0.186\n",
      "[10] loss: 0.171\n",
      "[10] test loss: 0.164\n",
      "[11] loss: 0.176\n",
      "[11] test loss: 0.177\n",
      "[12] loss: 0.174\n",
      "[12] test loss: 0.165\n",
      "[13] loss: 0.171\n",
      "[13] test loss: 0.168\n",
      "[14] loss: 0.158\n",
      "[14] test loss: 0.161\n",
      "[15] loss: 0.161\n",
      "[15] test loss: 0.187\n",
      "[16] loss: 0.155\n",
      "[16] test loss: 0.148\n",
      "[17] loss: 0.148\n",
      "[17] test loss: 0.154\n",
      "[18] loss: 0.154\n",
      "[18] test loss: 0.148\n",
      "[19] loss: 0.138\n",
      "[19] test loss: 0.136\n",
      "[20] loss: 0.140\n",
      "[20] test loss: 0.157\n",
      "[21] loss: 0.141\n",
      "[21] test loss: 0.139\n",
      "[22] loss: 0.139\n",
      "[22] test loss: 0.137\n",
      "[23] loss: 0.141\n",
      "[23] test loss: 0.131\n",
      "[24] loss: 0.134\n",
      "[24] test loss: 0.130\n",
      "[25] loss: 0.137\n",
      "[25] test loss: 0.144\n",
      "[26] loss: 0.130\n",
      "[26] test loss: 0.136\n",
      "[27] loss: 0.130\n",
      "[27] test loss: 0.145\n",
      "[28] loss: 0.127\n",
      "[28] test loss: 0.116\n",
      "[29] loss: 0.124\n",
      "[29] test loss: 0.141\n",
      "[30] loss: 0.128\n",
      "[30] test loss: 0.131\n",
      "[31] loss: 0.117\n",
      "[31] test loss: 0.129\n",
      "[32] loss: 0.122\n",
      "[32] test loss: 0.123\n",
      "[33] loss: 0.119\n",
      "[33] test loss: 0.126\n",
      "[34] loss: 0.124\n",
      "[34] test loss: 0.132\n",
      "[35] loss: 0.115\n",
      "[35] test loss: 0.137\n",
      "[36] loss: 0.112\n",
      "[36] test loss: 0.122\n",
      "[37] loss: 0.112\n",
      "[37] test loss: 0.122\n",
      "[38] loss: 0.116\n",
      "[38] test loss: 0.124\n",
      "[39] loss: 0.119\n",
      "[39] test loss: 0.115\n",
      "[40] loss: 0.113\n",
      "[40] test loss: 0.117\n",
      "[41] loss: 0.107\n",
      "[41] test loss: 0.130\n",
      "[42] loss: 0.112\n",
      "[42] test loss: 0.115\n",
      "[43] loss: 0.107\n",
      "[43] test loss: 0.122\n",
      "[44] loss: 0.108\n",
      "[44] test loss: 0.120\n",
      "[45] loss: 0.112\n",
      "[45] test loss: 0.124\n",
      "[46] loss: 0.097\n",
      "[46] test loss: 0.101\n",
      "[47] loss: 0.107\n",
      "[47] test loss: 0.113\n",
      "[48] loss: 0.108\n",
      "[48] test loss: 0.106\n",
      "[49] loss: 0.105\n",
      "[49] test loss: 0.119\n",
      "[50] loss: 0.106\n",
      "[50] test loss: 0.117\n",
      "Finished Training\n",
      "Rapport split 4\n",
      "ChurnModel --------------------------------------\n",
      "precision : 0.98500287\n",
      "recall : 0.98499898\n",
      "f1 : 0.98499994\n",
      "roc : 0.98499898\n",
      "accuracy : 0.985\n"
     ]
    }
   ],
   "source": [
    "maxepochs = 20\n",
    "learning_rate = 1e-5\n",
    "kf = KFold(n_splits=5, shuffle=True)\n",
    "metrics = [\"precision\", \"recall\", \"f1\", \"roc\", \"accuracy\"]\n",
    "\n",
    "resultsCV = {}\n",
    "for metric in metrics:\n",
    "    resultsCV[metric] = []\n",
    "\n",
    "n_split=0\n",
    "lossProgress_train = []\n",
    "lossProgress_test = []\n",
    "\n",
    "for train_index, test_index in kf.split(x):\n",
    "\n",
    "    print(\"split\", n_split, \"----------------------------------------------------\")\n",
    "\n",
    "    x_train, y_train = x.iloc[train_index], y.iloc[train_index]\n",
    "    x_test, y_test = x.iloc[test_index], y.iloc[test_index]\n",
    "\n",
    "    #normalizing data, only according to train data mean and variance\n",
    "    scaler = preprocessing.StandardScaler()\n",
    "    scaler.fit(x_train)\n",
    "    x_train = scaler.transform(x_train)\n",
    "    x_test = scaler.transform(x_test)\n",
    "\n",
    "    # Prepare dataset\n",
    "    dataset = MyDataset(x=x_train, y=y_train.to_numpy())\n",
    "    dataset_test = MyDataset(x=x_test, y=y_test.to_numpy())\n",
    "    trainloader = torch.utils.data.DataLoader(dataset, batch_size=10, shuffle=True, num_workers=0)\n",
    "    testloader = torch.utils.data.DataLoader(dataset_test, batch_size=10, shuffle=True, num_workers=0)\n",
    "\n",
    "    # prepare model\n",
    "    model = ChurnModel()\n",
    "\n",
    "    #loss function\n",
    "    loss_func = nn.BCELoss()\n",
    "\n",
    "    #Optimizer\n",
    "    optimizer = torch.optim.Adam(model.parameters(), lr=learning_rate)\n",
    "\n",
    "    for epoch in range(maxepochs):  # loop over the dataset multiple times\n",
    "        running_loss = 0.0\n",
    "        for i, data in enumerate(trainloader, 0):\n",
    "            # get the inputs; data is a list of [inputs, labels]\n",
    "            inputs, labels = data\n",
    "\n",
    "            # zero the parameter gradients\n",
    "            optimizer.zero_grad()\n",
    "\n",
    "            # forward + backward + optimize\n",
    "            outputs = model(inputs)\n",
    "            loss = loss_func(outputs, labels)\n",
    "            loss.backward()\n",
    "            optimizer.step()\n",
    "\n",
    "            # print statistics\n",
    "            running_loss += loss.item()\n",
    "        print(f'[{epoch + 1}] loss: {running_loss / len(trainloader):.3f}')\n",
    "        lossProgress_train.append(running_loss / len(trainloader))\n",
    "\n",
    "        #getting loss for test\n",
    "        running_loss_test = 0.0\n",
    "        for i, data in enumerate(testloader, 0):\n",
    "            # get the inputs; data is a list of [inputs, labels]\n",
    "            inputs, labels = data\n",
    "            # forward + backward + optimize\n",
    "            outputs = model(inputs)\n",
    "            loss = loss_func(outputs, labels)\n",
    "            running_loss_test += loss.item()\n",
    "        print(f'[{epoch + 1}] test loss: {running_loss_test / len(testloader):.3f}')\n",
    "        lossProgress_test.append(running_loss_test / len(testloader))\n",
    "    print('Finished Training')\n",
    "\n",
    "    #eval\n",
    "    y_pred = model(torch.tensor(x_test, dtype=torch.float32))\n",
    "    y_pred_true = torch.round(y_pred).detach().numpy()\n",
    "    print(\"Rapport split\", n_split)\n",
    "    metricsRapport = model_rapport(\"ChurnModel\", y_test=y_test, y_pred=y_pred_true)\n",
    "\n",
    "    for metric in metrics:\n",
    "        resultsCV[metric].append(metricsRapport[metric])\n",
    "\n",
    "    n_split += 1\n"
   ],
   "metadata": {
    "collapsed": false,
    "pycharm": {
     "name": "#%%\n"
    }
   }
  },
  {
   "cell_type": "code",
   "execution_count": 75,
   "outputs": [
    {
     "name": "stdout",
     "output_type": "stream",
     "text": [
      "Final results : \n",
      "precision : 0.98042262\n",
      "recall : 0.9806145\n",
      "f1 : 0.98048924\n",
      "roc : 0.9806145\n",
      "accuracy : 0.9805\n"
     ]
    }
   ],
   "source": [
    "print(\"Final results : \")\n",
    "for metric in metrics:\n",
    "    print(metric, \":\", round(np.array(resultsCV[metric]).mean(), 8))"
   ],
   "metadata": {
    "collapsed": false,
    "pycharm": {
     "name": "#%%\n"
    }
   }
  },
  {
   "cell_type": "code",
   "execution_count": 76,
   "outputs": [
    {
     "data": {
      "text/plain": "<matplotlib.legend.Legend at 0x21fd7c00820>"
     },
     "execution_count": 76,
     "metadata": {},
     "output_type": "execute_result"
    },
    {
     "data": {
      "text/plain": "<Figure size 640x480 with 1 Axes>",
      "image/png": "[encoded data removed]"
     },
     "metadata": {},
     "output_type": "display_data"
    }
   ],
   "source": [
    "plt.plot([i for i in range(n_split*maxepochs)], lossProgress_train, label=\"Loss train\")\n",
    "plt.plot([i for i in range(n_split*maxepochs)], lossProgress_test, label=\"Loss test\")\n",
    "plt.legend()"
   ],
   "metadata": {
    "collapsed": false,
    "pycharm": {
     "name": "#%%\n"
    }
   }
  },
  {
   "cell_type": "code",
   "execution_count": null,
   "outputs": [],
   "source": [],
   "metadata": {
    "collapsed": false,
    "pycharm": {
     "name": "#%%\n"
    }
   }
  }
 ],
 "metadata": {
  "kernelspec": {
   "display_name": "Python 3",
   "language": "python",
   "name": "python3"
  },
  "language_info": {
   "codemirror_mode": {
    "name": "ipython",
    "version": 2
   },
   "file_extension": ".py",
   "mimetype": "text/x-python",
   "name": "python",
   "nbconvert_exporter": "python",
   "pygments_lexer": "ipython2",
   "version": "2.7.6"
  }
 },
 "nbformat": 4,
 "nbformat_minor": 0
}