{
 "cells": [
  {
   "cell_type": "code",
   "execution_count": 1,
   "metadata": {
    "collapsed": true,
    "pycharm": {
     "name": "#%%\n"
    }
   },
   "outputs": [],
   "source": [
    "import os\n",
    "import time\n",
    "import numpy as np\n",
    "import pandas as pd\n",
    "#from sklearnex import patch_sklearn #use intel patch before importing sklearn\n",
    "#patch_sklearn()\n",
    "from sklearn import preprocessing\n",
    "from sklearn.pipeline import Pipeline\n",
    "from sklearn.model_selection import train_test_split, cross_validate, GridSearchCV\n",
    "from sklearn import linear_model, svm, tree, ensemble, neighbors\n",
    "from sklearn.metrics import r2_score, mean_absolute_error, mean_squared_error, ConfusionMatrixDisplay\n",
    "import matplotlib.pyplot as plt\n",
    "from xgboost import XGBRegressor\n",
    "import lightgbm as lgbm"
   ]
  },
  {
   "cell_type": "markdown",
   "metadata": {
    "collapsed": false,
    "pycharm": {
     "name": "#%% md\n"
    }
   },
   "source": [
    "## Loading Data"
   ]
  },
  {
   "cell_type": "code",
   "execution_count": 2,
   "metadata": {
    "collapsed": false,
    "pycharm": {
     "name": "#%%\n"
    }
   },
   "outputs": [],
   "source": [
    "fullData = pd.read_csv(\"../HGS/clean_dataset_v3.csv\", sep=\",\")\n",
    "fullData = fullData.drop(columns=[\"S7\", \"S13\"])"
   ]
  },
  {
   "cell_type": "code",
   "execution_count": 3,
   "metadata": {
    "collapsed": false,
    "pycharm": {
     "name": "#%%\n"
    }
   },
   "outputs": [],
   "source": [
    "instanceData = fullData[fullData[\"instance_name\"].str.find(\"3113\") > 0]\n",
    "chunkData = fullData.sample(10000, random_state=123456)\n",
    "if \"instance_name\" in chunkData.columns:\n",
    "    chunkData = chunkData.drop(columns=[\"instance_name\"])\n",
    "\n",
    "del fullData"
   ]
  },
  {
   "cell_type": "code",
   "execution_count": 79,
   "metadata": {
    "collapsed": false,
    "pycharm": {
     "name": "#%%\n"
    }
   },
   "outputs": [
    {
     "name": "stdout",
     "output_type": "stream",
     "text": [
      "[ 7791. 18345. 26322.]\n"
     ]
    },
    {
     "data": {
      "text/plain": "           cost       S1        S2      S3      S4       S5       S6       S8  \\\n12800051  14483  131.402   99.7370  0.0847  0.0643  559.667  299.700  448.750   \n5483954   10406  137.274   64.4632  0.1157  0.0859  454.500  100.664  293.000   \n10788912  20900  162.031   93.7861  0.0574  0.0474  973.900  281.018  759.600   \n8346315   21353  230.727  149.5370  0.1096  0.0606  803.167  322.533  641.167   \n134772    14324  266.923  133.4720  0.2667  0.2520  473.333  171.891  348.583   \n\n              S9     S10       S11     S12     S14      S15      S16     S17  \\\n12800051  0.3663  0.0872   805.167  0.3704  0.2457  637.502  345.401  2.2111   \n5483954   0.2868  0.1268   525.600  0.2123  0.0329  249.455  352.032  1.8974   \n10788912  0.3692  0.0821  1421.000  0.3636  0.2727  593.597  437.968  3.0000   \n8346315   0.3607  0.1160  1117.000  0.3704  0.2457  724.450  496.813  2.2111   \n134772    0.3057  0.1183   592.333  0.3704  0.2457  443.784  472.126  2.2111   \n\n             S18  top0.5  top1.0  label  \n12800051  4.1302    True   False      1  \n5483954   3.8180    True   False      1  \n10788912  4.7000   False    True      2  \n8346315   3.4688   False    True      2  \n134772    2.9479    True   False      1  ",
      "text/html": "<div>\n<style scoped>\n    .dataframe tbody tr th:only-of-type {\n        vertical-align: middle;\n    }\n\n    .dataframe tbody tr th {\n        vertical-align: top;\n    }\n\n    .dataframe thead th {\n        text-align: right;\n    }\n</style>\n<table border=\"1\" class=\"dataframe\">\n  <thead>\n    <tr style=\"text-align: right;\">\n      <th></th>\n      <th>cost</th>\n      <th>S1</th>\n      <th>S2</th>\n      <th>S3</th>\n      <th>S4</th>\n      <th>S5</th>\n      <th>S6</th>\n      <th>S8</th>\n      <th>S9</th>\n      <th>S10</th>\n      <th>S11</th>\n      <th>S12</th>\n      <th>S14</th>\n      <th>S15</th>\n      <th>S16</th>\n      <th>S17</th>\n      <th>S18</th>\n      <th>top0.5</th>\n      <th>top1.0</th>\n      <th>label</th>\n    </tr>\n  </thead>\n  <tbody>\n    <tr>\n      <th>12800051</th>\n      <td>14483</td>\n      <td>131.402</td>\n      <td>99.7370</td>\n      <td>0.0847</td>\n      <td>0.0643</td>\n      <td>559.667</td>\n      <td>299.700</td>\n      <td>448.750</td>\n      <td>0.3663</td>\n      <td>0.0872</td>\n      <td>805.167</td>\n      <td>0.3704</td>\n      <td>0.2457</td>\n      <td>637.502</td>\n      <td>345.401</td>\n      <td>2.2111</td>\n      <td>4.1302</td>\n      <td>True</td>\n      <td>False</td>\n      <td>1</td>\n    </tr>\n    <tr>\n      <th>5483954</th>\n      <td>10406</td>\n      <td>137.274</td>\n      <td>64.4632</td>\n      <td>0.1157</td>\n      <td>0.0859</td>\n      <td>454.500</td>\n      <td>100.664</td>\n      <td>293.000</td>\n      <td>0.2868</td>\n      <td>0.1268</td>\n      <td>525.600</td>\n      <td>0.2123</td>\n      <td>0.0329</td>\n      <td>249.455</td>\n      <td>352.032</td>\n      <td>1.8974</td>\n      <td>3.8180</td>\n      <td>True</td>\n      <td>False</td>\n      <td>1</td>\n    </tr>\n    <tr>\n      <th>10788912</th>\n      <td>20900</td>\n      <td>162.031</td>\n      <td>93.7861</td>\n      <td>0.0574</td>\n      <td>0.0474</td>\n      <td>973.900</td>\n      <td>281.018</td>\n      <td>759.600</td>\n      <td>0.3692</td>\n      <td>0.0821</td>\n      <td>1421.000</td>\n      <td>0.3636</td>\n      <td>0.2727</td>\n      <td>593.597</td>\n      <td>437.968</td>\n      <td>3.0000</td>\n      <td>4.7000</td>\n      <td>False</td>\n      <td>True</td>\n      <td>2</td>\n    </tr>\n    <tr>\n      <th>8346315</th>\n      <td>21353</td>\n      <td>230.727</td>\n      <td>149.5370</td>\n      <td>0.1096</td>\n      <td>0.0606</td>\n      <td>803.167</td>\n      <td>322.533</td>\n      <td>641.167</td>\n      <td>0.3607</td>\n      <td>0.1160</td>\n      <td>1117.000</td>\n      <td>0.3704</td>\n      <td>0.2457</td>\n      <td>724.450</td>\n      <td>496.813</td>\n      <td>2.2111</td>\n      <td>3.4688</td>\n      <td>False</td>\n      <td>True</td>\n      <td>2</td>\n    </tr>\n    <tr>\n      <th>134772</th>\n      <td>14324</td>\n      <td>266.923</td>\n      <td>133.4720</td>\n      <td>0.2667</td>\n      <td>0.2520</td>\n      <td>473.333</td>\n      <td>171.891</td>\n      <td>348.583</td>\n      <td>0.3057</td>\n      <td>0.1183</td>\n      <td>592.333</td>\n      <td>0.3704</td>\n      <td>0.2457</td>\n      <td>443.784</td>\n      <td>472.126</td>\n      <td>2.2111</td>\n      <td>2.9479</td>\n      <td>True</td>\n      <td>False</td>\n      <td>1</td>\n    </tr>\n  </tbody>\n</table>\n</div>"
     },
     "execution_count": 79,
     "metadata": {},
     "output_type": "execute_result"
    }
   ],
   "source": [
    "#I shouldn't standarize the whole set\n",
    "#chunkData = pd.DataFrame(preprocessing.StandardScaler().fit_transform(chunkData), columns=colNames)\n",
    "\n",
    "nbrLabels = 2\n",
    "\n",
    "separators = np.quantile(chunkData[\"cost\"], [i/nbrLabels for i in range(0, nbrLabels+1)])\n",
    "print(separators)\n",
    "labelCols = []\n",
    "#labelize data\n",
    "for i in range(1, nbrLabels+1):\n",
    "    labelCols.append(\"top\"+str(i/nbrLabels))\n",
    "    if i < nbrLabels:\n",
    "        chunkData[\"top\"+str(i/nbrLabels)] = (separators[i-1] <= chunkData[\"cost\"]) & (chunkData[\"cost\"] < separators[i])\n",
    "    else:\n",
    "        chunkData[\"top\"+str(i/nbrLabels)] = (separators[i-1] <= chunkData[\"cost\"]) & (chunkData[\"cost\"] <= separators[i])\n",
    "    chunkData.loc[chunkData[\"top\"+str(i/nbrLabels)], \"label\"] = i\n",
    "\n",
    "chunkData[\"label\"] = chunkData[\"label\"].astype(int)\n",
    "chunkData.head()"
   ]
  },
  {
   "cell_type": "code",
   "execution_count": 77,
   "metadata": {
    "collapsed": false,
    "pycharm": {
     "name": "#%%\n"
    }
   },
   "outputs": [],
   "source": [
    "y = chunkData[\"label\"]\n",
    "x = chunkData.drop(columns=labelCols + [\"cost\"] + [\"label\"])"
   ]
  },
  {
   "cell_type": "code",
   "execution_count": 78,
   "outputs": [
    {
     "data": {
      "text/plain": "count    10000.000000\nmean         1.500000\nstd          0.500025\nmin          1.000000\n25%          1.000000\n50%          1.500000\n75%          2.000000\nmax          2.000000\nName: label, dtype: float64"
     },
     "execution_count": 78,
     "metadata": {},
     "output_type": "execute_result"
    }
   ],
   "source": [
    "y.describe()"
   ],
   "metadata": {
    "collapsed": false,
    "pycharm": {
     "name": "#%%\n"
    }
   }
  },
  {
   "cell_type": "markdown",
   "metadata": {
    "collapsed": false,
    "pycharm": {
     "name": "#%% md\n"
    }
   },
   "source": [
    "## Utils\n",
    "### Training methods"
   ]
  },
  {
   "cell_type": "code",
   "execution_count": 67,
   "metadata": {
    "collapsed": false,
    "pycharm": {
     "name": "#%%\n"
    }
   },
   "outputs": [],
   "source": [
    "def model_cv_rapport(model , name  : str, x : np.array, y : np.array, cv=5, precision = 8):\n",
    "    \"\"\"\n",
    "    Apply the model then cross validate and export its score \n",
    "    \"\"\"\n",
    "    #making sure data is standarized\n",
    "    pipe = Pipeline([\n",
    "        ('scale', preprocessing.StandardScaler()),\n",
    "        ('clf', model)\n",
    "    ])\n",
    "    score = cross_validate(pipe, x, y, cv=cv,\n",
    "                           scoring=[\"precision\", \"recall\", \"f1\", \"roc_auc\", \"accuracy\"],\n",
    "                           verbose=10,\n",
    "                           n_jobs=-1)\n",
    "    print (name, \"--------------------------------------\")\n",
    "    print(\"Precision: \", round(score[\"test_precision\"].mean(), precision))\n",
    "    print(\"Recall: \", round(score[\"test_recall\"].mean(), precision))\n",
    "    print(\"F1: \", round(score[\"test_f1\"].mean(), precision))\n",
    "    print(\"ROC: \", round(score[\"test_roc_auc\"].mean(), precision))\n",
    "    print(\"Accuracy: \", round(score[\"test_accuracy\"].mean(), precision))"
   ]
  },
  {
   "cell_type": "code",
   "execution_count": 68,
   "metadata": {
    "collapsed": false,
    "pycharm": {
     "name": "#%%\n"
    }
   },
   "outputs": [],
   "source": [
    "def grid_search(grid, model, x_train, y_train, cv=5, verbose=10):\n",
    "    #making sure data is standarized\n",
    "    pipe = Pipeline([\n",
    "        ('scale', preprocessing.StandardScaler()),\n",
    "        ('clf', model)\n",
    "    ])\n",
    "\n",
    "    #modifying grid params to match pipeline\n",
    "    newGrid = [{}]\n",
    "    for key, item in grid.items():\n",
    "        newGrid[0][\"clf__\"+key] = item\n",
    "\n",
    "    logreg_cv=GridSearchCV(pipe,param_grid=newGrid,cv=cv, verbose=verbose, scoring=\"f1\")\n",
    "    logreg_cv.fit(x_train,y_train)\n",
    "    print(\"tuned hyperparameters :(best parameters) \",logreg_cv.best_params_)\n",
    "    print(\"accuracy :\",logreg_cv.best_score_)\n",
    "    return logreg_cv"
   ]
  },
  {
   "cell_type": "markdown",
   "metadata": {
    "collapsed": false,
    "pycharm": {
     "name": "#%% md\n"
    }
   },
   "source": [
    "### Plotting methods"
   ]
  },
  {
   "cell_type": "code",
   "execution_count": 69,
   "metadata": {
    "collapsed": false,
    "pycharm": {
     "name": "#%%\n"
    }
   },
   "outputs": [],
   "source": [
    "def plotGridResults(logreg_cv, x_axis_prec=4):\n",
    "    nbrParam = len(logreg_cv.cv_results_[\"params\"])\n",
    "    nSplits = logreg_cv.n_splits_\n",
    "    scores = [[] for i in range(nbrParam)]\n",
    "    for i in range(nbrParam):\n",
    "        for j in range(nSplits):\n",
    "            scores[i].append(logreg_cv.cv_results_[\"split\"+str(j)+\"_test_score\"][i])\n",
    "\n",
    "    labels = []\n",
    "    for param in logreg_cv.cv_results_[\"params\"]:\n",
    "        for name, value in param.items():\n",
    "            if type(value) == str:\n",
    "                labels.append(value)\n",
    "            else:\n",
    "                labels.append(str(round(value,x_axis_prec)))\n",
    "    plt.figure(figsize=(20,10))\n",
    "    plt.boxplot(scores, labels=labels)"
   ]
  },
  {
   "cell_type": "markdown",
   "metadata": {
    "collapsed": false,
    "pycharm": {
     "name": "#%% md\n"
    }
   },
   "source": [
    "## Models"
   ]
  },
  {
   "cell_type": "code",
   "execution_count": 70,
   "metadata": {
    "collapsed": false,
    "pycharm": {
     "name": "#%%\n"
    }
   },
   "outputs": [
    {
     "data": {
      "text/plain": "'\\nc1 = [1, 0, 0, 0]\\nc2 = [0, 1, 0, 0]\\nc3 = [0, 0, 1, 0]\\nc4 = [0, 0, 0, 1]\\na = np.array([c3, c3, c4, c2, c1, c1, c4])\\nb = np.array([c4, c3, c4, c4, c1, c1, c2])\\nconfusion_matrix(a, b)'"
     },
     "execution_count": 70,
     "metadata": {},
     "output_type": "execute_result"
    }
   ],
   "source": [
    "def confusion_matrix(Y_pred, Y_test):\n",
    "    plt.title('Distribution des coûts', fontdict={'fontsize': 10})\n",
    "    n_samples = Y_pred.shape[0]\n",
    "    n_classes = Y_pred.shape[1]\n",
    "    C = np.zeros((n_classes, n_classes))\n",
    "    for i in range(n_samples):\n",
    "        cpred = np.argmax(Y_pred[i])\n",
    "        ctest = np.argmax(Y_test[i])\n",
    "        C[cpred, ctest] += 1\n",
    "    plt.figure(figsize=(5, 5))\n",
    "    plt.imshow(C, cmap='viridis')\n",
    "    plt.colorbar(shrink=0.8)\n",
    "    plt.xticks(np.arange(n_classes), np.arange(n_classes) + 1)\n",
    "    plt.yticks(np.arange(n_classes), np.arange(n_classes) + 1)\n",
    "    plt.xlabel(\"pred\", size=13)\n",
    "    plt.ylabel(\"true\", size=13)\n",
    "    return C\n",
    "\n",
    "\"\"\"\n",
    "c1 = [1, 0, 0, 0]\n",
    "c2 = [0, 1, 0, 0]\n",
    "c3 = [0, 0, 1, 0]\n",
    "c4 = [0, 0, 0, 1]\n",
    "a = np.array([c3, c3, c4, c2, c1, c1, c4])\n",
    "b = np.array([c4, c3, c4, c4, c1, c1, c2])\n",
    "confusion_matrix(a, b)\"\"\""
   ]
  },
  {
   "cell_type": "markdown",
   "metadata": {
    "pycharm": {
     "name": "#%% md\n"
    }
   },
   "source": [
    "# Support Vector Classification"
   ]
  },
  {
   "cell_type": "code",
   "execution_count": 80,
   "metadata": {
    "pycharm": {
     "name": "#%%\n"
    }
   },
   "outputs": [
    {
     "data": {
      "text/plain": "SVC()",
      "text/html": "<style>#sk-container-id-2 {color: black;background-color: white;}#sk-container-id-2 pre{padding: 0;}#sk-container-id-2 div.sk-toggleable {background-color: white;}#sk-container-id-2 label.sk-toggleable__label {cursor: pointer;display: block;width: 100%;margin-bottom: 0;padding: 0.3em;box-sizing: border-box;text-align: center;}#sk-container-id-2 label.sk-toggleable__label-arrow:before {content: \"▸\";float: left;margin-right: 0.25em;color: #696969;}#sk-container-id-2 label.sk-toggleable__label-arrow:hover:before {color: black;}#sk-container-id-2 div.sk-estimator:hover label.sk-toggleable__label-arrow:before {color: black;}#sk-container-id-2 div.sk-toggleable__content {max-height: 0;max-width: 0;overflow: hidden;text-align: left;background-color: #f0f8ff;}#sk-container-id-2 div.sk-toggleable__content pre {margin: 0.2em;color: black;border-radius: 0.25em;background-color: #f0f8ff;}#sk-container-id-2 input.sk-toggleable__control:checked~div.sk-toggleable__content {max-height: 200px;max-width: 100%;overflow: auto;}#sk-container-id-2 input.sk-toggleable__control:checked~label.sk-toggleable__label-arrow:before {content: \"▾\";}#sk-container-id-2 div.sk-estimator input.sk-toggleable__control:checked~label.sk-toggleable__label {background-color: #d4ebff;}#sk-container-id-2 div.sk-label input.sk-toggleable__control:checked~label.sk-toggleable__label {background-color: #d4ebff;}#sk-container-id-2 input.sk-hidden--visually {border: 0;clip: rect(1px 1px 1px 1px);clip: rect(1px, 1px, 1px, 1px);height: 1px;margin: -1px;overflow: hidden;padding: 0;position: absolute;width: 1px;}#sk-container-id-2 div.sk-estimator {font-family: monospace;background-color: #f0f8ff;border: 1px dotted black;border-radius: 0.25em;box-sizing: border-box;margin-bottom: 0.5em;}#sk-container-id-2 div.sk-estimator:hover {background-color: #d4ebff;}#sk-container-id-2 div.sk-parallel-item::after {content: \"\";width: 100%;border-bottom: 1px solid gray;flex-grow: 1;}#sk-container-id-2 div.sk-label:hover label.sk-toggleable__label {background-color: #d4ebff;}#sk-container-id-2 div.sk-serial::before {content: \"\";position: absolute;border-left: 1px solid gray;box-sizing: border-box;top: 0;bottom: 0;left: 50%;z-index: 0;}#sk-container-id-2 div.sk-serial {display: flex;flex-direction: column;align-items: center;background-color: white;padding-right: 0.2em;padding-left: 0.2em;position: relative;}#sk-container-id-2 div.sk-item {position: relative;z-index: 1;}#sk-container-id-2 div.sk-parallel {display: flex;align-items: stretch;justify-content: center;background-color: white;position: relative;}#sk-container-id-2 div.sk-item::before, #sk-container-id-2 div.sk-parallel-item::before {content: \"\";position: absolute;border-left: 1px solid gray;box-sizing: border-box;top: 0;bottom: 0;left: 50%;z-index: -1;}#sk-container-id-2 div.sk-parallel-item {display: flex;flex-direction: column;z-index: 1;position: relative;background-color: white;}#sk-container-id-2 div.sk-parallel-item:first-child::after {align-self: flex-end;width: 50%;}#sk-container-id-2 div.sk-parallel-item:last-child::after {align-self: flex-start;width: 50%;}#sk-container-id-2 div.sk-parallel-item:only-child::after {width: 0;}#sk-container-id-2 div.sk-dashed-wrapped {border: 1px dashed gray;margin: 0 0.4em 0.5em 0.4em;box-sizing: border-box;padding-bottom: 0.4em;background-color: white;}#sk-container-id-2 div.sk-label label {font-family: monospace;font-weight: bold;display: inline-block;line-height: 1.2em;}#sk-container-id-2 div.sk-label-container {text-align: center;}#sk-container-id-2 div.sk-container {/* jupyter's `normalize.less` sets `[hidden] { display: none; }` but bootstrap.min.css set `[hidden] { display: none !important; }` so we also need the `!important` here to be able to override the default hidden behavior on the sphinx rendered scikit-learn.org. See: https://github.com/scikit-learn/scikit-learn/issues/21755 */display: inline-block !important;position: relative;}#sk-container-id-2 div.sk-text-repr-fallback {display: none;}</style><div id=\"sk-container-id-2\" class=\"sk-top-container\"><div class=\"sk-text-repr-fallback\"><pre>SVC()</pre><b>In a Jupyter environment, please rerun this cell to show the HTML representation or trust the notebook. <br />On GitHub, the HTML representation is unable to render, please try loading this page with nbviewer.org.</b></div><div class=\"sk-container\" hidden><div class=\"sk-item\"><div class=\"sk-estimator sk-toggleable\"><input class=\"sk-toggleable__control sk-hidden--visually\" id=\"sk-estimator-id-2\" type=\"checkbox\" checked><label for=\"sk-estimator-id-2\" class=\"sk-toggleable__label sk-toggleable__label-arrow\">SVC</label><div class=\"sk-toggleable__content\"><pre>SVC()</pre></div></div></div></div></div>"
     },
     "execution_count": 80,
     "metadata": {},
     "output_type": "execute_result"
    }
   ],
   "source": [
    "#Setting model\n",
    "model = svm.SVC(kernel=\"rbf\", gamma=\"scale\")"
   ]
  },
  {
   "cell_type": "code",
   "execution_count": 81,
   "metadata": {
    "pycharm": {
     "name": "#%%\n"
    }
   },
   "outputs": [
    {
     "name": "stderr",
     "output_type": "stream",
     "text": [
      "[Parallel(n_jobs=-1)]: Using backend LokyBackend with 4 concurrent workers.\n",
      "[Parallel(n_jobs=-1)]: Done   2 out of   5 | elapsed:    0.3s remaining:    0.6s\n",
      "[Parallel(n_jobs=-1)]: Done   3 out of   5 | elapsed:    0.4s remaining:    0.2s\n"
     ]
    },
    {
     "name": "stdout",
     "output_type": "stream",
     "text": [
      "Non tuned SVC --------------------------------------\n",
      "Precision:  1.0\n",
      "Recall:  0.9962\n",
      "F1:  0.99809534\n",
      "ROC:  0.9998268\n",
      "Accuracy:  0.9981\n"
     ]
    },
    {
     "name": "stderr",
     "output_type": "stream",
     "text": [
      "[Parallel(n_jobs=-1)]: Done   5 out of   5 | elapsed:    0.8s remaining:    0.0s\n",
      "[Parallel(n_jobs=-1)]: Done   5 out of   5 | elapsed:    0.8s finished\n"
     ]
    }
   ],
   "source": [
    "model_cv_rapport(model, \"Non tuned SVC\", x, y)"
   ]
  },
  {
   "cell_type": "markdown",
   "metadata": {
    "pycharm": {
     "name": "#%% md\n"
    }
   },
   "source": [
    "### Hyperparameters - SVC"
   ]
  },
  {
   "cell_type": "markdown",
   "metadata": {
    "pycharm": {
     "name": "#%% md\n"
    }
   },
   "source": [
    "#### kernel param"
   ]
  },
  {
   "cell_type": "code",
   "execution_count": 82,
   "metadata": {
    "pycharm": {
     "name": "#%%\n"
    }
   },
   "outputs": [
    {
     "name": "stdout",
     "output_type": "stream",
     "text": [
      "Fitting 5 folds for each of 4 candidates, totalling 20 fits\n",
      "[CV 1/5; 1/4] START clf__kernel=linear..........................................\n",
      "[CV 1/5; 1/4] END ...........clf__kernel=linear;, score=0.997 total time=   0.0s\n",
      "[CV 2/5; 1/4] START clf__kernel=linear..........................................\n",
      "[CV 2/5; 1/4] END ...........clf__kernel=linear;, score=1.000 total time=   0.0s\n",
      "[CV 3/5; 1/4] START clf__kernel=linear..........................................\n",
      "[CV 3/5; 1/4] END ...........clf__kernel=linear;, score=0.997 total time=   0.0s\n",
      "[CV 4/5; 1/4] START clf__kernel=linear..........................................\n",
      "[CV 4/5; 1/4] END ...........clf__kernel=linear;, score=0.998 total time=   0.0s\n",
      "[CV 5/5; 1/4] START clf__kernel=linear..........................................\n",
      "[CV 5/5; 1/4] END ...........clf__kernel=linear;, score=0.998 total time=   0.0s\n",
      "[CV 1/5; 2/4] START clf__kernel=poly............................................\n",
      "[CV 1/5; 2/4] END .............clf__kernel=poly;, score=0.997 total time=   0.1s\n",
      "[CV 2/5; 2/4] START clf__kernel=poly............................................\n",
      "[CV 2/5; 2/4] END .............clf__kernel=poly;, score=1.000 total time=   0.1s\n",
      "[CV 3/5; 2/4] START clf__kernel=poly............................................\n",
      "[CV 3/5; 2/4] END .............clf__kernel=poly;, score=0.997 total time=   0.1s\n",
      "[CV 4/5; 2/4] START clf__kernel=poly............................................\n",
      "[CV 4/5; 2/4] END .............clf__kernel=poly;, score=0.998 total time=   0.2s\n",
      "[CV 5/5; 2/4] START clf__kernel=poly............................................\n",
      "[CV 5/5; 2/4] END .............clf__kernel=poly;, score=0.998 total time=   0.1s\n",
      "[CV 1/5; 3/4] START clf__kernel=rbf.............................................\n",
      "[CV 1/5; 3/4] END ..............clf__kernel=rbf;, score=0.997 total time=   0.1s\n",
      "[CV 2/5; 3/4] START clf__kernel=rbf.............................................\n",
      "[CV 2/5; 3/4] END ..............clf__kernel=rbf;, score=1.000 total time=   0.1s\n",
      "[CV 3/5; 3/4] START clf__kernel=rbf.............................................\n",
      "[CV 3/5; 3/4] END ..............clf__kernel=rbf;, score=0.997 total time=   0.2s\n",
      "[CV 4/5; 3/4] START clf__kernel=rbf.............................................\n",
      "[CV 4/5; 3/4] END ..............clf__kernel=rbf;, score=0.998 total time=   0.1s\n",
      "[CV 5/5; 3/4] START clf__kernel=rbf.............................................\n",
      "[CV 5/5; 3/4] END ..............clf__kernel=rbf;, score=0.998 total time=   0.1s\n",
      "[CV 1/5; 4/4] START clf__kernel=sigmoid.........................................\n",
      "[CV 1/5; 4/4] END ..........clf__kernel=sigmoid;, score=0.867 total time=   0.5s\n",
      "[CV 2/5; 4/4] START clf__kernel=sigmoid.........................................\n",
      "[CV 2/5; 4/4] END ..........clf__kernel=sigmoid;, score=0.884 total time=   1.2s\n",
      "[CV 3/5; 4/4] START clf__kernel=sigmoid.........................................\n",
      "[CV 3/5; 4/4] END ..........clf__kernel=sigmoid;, score=0.873 total time=   0.7s\n",
      "[CV 4/5; 4/4] START clf__kernel=sigmoid.........................................\n",
      "[CV 4/5; 4/4] END ..........clf__kernel=sigmoid;, score=0.873 total time=   0.7s\n",
      "[CV 5/5; 4/4] START clf__kernel=sigmoid.........................................\n",
      "[CV 5/5; 4/4] END ..........clf__kernel=sigmoid;, score=0.897 total time=   0.6s\n",
      "tuned hyperparameters :(best parameters)  {'clf__kernel': 'linear'}\n",
      "accuracy : 0.9980953382445064\n"
     ]
    }
   ],
   "source": [
    "#Testing kernel parameter\n",
    "grid={#\"C\":np.logspace(-3,3,7),\n",
    "      \"kernel\": [\"linear\", \"poly\", \"rbf\", \"sigmoid\"]}\n",
    "      #\"epsilon\":np.logspace(-3,3,7),\n",
    "      #\"gamma\": np.logspace(-3,3,7)}\n",
    "model=svm.SVC()\n",
    "results = grid_search(grid, model, x, y)"
   ]
  },
  {
   "cell_type": "code",
   "execution_count": 83,
   "metadata": {
    "pycharm": {
     "name": "#%%\n"
    }
   },
   "outputs": [
    {
     "data": {
      "text/plain": "<Figure size 2000x1000 with 1 Axes>",
      "image/png": "[encoded data removed]"
     },
     "metadata": {},
     "output_type": "display_data"
    }
   ],
   "source": [
    "plotGridResults(results)"
   ]
  },
  {
   "cell_type": "markdown",
   "metadata": {
    "pycharm": {
     "name": "#%% md\n"
    }
   },
   "source": [
    "#### C param"
   ]
  },
  {
   "cell_type": "code",
   "execution_count": 84,
   "metadata": {
    "pycharm": {
     "name": "#%%\n"
    }
   },
   "outputs": [
    {
     "name": "stdout",
     "output_type": "stream",
     "text": [
      "Fitting 5 folds for each of 7 candidates, totalling 35 fits\n",
      "[CV 1/5; 1/7] START clf__C=0.1..................................................\n",
      "[CV 1/5; 1/7] END ...................clf__C=0.1;, score=0.997 total time=   0.0s\n",
      "[CV 2/5; 1/7] START clf__C=0.1..................................................\n",
      "[CV 2/5; 1/7] END ...................clf__C=0.1;, score=1.000 total time=   0.1s\n",
      "[CV 3/5; 1/7] START clf__C=0.1..................................................\n",
      "[CV 3/5; 1/7] END ...................clf__C=0.1;, score=0.997 total time=   0.1s\n",
      "[CV 4/5; 1/7] START clf__C=0.1..................................................\n",
      "[CV 4/5; 1/7] END ...................clf__C=0.1;, score=0.998 total time=   0.2s\n",
      "[CV 5/5; 1/7] START clf__C=0.1..................................................\n",
      "[CV 5/5; 1/7] END ...................clf__C=0.1;, score=0.998 total time=   0.2s\n",
      "[CV 1/5; 2/7] START clf__C=0.46415888336127786..................................\n",
      "[CV 1/5; 2/7] END ...clf__C=0.46415888336127786;, score=0.997 total time=   0.0s\n",
      "[CV 2/5; 2/7] START clf__C=0.46415888336127786..................................\n",
      "[CV 2/5; 2/7] END ...clf__C=0.46415888336127786;, score=1.000 total time=   0.0s\n",
      "[CV 3/5; 2/7] START clf__C=0.46415888336127786..................................\n",
      "[CV 3/5; 2/7] END ...clf__C=0.46415888336127786;, score=0.997 total time=   0.0s\n",
      "[CV 4/5; 2/7] START clf__C=0.46415888336127786..................................\n",
      "[CV 4/5; 2/7] END ...clf__C=0.46415888336127786;, score=0.998 total time=   0.0s\n",
      "[CV 5/5; 2/7] START clf__C=0.46415888336127786..................................\n",
      "[CV 5/5; 2/7] END ...clf__C=0.46415888336127786;, score=0.998 total time=   0.0s\n",
      "[CV 1/5; 3/7] START clf__C=2.1544346900318834...................................\n",
      "[CV 1/5; 3/7] END ....clf__C=2.1544346900318834;, score=0.997 total time=   0.0s\n",
      "[CV 2/5; 3/7] START clf__C=2.1544346900318834...................................\n",
      "[CV 2/5; 3/7] END ....clf__C=2.1544346900318834;, score=1.000 total time=   0.0s\n",
      "[CV 3/5; 3/7] START clf__C=2.1544346900318834...................................\n",
      "[CV 3/5; 3/7] END ....clf__C=2.1544346900318834;, score=0.997 total time=   0.0s\n",
      "[CV 4/5; 3/7] START clf__C=2.1544346900318834...................................\n",
      "[CV 4/5; 3/7] END ....clf__C=2.1544346900318834;, score=0.998 total time=   0.0s\n",
      "[CV 5/5; 3/7] START clf__C=2.1544346900318834...................................\n",
      "[CV 5/5; 3/7] END ....clf__C=2.1544346900318834;, score=0.998 total time=   0.0s\n",
      "[CV 1/5; 4/7] START clf__C=10.0.................................................\n",
      "[CV 1/5; 4/7] END ..................clf__C=10.0;, score=0.997 total time=   0.0s\n",
      "[CV 2/5; 4/7] START clf__C=10.0.................................................\n",
      "[CV 2/5; 4/7] END ..................clf__C=10.0;, score=1.000 total time=   0.0s\n",
      "[CV 3/5; 4/7] START clf__C=10.0.................................................\n",
      "[CV 3/5; 4/7] END ..................clf__C=10.0;, score=0.997 total time=   0.0s\n",
      "[CV 4/5; 4/7] START clf__C=10.0.................................................\n",
      "[CV 4/5; 4/7] END ..................clf__C=10.0;, score=0.998 total time=   0.0s\n",
      "[CV 5/5; 4/7] START clf__C=10.0.................................................\n",
      "[CV 5/5; 4/7] END ..................clf__C=10.0;, score=0.998 total time=   0.0s\n",
      "[CV 1/5; 5/7] START clf__C=46.41588833612777....................................\n",
      "[CV 1/5; 5/7] END .....clf__C=46.41588833612777;, score=0.997 total time=   0.0s\n",
      "[CV 2/5; 5/7] START clf__C=46.41588833612777....................................\n",
      "[CV 2/5; 5/7] END .....clf__C=46.41588833612777;, score=1.000 total time=   0.0s\n",
      "[CV 3/5; 5/7] START clf__C=46.41588833612777....................................\n",
      "[CV 3/5; 5/7] END .....clf__C=46.41588833612777;, score=0.997 total time=   0.0s\n",
      "[CV 4/5; 5/7] START clf__C=46.41588833612777....................................\n",
      "[CV 4/5; 5/7] END .....clf__C=46.41588833612777;, score=0.998 total time=   0.0s\n",
      "[CV 5/5; 5/7] START clf__C=46.41588833612777....................................\n",
      "[CV 5/5; 5/7] END .....clf__C=46.41588833612777;, score=0.997 total time=   0.0s\n",
      "[CV 1/5; 6/7] START clf__C=215.44346900318823...................................\n",
      "[CV 1/5; 6/7] END ....clf__C=215.44346900318823;, score=0.998 total time=   0.0s\n",
      "[CV 2/5; 6/7] START clf__C=215.44346900318823...................................\n",
      "[CV 2/5; 6/7] END ....clf__C=215.44346900318823;, score=0.999 total time=   0.0s\n",
      "[CV 3/5; 6/7] START clf__C=215.44346900318823...................................\n",
      "[CV 3/5; 6/7] END ....clf__C=215.44346900318823;, score=0.997 total time=   0.0s\n",
      "[CV 4/5; 6/7] START clf__C=215.44346900318823...................................\n",
      "[CV 4/5; 6/7] END ....clf__C=215.44346900318823;, score=0.998 total time=   0.0s\n",
      "[CV 5/5; 6/7] START clf__C=215.44346900318823...................................\n",
      "[CV 5/5; 6/7] END ....clf__C=215.44346900318823;, score=0.998 total time=   0.1s\n",
      "[CV 1/5; 7/7] START clf__C=1000.0...............................................\n",
      "[CV 1/5; 7/7] END ................clf__C=1000.0;, score=0.998 total time=   0.2s\n",
      "[CV 2/5; 7/7] START clf__C=1000.0...............................................\n",
      "[CV 2/5; 7/7] END ................clf__C=1000.0;, score=0.999 total time=   0.1s\n",
      "[CV 3/5; 7/7] START clf__C=1000.0...............................................\n",
      "[CV 3/5; 7/7] END ................clf__C=1000.0;, score=0.998 total time=   0.2s\n",
      "[CV 4/5; 7/7] START clf__C=1000.0...............................................\n",
      "[CV 4/5; 7/7] END ................clf__C=1000.0;, score=0.998 total time=   0.2s\n",
      "[CV 5/5; 7/7] START clf__C=1000.0...............................................\n",
      "[CV 5/5; 7/7] END ................clf__C=1000.0;, score=0.997 total time=   0.1s\n",
      "tuned hyperparameters :(best parameters)  {'clf__C': 215.44346900318823}\n",
      "accuracy : 0.9982985476207296\n"
     ]
    },
    {
     "data": {
      "text/plain": "<Figure size 2000x1000 with 1 Axes>",
      "image/png": "[encoded data removed]"
     },
     "metadata": {},
     "output_type": "display_data"
    }
   ],
   "source": [
    "#Testing C parameter\n",
    "grid={\"C\":np.logspace(-1,3,7)}\n",
    "      #\"kernel\": [\"rbf\"]\n",
    "      #\"epsilon\":np.logspace(-3,3,7),\n",
    "      #\"gamma\": np.logspace(-3,3,7)}\n",
    "model=svm.SVC(kernel=\"linear\")\n",
    "Cresults = grid_search(grid, model, x, y)\n",
    "plotGridResults(Cresults)"
   ]
  },
  {
   "cell_type": "markdown",
   "metadata": {
    "pycharm": {
     "name": "#%% md\n"
    }
   },
   "source": [
    "We choose C = 215 as the variance is far lower than for 1000"
   ]
  },
  {
   "cell_type": "markdown",
   "metadata": {
    "pycharm": {
     "name": "#%% md\n"
    }
   },
   "source": [
    "#### Best hyperparameters"
   ]
  },
  {
   "cell_type": "code",
   "execution_count": 85,
   "metadata": {
    "pycharm": {
     "name": "#%%\n"
    }
   },
   "outputs": [
    {
     "name": "stderr",
     "output_type": "stream",
     "text": [
      "[Parallel(n_jobs=-1)]: Using backend LokyBackend with 4 concurrent workers.\n",
      "[Parallel(n_jobs=-1)]: Batch computation too fast (0.1803s.) Setting batch_size=2.\n",
      "[Parallel(n_jobs=-1)]: Done   2 out of   5 | elapsed:    0.1s remaining:    0.2s\n",
      "[Parallel(n_jobs=-1)]: Done   3 out of   5 | elapsed:    0.1s remaining:    0.0s\n",
      "[Parallel(n_jobs=-1)]: Done   5 out of   5 | elapsed:    0.2s remaining:    0.0s\n",
      "[Parallel(n_jobs=-1)]: Done   5 out of   5 | elapsed:    0.2s finished\n"
     ]
    },
    {
     "name": "stdout",
     "output_type": "stream",
     "text": [
      "tuned SVC --------------------------------------\n",
      "Precision:  0.9991998\n",
      "Recall:  0.9974\n",
      "F1:  0.99829855\n",
      "ROC:  0.9999604\n",
      "Accuracy:  0.9983\n"
     ]
    }
   ],
   "source": [
    "#Setting model\n",
    "model = svm.SVC(kernel=\"linear\", C=215)\n",
    "model_cv_rapport(model, \"tuned SVC\", x, y)\n"
   ]
  },
  {
   "cell_type": "markdown",
   "metadata": {
    "pycharm": {
     "name": "#%% md\n"
    }
   },
   "source": [
    "### Best SVC eval"
   ]
  },
  {
   "cell_type": "code",
   "execution_count": 86,
   "metadata": {
    "pycharm": {
     "name": "#%%\n"
    }
   },
   "outputs": [
    {
     "data": {
      "text/plain": "<sklearn.metrics._plot.confusion_matrix.ConfusionMatrixDisplay at 0x176ad5ed840>"
     },
     "execution_count": 86,
     "metadata": {},
     "output_type": "execute_result"
    },
    {
     "data": {
      "text/plain": "<Figure size 640x480 with 2 Axes>",
      "image/png": "[encoded data removed]"
     },
     "metadata": {},
     "output_type": "display_data"
    }
   ],
   "source": [
    "model = svm.SVC(kernel=\"linear\", C=1000)\n",
    "pipe = Pipeline([('scaler', preprocessing.StandardScaler()), ('svc', model)])\n",
    "x_train, x_test, y_train, y_test = train_test_split(x.values, y.values)\n",
    "pipe.fit(x_train, y_train)\n",
    "ConfusionMatrixDisplay.from_estimator(pipe, x_test, y_test, cmap=\"viridis\", normalize=\"all\")"
   ]
  },
  {
   "cell_type": "markdown",
   "metadata": {
    "pycharm": {
     "name": "#%% md\n"
    }
   },
   "source": [
    "# Random Forest"
   ]
  },
  {
   "cell_type": "code",
   "execution_count": 88,
   "metadata": {
    "pycharm": {
     "name": "#%%\n"
    }
   },
   "outputs": [
    {
     "name": "stderr",
     "output_type": "stream",
     "text": [
      "[Parallel(n_jobs=-1)]: Using backend LokyBackend with 4 concurrent workers.\n",
      "[Parallel(n_jobs=-1)]: Done   2 out of   5 | elapsed:    3.4s remaining:    5.2s\n",
      "[Parallel(n_jobs=-1)]: Done   3 out of   5 | elapsed:    3.5s remaining:    2.3s\n"
     ]
    },
    {
     "name": "stdout",
     "output_type": "stream",
     "text": [
      "RF --------------------------------------\n",
      "Precision:  0.99799819\n",
      "Recall:  0.9968\n",
      "F1:  0.99739739\n",
      "ROC:  0.9997686\n",
      "Accuracy:  0.9974\n"
     ]
    },
    {
     "name": "stderr",
     "output_type": "stream",
     "text": [
      "[Parallel(n_jobs=-1)]: Done   5 out of   5 | elapsed:    8.2s remaining:    0.0s\n",
      "[Parallel(n_jobs=-1)]: Done   5 out of   5 | elapsed:    8.2s finished\n"
     ]
    }
   ],
   "source": [
    "model = ensemble.RandomForestClassifier(\n",
    "    n_estimators=100,\n",
    "    max_depth=None,\n",
    "    min_samples_split=2,\n",
    "    min_samples_leaf=1,\n",
    "    max_features=None #\"sqrt\", \"log2\", int, float\n",
    ")\n",
    "model_cv_rapport( model, \"RF\", x, y)"
   ]
  },
  {
   "cell_type": "markdown",
   "metadata": {
    "pycharm": {
     "name": "#%% md\n"
    }
   },
   "source": [
    "Ploting the Feature importance"
   ]
  },
  {
   "cell_type": "code",
   "execution_count": 90,
   "metadata": {
    "pycharm": {
     "name": "#%%\n"
    }
   },
   "outputs": [
    {
     "data": {
      "text/plain": "<AxesSubplot: ylabel='feature name'>"
     },
     "execution_count": 90,
     "metadata": {},
     "output_type": "execute_result"
    },
    {
     "data": {
      "text/plain": "<Figure size 640x480 with 1 Axes>",
      "image/png": "[encoded data removed]"
     },
     "metadata": {},
     "output_type": "display_data"
    }
   ],
   "source": [
    "model.fit(x,y)\n",
    "feat_importances = pd.Series(model.feature_importances_, index=x.columns)\n",
    "feat_importances.nlargest(4).plot(xlabel= \"feature name\",   kind='barh')"
   ]
  },
  {
   "cell_type": "markdown",
   "metadata": {
    "collapsed": false,
    "pycharm": {
     "name": "#%% md\n"
    }
   },
   "source": [
    "### Hyperparameters - RF\n",
    "Based on [this article](https://www.analyticsvidhya.com/blog/2016/02/complete-guide-parameter-tuning-gradient-boosting-gbm-python/), for all RF based algorithms, I first need to pick a learning rate (except for RF), then the number of estimators, and then I can tune the tree parameters."
   ]
  },
  {
   "cell_type": "markdown",
   "metadata": {
    "collapsed": false,
    "pycharm": {
     "name": "#%% md\n"
    }
   },
   "source": [
    "#### n_estimators param"
   ]
  },
  {
   "cell_type": "code",
   "execution_count": 92,
   "metadata": {
    "collapsed": false,
    "pycharm": {
     "name": "#%%\n"
    }
   },
   "outputs": [
    {
     "name": "stdout",
     "output_type": "stream",
     "text": [
      "Fitting 10 folds for each of 6 candidates, totalling 60 fits\n",
      "[CV 1/10; 1/6] START clf__n_estimators=10.......................................\n",
      "[CV 1/10; 1/6] END ........clf__n_estimators=10;, score=0.998 total time=   0.0s\n",
      "[CV 2/10; 1/6] START clf__n_estimators=10.......................................\n",
      "[CV 2/10; 1/6] END ........clf__n_estimators=10;, score=0.996 total time=   0.0s\n",
      "[CV 3/10; 1/6] START clf__n_estimators=10.......................................\n",
      "[CV 3/10; 1/6] END ........clf__n_estimators=10;, score=0.997 total time=   0.0s\n",
      "[CV 4/10; 1/6] START clf__n_estimators=10.......................................\n",
      "[CV 4/10; 1/6] END ........clf__n_estimators=10;, score=1.000 total time=   0.0s\n",
      "[CV 5/10; 1/6] START clf__n_estimators=10.......................................\n",
      "[CV 5/10; 1/6] END ........clf__n_estimators=10;, score=0.999 total time=   0.0s\n",
      "[CV 6/10; 1/6] START clf__n_estimators=10.......................................\n",
      "[CV 6/10; 1/6] END ........clf__n_estimators=10;, score=0.997 total time=   0.0s\n",
      "[CV 7/10; 1/6] START clf__n_estimators=10.......................................\n",
      "[CV 7/10; 1/6] END ........clf__n_estimators=10;, score=0.996 total time=   0.0s\n",
      "[CV 8/10; 1/6] START clf__n_estimators=10.......................................\n",
      "[CV 8/10; 1/6] END ........clf__n_estimators=10;, score=0.999 total time=   0.0s\n",
      "[CV 9/10; 1/6] START clf__n_estimators=10.......................................\n",
      "[CV 9/10; 1/6] END ........clf__n_estimators=10;, score=0.997 total time=   0.0s\n",
      "[CV 10/10; 1/6] START clf__n_estimators=10......................................\n",
      "[CV 10/10; 1/6] END .......clf__n_estimators=10;, score=0.999 total time=   0.0s\n",
      "[CV 1/10; 2/6] START clf__n_estimators=20.......................................\n",
      "[CV 1/10; 2/6] END ........clf__n_estimators=20;, score=0.998 total time=   0.1s\n",
      "[CV 2/10; 2/6] START clf__n_estimators=20.......................................\n",
      "[CV 2/10; 2/6] END ........clf__n_estimators=20;, score=0.995 total time=   0.1s\n",
      "[CV 3/10; 2/6] START clf__n_estimators=20.......................................\n",
      "[CV 3/10; 2/6] END ........clf__n_estimators=20;, score=1.000 total time=   0.1s\n",
      "[CV 4/10; 2/6] START clf__n_estimators=20.......................................\n",
      "[CV 4/10; 2/6] END ........clf__n_estimators=20;, score=1.000 total time=   0.1s\n",
      "[CV 5/10; 2/6] START clf__n_estimators=20.......................................\n",
      "[CV 5/10; 2/6] END ........clf__n_estimators=20;, score=0.999 total time=   0.1s\n",
      "[CV 6/10; 2/6] START clf__n_estimators=20.......................................\n",
      "[CV 6/10; 2/6] END ........clf__n_estimators=20;, score=0.996 total time=   0.1s\n",
      "[CV 7/10; 2/6] START clf__n_estimators=20.......................................\n",
      "[CV 7/10; 2/6] END ........clf__n_estimators=20;, score=0.998 total time=   0.1s\n",
      "[CV 8/10; 2/6] START clf__n_estimators=20.......................................\n",
      "[CV 8/10; 2/6] END ........clf__n_estimators=20;, score=0.999 total time=   0.1s\n",
      "[CV 9/10; 2/6] START clf__n_estimators=20.......................................\n",
      "[CV 9/10; 2/6] END ........clf__n_estimators=20;, score=0.997 total time=   0.1s\n",
      "[CV 10/10; 2/6] START clf__n_estimators=20......................................\n",
      "[CV 10/10; 2/6] END .......clf__n_estimators=20;, score=0.998 total time=   0.1s\n",
      "[CV 1/10; 3/6] START clf__n_estimators=30.......................................\n",
      "[CV 1/10; 3/6] END ........clf__n_estimators=30;, score=0.998 total time=   0.2s\n",
      "[CV 2/10; 3/6] START clf__n_estimators=30.......................................\n",
      "[CV 2/10; 3/6] END ........clf__n_estimators=30;, score=0.996 total time=   0.3s\n",
      "[CV 3/10; 3/6] START clf__n_estimators=30.......................................\n",
      "[CV 3/10; 3/6] END ........clf__n_estimators=30;, score=1.000 total time=   0.3s\n",
      "[CV 4/10; 3/6] START clf__n_estimators=30.......................................\n",
      "[CV 4/10; 3/6] END ........clf__n_estimators=30;, score=1.000 total time=   0.3s\n",
      "[CV 5/10; 3/6] START clf__n_estimators=30.......................................\n",
      "[CV 5/10; 3/6] END ........clf__n_estimators=30;, score=0.998 total time=   0.3s\n",
      "[CV 6/10; 3/6] START clf__n_estimators=30.......................................\n",
      "[CV 6/10; 3/6] END ........clf__n_estimators=30;, score=0.996 total time=   0.3s\n",
      "[CV 7/10; 3/6] START clf__n_estimators=30.......................................\n",
      "[CV 7/10; 3/6] END ........clf__n_estimators=30;, score=0.998 total time=   0.3s\n",
      "[CV 8/10; 3/6] START clf__n_estimators=30.......................................\n",
      "[CV 8/10; 3/6] END ........clf__n_estimators=30;, score=0.999 total time=   0.3s\n",
      "[CV 9/10; 3/6] START clf__n_estimators=30.......................................\n",
      "[CV 9/10; 3/6] END ........clf__n_estimators=30;, score=0.997 total time=   0.3s\n",
      "[CV 10/10; 3/6] START clf__n_estimators=30......................................\n",
      "[CV 10/10; 3/6] END .......clf__n_estimators=30;, score=0.998 total time=   0.3s\n",
      "[CV 1/10; 4/6] START clf__n_estimators=40.......................................\n",
      "[CV 1/10; 4/6] END ........clf__n_estimators=40;, score=0.998 total time=   0.4s\n",
      "[CV 2/10; 4/6] START clf__n_estimators=40.......................................\n",
      "[CV 2/10; 4/6] END ........clf__n_estimators=40;, score=0.996 total time=   0.4s\n",
      "[CV 3/10; 4/6] START clf__n_estimators=40.......................................\n",
      "[CV 3/10; 4/6] END ........clf__n_estimators=40;, score=1.000 total time=   0.4s\n",
      "[CV 4/10; 4/6] START clf__n_estimators=40.......................................\n",
      "[CV 4/10; 4/6] END ........clf__n_estimators=40;, score=1.000 total time=   0.9s\n",
      "[CV 5/10; 4/6] START clf__n_estimators=40.......................................\n",
      "[CV 5/10; 4/6] END ........clf__n_estimators=40;, score=0.998 total time=   0.4s\n",
      "[CV 6/10; 4/6] START clf__n_estimators=40.......................................\n",
      "[CV 6/10; 4/6] END ........clf__n_estimators=40;, score=0.996 total time=   0.4s\n",
      "[CV 7/10; 4/6] START clf__n_estimators=40.......................................\n",
      "[CV 7/10; 4/6] END ........clf__n_estimators=40;, score=0.997 total time=   0.4s\n",
      "[CV 8/10; 4/6] START clf__n_estimators=40.......................................\n",
      "[CV 8/10; 4/6] END ........clf__n_estimators=40;, score=0.999 total time=   0.9s\n",
      "[CV 9/10; 4/6] START clf__n_estimators=40.......................................\n",
      "[CV 9/10; 4/6] END ........clf__n_estimators=40;, score=0.997 total time=   0.9s\n",
      "[CV 10/10; 4/6] START clf__n_estimators=40......................................\n",
      "[CV 10/10; 4/6] END .......clf__n_estimators=40;, score=0.998 total time=   0.4s\n",
      "[CV 1/10; 5/6] START clf__n_estimators=50.......................................\n",
      "[CV 1/10; 5/6] END ........clf__n_estimators=50;, score=0.998 total time=   0.7s\n",
      "[CV 2/10; 5/6] START clf__n_estimators=50.......................................\n",
      "[CV 2/10; 5/6] END ........clf__n_estimators=50;, score=0.995 total time=   0.6s\n",
      "[CV 3/10; 5/6] START clf__n_estimators=50.......................................\n",
      "[CV 3/10; 5/6] END ........clf__n_estimators=50;, score=0.998 total time=   0.6s\n",
      "[CV 4/10; 5/6] START clf__n_estimators=50.......................................\n",
      "[CV 4/10; 5/6] END ........clf__n_estimators=50;, score=1.000 total time=   0.5s\n",
      "[CV 5/10; 5/6] START clf__n_estimators=50.......................................\n",
      "[CV 5/10; 5/6] END ........clf__n_estimators=50;, score=0.998 total time=   0.5s\n",
      "[CV 6/10; 5/6] START clf__n_estimators=50.......................................\n",
      "[CV 6/10; 5/6] END ........clf__n_estimators=50;, score=0.995 total time=   0.6s\n",
      "[CV 7/10; 5/6] START clf__n_estimators=50.......................................\n",
      "[CV 7/10; 5/6] END ........clf__n_estimators=50;, score=0.997 total time=   0.6s\n",
      "[CV 8/10; 5/6] START clf__n_estimators=50.......................................\n",
      "[CV 8/10; 5/6] END ........clf__n_estimators=50;, score=0.999 total time=   0.6s\n",
      "[CV 9/10; 5/6] START clf__n_estimators=50.......................................\n",
      "[CV 9/10; 5/6] END ........clf__n_estimators=50;, score=0.999 total time=   0.6s\n",
      "[CV 10/10; 5/6] START clf__n_estimators=50......................................\n",
      "[CV 10/10; 5/6] END .......clf__n_estimators=50;, score=0.999 total time=   0.6s\n",
      "[CV 1/10; 6/6] START clf__n_estimators=60.......................................\n",
      "[CV 1/10; 6/6] END ........clf__n_estimators=60;, score=0.998 total time=   0.6s\n",
      "[CV 2/10; 6/6] START clf__n_estimators=60.......................................\n",
      "[CV 2/10; 6/6] END ........clf__n_estimators=60;, score=0.995 total time=   0.7s\n",
      "[CV 3/10; 6/6] START clf__n_estimators=60.......................................\n",
      "[CV 3/10; 6/6] END ........clf__n_estimators=60;, score=1.000 total time=   0.7s\n",
      "[CV 4/10; 6/6] START clf__n_estimators=60.......................................\n",
      "[CV 4/10; 6/6] END ........clf__n_estimators=60;, score=1.000 total time=   0.7s\n",
      "[CV 5/10; 6/6] START clf__n_estimators=60.......................................\n",
      "[CV 5/10; 6/6] END ........clf__n_estimators=60;, score=0.997 total time=   0.8s\n",
      "[CV 6/10; 6/6] START clf__n_estimators=60.......................................\n",
      "[CV 6/10; 6/6] END ........clf__n_estimators=60;, score=0.996 total time=   0.7s\n",
      "[CV 7/10; 6/6] START clf__n_estimators=60.......................................\n",
      "[CV 7/10; 6/6] END ........clf__n_estimators=60;, score=0.997 total time=   0.7s\n",
      "[CV 8/10; 6/6] START clf__n_estimators=60.......................................\n",
      "[CV 8/10; 6/6] END ........clf__n_estimators=60;, score=0.999 total time=   0.6s\n",
      "[CV 9/10; 6/6] START clf__n_estimators=60.......................................\n",
      "[CV 9/10; 6/6] END ........clf__n_estimators=60;, score=0.997 total time=   0.6s\n",
      "[CV 10/10; 6/6] START clf__n_estimators=60......................................\n",
      "[CV 10/10; 6/6] END .......clf__n_estimators=60;, score=0.999 total time=   0.7s\n",
      "tuned hyperparameters :(best parameters)  {'clf__n_estimators': 20}\n",
      "accuracy : 0.9979955869570496\n"
     ]
    },
    {
     "data": {
      "text/plain": "<Figure size 2000x1000 with 1 Axes>",
      "image/png": "[encoded data removed]"
     },
     "metadata": {},
     "output_type": "display_data"
    }
   ],
   "source": [
    "grid={\"n_estimators\":[i*10 for i in range(1, 7)]}\n",
    "model=ensemble.RandomForestClassifier()\n",
    "results = grid_search(grid, model, x, y, cv=10)\n",
    "plotGridResults(results)"
   ]
  },
  {
   "cell_type": "markdown",
   "metadata": {
    "collapsed": false,
    "pycharm": {
     "name": "#%% md\n"
    }
   },
   "source": [
    "#### max_depth param"
   ]
  },
  {
   "cell_type": "code",
   "execution_count": 93,
   "metadata": {
    "collapsed": false,
    "pycharm": {
     "name": "#%%\n"
    }
   },
   "outputs": [
    {
     "name": "stdout",
     "output_type": "stream",
     "text": [
      "Fitting 5 folds for each of 10 candidates, totalling 50 fits\n",
      "[CV 1/5; 1/10] START clf__max_depth=2...........................................\n",
      "[CV 1/5; 1/10] END ............clf__max_depth=2;, score=0.966 total time=   0.0s\n",
      "[CV 2/5; 1/10] START clf__max_depth=2...........................................\n",
      "[CV 2/5; 1/10] END ............clf__max_depth=2;, score=0.973 total time=   0.1s\n",
      "[CV 3/5; 1/10] START clf__max_depth=2...........................................\n",
      "[CV 3/5; 1/10] END ............clf__max_depth=2;, score=0.970 total time=   0.0s\n",
      "[CV 4/5; 1/10] START clf__max_depth=2...........................................\n",
      "[CV 4/5; 1/10] END ............clf__max_depth=2;, score=0.969 total time=   0.1s\n",
      "[CV 5/5; 1/10] START clf__max_depth=2...........................................\n",
      "[CV 5/5; 1/10] END ............clf__max_depth=2;, score=0.974 total time=   0.1s\n",
      "[CV 1/5; 2/10] START clf__max_depth=3...........................................\n",
      "[CV 1/5; 2/10] END ............clf__max_depth=3;, score=0.993 total time=   0.1s\n",
      "[CV 2/5; 2/10] START clf__max_depth=3...........................................\n",
      "[CV 2/5; 2/10] END ............clf__max_depth=3;, score=0.995 total time=   0.0s\n",
      "[CV 3/5; 2/10] START clf__max_depth=3...........................................\n",
      "[CV 3/5; 2/10] END ............clf__max_depth=3;, score=0.987 total time=   0.1s\n",
      "[CV 4/5; 2/10] START clf__max_depth=3...........................................\n",
      "[CV 4/5; 2/10] END ............clf__max_depth=3;, score=0.995 total time=   0.0s\n",
      "[CV 5/5; 2/10] START clf__max_depth=3...........................................\n",
      "[CV 5/5; 2/10] END ............clf__max_depth=3;, score=0.990 total time=   0.1s\n",
      "[CV 1/5; 3/10] START clf__max_depth=4...........................................\n",
      "[CV 1/5; 3/10] END ............clf__max_depth=4;, score=0.995 total time=   0.1s\n",
      "[CV 2/5; 3/10] START clf__max_depth=4...........................................\n",
      "[CV 2/5; 3/10] END ............clf__max_depth=4;, score=0.999 total time=   0.1s\n",
      "[CV 3/5; 3/10] START clf__max_depth=4...........................................\n",
      "[CV 3/5; 3/10] END ............clf__max_depth=4;, score=0.996 total time=   0.2s\n",
      "[CV 4/5; 3/10] START clf__max_depth=4...........................................\n",
      "[CV 4/5; 3/10] END ............clf__max_depth=4;, score=0.995 total time=   0.1s\n",
      "[CV 5/5; 3/10] START clf__max_depth=4...........................................\n",
      "[CV 5/5; 3/10] END ............clf__max_depth=4;, score=0.998 total time=   0.1s\n",
      "[CV 1/5; 4/10] START clf__max_depth=5...........................................\n",
      "[CV 1/5; 4/10] END ............clf__max_depth=5;, score=0.996 total time=   0.1s\n",
      "[CV 2/5; 4/10] START clf__max_depth=5...........................................\n",
      "[CV 2/5; 4/10] END ............clf__max_depth=5;, score=1.000 total time=   0.1s\n",
      "[CV 3/5; 4/10] START clf__max_depth=5...........................................\n",
      "[CV 3/5; 4/10] END ............clf__max_depth=5;, score=0.997 total time=   0.1s\n",
      "[CV 4/5; 4/10] START clf__max_depth=5...........................................\n",
      "[CV 4/5; 4/10] END ............clf__max_depth=5;, score=0.998 total time=   0.1s\n",
      "[CV 5/5; 4/10] START clf__max_depth=5...........................................\n",
      "[CV 5/5; 4/10] END ............clf__max_depth=5;, score=0.998 total time=   0.1s\n",
      "[CV 1/5; 5/10] START clf__max_depth=6...........................................\n",
      "[CV 1/5; 5/10] END ............clf__max_depth=6;, score=0.997 total time=   0.1s\n",
      "[CV 2/5; 5/10] START clf__max_depth=6...........................................\n",
      "[CV 2/5; 5/10] END ............clf__max_depth=6;, score=1.000 total time=   0.3s\n",
      "[CV 3/5; 5/10] START clf__max_depth=6...........................................\n",
      "[CV 3/5; 5/10] END ............clf__max_depth=6;, score=0.996 total time=   0.2s\n",
      "[CV 4/5; 5/10] START clf__max_depth=6...........................................\n",
      "[CV 4/5; 5/10] END ............clf__max_depth=6;, score=0.998 total time=   0.1s\n",
      "[CV 5/5; 5/10] START clf__max_depth=6...........................................\n",
      "[CV 5/5; 5/10] END ............clf__max_depth=6;, score=0.998 total time=   0.1s\n",
      "[CV 1/5; 6/10] START clf__max_depth=7...........................................\n",
      "[CV 1/5; 6/10] END ............clf__max_depth=7;, score=0.997 total time=   0.2s\n",
      "[CV 2/5; 6/10] START clf__max_depth=7...........................................\n",
      "[CV 2/5; 6/10] END ............clf__max_depth=7;, score=1.000 total time=   0.1s\n",
      "[CV 3/5; 6/10] START clf__max_depth=7...........................................\n",
      "[CV 3/5; 6/10] END ............clf__max_depth=7;, score=0.997 total time=   0.1s\n",
      "[CV 4/5; 6/10] START clf__max_depth=7...........................................\n",
      "[CV 4/5; 6/10] END ............clf__max_depth=7;, score=0.998 total time=   0.2s\n",
      "[CV 5/5; 6/10] START clf__max_depth=7...........................................\n",
      "[CV 5/5; 6/10] END ............clf__max_depth=7;, score=0.998 total time=   0.1s\n",
      "[CV 1/5; 7/10] START clf__max_depth=8...........................................\n",
      "[CV 1/5; 7/10] END ............clf__max_depth=8;, score=0.996 total time=   0.1s\n",
      "[CV 2/5; 7/10] START clf__max_depth=8...........................................\n",
      "[CV 2/5; 7/10] END ............clf__max_depth=8;, score=1.000 total time=   0.2s\n",
      "[CV 3/5; 7/10] START clf__max_depth=8...........................................\n",
      "[CV 3/5; 7/10] END ............clf__max_depth=8;, score=0.997 total time=   0.1s\n",
      "[CV 4/5; 7/10] START clf__max_depth=8...........................................\n",
      "[CV 4/5; 7/10] END ............clf__max_depth=8;, score=0.997 total time=   0.1s\n",
      "[CV 5/5; 7/10] START clf__max_depth=8...........................................\n",
      "[CV 5/5; 7/10] END ............clf__max_depth=8;, score=0.998 total time=   0.2s\n",
      "[CV 1/5; 8/10] START clf__max_depth=9...........................................\n",
      "[CV 1/5; 8/10] END ............clf__max_depth=9;, score=0.998 total time=   0.1s\n",
      "[CV 2/5; 8/10] START clf__max_depth=9...........................................\n",
      "[CV 2/5; 8/10] END ............clf__max_depth=9;, score=1.000 total time=   0.1s\n",
      "[CV 3/5; 8/10] START clf__max_depth=9...........................................\n",
      "[CV 3/5; 8/10] END ............clf__max_depth=9;, score=0.997 total time=   0.2s\n",
      "[CV 4/5; 8/10] START clf__max_depth=9...........................................\n",
      "[CV 4/5; 8/10] END ............clf__max_depth=9;, score=0.998 total time=   0.1s\n",
      "[CV 5/5; 8/10] START clf__max_depth=9...........................................\n",
      "[CV 5/5; 8/10] END ............clf__max_depth=9;, score=0.998 total time=   0.1s\n",
      "[CV 1/5; 9/10] START clf__max_depth=10..........................................\n",
      "[CV 1/5; 9/10] END ...........clf__max_depth=10;, score=0.997 total time=   0.2s\n",
      "[CV 2/5; 9/10] START clf__max_depth=10..........................................\n",
      "[CV 2/5; 9/10] END ...........clf__max_depth=10;, score=1.000 total time=   0.1s\n",
      "[CV 3/5; 9/10] START clf__max_depth=10..........................................\n",
      "[CV 3/5; 9/10] END ...........clf__max_depth=10;, score=0.997 total time=   0.1s\n",
      "[CV 4/5; 9/10] START clf__max_depth=10..........................................\n",
      "[CV 4/5; 9/10] END ...........clf__max_depth=10;, score=0.998 total time=   0.2s\n",
      "[CV 5/5; 9/10] START clf__max_depth=10..........................................\n",
      "[CV 5/5; 9/10] END ...........clf__max_depth=10;, score=0.998 total time=   0.1s\n",
      "[CV 1/5; 10/10] START clf__max_depth=11.........................................\n",
      "[CV 1/5; 10/10] END ..........clf__max_depth=11;, score=0.997 total time=   0.1s\n",
      "[CV 2/5; 10/10] START clf__max_depth=11.........................................\n",
      "[CV 2/5; 10/10] END ..........clf__max_depth=11;, score=1.000 total time=   0.2s\n",
      "[CV 3/5; 10/10] START clf__max_depth=11.........................................\n",
      "[CV 3/5; 10/10] END ..........clf__max_depth=11;, score=0.997 total time=   0.1s\n",
      "[CV 4/5; 10/10] START clf__max_depth=11.........................................\n",
      "[CV 4/5; 10/10] END ..........clf__max_depth=11;, score=0.998 total time=   0.1s\n",
      "[CV 5/5; 10/10] START clf__max_depth=11.........................................\n",
      "[CV 5/5; 10/10] END ..........clf__max_depth=11;, score=0.998 total time=   0.1s\n",
      "tuned hyperparameters :(best parameters)  {'clf__max_depth': 9}\n",
      "accuracy : 0.998396692984741\n"
     ]
    },
    {
     "data": {
      "text/plain": "<Figure size 2000x1000 with 1 Axes>",
      "image/png": "[encoded data removed]"
     },
     "metadata": {},
     "output_type": "display_data"
    }
   ],
   "source": [
    "grid={\"max_depth\":[i for i in range(2, 12)]}\n",
    "model=ensemble.RandomForestClassifier(n_estimators=20)\n",
    "results = grid_search(grid, model, x, y)\n",
    "plotGridResults(results)"
   ]
  },
  {
   "cell_type": "markdown",
   "metadata": {
    "collapsed": false,
    "pycharm": {
     "name": "#%% md\n"
    }
   },
   "source": [
    "#### max_features param"
   ]
  },
  {
   "cell_type": "code",
   "execution_count": 95,
   "metadata": {
    "collapsed": false,
    "pycharm": {
     "name": "#%%\n"
    }
   },
   "outputs": [
    {
     "name": "stdout",
     "output_type": "stream",
     "text": [
      "Fitting 10 folds for each of 10 candidates, totalling 100 fits\n",
      "[CV 1/10; 1/10] START clf__max_features=0.1.....................................\n",
      "[CV 1/10; 1/10] END ......clf__max_features=0.1;, score=0.998 total time=   0.0s\n",
      "[CV 2/10; 1/10] START clf__max_features=0.1.....................................\n",
      "[CV 2/10; 1/10] END ......clf__max_features=0.1;, score=0.995 total time=   0.0s\n",
      "[CV 3/10; 1/10] START clf__max_features=0.1.....................................\n",
      "[CV 3/10; 1/10] END ......clf__max_features=0.1;, score=1.000 total time=   0.0s\n",
      "[CV 4/10; 1/10] START clf__max_features=0.1.....................................\n",
      "[CV 4/10; 1/10] END ......clf__max_features=0.1;, score=1.000 total time=   0.0s\n",
      "[CV 5/10; 1/10] START clf__max_features=0.1.....................................\n",
      "[CV 5/10; 1/10] END ......clf__max_features=0.1;, score=0.998 total time=   0.0s\n",
      "[CV 6/10; 1/10] START clf__max_features=0.1.....................................\n",
      "[CV 6/10; 1/10] END ......clf__max_features=0.1;, score=0.996 total time=   0.0s\n",
      "[CV 7/10; 1/10] START clf__max_features=0.1.....................................\n",
      "[CV 7/10; 1/10] END ......clf__max_features=0.1;, score=0.997 total time=   0.0s\n",
      "[CV 8/10; 1/10] START clf__max_features=0.1.....................................\n",
      "[CV 8/10; 1/10] END ......clf__max_features=0.1;, score=0.999 total time=   0.0s\n",
      "[CV 9/10; 1/10] START clf__max_features=0.1.....................................\n",
      "[CV 9/10; 1/10] END ......clf__max_features=0.1;, score=0.997 total time=   0.0s\n",
      "[CV 10/10; 1/10] START clf__max_features=0.1....................................\n",
      "[CV 10/10; 1/10] END .....clf__max_features=0.1;, score=0.999 total time=   0.0s\n",
      "[CV 1/10; 2/10] START clf__max_features=0.2.....................................\n",
      "[CV 1/10; 2/10] END ......clf__max_features=0.2;, score=0.998 total time=   0.1s\n",
      "[CV 2/10; 2/10] START clf__max_features=0.2.....................................\n",
      "[CV 2/10; 2/10] END ......clf__max_features=0.2;, score=0.996 total time=   0.1s\n",
      "[CV 3/10; 2/10] START clf__max_features=0.2.....................................\n",
      "[CV 3/10; 2/10] END ......clf__max_features=0.2;, score=1.000 total time=   0.1s\n",
      "[CV 4/10; 2/10] START clf__max_features=0.2.....................................\n",
      "[CV 4/10; 2/10] END ......clf__max_features=0.2;, score=1.000 total time=   0.1s\n",
      "[CV 5/10; 2/10] START clf__max_features=0.2.....................................\n",
      "[CV 5/10; 2/10] END ......clf__max_features=0.2;, score=0.998 total time=   0.1s\n",
      "[CV 6/10; 2/10] START clf__max_features=0.2.....................................\n",
      "[CV 6/10; 2/10] END ......clf__max_features=0.2;, score=0.996 total time=   0.2s\n",
      "[CV 7/10; 2/10] START clf__max_features=0.2.....................................\n",
      "[CV 7/10; 2/10] END ......clf__max_features=0.2;, score=0.997 total time=   0.1s\n",
      "[CV 8/10; 2/10] START clf__max_features=0.2.....................................\n",
      "[CV 8/10; 2/10] END ......clf__max_features=0.2;, score=0.999 total time=   0.1s\n",
      "[CV 9/10; 2/10] START clf__max_features=0.2.....................................\n",
      "[CV 9/10; 2/10] END ......clf__max_features=0.2;, score=0.998 total time=   0.2s\n",
      "[CV 10/10; 2/10] START clf__max_features=0.2....................................\n",
      "[CV 10/10; 2/10] END .....clf__max_features=0.2;, score=0.999 total time=   0.1s\n",
      "[CV 1/10; 3/10] START clf__max_features=0.3.....................................\n",
      "[CV 1/10; 3/10] END ......clf__max_features=0.3;, score=0.998 total time=   0.1s\n",
      "[CV 2/10; 3/10] START clf__max_features=0.3.....................................\n",
      "[CV 2/10; 3/10] END ......clf__max_features=0.3;, score=0.996 total time=   0.3s\n",
      "[CV 3/10; 3/10] START clf__max_features=0.3.....................................\n",
      "[CV 3/10; 3/10] END ......clf__max_features=0.3;, score=0.999 total time=   0.2s\n",
      "[CV 4/10; 3/10] START clf__max_features=0.3.....................................\n",
      "[CV 4/10; 3/10] END ......clf__max_features=0.3;, score=1.000 total time=   0.1s\n",
      "[CV 5/10; 3/10] START clf__max_features=0.3.....................................\n",
      "[CV 5/10; 3/10] END ......clf__max_features=0.3;, score=0.999 total time=   0.1s\n",
      "[CV 6/10; 3/10] START clf__max_features=0.3.....................................\n",
      "[CV 6/10; 3/10] END ......clf__max_features=0.3;, score=0.996 total time=   0.1s\n",
      "[CV 7/10; 3/10] START clf__max_features=0.3.....................................\n",
      "[CV 7/10; 3/10] END ......clf__max_features=0.3;, score=0.998 total time=   0.1s\n",
      "[CV 8/10; 3/10] START clf__max_features=0.3.....................................\n",
      "[CV 8/10; 3/10] END ......clf__max_features=0.3;, score=0.999 total time=   0.1s\n",
      "[CV 9/10; 3/10] START clf__max_features=0.3.....................................\n",
      "[CV 9/10; 3/10] END ......clf__max_features=0.3;, score=0.998 total time=   0.1s\n",
      "[CV 10/10; 3/10] START clf__max_features=0.3....................................\n",
      "[CV 10/10; 3/10] END .....clf__max_features=0.3;, score=0.998 total time=   0.1s\n",
      "[CV 1/10; 4/10] START clf__max_features=0.4.....................................\n",
      "[CV 1/10; 4/10] END ......clf__max_features=0.4;, score=0.998 total time=   0.2s\n",
      "[CV 2/10; 4/10] START clf__max_features=0.4.....................................\n",
      "[CV 2/10; 4/10] END ......clf__max_features=0.4;, score=0.994 total time=   0.3s\n",
      "[CV 3/10; 4/10] START clf__max_features=0.4.....................................\n",
      "[CV 3/10; 4/10] END ......clf__max_features=0.4;, score=0.999 total time=   0.2s\n",
      "[CV 4/10; 4/10] START clf__max_features=0.4.....................................\n",
      "[CV 4/10; 4/10] END ......clf__max_features=0.4;, score=1.000 total time=   0.2s\n",
      "[CV 5/10; 4/10] START clf__max_features=0.4.....................................\n",
      "[CV 5/10; 4/10] END ......clf__max_features=0.4;, score=0.998 total time=   0.2s\n",
      "[CV 6/10; 4/10] START clf__max_features=0.4.....................................\n",
      "[CV 6/10; 4/10] END ......clf__max_features=0.4;, score=0.995 total time=   0.2s\n",
      "[CV 7/10; 4/10] START clf__max_features=0.4.....................................\n",
      "[CV 7/10; 4/10] END ......clf__max_features=0.4;, score=0.997 total time=   0.2s\n",
      "[CV 8/10; 4/10] START clf__max_features=0.4.....................................\n",
      "[CV 8/10; 4/10] END ......clf__max_features=0.4;, score=0.999 total time=   0.2s\n",
      "[CV 9/10; 4/10] START clf__max_features=0.4.....................................\n",
      "[CV 9/10; 4/10] END ......clf__max_features=0.4;, score=0.998 total time=   0.2s\n",
      "[CV 10/10; 4/10] START clf__max_features=0.4....................................\n",
      "[CV 10/10; 4/10] END .....clf__max_features=0.4;, score=0.999 total time=   0.2s\n",
      "[CV 1/10; 5/10] START clf__max_features=0.5.....................................\n",
      "[CV 1/10; 5/10] END ......clf__max_features=0.5;, score=0.998 total time=   0.2s\n",
      "[CV 2/10; 5/10] START clf__max_features=0.5.....................................\n",
      "[CV 2/10; 5/10] END ......clf__max_features=0.5;, score=0.994 total time=   0.3s\n",
      "[CV 3/10; 5/10] START clf__max_features=0.5.....................................\n",
      "[CV 3/10; 5/10] END ......clf__max_features=0.5;, score=0.999 total time=   0.3s\n",
      "[CV 4/10; 5/10] START clf__max_features=0.5.....................................\n",
      "[CV 4/10; 5/10] END ......clf__max_features=0.5;, score=1.000 total time=   0.4s\n",
      "[CV 5/10; 5/10] START clf__max_features=0.5.....................................\n",
      "[CV 5/10; 5/10] END ......clf__max_features=0.5;, score=0.998 total time=   0.4s\n",
      "[CV 6/10; 5/10] START clf__max_features=0.5.....................................\n",
      "[CV 6/10; 5/10] END ......clf__max_features=0.5;, score=0.994 total time=   0.5s\n",
      "[CV 7/10; 5/10] START clf__max_features=0.5.....................................\n",
      "[CV 7/10; 5/10] END ......clf__max_features=0.5;, score=0.998 total time=   0.4s\n",
      "[CV 8/10; 5/10] START clf__max_features=0.5.....................................\n",
      "[CV 8/10; 5/10] END ......clf__max_features=0.5;, score=0.998 total time=   0.7s\n",
      "[CV 9/10; 5/10] START clf__max_features=0.5.....................................\n",
      "[CV 9/10; 5/10] END ......clf__max_features=0.5;, score=0.997 total time=   0.4s\n",
      "[CV 10/10; 5/10] START clf__max_features=0.5....................................\n",
      "[CV 10/10; 5/10] END .....clf__max_features=0.5;, score=0.999 total time=   0.4s\n",
      "[CV 1/10; 6/10] START clf__max_features=0.6.....................................\n",
      "[CV 1/10; 6/10] END ......clf__max_features=0.6;, score=0.998 total time=   0.4s\n",
      "[CV 2/10; 6/10] START clf__max_features=0.6.....................................\n",
      "[CV 2/10; 6/10] END ......clf__max_features=0.6;, score=0.995 total time=   0.4s\n",
      "[CV 3/10; 6/10] START clf__max_features=0.6.....................................\n",
      "[CV 3/10; 6/10] END ......clf__max_features=0.6;, score=0.998 total time=   0.4s\n",
      "[CV 4/10; 6/10] START clf__max_features=0.6.....................................\n",
      "[CV 4/10; 6/10] END ......clf__max_features=0.6;, score=0.999 total time=   0.4s\n",
      "[CV 5/10; 6/10] START clf__max_features=0.6.....................................\n",
      "[CV 5/10; 6/10] END ......clf__max_features=0.6;, score=0.997 total time=   0.4s\n",
      "[CV 6/10; 6/10] START clf__max_features=0.6.....................................\n",
      "[CV 6/10; 6/10] END ......clf__max_features=0.6;, score=0.995 total time=   0.3s\n",
      "[CV 7/10; 6/10] START clf__max_features=0.6.....................................\n",
      "[CV 7/10; 6/10] END ......clf__max_features=0.6;, score=0.998 total time=   0.4s\n",
      "[CV 8/10; 6/10] START clf__max_features=0.6.....................................\n",
      "[CV 8/10; 6/10] END ......clf__max_features=0.6;, score=0.998 total time=   0.4s\n",
      "[CV 9/10; 6/10] START clf__max_features=0.6.....................................\n",
      "[CV 9/10; 6/10] END ......clf__max_features=0.6;, score=0.997 total time=   0.4s\n",
      "[CV 10/10; 6/10] START clf__max_features=0.6....................................\n",
      "[CV 10/10; 6/10] END .....clf__max_features=0.6;, score=0.998 total time=   0.4s\n",
      "[CV 1/10; 7/10] START clf__max_features=0.7.....................................\n",
      "[CV 1/10; 7/10] END ......clf__max_features=0.7;, score=0.998 total time=   0.4s\n",
      "[CV 2/10; 7/10] START clf__max_features=0.7.....................................\n",
      "[CV 2/10; 7/10] END ......clf__max_features=0.7;, score=0.995 total time=   0.4s\n",
      "[CV 3/10; 7/10] START clf__max_features=0.7.....................................\n",
      "[CV 3/10; 7/10] END ......clf__max_features=0.7;, score=0.999 total time=   0.5s\n",
      "[CV 4/10; 7/10] START clf__max_features=0.7.....................................\n",
      "[CV 4/10; 7/10] END ......clf__max_features=0.7;, score=0.999 total time=   0.5s\n",
      "[CV 5/10; 7/10] START clf__max_features=0.7.....................................\n",
      "[CV 5/10; 7/10] END ......clf__max_features=0.7;, score=0.998 total time=   0.4s\n",
      "[CV 6/10; 7/10] START clf__max_features=0.7.....................................\n",
      "[CV 6/10; 7/10] END ......clf__max_features=0.7;, score=0.996 total time=   0.4s\n",
      "[CV 7/10; 7/10] START clf__max_features=0.7.....................................\n",
      "[CV 7/10; 7/10] END ......clf__max_features=0.7;, score=0.997 total time=   0.4s\n",
      "[CV 8/10; 7/10] START clf__max_features=0.7.....................................\n",
      "[CV 8/10; 7/10] END ......clf__max_features=0.7;, score=0.998 total time=   0.5s\n",
      "[CV 9/10; 7/10] START clf__max_features=0.7.....................................\n",
      "[CV 9/10; 7/10] END ......clf__max_features=0.7;, score=0.997 total time=   0.4s\n",
      "[CV 10/10; 7/10] START clf__max_features=0.7....................................\n",
      "[CV 10/10; 7/10] END .....clf__max_features=0.7;, score=0.999 total time=   0.4s\n",
      "[CV 1/10; 8/10] START clf__max_features=0.8.....................................\n",
      "[CV 1/10; 8/10] END ......clf__max_features=0.8;, score=0.998 total time=   0.4s\n",
      "[CV 2/10; 8/10] START clf__max_features=0.8.....................................\n",
      "[CV 2/10; 8/10] END ......clf__max_features=0.8;, score=0.996 total time=   0.4s\n",
      "[CV 3/10; 8/10] START clf__max_features=0.8.....................................\n",
      "[CV 3/10; 8/10] END ......clf__max_features=0.8;, score=0.998 total time=   0.4s\n",
      "[CV 4/10; 8/10] START clf__max_features=0.8.....................................\n",
      "[CV 4/10; 8/10] END ......clf__max_features=0.8;, score=1.000 total time=   0.5s\n",
      "[CV 5/10; 8/10] START clf__max_features=0.8.....................................\n",
      "[CV 5/10; 8/10] END ......clf__max_features=0.8;, score=0.997 total time=   0.4s\n",
      "[CV 6/10; 8/10] START clf__max_features=0.8.....................................\n",
      "[CV 6/10; 8/10] END ......clf__max_features=0.8;, score=0.996 total time=   0.4s\n",
      "[CV 7/10; 8/10] START clf__max_features=0.8.....................................\n",
      "[CV 7/10; 8/10] END ......clf__max_features=0.8;, score=0.996 total time=   0.4s\n",
      "[CV 8/10; 8/10] START clf__max_features=0.8.....................................\n",
      "[CV 8/10; 8/10] END ......clf__max_features=0.8;, score=0.999 total time=   0.5s\n",
      "[CV 9/10; 8/10] START clf__max_features=0.8.....................................\n",
      "[CV 9/10; 8/10] END ......clf__max_features=0.8;, score=0.996 total time=   0.4s\n",
      "[CV 10/10; 8/10] START clf__max_features=0.8....................................\n",
      "[CV 10/10; 8/10] END .....clf__max_features=0.8;, score=0.999 total time=   0.5s\n",
      "[CV 1/10; 9/10] START clf__max_features=0.9.....................................\n",
      "[CV 1/10; 9/10] END ......clf__max_features=0.9;, score=0.998 total time=   0.5s\n",
      "[CV 2/10; 9/10] START clf__max_features=0.9.....................................\n",
      "[CV 2/10; 9/10] END ......clf__max_features=0.9;, score=0.994 total time=   0.5s\n",
      "[CV 3/10; 9/10] START clf__max_features=0.9.....................................\n",
      "[CV 3/10; 9/10] END ......clf__max_features=0.9;, score=0.999 total time=   0.5s\n",
      "[CV 4/10; 9/10] START clf__max_features=0.9.....................................\n",
      "[CV 4/10; 9/10] END ......clf__max_features=0.9;, score=1.000 total time=   0.5s\n",
      "[CV 5/10; 9/10] START clf__max_features=0.9.....................................\n",
      "[CV 5/10; 9/10] END ......clf__max_features=0.9;, score=0.997 total time=   0.5s\n",
      "[CV 6/10; 9/10] START clf__max_features=0.9.....................................\n",
      "[CV 6/10; 9/10] END ......clf__max_features=0.9;, score=0.997 total time=   0.7s\n",
      "[CV 7/10; 9/10] START clf__max_features=0.9.....................................\n",
      "[CV 7/10; 9/10] END ......clf__max_features=0.9;, score=0.996 total time=   0.6s\n",
      "[CV 8/10; 9/10] START clf__max_features=0.9.....................................\n",
      "[CV 8/10; 9/10] END ......clf__max_features=0.9;, score=0.999 total time=   0.5s\n",
      "[CV 9/10; 9/10] START clf__max_features=0.9.....................................\n",
      "[CV 9/10; 9/10] END ......clf__max_features=0.9;, score=0.996 total time=   0.5s\n",
      "[CV 10/10; 9/10] START clf__max_features=0.9....................................\n",
      "[CV 10/10; 9/10] END .....clf__max_features=0.9;, score=0.999 total time=   0.6s\n",
      "[CV 1/10; 10/10] START clf__max_features=1.0....................................\n",
      "[CV 1/10; 10/10] END .....clf__max_features=1.0;, score=0.998 total time=   0.5s\n",
      "[CV 2/10; 10/10] START clf__max_features=1.0....................................\n",
      "[CV 2/10; 10/10] END .....clf__max_features=1.0;, score=0.996 total time=   0.6s\n",
      "[CV 3/10; 10/10] START clf__max_features=1.0....................................\n",
      "[CV 3/10; 10/10] END .....clf__max_features=1.0;, score=0.999 total time=   0.6s\n",
      "[CV 4/10; 10/10] START clf__max_features=1.0....................................\n",
      "[CV 4/10; 10/10] END .....clf__max_features=1.0;, score=0.999 total time=   0.8s\n",
      "[CV 5/10; 10/10] START clf__max_features=1.0....................................\n",
      "[CV 5/10; 10/10] END .....clf__max_features=1.0;, score=0.996 total time=   0.9s\n",
      "[CV 6/10; 10/10] START clf__max_features=1.0....................................\n",
      "[CV 6/10; 10/10] END .....clf__max_features=1.0;, score=0.996 total time=   1.0s\n",
      "[CV 7/10; 10/10] START clf__max_features=1.0....................................\n",
      "[CV 7/10; 10/10] END .....clf__max_features=1.0;, score=0.996 total time=   0.8s\n",
      "[CV 8/10; 10/10] START clf__max_features=1.0....................................\n",
      "[CV 8/10; 10/10] END .....clf__max_features=1.0;, score=0.999 total time=   0.8s\n",
      "[CV 9/10; 10/10] START clf__max_features=1.0....................................\n",
      "[CV 9/10; 10/10] END .....clf__max_features=1.0;, score=0.997 total time=   0.8s\n",
      "[CV 10/10; 10/10] START clf__max_features=1.0...................................\n",
      "[CV 10/10; 10/10] END ....clf__max_features=1.0;, score=0.999 total time=   0.8s\n",
      "tuned hyperparameters :(best parameters)  {'clf__max_features': 0.3}\n",
      "accuracy : 0.9980962892661808\n"
     ]
    },
    {
     "data": {
      "text/plain": "<Figure size 2000x1000 with 1 Axes>",
      "image/png": "[encoded data removed]"
     },
     "metadata": {},
     "output_type": "display_data"
    }
   ],
   "source": [
    "grid={\"max_features\":[i/10.0 for i in range(1, 11)]}\n",
    "model=ensemble.RandomForestClassifier(n_estimators=20, max_depth = 9)\n",
    "results = grid_search(grid, model, x, y, cv=10)\n",
    "plotGridResults(results)"
   ]
  },
  {
   "cell_type": "markdown",
   "metadata": {
    "collapsed": false,
    "pycharm": {
     "name": "#%% md\n"
    }
   },
   "source": [
    "### Best RF eval"
   ]
  },
  {
   "cell_type": "code",
   "execution_count": 97,
   "metadata": {
    "collapsed": false,
    "pycharm": {
     "name": "#%%\n"
    }
   },
   "outputs": [
    {
     "name": "stderr",
     "output_type": "stream",
     "text": [
      "[Parallel(n_jobs=-1)]: Using backend LokyBackend with 4 concurrent workers.\n",
      "[Parallel(n_jobs=-1)]: Done   2 out of   5 | elapsed:    0.3s remaining:    0.5s\n",
      "[Parallel(n_jobs=-1)]: Done   3 out of   5 | elapsed:    0.3s remaining:    0.2s\n",
      "[Parallel(n_jobs=-1)]: Done   5 out of   5 | elapsed:    0.6s remaining:    0.0s\n",
      "[Parallel(n_jobs=-1)]: Done   5 out of   5 | elapsed:    0.6s finished\n"
     ]
    },
    {
     "name": "stdout",
     "output_type": "stream",
     "text": [
      "RF --------------------------------------\n",
      "Precision:  0.9995994\n",
      "Recall:  0.9966\n",
      "F1:  0.99809604\n",
      "ROC:  0.9999393\n",
      "Accuracy:  0.9981\n"
     ]
    },
    {
     "data": {
      "text/plain": "<sklearn.metrics._plot.confusion_matrix.ConfusionMatrixDisplay at 0x176ad4116c0>"
     },
     "execution_count": 97,
     "metadata": {},
     "output_type": "execute_result"
    },
    {
     "data": {
      "text/plain": "<Figure size 640x480 with 2 Axes>",
      "image/png": "[encoded data removed]"
     },
     "metadata": {},
     "output_type": "display_data"
    }
   ],
   "source": [
    "model = ensemble.RandomForestClassifier(\n",
    "    n_estimators=20,\n",
    "    max_depth=9,\n",
    "    min_samples_split=2,\n",
    "    min_samples_leaf=1,\n",
    "    max_features=0.3\n",
    ")\n",
    "model_cv_rapport(model, \"RF\", x, y)\n",
    "pipe = Pipeline([('scaler', preprocessing.StandardScaler()), ('svc', model)])\n",
    "x_train, x_test, y_train, y_test = train_test_split(x.values, y.values)\n",
    "pipe.fit(x_train, y_train)\n",
    "ConfusionMatrixDisplay.from_estimator(pipe, x_test, y_test, cmap=\"viridis\", normalize=\"all\")"
   ]
  },
  {
   "cell_type": "markdown",
   "metadata": {
    "pycharm": {
     "name": "#%% md\n"
    }
   },
   "source": [
    "Ploting the Feature importance"
   ]
  },
  {
   "cell_type": "code",
   "execution_count": 98,
   "metadata": {
    "pycharm": {
     "name": "#%%\n"
    }
   },
   "outputs": [
    {
     "data": {
      "text/plain": "<AxesSubplot: ylabel='feature name'>"
     },
     "execution_count": 98,
     "metadata": {},
     "output_type": "execute_result"
    },
    {
     "data": {
      "text/plain": "<Figure size 640x480 with 1 Axes>",
      "image/png": "[encoded data removed]"
     },
     "metadata": {},
     "output_type": "display_data"
    }
   ],
   "source": [
    "model.fit(x, y)\n",
    "feat_importances = pd.Series(model.feature_importances_, index=x.columns)\n",
    "feat_importances.nlargest(4).plot(xlabel= \"feature name\",   kind='barh')"
   ]
  },
  {
   "cell_type": "markdown",
   "metadata": {
    "pycharm": {
     "name": "#%% md\n"
    }
   },
   "source": [
    "# LGBM"
   ]
  },
  {
   "cell_type": "markdown",
   "metadata": {
    "pycharm": {
     "name": "#%% md\n"
    }
   },
   "source": [
    "We try to use this algorithm as in the litterature it appears to be as performant than XGBoost but faster to train"
   ]
  },
  {
   "cell_type": "code",
   "execution_count": 99,
   "metadata": {
    "pycharm": {
     "name": "#%%\n"
    }
   },
   "outputs": [
    {
     "name": "stderr",
     "output_type": "stream",
     "text": [
      "[Parallel(n_jobs=-1)]: Using backend LokyBackend with 4 concurrent workers.\n",
      "[Parallel(n_jobs=-1)]: Done   2 out of   5 | elapsed:    0.5s remaining:    0.9s\n",
      "[Parallel(n_jobs=-1)]: Done   3 out of   5 | elapsed:    0.6s remaining:    0.3s\n"
     ]
    },
    {
     "name": "stdout",
     "output_type": "stream",
     "text": [
      "Non tuned LGBM --------------------------------------\n",
      "Precision:  0.99839779\n",
      "Recall:  0.9962\n",
      "F1:  0.99729624\n",
      "ROC:  0.9997628\n",
      "Accuracy:  0.9973\n"
     ]
    },
    {
     "name": "stderr",
     "output_type": "stream",
     "text": [
      "[Parallel(n_jobs=-1)]: Done   5 out of   5 | elapsed:    1.0s remaining:    0.0s\n",
      "[Parallel(n_jobs=-1)]: Done   5 out of   5 | elapsed:    1.0s finished\n"
     ]
    }
   ],
   "source": [
    "#Setting model\n",
    "model = lgbm.LGBMClassifier(objective=\"binary\", n_jobs = -1)\n",
    "model_cv_rapport(model, \"Non tuned LGBM\", x, y)"
   ]
  },
  {
   "cell_type": "markdown",
   "metadata": {
    "pycharm": {
     "name": "#%% md\n"
    }
   },
   "source": [
    "### Hyperparameters - LightGBM\n",
    "#### learning_rate param"
   ]
  },
  {
   "cell_type": "code",
   "execution_count": 100,
   "metadata": {
    "collapsed": false,
    "pycharm": {
     "name": "#%%\n"
    }
   },
   "outputs": [
    {
     "name": "stdout",
     "output_type": "stream",
     "text": [
      "Fitting 5 folds for each of 16 candidates, totalling 80 fits\n",
      "[CV 1/5; 1/16] START clf__learning_rate=0.05....................................\n",
      "[CV 1/5; 1/16] END .....clf__learning_rate=0.05;, score=0.994 total time=   0.1s\n",
      "[CV 2/5; 1/16] START clf__learning_rate=0.05....................................\n",
      "[CV 2/5; 1/16] END .....clf__learning_rate=0.05;, score=1.000 total time=   0.0s\n",
      "[CV 3/5; 1/16] START clf__learning_rate=0.05....................................\n",
      "[CV 3/5; 1/16] END .....clf__learning_rate=0.05;, score=0.996 total time=   0.0s\n",
      "[CV 4/5; 1/16] START clf__learning_rate=0.05....................................\n",
      "[CV 4/5; 1/16] END .....clf__learning_rate=0.05;, score=0.998 total time=   0.0s\n",
      "[CV 5/5; 1/16] START clf__learning_rate=0.05....................................\n",
      "[CV 5/5; 1/16] END .....clf__learning_rate=0.05;, score=0.998 total time=   0.0s\n",
      "[CV 1/5; 2/16] START clf__learning_rate=0.1.....................................\n",
      "[CV 1/5; 2/16] END ......clf__learning_rate=0.1;, score=0.995 total time=   0.0s\n",
      "[CV 2/5; 2/16] START clf__learning_rate=0.1.....................................\n",
      "[CV 2/5; 2/16] END ......clf__learning_rate=0.1;, score=0.999 total time=   0.0s\n",
      "[CV 3/5; 2/16] START clf__learning_rate=0.1.....................................\n",
      "[CV 3/5; 2/16] END ......clf__learning_rate=0.1;, score=0.996 total time=   0.1s\n",
      "[CV 4/5; 2/16] START clf__learning_rate=0.1.....................................\n",
      "[CV 4/5; 2/16] END ......clf__learning_rate=0.1;, score=0.998 total time=   0.0s\n",
      "[CV 5/5; 2/16] START clf__learning_rate=0.1.....................................\n",
      "[CV 5/5; 2/16] END ......clf__learning_rate=0.1;, score=0.998 total time=   0.1s\n",
      "[CV 1/5; 3/16] START clf__learning_rate=0.15....................................\n",
      "[CV 1/5; 3/16] END .....clf__learning_rate=0.15;, score=0.996 total time=   0.0s\n",
      "[CV 2/5; 3/16] START clf__learning_rate=0.15....................................\n",
      "[CV 2/5; 3/16] END .....clf__learning_rate=0.15;, score=1.000 total time=   0.0s\n",
      "[CV 3/5; 3/16] START clf__learning_rate=0.15....................................\n",
      "[CV 3/5; 3/16] END .....clf__learning_rate=0.15;, score=0.996 total time=   0.0s\n",
      "[CV 4/5; 3/16] START clf__learning_rate=0.15....................................\n",
      "[CV 4/5; 3/16] END .....clf__learning_rate=0.15;, score=0.998 total time=   0.1s\n",
      "[CV 5/5; 3/16] START clf__learning_rate=0.15....................................\n",
      "[CV 5/5; 3/16] END .....clf__learning_rate=0.15;, score=0.998 total time=   0.0s\n",
      "[CV 1/5; 4/16] START clf__learning_rate=0.2.....................................\n",
      "[CV 1/5; 4/16] END ......clf__learning_rate=0.2;, score=0.997 total time=   0.0s\n",
      "[CV 2/5; 4/16] START clf__learning_rate=0.2.....................................\n",
      "[CV 2/5; 4/16] END ......clf__learning_rate=0.2;, score=1.000 total time=   0.0s\n",
      "[CV 3/5; 4/16] START clf__learning_rate=0.2.....................................\n",
      "[CV 3/5; 4/16] END ......clf__learning_rate=0.2;, score=0.996 total time=   0.1s\n",
      "[CV 4/5; 4/16] START clf__learning_rate=0.2.....................................\n",
      "[CV 4/5; 4/16] END ......clf__learning_rate=0.2;, score=0.998 total time=   0.0s\n",
      "[CV 5/5; 4/16] START clf__learning_rate=0.2.....................................\n",
      "[CV 5/5; 4/16] END ......clf__learning_rate=0.2;, score=0.998 total time=   0.0s\n",
      "[CV 1/5; 5/16] START clf__learning_rate=0.25....................................\n",
      "[CV 1/5; 5/16] END .....clf__learning_rate=0.25;, score=0.997 total time=   0.0s\n",
      "[CV 2/5; 5/16] START clf__learning_rate=0.25....................................\n",
      "[CV 2/5; 5/16] END .....clf__learning_rate=0.25;, score=1.000 total time=   0.0s\n",
      "[CV 3/5; 5/16] START clf__learning_rate=0.25....................................\n",
      "[CV 3/5; 5/16] END .....clf__learning_rate=0.25;, score=0.996 total time=   0.0s\n",
      "[CV 4/5; 5/16] START clf__learning_rate=0.25....................................\n",
      "[CV 4/5; 5/16] END .....clf__learning_rate=0.25;, score=0.998 total time=   0.0s\n",
      "[CV 5/5; 5/16] START clf__learning_rate=0.25....................................\n",
      "[CV 5/5; 5/16] END .....clf__learning_rate=0.25;, score=0.998 total time=   0.0s\n",
      "[CV 1/5; 6/16] START clf__learning_rate=0.3.....................................\n",
      "[CV 1/5; 6/16] END ......clf__learning_rate=0.3;, score=0.997 total time=   0.0s\n",
      "[CV 2/5; 6/16] START clf__learning_rate=0.3.....................................\n",
      "[CV 2/5; 6/16] END ......clf__learning_rate=0.3;, score=1.000 total time=   0.0s\n",
      "[CV 3/5; 6/16] START clf__learning_rate=0.3.....................................\n",
      "[CV 3/5; 6/16] END ......clf__learning_rate=0.3;, score=0.996 total time=   0.0s\n",
      "[CV 4/5; 6/16] START clf__learning_rate=0.3.....................................\n",
      "[CV 4/5; 6/16] END ......clf__learning_rate=0.3;, score=0.998 total time=   0.0s\n",
      "[CV 5/5; 6/16] START clf__learning_rate=0.3.....................................\n",
      "[CV 5/5; 6/16] END ......clf__learning_rate=0.3;, score=0.998 total time=   0.0s\n",
      "[CV 1/5; 7/16] START clf__learning_rate=0.35....................................\n",
      "[CV 1/5; 7/16] END .....clf__learning_rate=0.35;, score=0.996 total time=   0.0s\n",
      "[CV 2/5; 7/16] START clf__learning_rate=0.35....................................\n",
      "[CV 2/5; 7/16] END .....clf__learning_rate=0.35;, score=1.000 total time=   0.0s\n",
      "[CV 3/5; 7/16] START clf__learning_rate=0.35....................................\n",
      "[CV 3/5; 7/16] END .....clf__learning_rate=0.35;, score=0.996 total time=   0.0s\n",
      "[CV 4/5; 7/16] START clf__learning_rate=0.35....................................\n",
      "[CV 4/5; 7/16] END .....clf__learning_rate=0.35;, score=0.998 total time=   0.0s\n",
      "[CV 5/5; 7/16] START clf__learning_rate=0.35....................................\n",
      "[CV 5/5; 7/16] END .....clf__learning_rate=0.35;, score=0.998 total time=   0.0s\n",
      "[CV 1/5; 8/16] START clf__learning_rate=0.4.....................................\n",
      "[CV 1/5; 8/16] END ......clf__learning_rate=0.4;, score=0.996 total time=   0.0s\n",
      "[CV 2/5; 8/16] START clf__learning_rate=0.4.....................................\n",
      "[CV 2/5; 8/16] END ......clf__learning_rate=0.4;, score=1.000 total time=   0.0s\n",
      "[CV 3/5; 8/16] START clf__learning_rate=0.4.....................................\n",
      "[CV 3/5; 8/16] END ......clf__learning_rate=0.4;, score=0.996 total time=   0.0s\n",
      "[CV 4/5; 8/16] START clf__learning_rate=0.4.....................................\n",
      "[CV 4/5; 8/16] END ......clf__learning_rate=0.4;, score=0.998 total time=   0.0s\n",
      "[CV 5/5; 8/16] START clf__learning_rate=0.4.....................................\n",
      "[CV 5/5; 8/16] END ......clf__learning_rate=0.4;, score=0.998 total time=   0.0s\n",
      "[CV 1/5; 9/16] START clf__learning_rate=0.45....................................\n",
      "[CV 1/5; 9/16] END .....clf__learning_rate=0.45;, score=0.996 total time=   0.0s\n",
      "[CV 2/5; 9/16] START clf__learning_rate=0.45....................................\n",
      "[CV 2/5; 9/16] END .....clf__learning_rate=0.45;, score=1.000 total time=   0.0s\n",
      "[CV 3/5; 9/16] START clf__learning_rate=0.45....................................\n",
      "[CV 3/5; 9/16] END .....clf__learning_rate=0.45;, score=0.996 total time=   0.0s\n",
      "[CV 4/5; 9/16] START clf__learning_rate=0.45....................................\n",
      "[CV 4/5; 9/16] END .....clf__learning_rate=0.45;, score=0.998 total time=   0.0s\n",
      "[CV 5/5; 9/16] START clf__learning_rate=0.45....................................\n",
      "[CV 5/5; 9/16] END .....clf__learning_rate=0.45;, score=0.998 total time=   0.0s\n",
      "[CV 1/5; 10/16] START clf__learning_rate=0.5....................................\n",
      "[CV 1/5; 10/16] END .....clf__learning_rate=0.5;, score=0.996 total time=   0.0s\n",
      "[CV 2/5; 10/16] START clf__learning_rate=0.5....................................\n",
      "[CV 2/5; 10/16] END .....clf__learning_rate=0.5;, score=1.000 total time=   0.0s\n",
      "[CV 3/5; 10/16] START clf__learning_rate=0.5....................................\n",
      "[CV 3/5; 10/16] END .....clf__learning_rate=0.5;, score=0.996 total time=   0.0s\n",
      "[CV 4/5; 10/16] START clf__learning_rate=0.5....................................\n",
      "[CV 4/5; 10/16] END .....clf__learning_rate=0.5;, score=0.998 total time=   0.0s\n",
      "[CV 5/5; 10/16] START clf__learning_rate=0.5....................................\n",
      "[CV 5/5; 10/16] END .....clf__learning_rate=0.5;, score=0.998 total time=   0.0s\n",
      "[CV 1/5; 11/16] START clf__learning_rate=0.55...................................\n",
      "[CV 1/5; 11/16] END ....clf__learning_rate=0.55;, score=0.997 total time=   0.0s\n",
      "[CV 2/5; 11/16] START clf__learning_rate=0.55...................................\n",
      "[CV 2/5; 11/16] END ....clf__learning_rate=0.55;, score=0.999 total time=   0.0s\n",
      "[CV 3/5; 11/16] START clf__learning_rate=0.55...................................\n",
      "[CV 3/5; 11/16] END ....clf__learning_rate=0.55;, score=0.996 total time=   0.0s\n",
      "[CV 4/5; 11/16] START clf__learning_rate=0.55...................................\n",
      "[CV 4/5; 11/16] END ....clf__learning_rate=0.55;, score=0.998 total time=   0.0s\n",
      "[CV 5/5; 11/16] START clf__learning_rate=0.55...................................\n",
      "[CV 5/5; 11/16] END ....clf__learning_rate=0.55;, score=0.998 total time=   0.0s\n",
      "[CV 1/5; 12/16] START clf__learning_rate=0.6....................................\n",
      "[CV 1/5; 12/16] END .....clf__learning_rate=0.6;, score=0.995 total time=   0.0s\n",
      "[CV 2/5; 12/16] START clf__learning_rate=0.6....................................\n",
      "[CV 2/5; 12/16] END .....clf__learning_rate=0.6;, score=1.000 total time=   0.2s\n",
      "[CV 3/5; 12/16] START clf__learning_rate=0.6....................................\n",
      "[CV 3/5; 12/16] END .....clf__learning_rate=0.6;, score=0.996 total time=   0.1s\n",
      "[CV 4/5; 12/16] START clf__learning_rate=0.6....................................\n",
      "[CV 4/5; 12/16] END .....clf__learning_rate=0.6;, score=0.998 total time=   0.0s\n",
      "[CV 5/5; 12/16] START clf__learning_rate=0.6....................................\n",
      "[CV 5/5; 12/16] END .....clf__learning_rate=0.6;, score=0.998 total time=   0.1s\n",
      "[CV 1/5; 13/16] START clf__learning_rate=0.65...................................\n",
      "[CV 1/5; 13/16] END ....clf__learning_rate=0.65;, score=0.996 total time=   0.1s\n",
      "[CV 2/5; 13/16] START clf__learning_rate=0.65...................................\n",
      "[CV 2/5; 13/16] END ....clf__learning_rate=0.65;, score=1.000 total time=   0.0s\n",
      "[CV 3/5; 13/16] START clf__learning_rate=0.65...................................\n",
      "[CV 3/5; 13/16] END ....clf__learning_rate=0.65;, score=0.996 total time=   0.0s\n",
      "[CV 4/5; 13/16] START clf__learning_rate=0.65...................................\n",
      "[CV 4/5; 13/16] END ....clf__learning_rate=0.65;, score=0.998 total time=   0.0s\n",
      "[CV 5/5; 13/16] START clf__learning_rate=0.65...................................\n",
      "[CV 5/5; 13/16] END ....clf__learning_rate=0.65;, score=0.998 total time=   0.0s\n",
      "[CV 1/5; 14/16] START clf__learning_rate=0.7....................................\n",
      "[CV 1/5; 14/16] END .....clf__learning_rate=0.7;, score=0.996 total time=   0.0s\n",
      "[CV 2/5; 14/16] START clf__learning_rate=0.7....................................\n",
      "[CV 2/5; 14/16] END .....clf__learning_rate=0.7;, score=1.000 total time=   0.0s\n",
      "[CV 3/5; 14/16] START clf__learning_rate=0.7....................................\n",
      "[CV 3/5; 14/16] END .....clf__learning_rate=0.7;, score=0.996 total time=   0.0s\n",
      "[CV 4/5; 14/16] START clf__learning_rate=0.7....................................\n",
      "[CV 4/5; 14/16] END .....clf__learning_rate=0.7;, score=0.998 total time=   0.0s\n",
      "[CV 5/5; 14/16] START clf__learning_rate=0.7....................................\n",
      "[CV 5/5; 14/16] END .....clf__learning_rate=0.7;, score=0.998 total time=   0.0s\n",
      "[CV 1/5; 15/16] START clf__learning_rate=0.75...................................\n",
      "[CV 1/5; 15/16] END ....clf__learning_rate=0.75;, score=0.996 total time=   0.0s\n",
      "[CV 2/5; 15/16] START clf__learning_rate=0.75...................................\n",
      "[CV 2/5; 15/16] END ....clf__learning_rate=0.75;, score=1.000 total time=   0.0s\n",
      "[CV 3/5; 15/16] START clf__learning_rate=0.75...................................\n",
      "[CV 3/5; 15/16] END ....clf__learning_rate=0.75;, score=0.996 total time=   0.0s\n",
      "[CV 4/5; 15/16] START clf__learning_rate=0.75...................................\n",
      "[CV 4/5; 15/16] END ....clf__learning_rate=0.75;, score=0.998 total time=   0.0s\n",
      "[CV 5/5; 15/16] START clf__learning_rate=0.75...................................\n",
      "[CV 5/5; 15/16] END ....clf__learning_rate=0.75;, score=0.998 total time=   0.0s\n",
      "[CV 1/5; 16/16] START clf__learning_rate=0.8....................................\n",
      "[CV 1/5; 16/16] END .....clf__learning_rate=0.8;, score=0.996 total time=   0.0s\n",
      "[CV 2/5; 16/16] START clf__learning_rate=0.8....................................\n",
      "[CV 2/5; 16/16] END .....clf__learning_rate=0.8;, score=0.999 total time=   0.0s\n",
      "[CV 3/5; 16/16] START clf__learning_rate=0.8....................................\n",
      "[CV 3/5; 16/16] END .....clf__learning_rate=0.8;, score=0.996 total time=   0.0s\n",
      "[CV 4/5; 16/16] START clf__learning_rate=0.8....................................\n",
      "[CV 4/5; 16/16] END .....clf__learning_rate=0.8;, score=0.998 total time=   0.0s\n",
      "[CV 5/5; 16/16] START clf__learning_rate=0.8....................................\n",
      "[CV 5/5; 16/16] END .....clf__learning_rate=0.8;, score=0.998 total time=   0.0s\n",
      "tuned hyperparameters :(best parameters)  {'clf__learning_rate': 0.3}\n",
      "accuracy : 0.9979967939370201\n"
     ]
    },
    {
     "data": {
      "text/plain": "<Figure size 2000x1000 with 1 Axes>",
      "image/png": "[encoded data removed]"
     },
     "metadata": {},
     "output_type": "display_data"
    }
   ],
   "source": [
    "grid = {\"learning_rate\":[i*5/100.0 for i in range(1, 17)]}\n",
    "model = lgbm.LGBMClassifier(objective=\"binary\", n_jobs = -1)\n",
    "results = grid_search(grid, model, x, y)\n",
    "plotGridResults(results)"
   ]
  },
  {
   "cell_type": "markdown",
   "metadata": {
    "collapsed": false,
    "pycharm": {
     "name": "#%% md\n"
    }
   },
   "source": [
    "#### num_leaves param"
   ]
  },
  {
   "cell_type": "code",
   "execution_count": 101,
   "metadata": {
    "collapsed": false,
    "pycharm": {
     "name": "#%%\n"
    }
   },
   "outputs": [
    {
     "name": "stdout",
     "output_type": "stream",
     "text": [
      "Fitting 5 folds for each of 14 candidates, totalling 70 fits\n",
      "[CV 1/5; 1/14] START clf__num_leaves=5..........................................\n",
      "[CV 1/5; 1/14] END ...........clf__num_leaves=5;, score=0.995 total time=   0.0s\n",
      "[CV 2/5; 1/14] START clf__num_leaves=5..........................................\n",
      "[CV 2/5; 1/14] END ...........clf__num_leaves=5;, score=1.000 total time=   0.0s\n",
      "[CV 3/5; 1/14] START clf__num_leaves=5..........................................\n",
      "[CV 3/5; 1/14] END ...........clf__num_leaves=5;, score=0.996 total time=   0.1s\n",
      "[CV 4/5; 1/14] START clf__num_leaves=5..........................................\n",
      "[CV 4/5; 1/14] END ...........clf__num_leaves=5;, score=0.998 total time=   0.0s\n",
      "[CV 5/5; 1/14] START clf__num_leaves=5..........................................\n",
      "[CV 5/5; 1/14] END ...........clf__num_leaves=5;, score=0.998 total time=   0.0s\n",
      "[CV 1/5; 2/14] START clf__num_leaves=10.........................................\n",
      "[CV 1/5; 2/14] END ..........clf__num_leaves=10;, score=0.997 total time=   0.1s\n",
      "[CV 2/5; 2/14] START clf__num_leaves=10.........................................\n",
      "[CV 2/5; 2/14] END ..........clf__num_leaves=10;, score=1.000 total time=   0.0s\n",
      "[CV 3/5; 2/14] START clf__num_leaves=10.........................................\n",
      "[CV 3/5; 2/14] END ..........clf__num_leaves=10;, score=0.996 total time=   0.0s\n",
      "[CV 4/5; 2/14] START clf__num_leaves=10.........................................\n",
      "[CV 4/5; 2/14] END ..........clf__num_leaves=10;, score=0.998 total time=   0.0s\n",
      "[CV 5/5; 2/14] START clf__num_leaves=10.........................................\n",
      "[CV 5/5; 2/14] END ..........clf__num_leaves=10;, score=0.998 total time=   0.0s\n",
      "[CV 1/5; 3/14] START clf__num_leaves=15.........................................\n",
      "[CV 1/5; 3/14] END ..........clf__num_leaves=15;, score=0.996 total time=   0.0s\n",
      "[CV 2/5; 3/14] START clf__num_leaves=15.........................................\n",
      "[CV 2/5; 3/14] END ..........clf__num_leaves=15;, score=1.000 total time=   0.0s\n",
      "[CV 3/5; 3/14] START clf__num_leaves=15.........................................\n",
      "[CV 3/5; 3/14] END ..........clf__num_leaves=15;, score=0.996 total time=   0.0s\n",
      "[CV 4/5; 3/14] START clf__num_leaves=15.........................................\n",
      "[CV 4/5; 3/14] END ..........clf__num_leaves=15;, score=0.998 total time=   0.1s\n",
      "[CV 5/5; 3/14] START clf__num_leaves=15.........................................\n",
      "[CV 5/5; 3/14] END ..........clf__num_leaves=15;, score=0.998 total time=   0.0s\n",
      "[CV 1/5; 4/14] START clf__num_leaves=20.........................................\n",
      "[CV 1/5; 4/14] END ..........clf__num_leaves=20;, score=0.997 total time=   0.1s\n",
      "[CV 2/5; 4/14] START clf__num_leaves=20.........................................\n",
      "[CV 2/5; 4/14] END ..........clf__num_leaves=20;, score=1.000 total time=   0.1s\n",
      "[CV 3/5; 4/14] START clf__num_leaves=20.........................................\n",
      "[CV 3/5; 4/14] END ..........clf__num_leaves=20;, score=0.996 total time=   0.0s\n",
      "[CV 4/5; 4/14] START clf__num_leaves=20.........................................\n",
      "[CV 4/5; 4/14] END ..........clf__num_leaves=20;, score=0.998 total time=   0.0s\n",
      "[CV 5/5; 4/14] START clf__num_leaves=20.........................................\n",
      "[CV 5/5; 4/14] END ..........clf__num_leaves=20;, score=0.998 total time=   0.0s\n",
      "[CV 1/5; 5/14] START clf__num_leaves=25.........................................\n",
      "[CV 1/5; 5/14] END ..........clf__num_leaves=25;, score=0.998 total time=   0.1s\n",
      "[CV 2/5; 5/14] START clf__num_leaves=25.........................................\n",
      "[CV 2/5; 5/14] END ..........clf__num_leaves=25;, score=1.000 total time=   0.1s\n",
      "[CV 3/5; 5/14] START clf__num_leaves=25.........................................\n",
      "[CV 3/5; 5/14] END ..........clf__num_leaves=25;, score=0.996 total time=   0.1s\n",
      "[CV 4/5; 5/14] START clf__num_leaves=25.........................................\n",
      "[CV 4/5; 5/14] END ..........clf__num_leaves=25;, score=0.998 total time=   0.1s\n",
      "[CV 5/5; 5/14] START clf__num_leaves=25.........................................\n",
      "[CV 5/5; 5/14] END ..........clf__num_leaves=25;, score=0.998 total time=   0.1s\n",
      "[CV 1/5; 6/14] START clf__num_leaves=30.........................................\n",
      "[CV 1/5; 6/14] END ..........clf__num_leaves=30;, score=0.997 total time=   0.1s\n",
      "[CV 2/5; 6/14] START clf__num_leaves=30.........................................\n",
      "[CV 2/5; 6/14] END ..........clf__num_leaves=30;, score=1.000 total time=   0.1s\n",
      "[CV 3/5; 6/14] START clf__num_leaves=30.........................................\n",
      "[CV 3/5; 6/14] END ..........clf__num_leaves=30;, score=0.996 total time=   0.0s\n",
      "[CV 4/5; 6/14] START clf__num_leaves=30.........................................\n",
      "[CV 4/5; 6/14] END ..........clf__num_leaves=30;, score=0.998 total time=   0.1s\n",
      "[CV 5/5; 6/14] START clf__num_leaves=30.........................................\n",
      "[CV 5/5; 6/14] END ..........clf__num_leaves=30;, score=0.998 total time=   0.1s\n",
      "[CV 1/5; 7/14] START clf__num_leaves=35.........................................\n",
      "[CV 1/5; 7/14] END ..........clf__num_leaves=35;, score=0.998 total time=   0.0s\n",
      "[CV 2/5; 7/14] START clf__num_leaves=35.........................................\n",
      "[CV 2/5; 7/14] END ..........clf__num_leaves=35;, score=1.000 total time=   0.0s\n",
      "[CV 3/5; 7/14] START clf__num_leaves=35.........................................\n",
      "[CV 3/5; 7/14] END ..........clf__num_leaves=35;, score=0.996 total time=   0.1s\n",
      "[CV 4/5; 7/14] START clf__num_leaves=35.........................................\n",
      "[CV 4/5; 7/14] END ..........clf__num_leaves=35;, score=0.998 total time=   0.1s\n",
      "[CV 5/5; 7/14] START clf__num_leaves=35.........................................\n",
      "[CV 5/5; 7/14] END ..........clf__num_leaves=35;, score=0.998 total time=   0.5s\n",
      "[CV 1/5; 8/14] START clf__num_leaves=40.........................................\n",
      "[CV 1/5; 8/14] END ..........clf__num_leaves=40;, score=0.998 total time=   0.4s\n",
      "[CV 2/5; 8/14] START clf__num_leaves=40.........................................\n",
      "[CV 2/5; 8/14] END ..........clf__num_leaves=40;, score=1.000 total time=   0.3s\n",
      "[CV 3/5; 8/14] START clf__num_leaves=40.........................................\n",
      "[CV 3/5; 8/14] END ..........clf__num_leaves=40;, score=0.996 total time=   0.2s\n",
      "[CV 4/5; 8/14] START clf__num_leaves=40.........................................\n",
      "[CV 4/5; 8/14] END ..........clf__num_leaves=40;, score=0.998 total time=   0.1s\n",
      "[CV 5/5; 8/14] START clf__num_leaves=40.........................................\n",
      "[CV 5/5; 8/14] END ..........clf__num_leaves=40;, score=0.998 total time=   0.1s\n",
      "[CV 1/5; 9/14] START clf__num_leaves=45.........................................\n",
      "[CV 1/5; 9/14] END ..........clf__num_leaves=45;, score=0.998 total time=   0.1s\n",
      "[CV 2/5; 9/14] START clf__num_leaves=45.........................................\n",
      "[CV 2/5; 9/14] END ..........clf__num_leaves=45;, score=1.000 total time=   0.1s\n",
      "[CV 3/5; 9/14] START clf__num_leaves=45.........................................\n",
      "[CV 3/5; 9/14] END ..........clf__num_leaves=45;, score=0.996 total time=   0.1s\n",
      "[CV 4/5; 9/14] START clf__num_leaves=45.........................................\n",
      "[CV 4/5; 9/14] END ..........clf__num_leaves=45;, score=0.998 total time=   0.3s\n",
      "[CV 5/5; 9/14] START clf__num_leaves=45.........................................\n",
      "[CV 5/5; 9/14] END ..........clf__num_leaves=45;, score=0.998 total time=   0.1s\n",
      "[CV 1/5; 10/14] START clf__num_leaves=50........................................\n",
      "[CV 1/5; 10/14] END .........clf__num_leaves=50;, score=0.998 total time=   0.1s\n",
      "[CV 2/5; 10/14] START clf__num_leaves=50........................................\n",
      "[CV 2/5; 10/14] END .........clf__num_leaves=50;, score=1.000 total time=   0.1s\n",
      "[CV 3/5; 10/14] START clf__num_leaves=50........................................\n",
      "[CV 3/5; 10/14] END .........clf__num_leaves=50;, score=0.996 total time=   0.1s\n",
      "[CV 4/5; 10/14] START clf__num_leaves=50........................................\n",
      "[CV 4/5; 10/14] END .........clf__num_leaves=50;, score=0.998 total time=   0.1s\n",
      "[CV 5/5; 10/14] START clf__num_leaves=50........................................\n",
      "[CV 5/5; 10/14] END .........clf__num_leaves=50;, score=0.998 total time=   0.1s\n",
      "[CV 1/5; 11/14] START clf__num_leaves=55........................................\n",
      "[CV 1/5; 11/14] END .........clf__num_leaves=55;, score=0.998 total time=   0.1s\n",
      "[CV 2/5; 11/14] START clf__num_leaves=55........................................\n",
      "[CV 2/5; 11/14] END .........clf__num_leaves=55;, score=1.000 total time=   0.1s\n",
      "[CV 3/5; 11/14] START clf__num_leaves=55........................................\n",
      "[CV 3/5; 11/14] END .........clf__num_leaves=55;, score=0.996 total time=   0.1s\n",
      "[CV 4/5; 11/14] START clf__num_leaves=55........................................\n",
      "[CV 4/5; 11/14] END .........clf__num_leaves=55;, score=0.998 total time=   0.1s\n",
      "[CV 5/5; 11/14] START clf__num_leaves=55........................................\n",
      "[CV 5/5; 11/14] END .........clf__num_leaves=55;, score=0.998 total time=   0.1s\n",
      "[CV 1/5; 12/14] START clf__num_leaves=60........................................\n",
      "[CV 1/5; 12/14] END .........clf__num_leaves=60;, score=0.998 total time=   0.1s\n",
      "[CV 2/5; 12/14] START clf__num_leaves=60........................................\n",
      "[CV 2/5; 12/14] END .........clf__num_leaves=60;, score=1.000 total time=   0.1s\n",
      "[CV 3/5; 12/14] START clf__num_leaves=60........................................\n",
      "[CV 3/5; 12/14] END .........clf__num_leaves=60;, score=0.996 total time=   0.2s\n",
      "[CV 4/5; 12/14] START clf__num_leaves=60........................................\n",
      "[CV 4/5; 12/14] END .........clf__num_leaves=60;, score=0.998 total time=   0.3s\n",
      "[CV 5/5; 12/14] START clf__num_leaves=60........................................\n",
      "[CV 5/5; 12/14] END .........clf__num_leaves=60;, score=0.998 total time=   0.2s\n",
      "[CV 1/5; 13/14] START clf__num_leaves=65........................................\n",
      "[CV 1/5; 13/14] END .........clf__num_leaves=65;, score=0.998 total time=   0.3s\n",
      "[CV 2/5; 13/14] START clf__num_leaves=65........................................\n",
      "[CV 2/5; 13/14] END .........clf__num_leaves=65;, score=1.000 total time=   0.2s\n",
      "[CV 3/5; 13/14] START clf__num_leaves=65........................................\n",
      "[CV 3/5; 13/14] END .........clf__num_leaves=65;, score=0.996 total time=   0.1s\n",
      "[CV 4/5; 13/14] START clf__num_leaves=65........................................\n",
      "[CV 4/5; 13/14] END .........clf__num_leaves=65;, score=0.998 total time=   0.1s\n",
      "[CV 5/5; 13/14] START clf__num_leaves=65........................................\n",
      "[CV 5/5; 13/14] END .........clf__num_leaves=65;, score=0.998 total time=   0.1s\n",
      "[CV 1/5; 14/14] START clf__num_leaves=70........................................\n",
      "[CV 1/5; 14/14] END .........clf__num_leaves=70;, score=0.998 total time=   0.1s\n",
      "[CV 2/5; 14/14] START clf__num_leaves=70........................................\n",
      "[CV 2/5; 14/14] END .........clf__num_leaves=70;, score=1.000 total time=   0.1s\n",
      "[CV 3/5; 14/14] START clf__num_leaves=70........................................\n",
      "[CV 3/5; 14/14] END .........clf__num_leaves=70;, score=0.996 total time=   0.1s\n",
      "[CV 4/5; 14/14] START clf__num_leaves=70........................................\n",
      "[CV 4/5; 14/14] END .........clf__num_leaves=70;, score=0.998 total time=   0.1s\n",
      "[CV 5/5; 14/14] START clf__num_leaves=70........................................\n",
      "[CV 5/5; 14/14] END .........clf__num_leaves=70;, score=0.998 total time=   0.1s\n",
      "tuned hyperparameters :(best parameters)  {'clf__num_leaves': 35}\n",
      "accuracy : 0.9980962420072219\n"
     ]
    },
    {
     "data": {
      "text/plain": "<Figure size 2000x1000 with 1 Axes>",
      "image/png": "[encoded data removed]"
     },
     "metadata": {},
     "output_type": "display_data"
    }
   ],
   "source": [
    "grid={\"num_leaves\":[5*i for i in range(1, 15)]}\n",
    "model= lgbm.LGBMClassifier(objective=\"binary\", n_jobs = -1, learning_rate=0.25)\n",
    "results = grid_search(grid, model, x, y)\n",
    "plotGridResults(results)"
   ]
  },
  {
   "cell_type": "code",
   "execution_count": 102,
   "metadata": {
    "collapsed": false,
    "pycharm": {
     "name": "#%%\n"
    }
   },
   "outputs": [
    {
     "name": "stdout",
     "output_type": "stream",
     "text": [
      "Fitting 5 folds for each of 19 candidates, totalling 95 fits\n",
      "[CV 1/5; 1/19] START clf__num_leaves=50.........................................\n",
      "[CV 1/5; 1/19] END ..........clf__num_leaves=50;, score=0.998 total time=   0.1s\n",
      "[CV 2/5; 1/19] START clf__num_leaves=50.........................................\n",
      "[CV 2/5; 1/19] END ..........clf__num_leaves=50;, score=1.000 total time=   0.1s\n",
      "[CV 3/5; 1/19] START clf__num_leaves=50.........................................\n",
      "[CV 3/5; 1/19] END ..........clf__num_leaves=50;, score=0.996 total time=   0.2s\n",
      "[CV 4/5; 1/19] START clf__num_leaves=50.........................................\n",
      "[CV 4/5; 1/19] END ..........clf__num_leaves=50;, score=0.998 total time=   0.1s\n",
      "[CV 5/5; 1/19] START clf__num_leaves=50.........................................\n",
      "[CV 5/5; 1/19] END ..........clf__num_leaves=50;, score=0.998 total time=   0.0s\n",
      "[CV 1/5; 2/19] START clf__num_leaves=100........................................\n",
      "[CV 1/5; 2/19] END .........clf__num_leaves=100;, score=0.998 total time=   0.1s\n",
      "[CV 2/5; 2/19] START clf__num_leaves=100........................................\n",
      "[CV 2/5; 2/19] END .........clf__num_leaves=100;, score=1.000 total time=   0.1s\n",
      "[CV 3/5; 2/19] START clf__num_leaves=100........................................\n",
      "[CV 3/5; 2/19] END .........clf__num_leaves=100;, score=0.996 total time=   0.2s\n",
      "[CV 4/5; 2/19] START clf__num_leaves=100........................................\n",
      "[CV 4/5; 2/19] END .........clf__num_leaves=100;, score=0.998 total time=   0.1s\n",
      "[CV 5/5; 2/19] START clf__num_leaves=100........................................\n",
      "[CV 5/5; 2/19] END .........clf__num_leaves=100;, score=0.998 total time=   0.1s\n",
      "[CV 1/5; 3/19] START clf__num_leaves=150........................................\n",
      "[CV 1/5; 3/19] END .........clf__num_leaves=150;, score=0.998 total time=   0.2s\n",
      "[CV 2/5; 3/19] START clf__num_leaves=150........................................\n",
      "[CV 2/5; 3/19] END .........clf__num_leaves=150;, score=1.000 total time=   0.4s\n",
      "[CV 3/5; 3/19] START clf__num_leaves=150........................................\n",
      "[CV 3/5; 3/19] END .........clf__num_leaves=150;, score=0.996 total time=   0.5s\n",
      "[CV 4/5; 3/19] START clf__num_leaves=150........................................\n",
      "[CV 4/5; 3/19] END .........clf__num_leaves=150;, score=0.998 total time=   0.5s\n",
      "[CV 5/5; 3/19] START clf__num_leaves=150........................................\n",
      "[CV 5/5; 3/19] END .........clf__num_leaves=150;, score=0.998 total time=   0.3s\n",
      "[CV 1/5; 4/19] START clf__num_leaves=200........................................\n",
      "[CV 1/5; 4/19] END .........clf__num_leaves=200;, score=0.998 total time=   0.2s\n",
      "[CV 2/5; 4/19] START clf__num_leaves=200........................................\n",
      "[CV 2/5; 4/19] END .........clf__num_leaves=200;, score=1.000 total time=   0.2s\n",
      "[CV 3/5; 4/19] START clf__num_leaves=200........................................\n",
      "[CV 3/5; 4/19] END .........clf__num_leaves=200;, score=0.996 total time=   0.1s\n",
      "[CV 4/5; 4/19] START clf__num_leaves=200........................................\n",
      "[CV 4/5; 4/19] END .........clf__num_leaves=200;, score=0.998 total time=   0.1s\n",
      "[CV 5/5; 4/19] START clf__num_leaves=200........................................\n",
      "[CV 5/5; 4/19] END .........clf__num_leaves=200;, score=0.998 total time=   0.2s\n",
      "[CV 1/5; 5/19] START clf__num_leaves=250........................................\n",
      "[CV 1/5; 5/19] END .........clf__num_leaves=250;, score=0.998 total time=   0.2s\n",
      "[CV 2/5; 5/19] START clf__num_leaves=250........................................\n",
      "[CV 2/5; 5/19] END .........clf__num_leaves=250;, score=1.000 total time=   0.3s\n",
      "[CV 3/5; 5/19] START clf__num_leaves=250........................................\n",
      "[CV 3/5; 5/19] END .........clf__num_leaves=250;, score=0.996 total time=   0.2s\n",
      "[CV 4/5; 5/19] START clf__num_leaves=250........................................\n",
      "[CV 4/5; 5/19] END .........clf__num_leaves=250;, score=0.998 total time=   0.1s\n",
      "[CV 5/5; 5/19] START clf__num_leaves=250........................................\n",
      "[CV 5/5; 5/19] END .........clf__num_leaves=250;, score=0.998 total time=   0.2s\n",
      "[CV 1/5; 6/19] START clf__num_leaves=300........................................\n",
      "[CV 1/5; 6/19] END .........clf__num_leaves=300;, score=0.998 total time=   0.1s\n",
      "[CV 2/5; 6/19] START clf__num_leaves=300........................................\n",
      "[CV 2/5; 6/19] END .........clf__num_leaves=300;, score=1.000 total time=   0.2s\n",
      "[CV 3/5; 6/19] START clf__num_leaves=300........................................\n",
      "[CV 3/5; 6/19] END .........clf__num_leaves=300;, score=0.996 total time=   0.1s\n",
      "[CV 4/5; 6/19] START clf__num_leaves=300........................................\n",
      "[CV 4/5; 6/19] END .........clf__num_leaves=300;, score=0.998 total time=   0.2s\n",
      "[CV 5/5; 6/19] START clf__num_leaves=300........................................\n",
      "[CV 5/5; 6/19] END .........clf__num_leaves=300;, score=0.998 total time=   0.2s\n",
      "[CV 1/5; 7/19] START clf__num_leaves=350........................................\n",
      "[CV 1/5; 7/19] END .........clf__num_leaves=350;, score=0.998 total time=   0.2s\n",
      "[CV 2/5; 7/19] START clf__num_leaves=350........................................\n",
      "[CV 2/5; 7/19] END .........clf__num_leaves=350;, score=1.000 total time=   0.3s\n",
      "[CV 3/5; 7/19] START clf__num_leaves=350........................................\n",
      "[CV 3/5; 7/19] END .........clf__num_leaves=350;, score=0.996 total time=   0.2s\n",
      "[CV 4/5; 7/19] START clf__num_leaves=350........................................\n",
      "[CV 4/5; 7/19] END .........clf__num_leaves=350;, score=0.998 total time=   0.1s\n",
      "[CV 5/5; 7/19] START clf__num_leaves=350........................................\n",
      "[CV 5/5; 7/19] END .........clf__num_leaves=350;, score=0.998 total time=   0.2s\n",
      "[CV 1/5; 8/19] START clf__num_leaves=400........................................\n",
      "[CV 1/5; 8/19] END .........clf__num_leaves=400;, score=0.998 total time=   0.2s\n",
      "[CV 2/5; 8/19] START clf__num_leaves=400........................................\n",
      "[CV 2/5; 8/19] END .........clf__num_leaves=400;, score=1.000 total time=   0.2s\n",
      "[CV 3/5; 8/19] START clf__num_leaves=400........................................\n",
      "[CV 3/5; 8/19] END .........clf__num_leaves=400;, score=0.996 total time=   0.2s\n",
      "[CV 4/5; 8/19] START clf__num_leaves=400........................................\n",
      "[CV 4/5; 8/19] END .........clf__num_leaves=400;, score=0.998 total time=   0.4s\n",
      "[CV 5/5; 8/19] START clf__num_leaves=400........................................\n",
      "[CV 5/5; 8/19] END .........clf__num_leaves=400;, score=0.998 total time=   0.9s\n",
      "[CV 1/5; 9/19] START clf__num_leaves=450........................................\n",
      "[CV 1/5; 9/19] END .........clf__num_leaves=450;, score=0.998 total time=   0.2s\n",
      "[CV 2/5; 9/19] START clf__num_leaves=450........................................\n",
      "[CV 2/5; 9/19] END .........clf__num_leaves=450;, score=1.000 total time=   0.3s\n",
      "[CV 3/5; 9/19] START clf__num_leaves=450........................................\n",
      "[CV 3/5; 9/19] END .........clf__num_leaves=450;, score=0.996 total time=   0.1s\n",
      "[CV 4/5; 9/19] START clf__num_leaves=450........................................\n",
      "[CV 4/5; 9/19] END .........clf__num_leaves=450;, score=0.998 total time=   0.1s\n",
      "[CV 5/5; 9/19] START clf__num_leaves=450........................................\n",
      "[CV 5/5; 9/19] END .........clf__num_leaves=450;, score=0.998 total time=   0.1s\n",
      "[CV 1/5; 10/19] START clf__num_leaves=500.......................................\n",
      "[CV 1/5; 10/19] END ........clf__num_leaves=500;, score=0.998 total time=   0.1s\n",
      "[CV 2/5; 10/19] START clf__num_leaves=500.......................................\n",
      "[CV 2/5; 10/19] END ........clf__num_leaves=500;, score=1.000 total time=   0.2s\n",
      "[CV 3/5; 10/19] START clf__num_leaves=500.......................................\n",
      "[CV 3/5; 10/19] END ........clf__num_leaves=500;, score=0.996 total time=   0.1s\n",
      "[CV 4/5; 10/19] START clf__num_leaves=500.......................................\n",
      "[CV 4/5; 10/19] END ........clf__num_leaves=500;, score=0.998 total time=   0.1s\n",
      "[CV 5/5; 10/19] START clf__num_leaves=500.......................................\n",
      "[CV 5/5; 10/19] END ........clf__num_leaves=500;, score=0.998 total time=   0.1s\n",
      "[CV 1/5; 11/19] START clf__num_leaves=550.......................................\n",
      "[CV 1/5; 11/19] END ........clf__num_leaves=550;, score=0.998 total time=   0.1s\n",
      "[CV 2/5; 11/19] START clf__num_leaves=550.......................................\n",
      "[CV 2/5; 11/19] END ........clf__num_leaves=550;, score=1.000 total time=   0.2s\n",
      "[CV 3/5; 11/19] START clf__num_leaves=550.......................................\n",
      "[CV 3/5; 11/19] END ........clf__num_leaves=550;, score=0.996 total time=   0.1s\n",
      "[CV 4/5; 11/19] START clf__num_leaves=550.......................................\n",
      "[CV 4/5; 11/19] END ........clf__num_leaves=550;, score=0.998 total time=   0.1s\n",
      "[CV 5/5; 11/19] START clf__num_leaves=550.......................................\n",
      "[CV 5/5; 11/19] END ........clf__num_leaves=550;, score=0.998 total time=   0.1s\n",
      "[CV 1/5; 12/19] START clf__num_leaves=600.......................................\n",
      "[CV 1/5; 12/19] END ........clf__num_leaves=600;, score=0.998 total time=   0.2s\n",
      "[CV 2/5; 12/19] START clf__num_leaves=600.......................................\n",
      "[CV 2/5; 12/19] END ........clf__num_leaves=600;, score=1.000 total time=   0.3s\n",
      "[CV 3/5; 12/19] START clf__num_leaves=600.......................................\n",
      "[CV 3/5; 12/19] END ........clf__num_leaves=600;, score=0.996 total time=   0.4s\n",
      "[CV 4/5; 12/19] START clf__num_leaves=600.......................................\n",
      "[CV 4/5; 12/19] END ........clf__num_leaves=600;, score=0.998 total time=   0.3s\n",
      "[CV 5/5; 12/19] START clf__num_leaves=600.......................................\n",
      "[CV 5/5; 12/19] END ........clf__num_leaves=600;, score=0.998 total time=   0.3s\n",
      "[CV 1/5; 13/19] START clf__num_leaves=650.......................................\n",
      "[CV 1/5; 13/19] END ........clf__num_leaves=650;, score=0.998 total time=   0.2s\n",
      "[CV 2/5; 13/19] START clf__num_leaves=650.......................................\n",
      "[CV 2/5; 13/19] END ........clf__num_leaves=650;, score=1.000 total time=   0.2s\n",
      "[CV 3/5; 13/19] START clf__num_leaves=650.......................................\n",
      "[CV 3/5; 13/19] END ........clf__num_leaves=650;, score=0.996 total time=   0.1s\n",
      "[CV 4/5; 13/19] START clf__num_leaves=650.......................................\n",
      "[CV 4/5; 13/19] END ........clf__num_leaves=650;, score=0.998 total time=   0.1s\n",
      "[CV 5/5; 13/19] START clf__num_leaves=650.......................................\n",
      "[CV 5/5; 13/19] END ........clf__num_leaves=650;, score=0.998 total time=   0.2s\n",
      "[CV 1/5; 14/19] START clf__num_leaves=700.......................................\n",
      "[CV 1/5; 14/19] END ........clf__num_leaves=700;, score=0.998 total time=   0.2s\n",
      "[CV 2/5; 14/19] START clf__num_leaves=700.......................................\n",
      "[CV 2/5; 14/19] END ........clf__num_leaves=700;, score=1.000 total time=   0.2s\n",
      "[CV 3/5; 14/19] START clf__num_leaves=700.......................................\n",
      "[CV 3/5; 14/19] END ........clf__num_leaves=700;, score=0.996 total time=   0.2s\n",
      "[CV 4/5; 14/19] START clf__num_leaves=700.......................................\n",
      "[CV 4/5; 14/19] END ........clf__num_leaves=700;, score=0.998 total time=   0.1s\n",
      "[CV 5/5; 14/19] START clf__num_leaves=700.......................................\n",
      "[CV 5/5; 14/19] END ........clf__num_leaves=700;, score=0.998 total time=   0.2s\n",
      "[CV 1/5; 15/19] START clf__num_leaves=750.......................................\n",
      "[CV 1/5; 15/19] END ........clf__num_leaves=750;, score=0.998 total time=   0.1s\n",
      "[CV 2/5; 15/19] START clf__num_leaves=750.......................................\n",
      "[CV 2/5; 15/19] END ........clf__num_leaves=750;, score=1.000 total time=   0.2s\n",
      "[CV 3/5; 15/19] START clf__num_leaves=750.......................................\n",
      "[CV 3/5; 15/19] END ........clf__num_leaves=750;, score=0.996 total time=   0.1s\n",
      "[CV 4/5; 15/19] START clf__num_leaves=750.......................................\n",
      "[CV 4/5; 15/19] END ........clf__num_leaves=750;, score=0.998 total time=   0.3s\n",
      "[CV 5/5; 15/19] START clf__num_leaves=750.......................................\n",
      "[CV 5/5; 15/19] END ........clf__num_leaves=750;, score=0.998 total time=   0.3s\n",
      "[CV 1/5; 16/19] START clf__num_leaves=800.......................................\n",
      "[CV 1/5; 16/19] END ........clf__num_leaves=800;, score=0.998 total time=   0.3s\n",
      "[CV 2/5; 16/19] START clf__num_leaves=800.......................................\n",
      "[CV 2/5; 16/19] END ........clf__num_leaves=800;, score=1.000 total time=   0.3s\n",
      "[CV 3/5; 16/19] START clf__num_leaves=800.......................................\n",
      "[CV 3/5; 16/19] END ........clf__num_leaves=800;, score=0.996 total time=   0.3s\n",
      "[CV 4/5; 16/19] START clf__num_leaves=800.......................................\n",
      "[CV 4/5; 16/19] END ........clf__num_leaves=800;, score=0.998 total time=   0.3s\n",
      "[CV 5/5; 16/19] START clf__num_leaves=800.......................................\n",
      "[CV 5/5; 16/19] END ........clf__num_leaves=800;, score=0.998 total time=   0.8s\n",
      "[CV 1/5; 17/19] START clf__num_leaves=850.......................................\n",
      "[CV 1/5; 17/19] END ........clf__num_leaves=850;, score=0.998 total time=   0.3s\n",
      "[CV 2/5; 17/19] START clf__num_leaves=850.......................................\n",
      "[CV 2/5; 17/19] END ........clf__num_leaves=850;, score=1.000 total time=   0.3s\n",
      "[CV 3/5; 17/19] START clf__num_leaves=850.......................................\n",
      "[CV 3/5; 17/19] END ........clf__num_leaves=850;, score=0.996 total time=   0.2s\n",
      "[CV 4/5; 17/19] START clf__num_leaves=850.......................................\n",
      "[CV 4/5; 17/19] END ........clf__num_leaves=850;, score=0.998 total time=   0.2s\n",
      "[CV 5/5; 17/19] START clf__num_leaves=850.......................................\n",
      "[CV 5/5; 17/19] END ........clf__num_leaves=850;, score=0.998 total time=   0.1s\n",
      "[CV 1/5; 18/19] START clf__num_leaves=900.......................................\n",
      "[CV 1/5; 18/19] END ........clf__num_leaves=900;, score=0.998 total time=   0.2s\n",
      "[CV 2/5; 18/19] START clf__num_leaves=900.......................................\n",
      "[CV 2/5; 18/19] END ........clf__num_leaves=900;, score=1.000 total time=   0.2s\n",
      "[CV 3/5; 18/19] START clf__num_leaves=900.......................................\n",
      "[CV 3/5; 18/19] END ........clf__num_leaves=900;, score=0.996 total time=   0.2s\n",
      "[CV 4/5; 18/19] START clf__num_leaves=900.......................................\n",
      "[CV 4/5; 18/19] END ........clf__num_leaves=900;, score=0.998 total time=   0.1s\n",
      "[CV 5/5; 18/19] START clf__num_leaves=900.......................................\n",
      "[CV 5/5; 18/19] END ........clf__num_leaves=900;, score=0.998 total time=   0.2s\n",
      "[CV 1/5; 19/19] START clf__num_leaves=950.......................................\n",
      "[CV 1/5; 19/19] END ........clf__num_leaves=950;, score=0.998 total time=   0.1s\n",
      "[CV 2/5; 19/19] START clf__num_leaves=950.......................................\n",
      "[CV 2/5; 19/19] END ........clf__num_leaves=950;, score=1.000 total time=   0.2s\n",
      "[CV 3/5; 19/19] START clf__num_leaves=950.......................................\n",
      "[CV 3/5; 19/19] END ........clf__num_leaves=950;, score=0.996 total time=   0.1s\n",
      "[CV 4/5; 19/19] START clf__num_leaves=950.......................................\n",
      "[CV 4/5; 19/19] END ........clf__num_leaves=950;, score=0.998 total time=   0.2s\n",
      "[CV 5/5; 19/19] START clf__num_leaves=950.......................................\n",
      "[CV 5/5; 19/19] END ........clf__num_leaves=950;, score=0.998 total time=   0.2s\n",
      "tuned hyperparameters :(best parameters)  {'clf__num_leaves': 50}\n",
      "accuracy : 0.9980962420072219\n"
     ]
    },
    {
     "data": {
      "text/plain": "<Figure size 2000x1000 with 1 Axes>",
      "image/png": "[encoded data removed]"
     },
     "metadata": {},
     "output_type": "display_data"
    }
   ],
   "source": [
    "grid={\"num_leaves\":[50*i for i in range(1, 20)]}\n",
    "model= lgbm.LGBMClassifier(objective=\"binary\", n_jobs = -1, learning_rate=0.25)\n",
    "results = grid_search(grid, model, x, y)\n",
    "plotGridResults(results)"
   ]
  },
  {
   "cell_type": "markdown",
   "metadata": {
    "pycharm": {
     "name": "#%% md\n"
    }
   },
   "source": [
    "After 35 leaves, the results are stable so we stay at 35."
   ]
  },
  {
   "cell_type": "markdown",
   "metadata": {
    "collapsed": false,
    "pycharm": {
     "name": "#%% md\n"
    }
   },
   "source": [
    "#### n_estimators param"
   ]
  },
  {
   "cell_type": "code",
   "execution_count": 103,
   "metadata": {
    "collapsed": false,
    "pycharm": {
     "name": "#%%\n"
    }
   },
   "outputs": [
    {
     "name": "stdout",
     "output_type": "stream",
     "text": [
      "Fitting 5 folds for each of 22 candidates, totalling 110 fits\n",
      "[CV 1/5; 1/22] START clf__n_estimators=30.......................................\n",
      "[CV 1/5; 1/22] END ........clf__n_estimators=30;, score=0.996 total time=   0.0s\n",
      "[CV 2/5; 1/22] START clf__n_estimators=30.......................................\n",
      "[CV 2/5; 1/22] END ........clf__n_estimators=30;, score=0.999 total time=   0.0s\n",
      "[CV 3/5; 1/22] START clf__n_estimators=30.......................................\n",
      "[CV 3/5; 1/22] END ........clf__n_estimators=30;, score=0.996 total time=   0.0s\n",
      "[CV 4/5; 1/22] START clf__n_estimators=30.......................................\n",
      "[CV 4/5; 1/22] END ........clf__n_estimators=30;, score=0.998 total time=   0.0s\n",
      "[CV 5/5; 1/22] START clf__n_estimators=30.......................................\n",
      "[CV 5/5; 1/22] END ........clf__n_estimators=30;, score=0.998 total time=   0.0s\n",
      "[CV 1/5; 2/22] START clf__n_estimators=40.......................................\n",
      "[CV 1/5; 2/22] END ........clf__n_estimators=40;, score=0.996 total time=   0.0s\n",
      "[CV 2/5; 2/22] START clf__n_estimators=40.......................................\n",
      "[CV 2/5; 2/22] END ........clf__n_estimators=40;, score=1.000 total time=   0.0s\n",
      "[CV 3/5; 2/22] START clf__n_estimators=40.......................................\n",
      "[CV 3/5; 2/22] END ........clf__n_estimators=40;, score=0.996 total time=   0.0s\n",
      "[CV 4/5; 2/22] START clf__n_estimators=40.......................................\n",
      "[CV 4/5; 2/22] END ........clf__n_estimators=40;, score=0.998 total time=   0.0s\n",
      "[CV 5/5; 2/22] START clf__n_estimators=40.......................................\n",
      "[CV 5/5; 2/22] END ........clf__n_estimators=40;, score=0.998 total time=   0.0s\n",
      "[CV 1/5; 3/22] START clf__n_estimators=50.......................................\n",
      "[CV 1/5; 3/22] END ........clf__n_estimators=50;, score=0.997 total time=   0.0s\n",
      "[CV 2/5; 3/22] START clf__n_estimators=50.......................................\n",
      "[CV 2/5; 3/22] END ........clf__n_estimators=50;, score=1.000 total time=   0.0s\n",
      "[CV 3/5; 3/22] START clf__n_estimators=50.......................................\n",
      "[CV 3/5; 3/22] END ........clf__n_estimators=50;, score=0.996 total time=   0.0s\n",
      "[CV 4/5; 3/22] START clf__n_estimators=50.......................................\n",
      "[CV 4/5; 3/22] END ........clf__n_estimators=50;, score=0.998 total time=   0.0s\n",
      "[CV 5/5; 3/22] START clf__n_estimators=50.......................................\n",
      "[CV 5/5; 3/22] END ........clf__n_estimators=50;, score=0.998 total time=   0.0s\n",
      "[CV 1/5; 4/22] START clf__n_estimators=60.......................................\n",
      "[CV 1/5; 4/22] END ........clf__n_estimators=60;, score=0.997 total time=   0.0s\n",
      "[CV 2/5; 4/22] START clf__n_estimators=60.......................................\n",
      "[CV 2/5; 4/22] END ........clf__n_estimators=60;, score=1.000 total time=   0.2s\n",
      "[CV 3/5; 4/22] START clf__n_estimators=60.......................................\n",
      "[CV 3/5; 4/22] END ........clf__n_estimators=60;, score=0.996 total time=   0.1s\n",
      "[CV 4/5; 4/22] START clf__n_estimators=60.......................................\n",
      "[CV 4/5; 4/22] END ........clf__n_estimators=60;, score=0.998 total time=   0.0s\n",
      "[CV 5/5; 4/22] START clf__n_estimators=60.......................................\n",
      "[CV 5/5; 4/22] END ........clf__n_estimators=60;, score=0.998 total time=   0.0s\n",
      "[CV 1/5; 5/22] START clf__n_estimators=70.......................................\n",
      "[CV 1/5; 5/22] END ........clf__n_estimators=70;, score=0.997 total time=   0.1s\n",
      "[CV 2/5; 5/22] START clf__n_estimators=70.......................................\n",
      "[CV 2/5; 5/22] END ........clf__n_estimators=70;, score=1.000 total time=   0.0s\n",
      "[CV 3/5; 5/22] START clf__n_estimators=70.......................................\n",
      "[CV 3/5; 5/22] END ........clf__n_estimators=70;, score=0.996 total time=   0.0s\n",
      "[CV 4/5; 5/22] START clf__n_estimators=70.......................................\n",
      "[CV 4/5; 5/22] END ........clf__n_estimators=70;, score=0.998 total time=   0.0s\n",
      "[CV 5/5; 5/22] START clf__n_estimators=70.......................................\n",
      "[CV 5/5; 5/22] END ........clf__n_estimators=70;, score=0.998 total time=   0.1s\n",
      "[CV 1/5; 6/22] START clf__n_estimators=80.......................................\n",
      "[CV 1/5; 6/22] END ........clf__n_estimators=80;, score=0.997 total time=   0.1s\n",
      "[CV 2/5; 6/22] START clf__n_estimators=80.......................................\n",
      "[CV 2/5; 6/22] END ........clf__n_estimators=80;, score=1.000 total time=   0.1s\n",
      "[CV 3/5; 6/22] START clf__n_estimators=80.......................................\n",
      "[CV 3/5; 6/22] END ........clf__n_estimators=80;, score=0.996 total time=   0.0s\n",
      "[CV 4/5; 6/22] START clf__n_estimators=80.......................................\n",
      "[CV 4/5; 6/22] END ........clf__n_estimators=80;, score=0.998 total time=   0.0s\n",
      "[CV 5/5; 6/22] START clf__n_estimators=80.......................................\n",
      "[CV 5/5; 6/22] END ........clf__n_estimators=80;, score=0.998 total time=   0.0s\n",
      "[CV 1/5; 7/22] START clf__n_estimators=90.......................................\n",
      "[CV 1/5; 7/22] END ........clf__n_estimators=90;, score=0.997 total time=   0.0s\n",
      "[CV 2/5; 7/22] START clf__n_estimators=90.......................................\n",
      "[CV 2/5; 7/22] END ........clf__n_estimators=90;, score=1.000 total time=   0.1s\n",
      "[CV 3/5; 7/22] START clf__n_estimators=90.......................................\n",
      "[CV 3/5; 7/22] END ........clf__n_estimators=90;, score=0.996 total time=   0.1s\n",
      "[CV 4/5; 7/22] START clf__n_estimators=90.......................................\n",
      "[CV 4/5; 7/22] END ........clf__n_estimators=90;, score=0.998 total time=   0.2s\n",
      "[CV 5/5; 7/22] START clf__n_estimators=90.......................................\n",
      "[CV 5/5; 7/22] END ........clf__n_estimators=90;, score=0.998 total time=   0.8s\n",
      "[CV 1/5; 8/22] START clf__n_estimators=100......................................\n",
      "[CV 1/5; 8/22] END .......clf__n_estimators=100;, score=0.998 total time=   0.2s\n",
      "[CV 2/5; 8/22] START clf__n_estimators=100......................................\n",
      "[CV 2/5; 8/22] END .......clf__n_estimators=100;, score=1.000 total time=   0.0s\n",
      "[CV 3/5; 8/22] START clf__n_estimators=100......................................\n",
      "[CV 3/5; 8/22] END .......clf__n_estimators=100;, score=0.996 total time=   0.1s\n",
      "[CV 4/5; 8/22] START clf__n_estimators=100......................................\n",
      "[CV 4/5; 8/22] END .......clf__n_estimators=100;, score=0.998 total time=   0.1s\n",
      "[CV 5/5; 8/22] START clf__n_estimators=100......................................\n",
      "[CV 5/5; 8/22] END .......clf__n_estimators=100;, score=0.998 total time=   0.1s\n",
      "[CV 1/5; 9/22] START clf__n_estimators=110......................................\n",
      "[CV 1/5; 9/22] END .......clf__n_estimators=110;, score=0.998 total time=   0.1s\n",
      "[CV 2/5; 9/22] START clf__n_estimators=110......................................\n",
      "[CV 2/5; 9/22] END .......clf__n_estimators=110;, score=1.000 total time=   0.1s\n",
      "[CV 3/5; 9/22] START clf__n_estimators=110......................................\n",
      "[CV 3/5; 9/22] END .......clf__n_estimators=110;, score=0.996 total time=   0.1s\n",
      "[CV 4/5; 9/22] START clf__n_estimators=110......................................\n",
      "[CV 4/5; 9/22] END .......clf__n_estimators=110;, score=0.998 total time=   0.0s\n",
      "[CV 5/5; 9/22] START clf__n_estimators=110......................................\n",
      "[CV 5/5; 9/22] END .......clf__n_estimators=110;, score=0.998 total time=   0.1s\n",
      "[CV 1/5; 10/22] START clf__n_estimators=120.....................................\n",
      "[CV 1/5; 10/22] END ......clf__n_estimators=120;, score=0.997 total time=   0.1s\n",
      "[CV 2/5; 10/22] START clf__n_estimators=120.....................................\n",
      "[CV 2/5; 10/22] END ......clf__n_estimators=120;, score=1.000 total time=   0.0s\n",
      "[CV 3/5; 10/22] START clf__n_estimators=120.....................................\n",
      "[CV 3/5; 10/22] END ......clf__n_estimators=120;, score=0.996 total time=   0.1s\n",
      "[CV 4/5; 10/22] START clf__n_estimators=120.....................................\n",
      "[CV 4/5; 10/22] END ......clf__n_estimators=120;, score=0.998 total time=   0.0s\n",
      "[CV 5/5; 10/22] START clf__n_estimators=120.....................................\n",
      "[CV 5/5; 10/22] END ......clf__n_estimators=120;, score=0.998 total time=   0.1s\n",
      "[CV 1/5; 11/22] START clf__n_estimators=130.....................................\n",
      "[CV 1/5; 11/22] END ......clf__n_estimators=130;, score=0.998 total time=   0.0s\n",
      "[CV 2/5; 11/22] START clf__n_estimators=130.....................................\n",
      "[CV 2/5; 11/22] END ......clf__n_estimators=130;, score=1.000 total time=   0.1s\n",
      "[CV 3/5; 11/22] START clf__n_estimators=130.....................................\n",
      "[CV 3/5; 11/22] END ......clf__n_estimators=130;, score=0.996 total time=   0.1s\n",
      "[CV 4/5; 11/22] START clf__n_estimators=130.....................................\n",
      "[CV 4/5; 11/22] END ......clf__n_estimators=130;, score=0.998 total time=   0.1s\n",
      "[CV 5/5; 11/22] START clf__n_estimators=130.....................................\n",
      "[CV 5/5; 11/22] END ......clf__n_estimators=130;, score=0.998 total time=   0.1s\n",
      "[CV 1/5; 12/22] START clf__n_estimators=140.....................................\n",
      "[CV 1/5; 12/22] END ......clf__n_estimators=140;, score=0.998 total time=   0.1s\n",
      "[CV 2/5; 12/22] START clf__n_estimators=140.....................................\n",
      "[CV 2/5; 12/22] END ......clf__n_estimators=140;, score=1.000 total time=   0.0s\n",
      "[CV 3/5; 12/22] START clf__n_estimators=140.....................................\n",
      "[CV 3/5; 12/22] END ......clf__n_estimators=140;, score=0.996 total time=   0.0s\n",
      "[CV 4/5; 12/22] START clf__n_estimators=140.....................................\n",
      "[CV 4/5; 12/22] END ......clf__n_estimators=140;, score=0.998 total time=   0.0s\n",
      "[CV 5/5; 12/22] START clf__n_estimators=140.....................................\n",
      "[CV 5/5; 12/22] END ......clf__n_estimators=140;, score=0.998 total time=   0.1s\n",
      "[CV 1/5; 13/22] START clf__n_estimators=150.....................................\n",
      "[CV 1/5; 13/22] END ......clf__n_estimators=150;, score=0.997 total time=   0.1s\n",
      "[CV 2/5; 13/22] START clf__n_estimators=150.....................................\n",
      "[CV 2/5; 13/22] END ......clf__n_estimators=150;, score=1.000 total time=   0.2s\n",
      "[CV 3/5; 13/22] START clf__n_estimators=150.....................................\n",
      "[CV 3/5; 13/22] END ......clf__n_estimators=150;, score=0.996 total time=   0.0s\n",
      "[CV 4/5; 13/22] START clf__n_estimators=150.....................................\n",
      "[CV 4/5; 13/22] END ......clf__n_estimators=150;, score=0.998 total time=   0.1s\n",
      "[CV 5/5; 13/22] START clf__n_estimators=150.....................................\n",
      "[CV 5/5; 13/22] END ......clf__n_estimators=150;, score=0.998 total time=   0.1s\n",
      "[CV 1/5; 14/22] START clf__n_estimators=160.....................................\n",
      "[CV 1/5; 14/22] END ......clf__n_estimators=160;, score=0.998 total time=   0.1s\n",
      "[CV 2/5; 14/22] START clf__n_estimators=160.....................................\n",
      "[CV 2/5; 14/22] END ......clf__n_estimators=160;, score=1.000 total time=   0.1s\n",
      "[CV 3/5; 14/22] START clf__n_estimators=160.....................................\n",
      "[CV 3/5; 14/22] END ......clf__n_estimators=160;, score=0.996 total time=   0.1s\n",
      "[CV 4/5; 14/22] START clf__n_estimators=160.....................................\n",
      "[CV 4/5; 14/22] END ......clf__n_estimators=160;, score=0.998 total time=   0.2s\n",
      "[CV 5/5; 14/22] START clf__n_estimators=160.....................................\n",
      "[CV 5/5; 14/22] END ......clf__n_estimators=160;, score=0.998 total time=   0.2s\n",
      "[CV 1/5; 15/22] START clf__n_estimators=170.....................................\n",
      "[CV 1/5; 15/22] END ......clf__n_estimators=170;, score=0.997 total time=   0.2s\n",
      "[CV 2/5; 15/22] START clf__n_estimators=170.....................................\n",
      "[CV 2/5; 15/22] END ......clf__n_estimators=170;, score=1.000 total time=   0.3s\n",
      "[CV 3/5; 15/22] START clf__n_estimators=170.....................................\n",
      "[CV 3/5; 15/22] END ......clf__n_estimators=170;, score=0.996 total time=   0.2s\n",
      "[CV 4/5; 15/22] START clf__n_estimators=170.....................................\n",
      "[CV 4/5; 15/22] END ......clf__n_estimators=170;, score=0.998 total time=   0.1s\n",
      "[CV 5/5; 15/22] START clf__n_estimators=170.....................................\n",
      "[CV 5/5; 15/22] END ......clf__n_estimators=170;, score=0.998 total time=   0.1s\n",
      "[CV 1/5; 16/22] START clf__n_estimators=180.....................................\n",
      "[CV 1/5; 16/22] END ......clf__n_estimators=180;, score=0.997 total time=   0.1s\n",
      "[CV 2/5; 16/22] START clf__n_estimators=180.....................................\n",
      "[CV 2/5; 16/22] END ......clf__n_estimators=180;, score=1.000 total time=   0.1s\n",
      "[CV 3/5; 16/22] START clf__n_estimators=180.....................................\n",
      "[CV 3/5; 16/22] END ......clf__n_estimators=180;, score=0.996 total time=   0.1s\n",
      "[CV 4/5; 16/22] START clf__n_estimators=180.....................................\n",
      "[CV 4/5; 16/22] END ......clf__n_estimators=180;, score=0.998 total time=   0.1s\n",
      "[CV 5/5; 16/22] START clf__n_estimators=180.....................................\n",
      "[CV 5/5; 16/22] END ......clf__n_estimators=180;, score=0.998 total time=   0.1s\n",
      "[CV 1/5; 17/22] START clf__n_estimators=190.....................................\n",
      "[CV 1/5; 17/22] END ......clf__n_estimators=190;, score=0.997 total time=   0.1s\n",
      "[CV 2/5; 17/22] START clf__n_estimators=190.....................................\n",
      "[CV 2/5; 17/22] END ......clf__n_estimators=190;, score=1.000 total time=   0.1s\n",
      "[CV 3/5; 17/22] START clf__n_estimators=190.....................................\n",
      "[CV 3/5; 17/22] END ......clf__n_estimators=190;, score=0.996 total time=   0.1s\n",
      "[CV 4/5; 17/22] START clf__n_estimators=190.....................................\n",
      "[CV 4/5; 17/22] END ......clf__n_estimators=190;, score=0.998 total time=   0.2s\n",
      "[CV 5/5; 17/22] START clf__n_estimators=190.....................................\n",
      "[CV 5/5; 17/22] END ......clf__n_estimators=190;, score=0.998 total time=   0.1s\n",
      "[CV 1/5; 18/22] START clf__n_estimators=200.....................................\n",
      "[CV 1/5; 18/22] END ......clf__n_estimators=200;, score=0.997 total time=   0.1s\n",
      "[CV 2/5; 18/22] START clf__n_estimators=200.....................................\n",
      "[CV 2/5; 18/22] END ......clf__n_estimators=200;, score=1.000 total time=   0.1s\n",
      "[CV 3/5; 18/22] START clf__n_estimators=200.....................................\n",
      "[CV 3/5; 18/22] END ......clf__n_estimators=200;, score=0.996 total time=   0.0s\n",
      "[CV 4/5; 18/22] START clf__n_estimators=200.....................................\n",
      "[CV 4/5; 18/22] END ......clf__n_estimators=200;, score=0.998 total time=   0.1s\n",
      "[CV 5/5; 18/22] START clf__n_estimators=200.....................................\n",
      "[CV 5/5; 18/22] END ......clf__n_estimators=200;, score=0.998 total time=   0.1s\n",
      "[CV 1/5; 19/22] START clf__n_estimators=210.....................................\n",
      "[CV 1/5; 19/22] END ......clf__n_estimators=210;, score=0.998 total time=   0.1s\n",
      "[CV 2/5; 19/22] START clf__n_estimators=210.....................................\n",
      "[CV 2/5; 19/22] END ......clf__n_estimators=210;, score=1.000 total time=   0.3s\n",
      "[CV 3/5; 19/22] START clf__n_estimators=210.....................................\n",
      "[CV 3/5; 19/22] END ......clf__n_estimators=210;, score=0.996 total time=   0.2s\n",
      "[CV 4/5; 19/22] START clf__n_estimators=210.....................................\n",
      "[CV 4/5; 19/22] END ......clf__n_estimators=210;, score=0.998 total time=   0.2s\n",
      "[CV 5/5; 19/22] START clf__n_estimators=210.....................................\n",
      "[CV 5/5; 19/22] END ......clf__n_estimators=210;, score=0.998 total time=   0.1s\n",
      "[CV 1/5; 20/22] START clf__n_estimators=220.....................................\n",
      "[CV 1/5; 20/22] END ......clf__n_estimators=220;, score=0.998 total time=   0.1s\n",
      "[CV 2/5; 20/22] START clf__n_estimators=220.....................................\n",
      "[CV 2/5; 20/22] END ......clf__n_estimators=220;, score=1.000 total time=   0.1s\n",
      "[CV 3/5; 20/22] START clf__n_estimators=220.....................................\n",
      "[CV 3/5; 20/22] END ......clf__n_estimators=220;, score=0.996 total time=   0.1s\n",
      "[CV 4/5; 20/22] START clf__n_estimators=220.....................................\n",
      "[CV 4/5; 20/22] END ......clf__n_estimators=220;, score=0.998 total time=   0.1s\n",
      "[CV 5/5; 20/22] START clf__n_estimators=220.....................................\n",
      "[CV 5/5; 20/22] END ......clf__n_estimators=220;, score=0.998 total time=   0.1s\n",
      "[CV 1/5; 21/22] START clf__n_estimators=230.....................................\n",
      "[CV 1/5; 21/22] END ......clf__n_estimators=230;, score=0.998 total time=   0.1s\n",
      "[CV 2/5; 21/22] START clf__n_estimators=230.....................................\n",
      "[CV 2/5; 21/22] END ......clf__n_estimators=230;, score=1.000 total time=   0.1s\n",
      "[CV 3/5; 21/22] START clf__n_estimators=230.....................................\n",
      "[CV 3/5; 21/22] END ......clf__n_estimators=230;, score=0.996 total time=   0.2s\n",
      "[CV 4/5; 21/22] START clf__n_estimators=230.....................................\n",
      "[CV 4/5; 21/22] END ......clf__n_estimators=230;, score=0.998 total time=   0.1s\n",
      "[CV 5/5; 21/22] START clf__n_estimators=230.....................................\n",
      "[CV 5/5; 21/22] END ......clf__n_estimators=230;, score=0.998 total time=   0.1s\n",
      "[CV 1/5; 22/22] START clf__n_estimators=240.....................................\n",
      "[CV 1/5; 22/22] END ......clf__n_estimators=240;, score=0.998 total time=   0.1s\n",
      "[CV 2/5; 22/22] START clf__n_estimators=240.....................................\n",
      "[CV 2/5; 22/22] END ......clf__n_estimators=240;, score=1.000 total time=   0.2s\n",
      "[CV 3/5; 22/22] START clf__n_estimators=240.....................................\n",
      "[CV 3/5; 22/22] END ......clf__n_estimators=240;, score=0.996 total time=   0.1s\n",
      "[CV 4/5; 22/22] START clf__n_estimators=240.....................................\n",
      "[CV 4/5; 22/22] END ......clf__n_estimators=240;, score=0.998 total time=   0.1s\n",
      "[CV 5/5; 22/22] START clf__n_estimators=240.....................................\n",
      "[CV 5/5; 22/22] END ......clf__n_estimators=240;, score=0.998 total time=   0.1s\n",
      "tuned hyperparameters :(best parameters)  {'clf__n_estimators': 100}\n",
      "accuracy : 0.9980962420072219\n"
     ]
    },
    {
     "data": {
      "text/plain": "<Figure size 2000x1000 with 1 Axes>",
      "image/png": "[encoded data removed]"
     },
     "metadata": {},
     "output_type": "display_data"
    }
   ],
   "source": [
    "grid={\"n_estimators\":[i*10 for i in range(3, 25)]}\n",
    "model = lgbm.LGBMClassifier(objective=\"binary\", n_jobs = -1, learning_rate=0.25, num_leaves = 35)\n",
    "results = grid_search(grid, model, x, y)\n",
    "plotGridResults(results)"
   ]
  },
  {
   "cell_type": "markdown",
   "metadata": {
    "pycharm": {
     "name": "#%% md\n"
    }
   },
   "source": [
    "We choose n_estimator = 100 as the result average are the highest"
   ]
  },
  {
   "cell_type": "markdown",
   "metadata": {
    "collapsed": false,
    "pycharm": {
     "name": "#%% md\n"
    }
   },
   "source": [
    "#### max_depth param"
   ]
  },
  {
   "cell_type": "code",
   "execution_count": 105,
   "metadata": {
    "collapsed": false,
    "pycharm": {
     "name": "#%%\n"
    }
   },
   "outputs": [
    {
     "name": "stdout",
     "output_type": "stream",
     "text": [
      "Fitting 5 folds for each of 9 candidates, totalling 45 fits\n",
      "[CV 1/5; 1/9] START clf__max_depth=2............................................\n",
      "[CV 1/5; 1/9] END .............clf__max_depth=2;, score=0.996 total time=   0.0s\n",
      "[CV 2/5; 1/9] START clf__max_depth=2............................................\n",
      "[CV 2/5; 1/9] END .............clf__max_depth=2;, score=1.000 total time=   0.0s\n",
      "[CV 3/5; 1/9] START clf__max_depth=2............................................\n",
      "[CV 3/5; 1/9] END .............clf__max_depth=2;, score=0.996 total time=   0.0s\n",
      "[CV 4/5; 1/9] START clf__max_depth=2............................................\n",
      "[CV 4/5; 1/9] END .............clf__max_depth=2;, score=0.998 total time=   0.0s\n",
      "[CV 5/5; 1/9] START clf__max_depth=2............................................\n",
      "[CV 5/5; 1/9] END .............clf__max_depth=2;, score=0.998 total time=   0.0s\n",
      "[CV 1/5; 2/9] START clf__max_depth=3............................................\n",
      "[CV 1/5; 2/9] END .............clf__max_depth=3;, score=0.995 total time=   0.0s\n",
      "[CV 2/5; 2/9] START clf__max_depth=3............................................\n",
      "[CV 2/5; 2/9] END .............clf__max_depth=3;, score=1.000 total time=   0.0s\n",
      "[CV 3/5; 2/9] START clf__max_depth=3............................................\n",
      "[CV 3/5; 2/9] END .............clf__max_depth=3;, score=0.996 total time=   0.1s\n",
      "[CV 4/5; 2/9] START clf__max_depth=3............................................\n",
      "[CV 4/5; 2/9] END .............clf__max_depth=3;, score=0.998 total time=   0.0s\n",
      "[CV 5/5; 2/9] START clf__max_depth=3............................................\n",
      "[CV 5/5; 2/9] END .............clf__max_depth=3;, score=0.998 total time=   0.0s\n",
      "[CV 1/5; 3/9] START clf__max_depth=4............................................\n",
      "[CV 1/5; 3/9] END .............clf__max_depth=4;, score=0.996 total time=   0.1s\n",
      "[CV 2/5; 3/9] START clf__max_depth=4............................................\n",
      "[CV 2/5; 3/9] END .............clf__max_depth=4;, score=1.000 total time=   0.0s\n",
      "[CV 3/5; 3/9] START clf__max_depth=4............................................\n",
      "[CV 3/5; 3/9] END .............clf__max_depth=4;, score=0.996 total time=   0.0s\n",
      "[CV 4/5; 3/9] START clf__max_depth=4............................................\n",
      "[CV 4/5; 3/9] END .............clf__max_depth=4;, score=0.998 total time=   0.1s\n",
      "[CV 5/5; 3/9] START clf__max_depth=4............................................\n",
      "[CV 5/5; 3/9] END .............clf__max_depth=4;, score=0.998 total time=   0.1s\n",
      "[CV 1/5; 4/9] START clf__max_depth=5............................................\n",
      "[CV 1/5; 4/9] END .............clf__max_depth=5;, score=0.996 total time=   0.0s\n",
      "[CV 2/5; 4/9] START clf__max_depth=5............................................\n",
      "[CV 2/5; 4/9] END .............clf__max_depth=5;, score=1.000 total time=   0.1s\n",
      "[CV 3/5; 4/9] START clf__max_depth=5............................................\n",
      "[CV 3/5; 4/9] END .............clf__max_depth=5;, score=0.996 total time=   0.0s\n",
      "[CV 4/5; 4/9] START clf__max_depth=5............................................\n",
      "[CV 4/5; 4/9] END .............clf__max_depth=5;, score=0.998 total time=   0.1s\n",
      "[CV 5/5; 4/9] START clf__max_depth=5............................................\n",
      "[CV 5/5; 4/9] END .............clf__max_depth=5;, score=0.998 total time=   0.0s\n",
      "[CV 1/5; 5/9] START clf__max_depth=6............................................\n",
      "[CV 1/5; 5/9] END .............clf__max_depth=6;, score=0.996 total time=   0.0s\n",
      "[CV 2/5; 5/9] START clf__max_depth=6............................................\n",
      "[CV 2/5; 5/9] END .............clf__max_depth=6;, score=1.000 total time=   0.0s\n",
      "[CV 3/5; 5/9] START clf__max_depth=6............................................\n",
      "[CV 3/5; 5/9] END .............clf__max_depth=6;, score=0.996 total time=   0.0s\n",
      "[CV 4/5; 5/9] START clf__max_depth=6............................................\n",
      "[CV 4/5; 5/9] END .............clf__max_depth=6;, score=0.998 total time=   0.0s\n",
      "[CV 5/5; 5/9] START clf__max_depth=6............................................\n",
      "[CV 5/5; 5/9] END .............clf__max_depth=6;, score=0.998 total time=   0.0s\n",
      "[CV 1/5; 6/9] START clf__max_depth=7............................................\n",
      "[CV 1/5; 6/9] END .............clf__max_depth=7;, score=0.997 total time=   0.0s\n",
      "[CV 2/5; 6/9] START clf__max_depth=7............................................\n",
      "[CV 2/5; 6/9] END .............clf__max_depth=7;, score=1.000 total time=   0.0s\n",
      "[CV 3/5; 6/9] START clf__max_depth=7............................................\n",
      "[CV 3/5; 6/9] END .............clf__max_depth=7;, score=0.996 total time=   0.0s\n",
      "[CV 4/5; 6/9] START clf__max_depth=7............................................\n",
      "[CV 4/5; 6/9] END .............clf__max_depth=7;, score=0.998 total time=   0.0s\n",
      "[CV 5/5; 6/9] START clf__max_depth=7............................................\n",
      "[CV 5/5; 6/9] END .............clf__max_depth=7;, score=0.998 total time=   0.0s\n",
      "[CV 1/5; 7/9] START clf__max_depth=8............................................\n",
      "[CV 1/5; 7/9] END .............clf__max_depth=8;, score=0.996 total time=   0.1s\n",
      "[CV 2/5; 7/9] START clf__max_depth=8............................................\n",
      "[CV 2/5; 7/9] END .............clf__max_depth=8;, score=1.000 total time=   0.0s\n",
      "[CV 3/5; 7/9] START clf__max_depth=8............................................\n",
      "[CV 3/5; 7/9] END .............clf__max_depth=8;, score=0.996 total time=   0.0s\n",
      "[CV 4/5; 7/9] START clf__max_depth=8............................................\n",
      "[CV 4/5; 7/9] END .............clf__max_depth=8;, score=0.998 total time=   0.0s\n",
      "[CV 5/5; 7/9] START clf__max_depth=8............................................\n",
      "[CV 5/5; 7/9] END .............clf__max_depth=8;, score=0.998 total time=   0.0s\n",
      "[CV 1/5; 8/9] START clf__max_depth=9............................................\n",
      "[CV 1/5; 8/9] END .............clf__max_depth=9;, score=0.996 total time=   0.0s\n",
      "[CV 2/5; 8/9] START clf__max_depth=9............................................\n",
      "[CV 2/5; 8/9] END .............clf__max_depth=9;, score=1.000 total time=   0.0s\n",
      "[CV 3/5; 8/9] START clf__max_depth=9............................................\n",
      "[CV 3/5; 8/9] END .............clf__max_depth=9;, score=0.996 total time=   0.0s\n",
      "[CV 4/5; 8/9] START clf__max_depth=9............................................\n",
      "[CV 4/5; 8/9] END .............clf__max_depth=9;, score=0.998 total time=   0.0s\n",
      "[CV 5/5; 8/9] START clf__max_depth=9............................................\n",
      "[CV 5/5; 8/9] END .............clf__max_depth=9;, score=0.998 total time=   0.0s\n",
      "[CV 1/5; 9/9] START clf__max_depth=10...........................................\n",
      "[CV 1/5; 9/9] END ............clf__max_depth=10;, score=0.996 total time=   0.0s\n",
      "[CV 2/5; 9/9] START clf__max_depth=10...........................................\n",
      "[CV 2/5; 9/9] END ............clf__max_depth=10;, score=1.000 total time=   0.0s\n",
      "[CV 3/5; 9/9] START clf__max_depth=10...........................................\n",
      "[CV 3/5; 9/9] END ............clf__max_depth=10;, score=0.996 total time=   0.0s\n",
      "[CV 4/5; 9/9] START clf__max_depth=10...........................................\n",
      "[CV 4/5; 9/9] END ............clf__max_depth=10;, score=0.998 total time=   0.0s\n",
      "[CV 5/5; 9/9] START clf__max_depth=10...........................................\n",
      "[CV 5/5; 9/9] END ............clf__max_depth=10;, score=0.998 total time=   0.0s\n",
      "tuned hyperparameters :(best parameters)  {'clf__max_depth': 6}\n",
      "accuracy : 0.9978966432606301\n"
     ]
    },
    {
     "data": {
      "text/plain": "<Figure size 2000x1000 with 1 Axes>",
      "image/png": "[encoded data removed]"
     },
     "metadata": {},
     "output_type": "display_data"
    }
   ],
   "source": [
    "grid={\"max_depth\":[i for i in range(2, 11)]}\n",
    "model= lgbm.LGBMClassifier(objective=\"binary\", n_jobs = -1, learning_rate=0.25, n_estimators=100, num_leaves = 35)\n",
    "results = grid_search(grid, model, x, y)\n",
    "plotGridResults(results)"
   ]
  },
  {
   "cell_type": "markdown",
   "metadata": {
    "collapsed": false,
    "pycharm": {
     "name": "#%% md\n"
    }
   },
   "source": [
    "### Best LGBM eval"
   ]
  },
  {
   "cell_type": "code",
   "execution_count": 107,
   "metadata": {
    "collapsed": false,
    "pycharm": {
     "name": "#%%\n"
    }
   },
   "outputs": [
    {
     "data": {
      "text/plain": "<sklearn.metrics._plot.confusion_matrix.ConfusionMatrixDisplay at 0x176acbc8460>"
     },
     "execution_count": 107,
     "metadata": {},
     "output_type": "execute_result"
    },
    {
     "data": {
      "text/plain": "<Figure size 640x480 with 2 Axes>",
      "image/png": "[encoded data removed]"
     },
     "metadata": {},
     "output_type": "display_data"
    }
   ],
   "source": [
    "model = lgbm.LGBMClassifier(\n",
    "    objective=\"binary\",\n",
    "    n_jobs = -1,\n",
    "    learning_rate=0.25,\n",
    "    n_estimators=100,\n",
    "    num_leaves = 50,\n",
    "    max_depth = 6\n",
    ")\n",
    "pipe = Pipeline([('scaler', preprocessing.StandardScaler()), ('svc', model)])\n",
    "x_train, x_test, y_train, y_test = train_test_split(x.values, y.values)\n",
    "pipe.fit(x_train, y_train)\n",
    "ConfusionMatrixDisplay.from_estimator(pipe, x_test, y_test, cmap=\"viridis\", normalize=\"all\")"
   ]
  },
  {
   "cell_type": "code",
   "execution_count": null,
   "outputs": [],
   "source": [],
   "metadata": {
    "collapsed": false,
    "pycharm": {
     "name": "#%%\n"
    }
   }
  }
 ],
 "metadata": {
  "kernelspec": {
   "display_name": "Python 3.9.7 ('base')",
   "language": "python",
   "name": "python3"
  },
  "language_info": {
   "codemirror_mode": {
    "name": "ipython",
    "version": 3
   },
   "file_extension": ".py",
   "mimetype": "text/x-python",
   "name": "python",
   "nbconvert_exporter": "python",
   "pygments_lexer": "ipython3",
   "version": "3.9.15"
  },
  "vscode": {
   "interpreter": {
    "hash": "63ec137b236f4571ddf6057b0ef98c638499ee8b49585d9f37af80a425d01971"
   }
  }
 },
 "nbformat": 4,
 "nbformat_minor": 0
}